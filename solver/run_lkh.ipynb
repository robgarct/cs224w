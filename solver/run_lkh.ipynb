{
 "cells": [
  {
   "cell_type": "code",
   "execution_count": 1,
   "id": "bce70faa-ad22-4ef9-b45d-56997c703b71",
   "metadata": {},
   "outputs": [
    {
     "name": "stdout",
     "output_type": "stream",
     "text": [
      "Intel MKL WARNING: Support of Intel(R) Streaming SIMD Extensions 4.2 (Intel(R) SSE4.2) enabled only processors has been deprecated. Intel oneAPI Math Kernel Library 2025.0 will require Intel(R) Advanced Vector Extensions (Intel(R) AVX) instructions.\n",
      "Intel MKL WARNING: Support of Intel(R) Streaming SIMD Extensions 4.2 (Intel(R) SSE4.2) enabled only processors has been deprecated. Intel oneAPI Math Kernel Library 2025.0 will require Intel(R) Advanced Vector Extensions (Intel(R) AVX) instructions.\n"
     ]
    },
    {
     "name": "stderr",
     "output_type": "stream",
     "text": [
      "/opt/homebrew/anaconda3/envs/pyt1-osx-64/lib/python3.10/site-packages/tqdm/auto.py:21: TqdmWarning: IProgress not found. Please update jupyter and ipywidgets. See https://ipywidgets.readthedocs.io/en/stable/user_install.html\n",
      "  from .autonotebook import tqdm as notebook_tqdm\n"
     ]
    }
   ],
   "source": [
    "import numpy as np\n",
    "import sys\n",
    "import os\n",
    "import pandas as pd\n",
    "import torch\n",
    "\n",
    "from baseline_lkh3 import BaselineLKH3\n",
    "from translation import format_and_save\n",
    "from baseline_lkh3 import CAPACITIES\n",
    "\n",
    "GRAPH_SIZE = 20\n",
    "SAMPLES = 2\n",
    "SEED = 125"
   ]
  },
  {
   "cell_type": "code",
   "execution_count": 2,
   "id": "90bf5184-378e-4825-827c-827f98b0e039",
   "metadata": {},
   "outputs": [],
   "source": [
    "def get_example_data(num_samples=10, graph_size=20, seed=123):\n",
    "    torch.manual_seed(seed)\n",
    "    depo = torch.rand((num_samples, 2))\n",
    "    graphs = torch.rand((num_samples, graph_size, 2))\n",
    "    demand = torch.randint(low=1, high=10, size=(num_samples, graph_size), dtype=torch.int32)\n",
    "\n",
    "    return (depo, graphs, demand)"
   ]
  },
  {
   "cell_type": "code",
   "execution_count": 3,
   "id": "a2eacc8a-982d-438a-9210-deeee6cec7c0",
   "metadata": {},
   "outputs": [],
   "source": [
    "graph_data = get_example_data(SAMPLES, GRAPH_SIZE, SEED)"
   ]
  },
  {
   "cell_type": "code",
   "execution_count": 4,
   "id": "586c9138-7cc3-4ea1-b282-aa4cab97c635",
   "metadata": {},
   "outputs": [],
   "source": [
    "cur_dir = os.getcwd()"
   ]
  },
  {
   "cell_type": "code",
   "execution_count": 5,
   "id": "96c713a6-9ba2-4d17-b1ce-7e279fada3ff",
   "metadata": {},
   "outputs": [
    {
     "name": "stdout",
     "output_type": "stream",
     "text": [
      "This class was written and tested for Unix systems only\n",
      "Creating directory  /Users/roberto/Desktop/stanford/cs224w/milestone1/cs224w/solver/solved_lkh_125/lkh\n",
      "Loading validation dataset\n"
     ]
    }
   ],
   "source": [
    "cur_dir = os.getcwd()\n",
    "base_dir = f'{cur_dir}/solved_lkh_{SEED}'\n",
    "\n",
    "# Directory where lkh will write random intermediate states it needs\n",
    "lkh_cache_dir = f'{base_dir}/lkh'\n",
    "\n",
    "# Path to LKH executable, look at /LKH-3.0.6/README\n",
    "executable_path = f'{cur_dir}/LKH-3.0.6/LKH'\n",
    "\n",
    "lkh3_b = BaselineLKH3(lkh_cache_dir, graph_data, executable_path)"
   ]
  },
  {
   "cell_type": "code",
   "execution_count": 6,
   "id": "6b5ac701-a6ab-418c-8afb-a6fc7291f88b",
   "metadata": {},
   "outputs": [],
   "source": [
    "def run_lkh_and_save_sols():\n",
    "  lkh3_b.create_lkh_data()\n",
    "  lkh3_costs, lkh3_paths, lkh3_duration = lkh3_b.run_lkh3()\n",
    "  format_and_save(graph_data, lkh3_costs, lkh3_paths, base_dir)"
   ]
  },
  {
   "cell_type": "code",
   "execution_count": 7,
   "id": "6573274f-630a-40ef-ab69-e12ad38b720e",
   "metadata": {
    "scrolled": true
   },
   "outputs": [
    {
     "name": "stdout",
     "output_type": "stream",
     "text": [
      "Number of processed graphs: 0\n",
      "LKH-3 data has been successfully created and saved into  /Users/roberto/Desktop/stanford/cs224w/milestone1/cs224w/solver/solved_lkh_125/lkh\n"
     ]
    },
    {
     "name": "stderr",
     "output_type": "stream",
     "text": [
      " ... (more hidden) ...\n"
     ]
    }
   ],
   "source": [
    "run_lkh_and_save_sols()"
   ]
  },
  {
   "cell_type": "code",
   "execution_count": 8,
   "id": "f2e4f5bf-62d4-48a4-8fe0-365d8d80a22a",
   "metadata": {},
   "outputs": [],
   "source": [
    "graphs = pd.read_pickle(f'{base_dir}/graphs_solved.pkl')"
   ]
  },
  {
   "cell_type": "code",
   "execution_count": 15,
   "id": "a178af10-fbb5-46b6-b37a-7ba2475cbe56",
   "metadata": {},
   "outputs": [
    {
     "data": {
      "text/plain": [
       "([[0.72185879945755, 0.38538533449172974],\n",
       "  [[0.6604766249656677, 0.7745248675346375],\n",
       "   [0.9334477186203003, 0.614697277545929],\n",
       "   [0.5577977895736694, 0.9898679256439209],\n",
       "   [0.8672663569450378, 0.9288212656974792],\n",
       "   [0.7116432189941406, 0.5951712727546692],\n",
       "   [0.6834768056869507, 0.41386234760284424],\n",
       "   [0.9702281355857849, 0.9072968363761902],\n",
       "   [0.972650408744812, 0.40302592515945435],\n",
       "   [0.006755471229553223, 0.017515957355499268],\n",
       "   [0.0489654541015625, 0.3330051898956299],\n",
       "   [0.20927399396896362, 0.7948943376541138],\n",
       "   [0.09578585624694824, 0.8581748604774475],\n",
       "   [0.9631290435791016, 0.780476987361908],\n",
       "   [0.581598162651062, 0.5623055696487427],\n",
       "   [0.866759717464447, 0.016942739486694336],\n",
       "   [0.20603996515274048, 0.5563124418258667],\n",
       "   [0.70344477891922, 0.6243059039115906],\n",
       "   [0.28701335191726685, 0.40961146354675293],\n",
       "   [0.35885900259017944, 0.8030574321746826],\n",
       "   [0.3417820334434509, 0.8478257656097412]],\n",
       "  [3, 3, 2, 7, 2, 4, 8, 7, 1, 8, 6, 4, 1, 5, 8, 2, 7, 6, 8, 1],\n",
       "  30.0],\n",
       " (6.120347301765216,\n",
       "  [5,\n",
       "   3,\n",
       "   20,\n",
       "   19,\n",
       "   11,\n",
       "   12,\n",
       "   16,\n",
       "   14,\n",
       "   0,\n",
       "   18,\n",
       "   10,\n",
       "   9,\n",
       "   15,\n",
       "   8,\n",
       "   0,\n",
       "   17,\n",
       "   1,\n",
       "   4,\n",
       "   7,\n",
       "   13,\n",
       "   2,\n",
       "   0,\n",
       "   6]))"
      ]
     },
     "execution_count": 15,
     "metadata": {},
     "output_type": "execute_result"
    }
   ],
   "source": [
    "\"\"\"\n",
    "graphs[i][0] -> graph\n",
    "graphs[i][1] -> solution\n",
    "\"\"\"\n",
    "graphs[0]"
   ]
  },
  {
   "cell_type": "code",
   "execution_count": null,
   "id": "80e0e6d1-dc0b-47c1-8a92-08c60bbdc2d0",
   "metadata": {},
   "outputs": [],
   "source": []
  }
 ],
 "metadata": {
  "kernelspec": {
   "display_name": "Python 3 (ipykernel)",
   "language": "python",
   "name": "python3"
  },
  "language_info": {
   "codemirror_mode": {
    "name": "ipython",
    "version": 3
   },
   "file_extension": ".py",
   "mimetype": "text/x-python",
   "name": "python",
   "nbconvert_exporter": "python",
   "pygments_lexer": "ipython3",
   "version": "3.10.13"
  }
 },
 "nbformat": 4,
 "nbformat_minor": 5
}
