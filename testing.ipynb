{
 "cells": [
  {
   "cell_type": "code",
   "execution_count": 1,
   "id": "fbb63400-fdd9-44e3-866f-20c81acc65bc",
   "metadata": {},
   "outputs": [],
   "source": [
    "%load_ext autoreload\n",
    "%autoreload 2"
   ]
  },
  {
   "cell_type": "code",
   "execution_count": 2,
   "id": "5b495d36-eed2-4588-b75e-6a73f55e9c4d",
   "metadata": {},
   "outputs": [
    {
     "name": "stdout",
     "output_type": "stream",
     "text": [
      "Intel MKL WARNING: Support of Intel(R) Streaming SIMD Extensions 4.2 (Intel(R) SSE4.2) enabled only processors has been deprecated. Intel oneAPI Math Kernel Library 2025.0 will require Intel(R) Advanced Vector Extensions (Intel(R) AVX) instructions.\n",
      "Intel MKL WARNING: Support of Intel(R) Streaming SIMD Extensions 4.2 (Intel(R) SSE4.2) enabled only processors has been deprecated. Intel oneAPI Math Kernel Library 2025.0 will require Intel(R) Advanced Vector Extensions (Intel(R) AVX) instructions.\n"
     ]
    },
    {
     "name": "stderr",
     "output_type": "stream",
     "text": [
      "/opt/homebrew/anaconda3/envs/pyt1-osx-64/lib/python3.10/site-packages/tqdm/auto.py:21: TqdmWarning: IProgress not found. Please update jupyter and ipywidgets. See https://ipywidgets.readthedocs.io/en/stable/user_install.html\n",
      "  from .autonotebook import tqdm as notebook_tqdm\n"
     ]
    }
   ],
   "source": [
    "import torch"
   ]
  },
  {
   "cell_type": "code",
   "execution_count": 3,
   "id": "e1ba43f6-33b8-425f-9d1f-a660e80b40f3",
   "metadata": {},
   "outputs": [],
   "source": [
    "from training_new import get_data_loaders, train"
   ]
  },
  {
   "cell_type": "code",
   "execution_count": 4,
   "id": "edd54d71-fd84-4bcf-9252-eb90b4a9c135",
   "metadata": {},
   "outputs": [],
   "source": [
    "from model import Model"
   ]
  },
  {
   "cell_type": "code",
   "execution_count": 5,
   "id": "2b58ed1f-0e89-49cb-a38c-ffeedf605351",
   "metadata": {},
   "outputs": [],
   "source": [
    "model = Model(3, 16, 21, 2, 0.5)"
   ]
  },
  {
   "cell_type": "code",
   "execution_count": 6,
   "id": "8ef9c229-d685-423d-a660-310849d9e715",
   "metadata": {},
   "outputs": [
    {
     "name": "stderr",
     "output_type": "stream",
     "text": [
      "Parsing Graphs:   0%|                                                                                                                                                                      | 0/200 [00:00<?, ?it/s]/Users/roberto/Desktop/stanford/cs224w/project/cs224w/graph.py:133: UserWarning: The use of `x.T` on tensors of dimension other than 2 to reverse their shape is deprecated and it will throw an error in a future release. Consider `x.mT` to transpose batches of matrices or `x.permute(*torch.arange(x.ndim - 1, -1, -1))` to reverse the dimensions of a tensor. (Triggered internally at /Users/runner/work/_temp/anaconda/conda-bld/pytorch_1666646991213/work/aten/src/ATen/native/TensorShape.cpp:3281.)\n",
      "  edge_list = torch.LongTensor(edge_list).T\n",
      "Parsing Graphs: 100%|███████████████████████████████████████████████████████████████████████████████████████████████████████████████████████████████████████████████████████████| 200/200 [00:01<00:00, 121.74it/s]\n",
      "Epochs:   0%|                                                                                                                                                                                | 0/3 [00:00<?, ?it/s]"
     ]
    },
    {
     "name": "stdout",
     "output_type": "stream",
     "text": [
      "Train 0 - loss:2.3112, acc:0.2500\n",
      "Valid 0 - loss:2.7209, acc:0.1689\n",
      "Train 0 - loss:2.7004, acc:0.0625\n",
      "Valid 0 - loss:2.6189, acc:0.1656\n",
      "Train 0 - loss:2.2235, acc:0.1875\n",
      "Valid 0 - loss:2.5477, acc:0.1667\n",
      "Train 0 - loss:2.1605, acc:0.1250\n",
      "Valid 0 - loss:2.4968, acc:0.1700\n",
      "Train 0 - loss:2.4575, acc:0.1875\n",
      "Valid 0 - loss:2.4569, acc:0.1787\n",
      "Train 0 - loss:2.0319, acc:0.1875\n",
      "Valid 0 - loss:2.4292, acc:0.1798\n",
      "Train 0 - loss:2.4600, acc:0.1875\n",
      "Valid 0 - loss:2.4074, acc:0.1787\n",
      "Train 0 - loss:2.5739, acc:0.0625\n",
      "Valid 0 - loss:2.3930, acc:0.1831\n",
      "Train 0 - loss:2.2395, acc:0.1250\n",
      "Valid 0 - loss:2.3791, acc:0.1842\n",
      "Train 0 - loss:2.5316, acc:0.1250\n",
      "Valid 0 - loss:2.3691, acc:0.1831\n",
      "Train 0 - loss:2.6110, acc:0.0625\n",
      "Valid 0 - loss:2.3618, acc:0.1842\n",
      "Train 0 - loss:2.2735, acc:0.1875\n",
      "Valid 0 - loss:2.3557, acc:0.1820\n",
      "Train 0 - loss:2.1430, acc:0.0625\n",
      "Valid 0 - loss:2.3504, acc:0.1787\n",
      "Train 0 - loss:2.3570, acc:0.1875\n",
      "Valid 0 - loss:2.3475, acc:0.1743\n",
      "Train 0 - loss:2.2665, acc:0.1875\n",
      "Valid 0 - loss:2.3446, acc:0.1798\n",
      "Train 0 - loss:2.2256, acc:0.1875\n",
      "Valid 0 - loss:2.3429, acc:0.1732\n",
      "Train 0 - loss:2.2679, acc:0.0625\n",
      "Valid 0 - loss:2.3416, acc:0.1612\n",
      "Train 0 - loss:2.3634, acc:0.0625\n",
      "Valid 0 - loss:2.3410, acc:0.1623\n",
      "Train 0 - loss:2.3011, acc:0.1875\n",
      "Valid 0 - loss:2.3404, acc:0.1579\n",
      "Train 0 - loss:2.7163, acc:0.0000\n",
      "Valid 0 - loss:2.3407, acc:0.1557\n",
      "Train 0 - loss:2.6851, acc:0.1250\n",
      "Valid 0 - loss:2.3405, acc:0.1546\n",
      "Train 0 - loss:2.1505, acc:0.0625\n",
      "Valid 0 - loss:2.3413, acc:0.1524\n",
      "Train 0 - loss:2.3898, acc:0.1250\n",
      "Valid 0 - loss:2.3420, acc:0.1502\n",
      "Train 0 - loss:2.5629, acc:0.0625\n"
     ]
    },
    {
     "name": "stderr",
     "output_type": "stream",
     "text": [
      "Epochs:   0%|                                                                                                                                                                                | 0/3 [00:03<?, ?it/s]\n"
     ]
    },
    {
     "ename": "KeyboardInterrupt",
     "evalue": "",
     "output_type": "error",
     "traceback": [
      "\u001b[0;31m---------------------------------------------------------------------------\u001b[0m",
      "\u001b[0;31mKeyboardInterrupt\u001b[0m                         Traceback (most recent call last)",
      "Cell \u001b[0;32mIn[6], line 1\u001b[0m\n\u001b[0;32m----> 1\u001b[0m \u001b[43mtrain\u001b[49m\u001b[43m(\u001b[49m\u001b[43mmodel\u001b[49m\u001b[43m,\u001b[49m\u001b[43m \u001b[49m\u001b[38;5;124;43m\"\u001b[39;49m\u001b[38;5;124;43m./solver/sol_examples/vrp20/sols.pkl\u001b[39;49m\u001b[38;5;124;43m\"\u001b[39;49m\u001b[43m,\u001b[49m\u001b[43m \u001b[49m\u001b[43mepochs\u001b[49m\u001b[38;5;241;43m=\u001b[39;49m\u001b[38;5;241;43m3\u001b[39;49m\u001b[43m,\u001b[49m\u001b[43m \u001b[49m\u001b[43mmax_instances\u001b[49m\u001b[38;5;241;43m=\u001b[39;49m\u001b[38;5;241;43m200\u001b[39;49m\u001b[43m)\u001b[49m\n",
      "File \u001b[0;32m~/Desktop/stanford/cs224w/project/cs224w/training_new.py:109\u001b[0m, in \u001b[0;36mtrain\u001b[0;34m(model, graphs_path, epochs, batch_size, learning_rate, eval_epochs, max_instances)\u001b[0m\n\u001b[1;32m    107\u001b[0m model\u001b[38;5;241m.\u001b[39meval()\n\u001b[1;32m    108\u001b[0m \u001b[38;5;28;01mwith\u001b[39;00m torch\u001b[38;5;241m.\u001b[39mno_grad():\n\u001b[0;32m--> 109\u001b[0m     valid_loss, valid_acc \u001b[38;5;241m=\u001b[39m \u001b[38;5;28;43meval\u001b[39;49m\u001b[43m(\u001b[49m\u001b[43mmodel\u001b[49m\u001b[43m,\u001b[49m\u001b[43m \u001b[49m\u001b[43mvalid_dl\u001b[49m\u001b[43m)\u001b[49m\n\u001b[1;32m    110\u001b[0m model\u001b[38;5;241m.\u001b[39mtrain()\n\u001b[1;32m    111\u001b[0m \u001b[38;5;28mprint\u001b[39m(\u001b[38;5;124mf\u001b[39m\u001b[38;5;124m\"\u001b[39m\u001b[38;5;124mValid \u001b[39m\u001b[38;5;132;01m{\u001b[39;00me\u001b[38;5;132;01m}\u001b[39;00m\u001b[38;5;124m - loss:\u001b[39m\u001b[38;5;132;01m{\u001b[39;00mvalid_loss\u001b[38;5;132;01m:\u001b[39;00m\u001b[38;5;124m.4f\u001b[39m\u001b[38;5;132;01m}\u001b[39;00m\u001b[38;5;124m, acc:\u001b[39m\u001b[38;5;132;01m{\u001b[39;00mvalid_acc\u001b[38;5;132;01m:\u001b[39;00m\u001b[38;5;124m.4f\u001b[39m\u001b[38;5;132;01m}\u001b[39;00m\u001b[38;5;124m\"\u001b[39m)\n",
      "File \u001b[0;32m~/Desktop/stanford/cs224w/project/cs224w/training_new.py:71\u001b[0m, in \u001b[0;36meval\u001b[0;34m(model, data_loder)\u001b[0m\n\u001b[1;32m     69\u001b[0m losses \u001b[38;5;241m=\u001b[39m []\n\u001b[1;32m     70\u001b[0m accs \u001b[38;5;241m=\u001b[39m []\n\u001b[0;32m---> 71\u001b[0m \u001b[38;5;28;01mfor\u001b[39;00m batched_graphs \u001b[38;5;129;01min\u001b[39;00m data_loder:\n\u001b[1;32m     72\u001b[0m     logits \u001b[38;5;241m=\u001b[39m model(batched_graphs)\n\u001b[1;32m     73\u001b[0m     nexts \u001b[38;5;241m=\u001b[39m batched_graphs\u001b[38;5;241m.\u001b[39my\n",
      "File \u001b[0;32m/opt/homebrew/anaconda3/envs/pyt1-osx-64/lib/python3.10/site-packages/torch/utils/data/dataloader.py:628\u001b[0m, in \u001b[0;36m_BaseDataLoaderIter.__next__\u001b[0;34m(self)\u001b[0m\n\u001b[1;32m    625\u001b[0m \u001b[38;5;28;01mif\u001b[39;00m \u001b[38;5;28mself\u001b[39m\u001b[38;5;241m.\u001b[39m_sampler_iter \u001b[38;5;129;01mis\u001b[39;00m \u001b[38;5;28;01mNone\u001b[39;00m:\n\u001b[1;32m    626\u001b[0m     \u001b[38;5;66;03m# TODO(https://github.com/pytorch/pytorch/issues/76750)\u001b[39;00m\n\u001b[1;32m    627\u001b[0m     \u001b[38;5;28mself\u001b[39m\u001b[38;5;241m.\u001b[39m_reset()  \u001b[38;5;66;03m# type: ignore[call-arg]\u001b[39;00m\n\u001b[0;32m--> 628\u001b[0m data \u001b[38;5;241m=\u001b[39m \u001b[38;5;28;43mself\u001b[39;49m\u001b[38;5;241;43m.\u001b[39;49m\u001b[43m_next_data\u001b[49m\u001b[43m(\u001b[49m\u001b[43m)\u001b[49m\n\u001b[1;32m    629\u001b[0m \u001b[38;5;28mself\u001b[39m\u001b[38;5;241m.\u001b[39m_num_yielded \u001b[38;5;241m+\u001b[39m\u001b[38;5;241m=\u001b[39m \u001b[38;5;241m1\u001b[39m\n\u001b[1;32m    630\u001b[0m \u001b[38;5;28;01mif\u001b[39;00m \u001b[38;5;28mself\u001b[39m\u001b[38;5;241m.\u001b[39m_dataset_kind \u001b[38;5;241m==\u001b[39m _DatasetKind\u001b[38;5;241m.\u001b[39mIterable \u001b[38;5;129;01mand\u001b[39;00m \\\n\u001b[1;32m    631\u001b[0m         \u001b[38;5;28mself\u001b[39m\u001b[38;5;241m.\u001b[39m_IterableDataset_len_called \u001b[38;5;129;01mis\u001b[39;00m \u001b[38;5;129;01mnot\u001b[39;00m \u001b[38;5;28;01mNone\u001b[39;00m \u001b[38;5;129;01mand\u001b[39;00m \\\n\u001b[1;32m    632\u001b[0m         \u001b[38;5;28mself\u001b[39m\u001b[38;5;241m.\u001b[39m_num_yielded \u001b[38;5;241m>\u001b[39m \u001b[38;5;28mself\u001b[39m\u001b[38;5;241m.\u001b[39m_IterableDataset_len_called:\n",
      "File \u001b[0;32m/opt/homebrew/anaconda3/envs/pyt1-osx-64/lib/python3.10/site-packages/torch/utils/data/dataloader.py:671\u001b[0m, in \u001b[0;36m_SingleProcessDataLoaderIter._next_data\u001b[0;34m(self)\u001b[0m\n\u001b[1;32m    669\u001b[0m \u001b[38;5;28;01mdef\u001b[39;00m \u001b[38;5;21m_next_data\u001b[39m(\u001b[38;5;28mself\u001b[39m):\n\u001b[1;32m    670\u001b[0m     index \u001b[38;5;241m=\u001b[39m \u001b[38;5;28mself\u001b[39m\u001b[38;5;241m.\u001b[39m_next_index()  \u001b[38;5;66;03m# may raise StopIteration\u001b[39;00m\n\u001b[0;32m--> 671\u001b[0m     data \u001b[38;5;241m=\u001b[39m \u001b[38;5;28;43mself\u001b[39;49m\u001b[38;5;241;43m.\u001b[39;49m\u001b[43m_dataset_fetcher\u001b[49m\u001b[38;5;241;43m.\u001b[39;49m\u001b[43mfetch\u001b[49m\u001b[43m(\u001b[49m\u001b[43mindex\u001b[49m\u001b[43m)\u001b[49m  \u001b[38;5;66;03m# may raise StopIteration\u001b[39;00m\n\u001b[1;32m    672\u001b[0m     \u001b[38;5;28;01mif\u001b[39;00m \u001b[38;5;28mself\u001b[39m\u001b[38;5;241m.\u001b[39m_pin_memory:\n\u001b[1;32m    673\u001b[0m         data \u001b[38;5;241m=\u001b[39m _utils\u001b[38;5;241m.\u001b[39mpin_memory\u001b[38;5;241m.\u001b[39mpin_memory(data, \u001b[38;5;28mself\u001b[39m\u001b[38;5;241m.\u001b[39m_pin_memory_device)\n",
      "File \u001b[0;32m/opt/homebrew/anaconda3/envs/pyt1-osx-64/lib/python3.10/site-packages/torch/utils/data/_utils/fetch.py:61\u001b[0m, in \u001b[0;36m_MapDatasetFetcher.fetch\u001b[0;34m(self, possibly_batched_index)\u001b[0m\n\u001b[1;32m     59\u001b[0m \u001b[38;5;28;01melse\u001b[39;00m:\n\u001b[1;32m     60\u001b[0m     data \u001b[38;5;241m=\u001b[39m \u001b[38;5;28mself\u001b[39m\u001b[38;5;241m.\u001b[39mdataset[possibly_batched_index]\n\u001b[0;32m---> 61\u001b[0m \u001b[38;5;28;01mreturn\u001b[39;00m \u001b[38;5;28;43mself\u001b[39;49m\u001b[38;5;241;43m.\u001b[39;49m\u001b[43mcollate_fn\u001b[49m\u001b[43m(\u001b[49m\u001b[43mdata\u001b[49m\u001b[43m)\u001b[49m\n",
      "File \u001b[0;32m/opt/homebrew/anaconda3/envs/pyt1-osx-64/lib/python3.10/site-packages/torch_geometric/loader/dataloader.py:20\u001b[0m, in \u001b[0;36mCollater.__call__\u001b[0;34m(self, batch)\u001b[0m\n\u001b[1;32m     18\u001b[0m elem \u001b[38;5;241m=\u001b[39m batch[\u001b[38;5;241m0\u001b[39m]\n\u001b[1;32m     19\u001b[0m \u001b[38;5;28;01mif\u001b[39;00m \u001b[38;5;28misinstance\u001b[39m(elem, BaseData):\n\u001b[0;32m---> 20\u001b[0m     \u001b[38;5;28;01mreturn\u001b[39;00m \u001b[43mBatch\u001b[49m\u001b[38;5;241;43m.\u001b[39;49m\u001b[43mfrom_data_list\u001b[49m\u001b[43m(\u001b[49m\u001b[43mbatch\u001b[49m\u001b[43m,\u001b[49m\u001b[43m \u001b[49m\u001b[38;5;28;43mself\u001b[39;49m\u001b[38;5;241;43m.\u001b[39;49m\u001b[43mfollow_batch\u001b[49m\u001b[43m,\u001b[49m\n\u001b[1;32m     21\u001b[0m \u001b[43m                                \u001b[49m\u001b[38;5;28;43mself\u001b[39;49m\u001b[38;5;241;43m.\u001b[39;49m\u001b[43mexclude_keys\u001b[49m\u001b[43m)\u001b[49m\n\u001b[1;32m     22\u001b[0m \u001b[38;5;28;01melif\u001b[39;00m \u001b[38;5;28misinstance\u001b[39m(elem, torch\u001b[38;5;241m.\u001b[39mTensor):\n\u001b[1;32m     23\u001b[0m     \u001b[38;5;28;01mreturn\u001b[39;00m default_collate(batch)\n",
      "File \u001b[0;32m/opt/homebrew/anaconda3/envs/pyt1-osx-64/lib/python3.10/site-packages/torch_geometric/data/batch.py:76\u001b[0m, in \u001b[0;36mBatch.from_data_list\u001b[0;34m(cls, data_list, follow_batch, exclude_keys)\u001b[0m\n\u001b[1;32m     64\u001b[0m \u001b[38;5;129m@classmethod\u001b[39m\n\u001b[1;32m     65\u001b[0m \u001b[38;5;28;01mdef\u001b[39;00m \u001b[38;5;21mfrom_data_list\u001b[39m(\u001b[38;5;28mcls\u001b[39m, data_list: List[BaseData],\n\u001b[1;32m     66\u001b[0m                    follow_batch: Optional[List[\u001b[38;5;28mstr\u001b[39m]] \u001b[38;5;241m=\u001b[39m \u001b[38;5;28;01mNone\u001b[39;00m,\n\u001b[1;32m     67\u001b[0m                    exclude_keys: Optional[List[\u001b[38;5;28mstr\u001b[39m]] \u001b[38;5;241m=\u001b[39m \u001b[38;5;28;01mNone\u001b[39;00m):\n\u001b[1;32m     68\u001b[0m \u001b[38;5;250m    \u001b[39m\u001b[38;5;124mr\u001b[39m\u001b[38;5;124;03m\"\"\"Constructs a :class:`~torch_geometric.data.Batch` object from a\u001b[39;00m\n\u001b[1;32m     69\u001b[0m \u001b[38;5;124;03m    Python list of :class:`~torch_geometric.data.Data` or\u001b[39;00m\n\u001b[1;32m     70\u001b[0m \u001b[38;5;124;03m    :class:`~torch_geometric.data.HeteroData` objects.\u001b[39;00m\n\u001b[0;32m   (...)\u001b[0m\n\u001b[1;32m     73\u001b[0m \u001b[38;5;124;03m    :obj:`follow_batch`.\u001b[39;00m\n\u001b[1;32m     74\u001b[0m \u001b[38;5;124;03m    Will exclude any keys given in :obj:`exclude_keys`.\"\"\"\u001b[39;00m\n\u001b[0;32m---> 76\u001b[0m     batch, slice_dict, inc_dict \u001b[38;5;241m=\u001b[39m \u001b[43mcollate\u001b[49m\u001b[43m(\u001b[49m\n\u001b[1;32m     77\u001b[0m \u001b[43m        \u001b[49m\u001b[38;5;28;43mcls\u001b[39;49m\u001b[43m,\u001b[49m\n\u001b[1;32m     78\u001b[0m \u001b[43m        \u001b[49m\u001b[43mdata_list\u001b[49m\u001b[38;5;241;43m=\u001b[39;49m\u001b[43mdata_list\u001b[49m\u001b[43m,\u001b[49m\n\u001b[1;32m     79\u001b[0m \u001b[43m        \u001b[49m\u001b[43mincrement\u001b[49m\u001b[38;5;241;43m=\u001b[39;49m\u001b[38;5;28;43;01mTrue\u001b[39;49;00m\u001b[43m,\u001b[49m\n\u001b[1;32m     80\u001b[0m \u001b[43m        \u001b[49m\u001b[43madd_batch\u001b[49m\u001b[38;5;241;43m=\u001b[39;49m\u001b[38;5;129;43;01mnot\u001b[39;49;00m\u001b[43m \u001b[49m\u001b[38;5;28;43misinstance\u001b[39;49m\u001b[43m(\u001b[49m\u001b[43mdata_list\u001b[49m\u001b[43m[\u001b[49m\u001b[38;5;241;43m0\u001b[39;49m\u001b[43m]\u001b[49m\u001b[43m,\u001b[49m\u001b[43m \u001b[49m\u001b[43mBatch\u001b[49m\u001b[43m)\u001b[49m\u001b[43m,\u001b[49m\n\u001b[1;32m     81\u001b[0m \u001b[43m        \u001b[49m\u001b[43mfollow_batch\u001b[49m\u001b[38;5;241;43m=\u001b[39;49m\u001b[43mfollow_batch\u001b[49m\u001b[43m,\u001b[49m\n\u001b[1;32m     82\u001b[0m \u001b[43m        \u001b[49m\u001b[43mexclude_keys\u001b[49m\u001b[38;5;241;43m=\u001b[39;49m\u001b[43mexclude_keys\u001b[49m\u001b[43m,\u001b[49m\n\u001b[1;32m     83\u001b[0m \u001b[43m    \u001b[49m\u001b[43m)\u001b[49m\n\u001b[1;32m     85\u001b[0m     batch\u001b[38;5;241m.\u001b[39m_num_graphs \u001b[38;5;241m=\u001b[39m \u001b[38;5;28mlen\u001b[39m(data_list)\n\u001b[1;32m     86\u001b[0m     batch\u001b[38;5;241m.\u001b[39m_slice_dict \u001b[38;5;241m=\u001b[39m slice_dict\n",
      "File \u001b[0;32m/opt/homebrew/anaconda3/envs/pyt1-osx-64/lib/python3.10/site-packages/torch_geometric/data/collate.py:85\u001b[0m, in \u001b[0;36mcollate\u001b[0;34m(cls, data_list, increment, add_batch, follow_batch, exclude_keys)\u001b[0m\n\u001b[1;32m     82\u001b[0m     \u001b[38;5;28;01mcontinue\u001b[39;00m\n\u001b[1;32m     84\u001b[0m \u001b[38;5;66;03m# Collate attributes into a unified representation:\u001b[39;00m\n\u001b[0;32m---> 85\u001b[0m value, slices, incs \u001b[38;5;241m=\u001b[39m \u001b[43m_collate\u001b[49m\u001b[43m(\u001b[49m\u001b[43mattr\u001b[49m\u001b[43m,\u001b[49m\u001b[43m \u001b[49m\u001b[43mvalues\u001b[49m\u001b[43m,\u001b[49m\u001b[43m \u001b[49m\u001b[43mdata_list\u001b[49m\u001b[43m,\u001b[49m\u001b[43m \u001b[49m\u001b[43mstores\u001b[49m\u001b[43m,\u001b[49m\n\u001b[1;32m     86\u001b[0m \u001b[43m                               \u001b[49m\u001b[43mincrement\u001b[49m\u001b[43m)\u001b[49m\n\u001b[1;32m     88\u001b[0m \u001b[38;5;28;01mif\u001b[39;00m \u001b[38;5;28misinstance\u001b[39m(value, Tensor) \u001b[38;5;129;01mand\u001b[39;00m value\u001b[38;5;241m.\u001b[39mis_cuda:\n\u001b[1;32m     89\u001b[0m     device \u001b[38;5;241m=\u001b[39m value\u001b[38;5;241m.\u001b[39mdevice\n",
      "File \u001b[0;32m/opt/homebrew/anaconda3/envs/pyt1-osx-64/lib/python3.10/site-packages/torch_geometric/data/collate.py:138\u001b[0m, in \u001b[0;36m_collate\u001b[0;34m(key, values, data_list, stores, increment)\u001b[0m\n\u001b[1;32m    134\u001b[0m     incs \u001b[38;5;241m=\u001b[39m get_incs(key, values, data_list, stores)\n\u001b[1;32m    135\u001b[0m     \u001b[38;5;28;01mif\u001b[39;00m incs\u001b[38;5;241m.\u001b[39mdim() \u001b[38;5;241m>\u001b[39m \u001b[38;5;241m1\u001b[39m \u001b[38;5;129;01mor\u001b[39;00m \u001b[38;5;28mint\u001b[39m(incs[\u001b[38;5;241m-\u001b[39m\u001b[38;5;241m1\u001b[39m]) \u001b[38;5;241m!=\u001b[39m \u001b[38;5;241m0\u001b[39m:\n\u001b[1;32m    136\u001b[0m         values \u001b[38;5;241m=\u001b[39m [\n\u001b[1;32m    137\u001b[0m             value \u001b[38;5;241m+\u001b[39m inc\u001b[38;5;241m.\u001b[39mto(value\u001b[38;5;241m.\u001b[39mdevice)\n\u001b[0;32m--> 138\u001b[0m             \u001b[38;5;28;01mfor\u001b[39;00m value, inc \u001b[38;5;129;01min\u001b[39;00m \u001b[38;5;28;43mzip\u001b[39;49m\u001b[43m(\u001b[49m\u001b[43mvalues\u001b[49m\u001b[43m,\u001b[49m\u001b[43m \u001b[49m\u001b[43mincs\u001b[49m\u001b[43m)\u001b[49m\n\u001b[1;32m    139\u001b[0m         ]\n\u001b[1;32m    140\u001b[0m \u001b[38;5;28;01melse\u001b[39;00m:\n\u001b[1;32m    141\u001b[0m     incs \u001b[38;5;241m=\u001b[39m \u001b[38;5;28;01mNone\u001b[39;00m\n",
      "File \u001b[0;32m/opt/homebrew/anaconda3/envs/pyt1-osx-64/lib/python3.10/site-packages/torch/_tensor.py:925\u001b[0m, in \u001b[0;36mTensor.__iter__\u001b[0;34m(self)\u001b[0m\n\u001b[1;32m    916\u001b[0m \u001b[38;5;28;01mif\u001b[39;00m torch\u001b[38;5;241m.\u001b[39m_C\u001b[38;5;241m.\u001b[39m_get_tracing_state():\n\u001b[1;32m    917\u001b[0m     warnings\u001b[38;5;241m.\u001b[39mwarn(\n\u001b[1;32m    918\u001b[0m         \u001b[38;5;124m\"\u001b[39m\u001b[38;5;124mIterating over a tensor might cause the trace to be incorrect. \u001b[39m\u001b[38;5;124m\"\u001b[39m\n\u001b[1;32m    919\u001b[0m         \u001b[38;5;124m\"\u001b[39m\u001b[38;5;124mPassing a tensor of different shape won\u001b[39m\u001b[38;5;124m'\u001b[39m\u001b[38;5;124mt change the number of \u001b[39m\u001b[38;5;124m\"\u001b[39m\n\u001b[0;32m   (...)\u001b[0m\n\u001b[1;32m    923\u001b[0m         stacklevel\u001b[38;5;241m=\u001b[39m\u001b[38;5;241m2\u001b[39m,\n\u001b[1;32m    924\u001b[0m     )\n\u001b[0;32m--> 925\u001b[0m \u001b[38;5;28;01mreturn\u001b[39;00m \u001b[38;5;28miter\u001b[39m(\u001b[38;5;28;43mself\u001b[39;49m\u001b[38;5;241;43m.\u001b[39;49m\u001b[43munbind\u001b[49m\u001b[43m(\u001b[49m\u001b[38;5;241;43m0\u001b[39;49m\u001b[43m)\u001b[49m)\n",
      "\u001b[0;31mKeyboardInterrupt\u001b[0m: "
     ]
    }
   ],
   "source": [
    "train(model, \"./solver/sol_examples/vrp20/sols.pkl\", epochs=3, max_instances=200)"
   ]
  },
  {
   "cell_type": "code",
   "execution_count": null,
   "id": "204c6d25-57dc-421a-9598-a23bf3500b24",
   "metadata": {},
   "outputs": [],
   "source": []
  },
  {
   "cell_type": "code",
   "execution_count": null,
   "id": "9a3aaad7-4435-4897-b60f-123a2d98a79f",
   "metadata": {},
   "outputs": [],
   "source": []
  },
  {
   "cell_type": "code",
   "execution_count": 7,
   "id": "b5b60400-fbe9-451b-af60-a8cc630c6924",
   "metadata": {},
   "outputs": [
    {
     "name": "stderr",
     "output_type": "stream",
     "text": [
      " ... (more hidden) ...\n"
     ]
    }
   ],
   "source": [
    "train_dl, _ = get_data_loaders(\"./solver/sol_examples/vrp20/sols.pkl\")"
   ]
  },
  {
   "cell_type": "code",
   "execution_count": 8,
   "id": "70d042b8-f1c6-4aa7-b73d-badb8b8fd08b",
   "metadata": {},
   "outputs": [
    {
     "data": {
      "text/plain": [
       "229"
      ]
     },
     "execution_count": 8,
     "metadata": {},
     "output_type": "execute_result"
    }
   ],
   "source": [
    "len(train_dl)"
   ]
  },
  {
   "cell_type": "code",
   "execution_count": 10,
   "id": "73d4f568-1ea2-4016-befa-08f1786cd16a",
   "metadata": {},
   "outputs": [],
   "source": [
    "batches = list(train_dl)"
   ]
  },
  {
   "cell_type": "code",
   "execution_count": 17,
   "id": "91512917-efe3-4611-903d-5caa0406a791",
   "metadata": {},
   "outputs": [
    {
     "data": {
      "text/plain": [
       "list"
      ]
     },
     "execution_count": 17,
     "metadata": {},
     "output_type": "execute_result"
    }
   ],
   "source": [
    "type(batches[0].x)"
   ]
  },
  {
   "cell_type": "code",
   "execution_count": 18,
   "id": "251d086b-04e2-4fe6-bc23-317a3e9d963e",
   "metadata": {},
   "outputs": [],
   "source": [
    "import sys\n",
    "\n",
    "from torch.optim import Adam\n",
    "from tqdm import tqdm\n",
    "import torch\n",
    "from torch import nn\n",
    "import itertools\n",
    "import pandas as pd\n",
    "\n",
    "from model import Model\n",
    "from generator import *\n",
    "\n",
    "from torch_geometric.loader import DataLoader\n",
    "from typing import List\n",
    "from util import *"
   ]
  },
  {
   "cell_type": "code",
   "execution_count": 19,
   "id": "51510fe6-da85-459d-9ba9-c5a3f25e46e4",
   "metadata": {},
   "outputs": [],
   "source": [
    "from training_new import get_solution_instances"
   ]
  },
  {
   "cell_type": "code",
   "execution_count": 20,
   "id": "3f4a42a8-c85a-4060-82d3-3c1b0778560c",
   "metadata": {},
   "outputs": [],
   "source": [
    "graphs_path = \"./solver/sol_examples/vrp20/sols.pkl\""
   ]
  },
  {
   "cell_type": "code",
   "execution_count": 21,
   "id": "38bd80cf-3922-4b55-ac8a-f28bb6cb00db",
   "metadata": {},
   "outputs": [],
   "source": [
    "graphs = []\n",
    "sol_instances = get_solution_instances(graphs_path)\n",
    "split_idx = int(0.8 * len(sol_instances))"
   ]
  },
  {
   "cell_type": "code",
   "execution_count": 22,
   "id": "ca94dd37-8360-4a6f-a3cf-05a18f0ea5e2",
   "metadata": {},
   "outputs": [
    {
     "data": {
      "text/plain": [
       "<graph.BaseGraph at 0x7fc9c0379810>"
      ]
     },
     "execution_count": 22,
     "metadata": {},
     "output_type": "execute_result"
    }
   ],
   "source": [
    "sol_instances[0].get_all_graphs()[0]"
   ]
  },
  {
   "cell_type": "code",
   "execution_count": 23,
   "id": "e78f6f0e-e2d4-4f23-8304-6e8693e787bb",
   "metadata": {},
   "outputs": [
    {
     "name": "stderr",
     "output_type": "stream",
     "text": [
      " ... (more hidden) ...\n"
     ]
    }
   ],
   "source": [
    "\n",
    "\"\"\"Given the path to the pickle of graphs generated and further solved\n",
    "using LKH, returns 2 PYG's DataLoaders, one for training and the other\n",
    "for validation.\n",
    "\"\"\"\n",
    "\n",
    "for sol_instance in tqdm(sol_instances, \"Parsing Graphs\"):\n",
    "    ## need to specify how many partial solutions we need partial solution index\n",
    "    #cvrp_graphs = sol_instance.get_partial_solutions()\n",
    "    cvrp_graphs = sol_instance.get_all_graphs()\n",
    "    # convert to pytorch geometric dataset\n",
    "    cvrp_graphs = list(map(lambda g: g.export_pyg(), cvrp_graphs))\n",
    "    \n",
    "    graphs.append(cvrp_graphs)\n",
    "\n",
    "# train_graphs = itertools.chain.from_iterable(graphs[:split_idx])\n",
    "# valid_graphs = itertools.chain.from_iterable(graphs[split_idx:])\n",
    "\n",
    "# train_graphs = DataLoader(list(train_graphs), shuffle=True, batch_size=batch_size)\n",
    "# valid_graphs = DataLoader(list(valid_graphs), shuffle=True, batch_size=batch_size)"
   ]
  },
  {
   "cell_type": "code",
   "execution_count": null,
   "id": "bd7257c1-dfe4-43c3-bd25-811588cbe5fd",
   "metadata": {},
   "outputs": [],
   "source": []
  },
  {
   "cell_type": "code",
   "execution_count": 24,
   "id": "70d868b3-ff87-4e13-ad9f-87c7f1e7a9cf",
   "metadata": {},
   "outputs": [],
   "source": [
    "sample_graphs = list(cvrp_graphs)"
   ]
  },
  {
   "cell_type": "code",
   "execution_count": 29,
   "id": "016e16d9-f212-4dea-86b4-5ef93c174c4c",
   "metadata": {},
   "outputs": [],
   "source": [
    "train_graphs = DataLoader(sample_graphs[:3], shuffle=False, batch_size=2)"
   ]
  },
  {
   "cell_type": "code",
   "execution_count": 32,
   "id": "d7f95705-9806-424a-a7a7-55d2114a5567",
   "metadata": {},
   "outputs": [],
   "source": [
    "train_graphs = list(train_graphs)"
   ]
  },
  {
   "cell_type": "code",
   "execution_count": 42,
   "id": "dfedf8cf-75b8-4860-8cba-01549d552813",
   "metadata": {},
   "outputs": [
    {
     "data": {
      "text/plain": [
       "[array([[0.48795906, 0.38488354, 0.        ],\n",
       "        [0.65106481, 0.29048421, 1.        ],\n",
       "        [0.52603219, 0.97074277, 2.        ],\n",
       "        [0.01844732, 0.87313311, 6.        ],\n",
       "        [0.59595635, 0.7511838 , 1.        ],\n",
       "        [0.19020065, 0.6894146 , 5.        ],\n",
       "        [0.53635501, 0.06441764, 4.        ],\n",
       "        [0.28682576, 0.85332603, 8.        ],\n",
       "        [0.44858972, 0.10795248, 3.        ],\n",
       "        [0.39920675, 0.23034469, 3.        ],\n",
       "        [0.82212058, 0.26980682, 6.        ],\n",
       "        [0.39057818, 0.27630326, 5.        ],\n",
       "        [0.11934537, 0.60380564, 6.        ],\n",
       "        [0.4338518 , 0.07372146, 1.        ],\n",
       "        [0.7565152 , 0.05686733, 8.        ],\n",
       "        [0.83810693, 0.7011449 , 6.        ],\n",
       "        [0.06043427, 0.29609497, 7.        ],\n",
       "        [0.07082987, 0.8987102 , 4.        ],\n",
       "        [0.96253617, 0.31843071, 8.        ],\n",
       "        [0.11436427, 0.16957051, 5.        ],\n",
       "        [0.22810337, 0.61112956, 1.        ]]),\n",
       " array([[0.48795906, 0.38488354, 0.        ],\n",
       "        [0.65106481, 0.29048421, 1.        ],\n",
       "        [0.52603219, 0.97074277, 2.        ],\n",
       "        [0.01844732, 0.87313311, 6.        ],\n",
       "        [0.59595635, 0.7511838 , 1.        ],\n",
       "        [0.19020065, 0.6894146 , 5.        ],\n",
       "        [0.53635501, 0.06441764, 4.        ],\n",
       "        [0.28682576, 0.85332603, 8.        ],\n",
       "        [0.44858972, 0.10795248, 3.        ],\n",
       "        [0.39920675, 0.23034469, 3.        ],\n",
       "        [0.82212058, 0.26980682, 6.        ],\n",
       "        [0.39057818, 0.27630326, 5.        ],\n",
       "        [0.11934537, 0.60380564, 6.        ],\n",
       "        [0.4338518 , 0.07372146, 1.        ],\n",
       "        [0.7565152 , 0.05686733, 8.        ],\n",
       "        [0.83810693, 0.7011449 , 6.        ],\n",
       "        [0.06043427, 0.29609497, 7.        ],\n",
       "        [0.07082987, 0.8987102 , 4.        ],\n",
       "        [0.96253617, 0.31843071, 8.        ],\n",
       "        [0.11436427, 0.16957051, 5.        ],\n",
       "        [0.22810337, 0.61112956, 1.        ]])]"
      ]
     },
     "execution_count": 42,
     "metadata": {},
     "output_type": "execute_result"
    }
   ],
   "source": [
    "train_graphs[0].x"
   ]
  },
  {
   "cell_type": "code",
   "execution_count": 40,
   "id": "8f16d8e0-4cda-4cd5-9146-4a0cbe45806a",
   "metadata": {},
   "outputs": [
    {
     "data": {
      "text/plain": [
       "array([[0.48795906, 0.38488354, 0.        ],\n",
       "       [0.65106481, 0.29048421, 1.        ],\n",
       "       [0.52603219, 0.97074277, 2.        ],\n",
       "       [0.01844732, 0.87313311, 6.        ],\n",
       "       [0.59595635, 0.7511838 , 1.        ],\n",
       "       [0.19020065, 0.6894146 , 5.        ],\n",
       "       [0.53635501, 0.06441764, 4.        ],\n",
       "       [0.28682576, 0.85332603, 8.        ],\n",
       "       [0.44858972, 0.10795248, 3.        ],\n",
       "       [0.39920675, 0.23034469, 3.        ],\n",
       "       [0.82212058, 0.26980682, 6.        ],\n",
       "       [0.39057818, 0.27630326, 5.        ],\n",
       "       [0.11934537, 0.60380564, 6.        ],\n",
       "       [0.4338518 , 0.07372146, 1.        ],\n",
       "       [0.7565152 , 0.05686733, 8.        ],\n",
       "       [0.83810693, 0.7011449 , 6.        ],\n",
       "       [0.06043427, 0.29609497, 7.        ],\n",
       "       [0.07082987, 0.8987102 , 4.        ],\n",
       "       [0.96253617, 0.31843071, 8.        ],\n",
       "       [0.11436427, 0.16957051, 5.        ],\n",
       "       [0.22810337, 0.61112956, 1.        ]])"
      ]
     },
     "execution_count": 40,
     "metadata": {},
     "output_type": "execute_result"
    }
   ],
   "source": [
    "sample_graphs[1].x"
   ]
  },
  {
   "cell_type": "code",
   "execution_count": 35,
   "id": "98229387-3164-4ff3-9628-46728829089e",
   "metadata": {},
   "outputs": [
    {
     "data": {
      "text/plain": [
       "2"
      ]
     },
     "execution_count": 35,
     "metadata": {},
     "output_type": "execute_result"
    }
   ],
   "source": [
    "len(train_graphs[0].x)"
   ]
  },
  {
   "cell_type": "code",
   "execution_count": 26,
   "id": "07d786ec-9382-41d3-88dc-5c7322ac1344",
   "metadata": {},
   "outputs": [
    {
     "ename": "SyntaxError",
     "evalue": "incomplete input (3515030944.py, line 1)",
     "output_type": "error",
     "traceback": [
      "\u001b[0;36m  Cell \u001b[0;32mIn[26], line 1\u001b[0;36m\u001b[0m\n\u001b[0;31m    traom+Gra[js\u001b[0m\n\u001b[0m                ^\u001b[0m\n\u001b[0;31mSyntaxError\u001b[0m\u001b[0;31m:\u001b[0m incomplete input\n"
     ]
    }
   ],
   "source": []
  },
  {
   "cell_type": "code",
   "execution_count": 220,
   "id": "345260f2-43fc-4d96-8318-9da84be9fea0",
   "metadata": {},
   "outputs": [],
   "source": [
    "for batch_graph in train_graphs:\n",
    "    pass"
   ]
  },
  {
   "cell_type": "code",
   "execution_count": null,
   "id": "518aba26-1e19-4fcb-b6ff-07de51d9c9f6",
   "metadata": {},
   "outputs": [],
   "source": []
  },
  {
   "cell_type": "code",
   "execution_count": null,
   "id": "bebc26c3-8c77-4929-bee1-758290a21361",
   "metadata": {},
   "outputs": [],
   "source": []
  },
  {
   "cell_type": "code",
   "execution_count": 11,
   "id": "1df1f66c-5eae-4e0c-8619-cd07629c7bfb",
   "metadata": {},
   "outputs": [
    {
     "name": "stdout",
     "output_type": "stream",
     "text": [
      "--Call--\n",
      "> \u001b[0;32m/opt/homebrew/anaconda3/envs/pyt1-osx-64/lib/python3.10/site-packages/IPython/core/displayhook.py\u001b[0m(258)\u001b[0;36m__call__\u001b[0;34m()\u001b[0m\n",
      "\u001b[0;32m    256 \u001b[0;31m        \u001b[0msys\u001b[0m\u001b[0;34m.\u001b[0m\u001b[0mstdout\u001b[0m\u001b[0;34m.\u001b[0m\u001b[0mflush\u001b[0m\u001b[0;34m(\u001b[0m\u001b[0;34m)\u001b[0m\u001b[0;34m\u001b[0m\u001b[0;34m\u001b[0m\u001b[0m\n",
      "\u001b[0m\u001b[0;32m    257 \u001b[0;31m\u001b[0;34m\u001b[0m\u001b[0m\n",
      "\u001b[0m\u001b[0;32m--> 258 \u001b[0;31m    \u001b[0;32mdef\u001b[0m \u001b[0m__call__\u001b[0m\u001b[0;34m(\u001b[0m\u001b[0mself\u001b[0m\u001b[0;34m,\u001b[0m \u001b[0mresult\u001b[0m\u001b[0;34m=\u001b[0m\u001b[0;32mNone\u001b[0m\u001b[0;34m)\u001b[0m\u001b[0;34m:\u001b[0m\u001b[0;34m\u001b[0m\u001b[0;34m\u001b[0m\u001b[0m\n",
      "\u001b[0m\u001b[0;32m    259 \u001b[0;31m        \"\"\"Printing with history cache management.\n",
      "\u001b[0m\u001b[0;32m    260 \u001b[0;31m\u001b[0;34m\u001b[0m\u001b[0m\n",
      "\u001b[0m\n"
     ]
    },
    {
     "name": "stdin",
     "output_type": "stream",
     "text": [
      "ipdb>  b\n",
      "ipdb>  exit()\n"
     ]
    }
   ],
   "source": [
    "import pdb; pdb.set_trace()"
   ]
  },
  {
   "cell_type": "code",
   "execution_count": null,
   "id": "7a1e223d-e207-4ac4-9186-bbeaffdc654f",
   "metadata": {},
   "outputs": [],
   "source": []
  },
  {
   "cell_type": "code",
   "execution_count": null,
   "id": "37eae033-60e7-4612-b25e-5efa450ea1d9",
   "metadata": {},
   "outputs": [],
   "source": []
  },
  {
   "cell_type": "code",
   "execution_count": null,
   "id": "8b82153f-8787-4664-a83d-8dfe4000b9a5",
   "metadata": {},
   "outputs": [],
   "source": []
  },
  {
   "cell_type": "code",
   "execution_count": 3,
   "id": "5b09cf6c-df9c-4033-ac81-1c4a36751fd9",
   "metadata": {},
   "outputs": [
    {
     "name": "stderr",
     "output_type": "stream",
     "text": [
      "Parsing Graphs: 100%|█████████████████████████████████████████████████████████████████████████████████████████████████████████████████████████████████████████████████████████████████| 4000/4000 [00:15<00:00, 262.38it/s]\n"
     ]
    }
   ],
   "source": [
    "dls = get_data_loaders(\"./solver/sol_examples/vrp20/sols.pkl\")"
   ]
  },
  {
   "cell_type": "code",
   "execution_count": 4,
   "id": "8b473304-a501-48be-b6e8-46fbf1338cd3",
   "metadata": {},
   "outputs": [],
   "source": [
    "train, valid = dls"
   ]
  },
  {
   "cell_type": "code",
   "execution_count": null,
   "id": "f4fd14dd-da25-4ca5-915d-27ae56299ec9",
   "metadata": {},
   "outputs": [],
   "source": []
  },
  {
   "cell_type": "code",
   "execution_count": null,
   "id": "a330b61d-7788-478e-8f55-06c22630e455",
   "metadata": {},
   "outputs": [],
   "source": []
  },
  {
   "cell_type": "code",
   "execution_count": 5,
   "id": "63e86cf1-d31d-4c24-aa62-a2c39042af0f",
   "metadata": {},
   "outputs": [
    {
     "data": {
      "text/plain": [
       "<torch_geometric.loader.dataloader.DataLoader at 0x7f9c1b1e4970>"
      ]
     },
     "execution_count": 5,
     "metadata": {},
     "output_type": "execute_result"
    }
   ],
   "source": [
    "train"
   ]
  },
  {
   "cell_type": "code",
   "execution_count": 17,
   "id": "d627f324-633b-48aa-b5c6-f09839d3ccc5",
   "metadata": {},
   "outputs": [
    {
     "data": {
      "text/plain": [
       "'a'"
      ]
     },
     "execution_count": 17,
     "metadata": {},
     "output_type": "execute_result"
    }
   ],
   "source": [
    "'a'"
   ]
  },
  {
   "cell_type": "code",
   "execution_count": null,
   "id": "486b1b95-f951-427b-b8df-07d9b507b383",
   "metadata": {},
   "outputs": [],
   "source": []
  },
  {
   "cell_type": "code",
   "execution_count": null,
   "id": "dbb2b362-2c67-4799-8620-74d486885cae",
   "metadata": {},
   "outputs": [],
   "source": []
  },
  {
   "cell_type": "code",
   "execution_count": 2,
   "id": "caeda2e5-1906-4119-8862-215f239c03d8",
   "metadata": {},
   "outputs": [],
   "source": [
    "import pandas as pd"
   ]
  },
  {
   "cell_type": "code",
   "execution_count": 3,
   "id": "5518fd7a-2a0b-44d7-8f27-9ff3c14ea0dc",
   "metadata": {},
   "outputs": [],
   "source": [
    "sols = pd.read_pickle(\"./solver/sol_examples/vrp20/sols.pkl\")"
   ]
  },
  {
   "cell_type": "code",
   "execution_count": 5,
   "id": "751438ef-5fe2-408f-84b3-6fed657fa7e5",
   "metadata": {},
   "outputs": [
    {
     "data": {
      "text/plain": [
       "4000"
      ]
     },
     "execution_count": 5,
     "metadata": {},
     "output_type": "execute_result"
    }
   ],
   "source": [
    "len(sols)"
   ]
  },
  {
   "cell_type": "code",
   "execution_count": 7,
   "id": "bfe46760-005b-4b49-94b1-01f75bdb20e8",
   "metadata": {},
   "outputs": [
    {
     "data": {
      "text/plain": [
       "2"
      ]
     },
     "execution_count": 7,
     "metadata": {},
     "output_type": "execute_result"
    }
   ],
   "source": [
    "len(sols[0])"
   ]
  },
  {
   "cell_type": "code",
   "execution_count": 8,
   "id": "823ded41-723f-4281-a980-6056927fade0",
   "metadata": {},
   "outputs": [
    {
     "data": {
      "text/plain": [
       "[[0.3189664036607044, 0.9472218293925415],\n",
       " [[0.9187083622644343, 0.8138443779202849],\n",
       "  [0.03407709152060179, 0.9433728691449649],\n",
       "  [0.9504391649155011, 0.8065910506231764],\n",
       "  [0.4812780422030105, 0.9667592260965735],\n",
       "  [0.41697908439698783, 0.3188401259211743],\n",
       "  [0.01644281760441979, 0.03818192568347378],\n",
       "  [0.05308965044499003, 0.1279608146375314],\n",
       "  [0.033383159457254785, 0.226421092399535],\n",
       "  [0.5439089053152613, 0.17862580998720157],\n",
       "  [0.17934478386603347, 0.14961321573593056],\n",
       "  [0.6830131255680931, 0.46900855062027413],\n",
       "  [0.7682479309034291, 0.6688140585670866],\n",
       "  [0.4412681772565863, 0.5952254504410683],\n",
       "  [0.4616566187671286, 0.9632668729744531],\n",
       "  [0.14781137906345743, 0.9068131269665934],\n",
       "  [0.4979248360998828, 0.5924984671923367],\n",
       "  [0.684657987906487, 0.17745066401182163],\n",
       "  [0.8646854870467618, 0.4820887768136817],\n",
       "  [0.06934179411604258, 0.36473133604507435],\n",
       "  [0.36150419332229866, 0.47206349952741467]],\n",
       " [5, 5, 3, 6, 9, 6, 1, 8, 7, 3, 2, 1, 7, 1, 3, 5, 3, 5, 3, 1],\n",
       " 30.0]"
      ]
     },
     "execution_count": 8,
     "metadata": {},
     "output_type": "execute_result"
    }
   ],
   "source": [
    "sols[0][0]"
   ]
  },
  {
   "cell_type": "code",
   "execution_count": 9,
   "id": "bd3d97e8-524f-4a33-9f8e-fdb903cba7f2",
   "metadata": {},
   "outputs": [
    {
     "data": {
      "text/plain": [
       "(5.9274792484481775,\n",
       " [10, 6, 7, 8, 19, 2, 15, 0, 14, 4, 1, 3, 12, 16, 13, 0, 20, 5, 9, 17, 18, 11])"
      ]
     },
     "execution_count": 9,
     "metadata": {},
     "output_type": "execute_result"
    }
   ],
   "source": [
    "sols[0][1]"
   ]
  },
  {
   "cell_type": "code",
   "execution_count": 10,
   "id": "10dc018f-6647-45f1-b794-f2fa0346be75",
   "metadata": {},
   "outputs": [
    {
     "data": {
      "text/plain": [
       "{1, 2, 3}"
      ]
     },
     "execution_count": 10,
     "metadata": {},
     "output_type": "execute_result"
    }
   ],
   "source": [
    "set([1, 2, 3, 1])"
   ]
  },
  {
   "cell_type": "code",
   "execution_count": 12,
   "id": "2e970b85-8b17-4fd8-a3b7-4ca697a2219e",
   "metadata": {},
   "outputs": [],
   "source": [
    "x = torch.tensor([[1, 2, 3.0]])"
   ]
  },
  {
   "cell_type": "code",
   "execution_count": 13,
   "id": "db4f2b16-ad4a-4902-b490-80a4fca0141e",
   "metadata": {},
   "outputs": [
    {
     "data": {
      "text/plain": [
       "torch.Size([1, 3])"
      ]
     },
     "execution_count": 13,
     "metadata": {},
     "output_type": "execute_result"
    }
   ],
   "source": [
    "x.shape"
   ]
  },
  {
   "cell_type": "code",
   "execution_count": 16,
   "id": "02306ff0-deb4-44d1-b7e5-0f1393c40f22",
   "metadata": {},
   "outputs": [
    {
     "data": {
      "text/plain": [
       "2"
      ]
     },
     "execution_count": 16,
     "metadata": {},
     "output_type": "execute_result"
    }
   ],
   "source": [
    "x.squeeze().argmax().cpu().item()"
   ]
  },
  {
   "cell_type": "code",
   "execution_count": null,
   "id": "64ee5038-286b-4af6-9619-c6d7cf7d2c62",
   "metadata": {},
   "outputs": [],
   "source": []
  },
  {
   "cell_type": "code",
   "execution_count": null,
   "id": "3e2b8033-0c5f-4c7f-9032-98be1ad8440e",
   "metadata": {},
   "outputs": [],
   "source": []
  },
  {
   "cell_type": "code",
   "execution_count": 1,
   "id": "44d7d273-bcea-4866-97d6-996cf5dda9af",
   "metadata": {},
   "outputs": [
    {
     "name": "stdout",
     "output_type": "stream",
     "text": [
      "Intel MKL WARNING: Support of Intel(R) Streaming SIMD Extensions 4.2 (Intel(R) SSE4.2) enabled only processors has been deprecated. Intel oneAPI Math Kernel Library 2025.0 will require Intel(R) Advanced Vector Extensions (Intel(R) AVX) instructions.\n",
      "Intel MKL WARNING: Support of Intel(R) Streaming SIMD Extensions 4.2 (Intel(R) SSE4.2) enabled only processors has been deprecated. Intel oneAPI Math Kernel Library 2025.0 will require Intel(R) Advanced Vector Extensions (Intel(R) AVX) instructions.\n"
     ]
    },
    {
     "name": "stderr",
     "output_type": "stream",
     "text": [
      "/opt/homebrew/anaconda3/envs/pyt1-osx-64/lib/python3.10/site-packages/tqdm/auto.py:21: TqdmWarning: IProgress not found. Please update jupyter and ipywidgets. See https://ipywidgets.readthedocs.io/en/stable/user_install.html\n",
      "  from .autonotebook import tqdm as notebook_tqdm\n"
     ]
    }
   ],
   "source": [
    "import torch"
   ]
  },
  {
   "cell_type": "code",
   "execution_count": 2,
   "id": "79fdcf12-752e-4638-b771-8043e46fbb97",
   "metadata": {},
   "outputs": [],
   "source": [
    "import time\n",
    "\n",
    "import networkx as nx\n",
    "import numpy as np\n",
    "import torch\n",
    "import pandas as pd\n",
    "\n",
    "from torch_geometric.datasets import TUDataset\n",
    "from torch_geometric.datasets import Planetoid\n",
    "from torch_geometric.data import DataLoader\n",
    "\n",
    "import torch_geometric.nn as pyg_nn\n",
    "\n",
    "import matplotlib.pyplot as plt"
   ]
  },
  {
   "cell_type": "code",
   "execution_count": 3,
   "id": "845de6b8-af99-433d-b69e-2ea6791296fa",
   "metadata": {},
   "outputs": [],
   "source": [
    "from torch_geometric.datasets import TUDataset\n",
    "\n",
    "# if 'IS_GRADESCOPE_ENV' not in os.environ:\n",
    "root = './tmp/enzymes'\n",
    "name = 'ENZYMES'\n",
    "\n",
    "# The ENZYMES dataset\n",
    "pyg_dataset= TUDataset(root, name)"
   ]
  },
  {
   "cell_type": "code",
   "execution_count": 4,
   "id": "9b284be4-839e-413f-bded-6cd8ef469ce4",
   "metadata": {},
   "outputs": [],
   "source": [
    "dataset = pyg_dataset"
   ]
  },
  {
   "cell_type": "code",
   "execution_count": 5,
   "id": "29ea0e63-5a12-465b-a790-fe979c384848",
   "metadata": {},
   "outputs": [
    {
     "name": "stderr",
     "output_type": "stream",
     "text": [
      "/opt/homebrew/anaconda3/envs/pyt1-osx-64/lib/python3.10/site-packages/torch_geometric/deprecation.py:22: UserWarning: 'data.DataLoader' is deprecated, use 'loader.DataLoader' instead\n",
      "  warnings.warn(out)\n"
     ]
    }
   ],
   "source": [
    "data_loader = DataLoader(dataset, batch_size=3)"
   ]
  },
  {
   "cell_type": "code",
   "execution_count": 6,
   "id": "aafb32c9-d2e5-411d-9094-e817e1b79800",
   "metadata": {},
   "outputs": [],
   "source": [
    "a = next(iter(data_loader))"
   ]
  },
  {
   "cell_type": "code",
   "execution_count": 9,
   "id": "45c7ad1e-46ce-43fe-bddd-6f6404e1515e",
   "metadata": {},
   "outputs": [],
   "source": [
    "dataset_list = [dataset[i] for i in range(len(dataset))]"
   ]
  },
  {
   "cell_type": "code",
   "execution_count": 10,
   "id": "d005b472-1e2d-4644-9cd2-528974a4c920",
   "metadata": {},
   "outputs": [],
   "source": [
    "from torch_geometric.loader import DataListLoader"
   ]
  },
  {
   "cell_type": "code",
   "execution_count": 19,
   "id": "e43104c9-a5c5-46e0-b7b3-39ab0fde6063",
   "metadata": {},
   "outputs": [],
   "source": [
    "list_dl = DataListLoader(dataset_list, batch_size=3)"
   ]
  },
  {
   "cell_type": "code",
   "execution_count": 26,
   "id": "c21a331d-bf27-47dc-b266-c7706dbd6fd6",
   "metadata": {},
   "outputs": [
    {
     "data": {
      "text/plain": [
       "DataBatch(edge_index=[2, 362], x=[85, 3], y=[3], batch=[85], ptr=[4])"
      ]
     },
     "execution_count": 26,
     "metadata": {},
     "output_type": "execute_result"
    }
   ],
   "source": [
    "next(iter(DataLoader(dataset_list, batch_size=3)))"
   ]
  },
  {
   "cell_type": "code",
   "execution_count": 20,
   "id": "095f7a20-1f27-42b4-a877-1eedf5cd43e1",
   "metadata": {},
   "outputs": [
    {
     "data": {
      "text/plain": [
       "[Data(edge_index=[2, 168], x=[37, 3], y=[1]),\n",
       " Data(edge_index=[2, 102], x=[23, 3], y=[1]),\n",
       " Data(edge_index=[2, 92], x=[25, 3], y=[1])]"
      ]
     },
     "execution_count": 20,
     "metadata": {},
     "output_type": "execute_result"
    }
   ],
   "source": [
    "next(iter(list_dl))"
   ]
  },
  {
   "cell_type": "code",
   "execution_count": 53,
   "id": "08258283-ef09-444f-84b7-616fe5e64598",
   "metadata": {},
   "outputs": [
    {
     "data": {
      "text/plain": [
       "torch_geometric.data.batch.DataBatch"
      ]
     },
     "execution_count": 53,
     "metadata": {},
     "output_type": "execute_result"
    }
   ],
   "source": [
    "type(a)"
   ]
  },
  {
   "cell_type": "code",
   "execution_count": 54,
   "id": "f81e0bf9-6ba2-4e20-baef-275115b1cf9b",
   "metadata": {},
   "outputs": [],
   "source": [
    "from torch_geometric.data.batch import DataBatch"
   ]
  },
  {
   "cell_type": "code",
   "execution_count": 56,
   "id": "1b530eba-edb1-4e10-b015-24b23560e957",
   "metadata": {},
   "outputs": [
    {
     "data": {
      "text/plain": [
       "torch_geometric.deprecation.DataLoader"
      ]
     },
     "execution_count": 56,
     "metadata": {},
     "output_type": "execute_result"
    }
   ],
   "source": [
    "type(data_loader)"
   ]
  },
  {
   "cell_type": "code",
   "execution_count": 57,
   "id": "778f53e3-aac0-442d-9ca9-352ffb72a99e",
   "metadata": {},
   "outputs": [
    {
     "data": {
      "text/plain": [
       "torch_geometric.datasets.tu_dataset.TUDataset"
      ]
     },
     "execution_count": 57,
     "metadata": {},
     "output_type": "execute_result"
    }
   ],
   "source": [
    "type(dataset)"
   ]
  },
  {
   "cell_type": "code",
   "execution_count": 55,
   "id": "3befa6cf-bea8-4f99-964b-9187d05f93a1",
   "metadata": {},
   "outputs": [
    {
     "data": {
      "text/plain": [
       "True"
      ]
     },
     "execution_count": 55,
     "metadata": {},
     "output_type": "execute_result"
    }
   ],
   "source": [
    "type(a) "
   ]
  },
  {
   "cell_type": "code",
   "execution_count": 28,
   "id": "309ab349-1232-4232-af23-3f9cda4b75b2",
   "metadata": {},
   "outputs": [
    {
     "ename": "TypeError",
     "evalue": "'DataLoader' object is not an iterator",
     "output_type": "error",
     "traceback": [
      "\u001b[0;31m---------------------------------------------------------------------------\u001b[0m",
      "\u001b[0;31mTypeError\u001b[0m                                 Traceback (most recent call last)",
      "Cell \u001b[0;32mIn[28], line 1\u001b[0m\n\u001b[0;32m----> 1\u001b[0m \u001b[38;5;28;43mnext\u001b[39;49m\u001b[43m(\u001b[49m\u001b[43mdata_loader\u001b[49m\u001b[43m)\u001b[49m\n",
      "\u001b[0;31mTypeError\u001b[0m: 'DataLoader' object is not an iterator"
     ]
    }
   ],
   "source": [
    "a = (data_loader)"
   ]
  },
  {
   "cell_type": "code",
   "execution_count": null,
   "id": "7c8f6cda-413b-49b5-aa7e-cadcd213fccd",
   "metadata": {},
   "outputs": [],
   "source": []
  },
  {
   "cell_type": "code",
   "execution_count": null,
   "id": "eba1958d-5bed-43f5-b054-bf60484d1469",
   "metadata": {},
   "outputs": [],
   "source": []
  },
  {
   "cell_type": "code",
   "execution_count": 24,
   "id": "55fb8c76-0bc3-4d60-b389-1e819833d8cd",
   "metadata": {},
   "outputs": [
    {
     "data": {
      "text/plain": [
       "Data(edge_index=[2, 92], x=[25, 3], y=[1])"
      ]
     },
     "execution_count": 24,
     "metadata": {},
     "output_type": "execute_result"
    }
   ],
   "source": []
  },
  {
   "cell_type": "code",
   "execution_count": 12,
   "id": "9a003bb1-8822-4bf8-b9a6-08e522e8762f",
   "metadata": {},
   "outputs": [
    {
     "data": {
      "text/plain": [
       "tensor([[0., 0., 0.,  ..., 0., 0., 0.],\n",
       "        [0., 0., 0.,  ..., 0., 0., 0.],\n",
       "        [0., 0., 0.,  ..., 0., 0., 0.],\n",
       "        ...,\n",
       "        [0., 0., 0.,  ..., 0., 0., 0.],\n",
       "        [0., 0., 0.,  ..., 0., 0., 0.],\n",
       "        [0., 0., 0.,  ..., 0., 0., 0.]])"
      ]
     },
     "execution_count": 12,
     "metadata": {},
     "output_type": "execute_result"
    }
   ],
   "source": [
    "TUDataset"
   ]
  },
  {
   "cell_type": "code",
   "execution_count": null,
   "id": "c0ce2622-f2a6-404e-9f10-74ffe1ed9eeb",
   "metadata": {},
   "outputs": [],
   "source": []
  },
  {
   "cell_type": "code",
   "execution_count": null,
   "id": "1891dde2-0753-441c-a42a-1e04ab792b77",
   "metadata": {},
   "outputs": [],
   "source": []
  }
 ],
 "metadata": {
  "kernelspec": {
   "display_name": "Python 3 (ipykernel)",
   "language": "python",
   "name": "python3"
  },
  "language_info": {
   "codemirror_mode": {
    "name": "ipython",
    "version": 3
   },
   "file_extension": ".py",
   "mimetype": "text/x-python",
   "name": "python",
   "nbconvert_exporter": "python",
   "pygments_lexer": "ipython3",
   "version": "3.10.13"
  }
 },
 "nbformat": 4,
 "nbformat_minor": 5
}
