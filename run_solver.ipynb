{
 "cells": [
  {
   "cell_type": "code",
   "execution_count": 1,
   "id": "bce70faa-ad22-4ef9-b45d-56997c703b71",
   "metadata": {},
   "outputs": [
    {
     "name": "stdout",
     "output_type": "stream",
     "text": [
      "Intel MKL WARNING: Support of Intel(R) Streaming SIMD Extensions 4.2 (Intel(R) SSE4.2) enabled only processors has been deprecated. Intel oneAPI Math Kernel Library 2025.0 will require Intel(R) Advanced Vector Extensions (Intel(R) AVX) instructions.\n",
      "Intel MKL WARNING: Support of Intel(R) Streaming SIMD Extensions 4.2 (Intel(R) SSE4.2) enabled only processors has been deprecated. Intel oneAPI Math Kernel Library 2025.0 will require Intel(R) Advanced Vector Extensions (Intel(R) AVX) instructions.\n"
     ]
    },
    {
     "name": "stderr",
     "output_type": "stream",
     "text": [
      "/opt/homebrew/anaconda3/envs/pyt1-osx-64/lib/python3.10/site-packages/tqdm/auto.py:21: TqdmWarning: IProgress not found. Please update jupyter and ipywidgets. See https://ipywidgets.readthedocs.io/en/stable/user_install.html\n",
      "  from .autonotebook import tqdm as notebook_tqdm\n"
     ]
    }
   ],
   "source": [
    "import numpy as np\n",
    "import sys\n",
    "import os\n",
    "import pandas as pd\n",
    "import torch\n",
    "\n",
    "from generator import Generator\n",
    "from solver.baseline_lkh3 import BaselineLKH3, CAPACITIES\n",
    "from solver.translation import format_and_save\n",
    "\n",
    "GRAPH_SIZE = 20\n",
    "SAMPLES = 2\n",
    "SEED = 125"
   ]
  },
  {
   "cell_type": "code",
   "execution_count": 4,
   "id": "f3c53f91-930d-41db-83f3-699df4259d8b",
   "metadata": {},
   "outputs": [],
   "source": [
    "def get_example_data(num_samples=10, graph_size=20, seed=123):\n",
    "    np.random.seed(seed)\n",
    "    depos = []\n",
    "    graphs = []\n",
    "    demands = []\n",
    "    for _ in range(num_samples):\n",
    "        graph = Generator(graph_size)\n",
    "        depo, graph, demand = graph.export_solver_data()\n",
    "        depos.append(torch.from_numpy(depo))\n",
    "        graphs.append(torch.from_numpy(graph))\n",
    "        demands.append(torch.from_numpy(demand))\n",
    "    return (torch.stack(depos), torch.stack(graphs), torch.stack(demands))"
   ]
  },
  {
   "cell_type": "code",
   "execution_count": 5,
   "id": "a2eacc8a-982d-438a-9210-deeee6cec7c0",
   "metadata": {},
   "outputs": [],
   "source": [
    "graph_data = get_example_data(SAMPLES, GRAPH_SIZE, SEED)"
   ]
  },
  {
   "cell_type": "code",
   "execution_count": 6,
   "id": "586c9138-7cc3-4ea1-b282-aa4cab97c635",
   "metadata": {},
   "outputs": [],
   "source": [
    "cur_dir = os.getcwd()"
   ]
  },
  {
   "cell_type": "code",
   "execution_count": 8,
   "id": "96c713a6-9ba2-4d17-b1ce-7e279fada3ff",
   "metadata": {},
   "outputs": [
    {
     "name": "stdout",
     "output_type": "stream",
     "text": [
      "This class was written and tested for Unix systems only\n",
      "Creating directory  /Users/roberto/Desktop/stanford/cs224w/milestone1/cs224w/solver//solved_lkh_125/lkh\n",
      "Loading validation dataset\n"
     ]
    }
   ],
   "source": [
    "cur_dir = f'{os.getcwd()}/solver/'\n",
    "base_dir = f'{cur_dir}/solved_lkh_{SEED}'\n",
    "\n",
    "# Directory where lkh will write random intermediate states it needs\n",
    "lkh_cache_dir = f'{base_dir}/lkh'\n",
    "\n",
    "# Path to LKH executable, look at /LKH-3.0.6/README\n",
    "executable_path = f'{cur_dir}/LKH-3.0.6/LKH'\n",
    "\n",
    "lkh3_b = BaselineLKH3(lkh_cache_dir, graph_data, executable_path)"
   ]
  },
  {
   "cell_type": "code",
   "execution_count": 9,
   "id": "6b5ac701-a6ab-418c-8afb-a6fc7291f88b",
   "metadata": {},
   "outputs": [],
   "source": [
    "def run_lkh_and_save_sols():\n",
    "  lkh3_b.create_lkh_data()\n",
    "  lkh3_costs, lkh3_paths, lkh3_duration = lkh3_b.run_lkh3()\n",
    "  format_and_save(graph_data, lkh3_costs, lkh3_paths, base_dir)"
   ]
  },
  {
   "cell_type": "code",
   "execution_count": 10,
   "id": "6573274f-630a-40ef-ab69-e12ad38b720e",
   "metadata": {
    "scrolled": true
   },
   "outputs": [
    {
     "name": "stdout",
     "output_type": "stream",
     "text": [
      "Number of processed graphs: 0\n",
      "LKH-3 data has been successfully created and saved into  /Users/roberto/Desktop/stanford/cs224w/milestone1/cs224w/solver//solved_lkh_125/lkh\n"
     ]
    },
    {
     "name": "stderr",
     "output_type": "stream",
     "text": [
      " ... (more hidden) ...\n"
     ]
    }
   ],
   "source": [
    "run_lkh_and_save_sols()"
   ]
  },
  {
   "cell_type": "code",
   "execution_count": 11,
   "id": "f2e4f5bf-62d4-48a4-8fe0-365d8d80a22a",
   "metadata": {},
   "outputs": [],
   "source": [
    "graphs = pd.read_pickle(f'{base_dir}/graphs_solved.pkl')"
   ]
  },
  {
   "cell_type": "code",
   "execution_count": 12,
   "id": "a178af10-fbb5-46b6-b37a-7ba2475cbe56",
   "metadata": {},
   "outputs": [
    {
     "data": {
      "text/plain": [
       "([[0.2840656947358703, 0.6584529246736097],\n",
       "  [[0.989522748350259, 0.6442514219650061],\n",
       "   [0.30310127858355074, 0.14139534536259213],\n",
       "   [0.48809945420972045, 0.16741758610405943],\n",
       "   [0.27710607809830223, 0.0979822971514337],\n",
       "   [0.9304149025112907, 0.48687835548248526],\n",
       "   [0.7206884589172685, 0.19227314884745006],\n",
       "   [0.21003226267177355, 0.24459837442297117],\n",
       "   [0.17519978032457872, 0.3671296554168445],\n",
       "   [0.9817632271577538, 0.28586453498929176],\n",
       "   [0.9795898385852042, 0.924292225428429],\n",
       "   [0.631067153791332, 0.11923773362509449],\n",
       "   [0.8558422388809054, 0.7826232552109854],\n",
       "   [0.8159078431707419, 0.5756240078364628],\n",
       "   [0.0375979671541149, 0.5328833741700755],\n",
       "   [0.3465766230101699, 0.32928045494939573],\n",
       "   [0.6067943268933316, 0.8259320267238617],\n",
       "   [0.27302094711264135, 0.5033403417758961],\n",
       "   [0.8285680162611235, 0.4297915271138404],\n",
       "   [0.4916651299733146, 0.7525309516885211],\n",
       "   [0.7809700682181605, 0.5241475705783089]],\n",
       "  [9, 4, 9, 3, 9, 6, 7, 9, 3, 7, 4, 5, 7, 1, 8, 2, 2, 5, 5, 9],\n",
       "  30.0],\n",
       " (6.4462532953984635,\n",
       "  [13,\n",
       "   5,\n",
       "   18,\n",
       "   20,\n",
       "   0,\n",
       "   9,\n",
       "   6,\n",
       "   11,\n",
       "   3,\n",
       "   15,\n",
       "   0,\n",
       "   14,\n",
       "   8,\n",
       "   7,\n",
       "   4,\n",
       "   2,\n",
       "   17,\n",
       "   0,\n",
       "   1,\n",
       "   10,\n",
       "   12,\n",
       "   16,\n",
       "   19]))"
      ]
     },
     "execution_count": 12,
     "metadata": {},
     "output_type": "execute_result"
    }
   ],
   "source": [
    "\"\"\"\n",
    "graphs[i][0] -> graph\n",
    "graphs[i][1] -> solution\n",
    "\"\"\"\n",
    "graphs[0]"
   ]
  },
  {
   "cell_type": "code",
   "execution_count": null,
   "id": "80e0e6d1-dc0b-47c1-8a92-08c60bbdc2d0",
   "metadata": {},
   "outputs": [],
   "source": []
  }
 ],
 "metadata": {
  "kernelspec": {
   "display_name": "Python 3 (ipykernel)",
   "language": "python",
   "name": "python3"
  },
  "language_info": {
   "codemirror_mode": {
    "name": "ipython",
    "version": 3
   },
   "file_extension": ".py",
   "mimetype": "text/x-python",
   "name": "python",
   "nbconvert_exporter": "python",
   "pygments_lexer": "ipython3",
   "version": "3.10.13"
  }
 },
 "nbformat": 4,
 "nbformat_minor": 5
}
