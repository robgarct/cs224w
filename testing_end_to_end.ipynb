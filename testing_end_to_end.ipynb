{
 "cells": [
  {
   "cell_type": "code",
   "execution_count": 1,
   "id": "b9363953-a169-46e9-9a46-17f8107c21a7",
   "metadata": {},
   "outputs": [],
   "source": [
    "%load_ext autoreload\n",
    "%autoreload 2"
   ]
  },
  {
   "cell_type": "code",
   "execution_count": 2,
   "id": "303cf3de-32fe-4fd8-be08-f09ec6a84612",
   "metadata": {},
   "outputs": [
    {
     "name": "stdout",
     "output_type": "stream",
     "text": [
      "Intel MKL WARNING: Support of Intel(R) Streaming SIMD Extensions 4.2 (Intel(R) SSE4.2) enabled only processors has been deprecated. Intel oneAPI Math Kernel Library 2025.0 will require Intel(R) Advanced Vector Extensions (Intel(R) AVX) instructions.\n",
      "Intel MKL WARNING: Support of Intel(R) Streaming SIMD Extensions 4.2 (Intel(R) SSE4.2) enabled only processors has been deprecated. Intel oneAPI Math Kernel Library 2025.0 will require Intel(R) Advanced Vector Extensions (Intel(R) AVX) instructions.\n"
     ]
    },
    {
     "name": "stderr",
     "output_type": "stream",
     "text": [
      "/opt/homebrew/anaconda3/envs/pyt1-osx-64/lib/python3.10/site-packages/tqdm/auto.py:21: TqdmWarning: IProgress not found. Please update jupyter and ipywidgets. See https://ipywidgets.readthedocs.io/en/stable/user_install.html\n",
      "  from .autonotebook import tqdm as notebook_tqdm\n"
     ]
    }
   ],
   "source": [
    "import torch\n",
    "import pandas as pd\n",
    "from copy import deepcopy\n",
    "from tqdm import tqdm\n",
    "\n",
    "from training_new import get_data_loaders, train\n",
    "from model import Model, DummyModel\n",
    "from inference import greedy_inference_single, beam_inference_single\n",
    "from util import create_graph_no_sol"
   ]
  },
  {
   "cell_type": "code",
   "execution_count": 3,
   "id": "0e5cf00a-b974-4b10-942f-cb63de880a8f",
   "metadata": {},
   "outputs": [],
   "source": [
    "graphs_path = \"./solver/sol_examples/vrp20/sols.pkl\""
   ]
  },
  {
   "cell_type": "code",
   "execution_count": 4,
   "id": "4fd111a5-e74f-48f4-b9f7-85d91a34b061",
   "metadata": {},
   "outputs": [
    {
     "name": "stderr",
     "output_type": "stream",
     "text": [
      "Parsing Graphs: 100%|██████████████████████████████████████████████████████████████████████████████████████████████████████████████████████████████████████████| 20/20 [00:00<00:00, 103.30it/s]\n"
     ]
    }
   ],
   "source": [
    "train_dl, valid_dl, _ = get_data_loaders(graphs_path, batch_size=5, max_instances=20)"
   ]
  },
  {
   "cell_type": "code",
   "execution_count": 5,
   "id": "89517bb1-4851-4ef0-b1c0-6321deea3fc3",
   "metadata": {},
   "outputs": [
    {
     "name": "stderr",
     "output_type": "stream",
     "text": [
      "Parsing Graphs: 100%|██████████████████████████████████████████████████████████████████████████████████████████████████████████████████████████████████████| 2000/2000 [00:18<00:00, 108.75it/s]\n",
      "Batches: 100%|█████████████████████████████████████████████████████████████████████████████████████████████████████████████████████████████████████████████| 2285/2285 [00:07<00:00, 323.11it/s]\n"
     ]
    },
    {
     "name": "stdout",
     "output_type": "stream",
     "text": [
      "Train 0 - loss:1.3582, acc:0.5219\n",
      "Valid 0 - loss:1.2929, acc:0.5627, eval_avg_cost:8.3448\n"
     ]
    },
    {
     "name": "stderr",
     "output_type": "stream",
     "text": [
      "Batches: 100%|█████████████████████████████████████████████████████████████████████████████████████████████████████████████████████████████████████████████| 2285/2285 [00:06<00:00, 342.16it/s]\n"
     ]
    },
    {
     "name": "stdout",
     "output_type": "stream",
     "text": [
      "Train 1 - loss:1.2196, acc:0.5732\n",
      "Valid 1 - loss:1.2747, acc:0.5754, eval_avg_cost:8.3097\n"
     ]
    },
    {
     "name": "stderr",
     "output_type": "stream",
     "text": [
      "Batches: 100%|█████████████████████████████████████████████████████████████████████████████████████████████████████████████████████████████████████████████| 2285/2285 [00:06<00:00, 335.62it/s]\n"
     ]
    },
    {
     "name": "stdout",
     "output_type": "stream",
     "text": [
      "Train 2 - loss:1.1880, acc:0.5895\n",
      "Valid 2 - loss:1.2622, acc:0.5806, eval_avg_cost:8.1522\n"
     ]
    },
    {
     "name": "stderr",
     "output_type": "stream",
     "text": [
      "Batches: 100%|█████████████████████████████████████████████████████████████████████████████████████████████████████████████████████████████████████████████| 2285/2285 [00:06<00:00, 336.72it/s]\n"
     ]
    },
    {
     "name": "stdout",
     "output_type": "stream",
     "text": [
      "Train 3 - loss:1.0987, acc:0.6231\n",
      "Valid 3 - loss:1.0093, acc:0.6676, eval_avg_cost:7.4599\n"
     ]
    },
    {
     "name": "stderr",
     "output_type": "stream",
     "text": [
      "Batches: 100%|█████████████████████████████████████████████████████████████████████████████████████████████████████████████████████████████████████████████| 2285/2285 [00:06<00:00, 331.02it/s]\n"
     ]
    },
    {
     "name": "stdout",
     "output_type": "stream",
     "text": [
      "Train 4 - loss:0.9506, acc:0.6730\n",
      "Valid 4 - loss:0.9835, acc:0.6738, eval_avg_cost:7.5006\n"
     ]
    }
   ],
   "source": [
    "model = Model(4, 20, 2, 0.0)\n",
    "stats_df = train(model, \"./solver/sol_examples/vrp20/sols.pkl\", epochs=5, batch_size=16, learning_rate=3e-3, max_instances=2000, max_inference_graphs=100)"
   ]
  },
  {
   "cell_type": "code",
   "execution_count": 6,
   "id": "78593fb3-c297-4a47-b8b7-bef3e6a3f869",
   "metadata": {},
   "outputs": [],
   "source": [
    "stats_df = stats_df.set_index([\"metric\", \"epoch\"]).unstack(\"metric\")[\"value\"]"
   ]
  },
  {
   "cell_type": "code",
   "execution_count": 7,
   "id": "0c240c31-3541-4efd-9f39-22cb3df1d9de",
   "metadata": {},
   "outputs": [
    {
     "data": {
      "text/plain": [
       "<AxesSubplot:xlabel='epoch'>"
      ]
     },
     "execution_count": 7,
     "metadata": {},
     "output_type": "execute_result"
    },
    {
     "data": {
      "image/png": "[encoded data removed]",
      "text/plain": [
       "<Figure size 640x480 with 1 Axes>"
      ]
     },
     "metadata": {},
     "output_type": "display_data"
    }
   ],
   "source": [
    "stats_df[[\"valid_eval_cost\"]].plot()"
   ]
  },
  {
   "cell_type": "code",
   "execution_count": 8,
   "id": "c490892d-a9e4-4d6f-a9a3-10925deacaa3",
   "metadata": {},
   "outputs": [
    {
     "data": {
      "text/plain": [
       "<AxesSubplot:xlabel='epoch'>"
      ]
     },
     "execution_count": 8,
     "metadata": {},
     "output_type": "execute_result"
    },
    {
     "data": {
      "image/png": "[encoded data removed]",
      "text/plain": [
       "<Figure size 640x480 with 1 Axes>"
      ]
     },
     "metadata": {},
     "output_type": "display_data"
    }
   ],
   "source": [
    "stats_df[[\"train_acc\", \"valid_acc\"]].plot()"
   ]
  },
  {
   "cell_type": "code",
   "execution_count": 9,
   "id": "d0d9c632-48ab-44c9-8cd9-140caab67b80",
   "metadata": {},
   "outputs": [
    {
     "data": {
      "text/plain": [
       "<AxesSubplot:xlabel='epoch'>"
      ]
     },
     "execution_count": 9,
     "metadata": {},
     "output_type": "execute_result"
    },
    {
     "data": {
      "image/png": "[encoded data removed]",
      "text/plain": [
       "<Figure size 640x480 with 1 Axes>"
      ]
     },
     "metadata": {},
     "output_type": "display_data"
    }
   ],
   "source": [
    "stats_df[[\"train_loss\", \"valid_loss\"]].plot()"
   ]
  },
  {
   "cell_type": "code",
   "execution_count": null,
   "id": "deb9069b-bcf1-4324-9ea6-620c8fd244c1",
   "metadata": {},
   "outputs": [],
   "source": []
  },
  {
   "cell_type": "code",
   "execution_count": 19,
   "id": "9e0b39b7-7f98-47c5-a542-073bfb4120b2",
   "metadata": {},
   "outputs": [],
   "source": [
    "graphs = pd.read_pickle(graphs_path)"
   ]
  },
  {
   "cell_type": "code",
   "execution_count": 21,
   "id": "b8575b01-932a-4465-9ec0-091c651b7ce2",
   "metadata": {},
   "outputs": [],
   "source": [
    "graph_collections = [create_graph_no_sol(g) for g, _ in graphs]"
   ]
  },
  {
   "cell_type": "code",
   "execution_count": 22,
   "id": "93a6c83f-1076-4ed2-9c5c-4769b3a4aae9",
   "metadata": {},
   "outputs": [],
   "source": [
    "import torch\n",
    "import pandas as pd\n",
    "from copy import deepcopy\n",
    "from tqdm import tqdm\n",
    "\n",
    "from training_new import get_data_loaders, train\n",
    "from model import Model, DummyModel\n",
    "from inference import greedy_inference_single, beam_inference_single\n",
    "from util import create_graph_no_sol"
   ]
  },
  {
   "cell_type": "code",
   "execution_count": 23,
   "id": "f001d3c5-0d3c-4ba2-81aa-401c4d49348e",
   "metadata": {},
   "outputs": [
    {
     "name": "stderr",
     "output_type": "stream",
     "text": [
      "  0%|                                                                                                                                                 | 0/1 [00:00<?, ?it/s]/Users/roberto/Desktop/stanford/cs224w/project/cs224w/graph.py:151: UserWarning: The use of `x.T` on tensors of dimension other than 2 to reverse their shape is deprecated and it will throw an error in a future release. Consider `x.mT` to transpose batches of matrices or `x.permute(*torch.arange(x.ndim - 1, -1, -1))` to reverse the dimensions of a tensor. (Triggered internally at /Users/runner/work/_temp/anaconda/conda-bld/pytorch_1666646991213/work/aten/src/ATen/native/TensorShape.cpp:3281.)\n",
      "  edge_list = torch.LongTensor(edge_list).T\n",
      "  0%|                                                                                                                                                 | 0/1 [00:00<?, ?it/s]\n"
     ]
    },
    {
     "ename": "IndexError",
     "evalue": "index 0 is out of bounds for dimension 0 with size 0",
     "output_type": "error",
     "traceback": [
      "\u001b[0;31m---------------------------------------------------------------------------\u001b[0m",
      "\u001b[0;31mIndexError\u001b[0m                                Traceback (most recent call last)",
      "Cell \u001b[0;32mIn[23], line 6\u001b[0m\n\u001b[1;32m      4\u001b[0m g \u001b[38;5;241m=\u001b[39m deepcopy(g)\n\u001b[1;32m      5\u001b[0m \u001b[38;5;66;03m# g.update_node(orig_g[1][1][0]) # unf we have to do this for now\u001b[39;00m\n\u001b[0;32m----> 6\u001b[0m res_g \u001b[38;5;241m=\u001b[39m \u001b[43mbeam_inference_single\u001b[49m\u001b[43m(\u001b[49m\u001b[43mmodel\u001b[49m\u001b[43m,\u001b[49m\u001b[43m \u001b[49m\u001b[43mg\u001b[49m\u001b[43m)\u001b[49m\n\u001b[1;32m      7\u001b[0m solved_graphs\u001b[38;5;241m.\u001b[39mappend(res_g)\n",
      "File \u001b[0;32m~/Desktop/stanford/cs224w/project/cs224w/inference.py:71\u001b[0m, in \u001b[0;36mbeam_inference_single\u001b[0;34m(model, graph, beam_width)\u001b[0m\n\u001b[1;32m     68\u001b[0m \u001b[38;5;250m\u001b[39m\u001b[38;5;124;03m\"\"\"Runs inference on a single graph using beam search\u001b[39;00m\n\u001b[1;32m     69\u001b[0m \u001b[38;5;124;03m\"\"\"\u001b[39;00m\n\u001b[1;32m     70\u001b[0m graph \u001b[38;5;241m=\u001b[39m deepcopy(graph)\n\u001b[0;32m---> 71\u001b[0m top_graphs \u001b[38;5;241m=\u001b[39m \u001b[43m_beam_search_recursive\u001b[49m\u001b[43m(\u001b[49m\u001b[43mmodel\u001b[49m\u001b[43m,\u001b[49m\u001b[43m \u001b[49m\u001b[43m[\u001b[49m\u001b[43mgraph\u001b[49m\u001b[43m]\u001b[49m\u001b[43m,\u001b[49m\u001b[43m \u001b[49m\u001b[43m[\u001b[49m\u001b[38;5;241;43m0.0\u001b[39;49m\u001b[43m]\u001b[49m\u001b[43m,\u001b[49m\u001b[43m \u001b[49m\u001b[43mbeam_width\u001b[49m\u001b[43m)\u001b[49m\n\u001b[1;32m     72\u001b[0m best_graph \u001b[38;5;241m=\u001b[39m \u001b[38;5;28;01mNone\u001b[39;00m\n\u001b[1;32m     73\u001b[0m min_cost \u001b[38;5;241m=\u001b[39m \u001b[38;5;241m1e9\u001b[39m\n",
      "File \u001b[0;32m~/Desktop/stanford/cs224w/project/cs224w/inference.py:38\u001b[0m, in \u001b[0;36m_beam_search_recursive\u001b[0;34m(model, graphs, log_probs, beam_width)\u001b[0m\n\u001b[1;32m     36\u001b[0m curr_graph \u001b[38;5;241m=\u001b[39m graph\u001b[38;5;241m.\u001b[39mget_current_unsolved_graph()\u001b[38;5;241m.\u001b[39mexport_pyg()\n\u001b[1;32m     37\u001b[0m curr_batch \u001b[38;5;241m=\u001b[39m Batch\u001b[38;5;241m.\u001b[39mfrom_data_list([curr_graph])\n\u001b[0;32m---> 38\u001b[0m next_probs \u001b[38;5;241m=\u001b[39m \u001b[43mmodel\u001b[49m\u001b[38;5;241;43m.\u001b[39;49m\u001b[43mprobs\u001b[49m\u001b[43m(\u001b[49m\u001b[43mcurr_batch\u001b[49m\u001b[43m)\u001b[49m\u001b[38;5;241m.\u001b[39msqueeze()\n\u001b[1;32m     39\u001b[0m next_probs, next_nodes \u001b[38;5;241m=\u001b[39m torch\u001b[38;5;241m.\u001b[39mtopk(next_probs, beam_width)\n\u001b[1;32m     40\u001b[0m curr_log_probs \u001b[38;5;241m+\u001b[39m\u001b[38;5;241m=\u001b[39m next_probs\u001b[38;5;241m.\u001b[39mlog()\n",
      "File \u001b[0;32m~/Desktop/stanford/cs224w/project/cs224w/model.py:146\u001b[0m, in \u001b[0;36mModel.probs\u001b[0;34m(self, batched_graphs)\u001b[0m\n\u001b[1;32m    145\u001b[0m \u001b[38;5;28;01mdef\u001b[39;00m \u001b[38;5;21mprobs\u001b[39m(\u001b[38;5;28mself\u001b[39m, batched_graphs : Batch):\n\u001b[0;32m--> 146\u001b[0m     \u001b[38;5;28;01mreturn\u001b[39;00m  F\u001b[38;5;241m.\u001b[39msoftmax(\u001b[38;5;28;43mself\u001b[39;49m\u001b[38;5;241;43m.\u001b[39;49m\u001b[43mforward\u001b[49m\u001b[43m(\u001b[49m\u001b[43mbatched_graphs\u001b[49m\u001b[43m)\u001b[49m, dim\u001b[38;5;241m=\u001b[39m\u001b[38;5;241m-\u001b[39m\u001b[38;5;241m1\u001b[39m)\n",
      "File \u001b[0;32m~/Desktop/stanford/cs224w/project/cs224w/model.py:102\u001b[0m, in \u001b[0;36mModel.forward\u001b[0;34m(self, batched_graphs)\u001b[0m\n\u001b[1;32m     98\u001b[0m pre_x \u001b[38;5;241m=\u001b[39m x \u001b[38;5;241m=\u001b[39m \u001b[38;5;28mself\u001b[39m\u001b[38;5;241m.\u001b[39mlin_pre(x)\n\u001b[1;32m    100\u001b[0m \u001b[38;5;28;01mfor\u001b[39;00m i \u001b[38;5;129;01min\u001b[39;00m \u001b[38;5;28mrange\u001b[39m(\u001b[38;5;28mself\u001b[39m\u001b[38;5;241m.\u001b[39mnum_layers\u001b[38;5;241m-\u001b[39m\u001b[38;5;241m1\u001b[39m):\n\u001b[1;32m    101\u001b[0m   \u001b[38;5;66;03m# TODO apply skip connections?\u001b[39;00m\n\u001b[0;32m--> 102\u001b[0m   x \u001b[38;5;241m=\u001b[39m \u001b[38;5;28;43mself\u001b[39;49m\u001b[38;5;241;43m.\u001b[39;49m\u001b[43mconvs\u001b[49m\u001b[43m[\u001b[49m\u001b[43mi\u001b[49m\u001b[43m]\u001b[49m\u001b[43m(\u001b[49m\u001b[43mx\u001b[49m\u001b[38;5;241;43m=\u001b[39;49m\u001b[43mx\u001b[49m\u001b[43m,\u001b[49m\u001b[43m \u001b[49m\u001b[43medge_index\u001b[49m\u001b[38;5;241;43m=\u001b[39;49m\u001b[43medge_index\u001b[49m\u001b[43m)\u001b[49m\n\u001b[1;32m    103\u001b[0m   x \u001b[38;5;241m=\u001b[39m \u001b[38;5;28mself\u001b[39m\u001b[38;5;241m.\u001b[39mbns[i](x)\n\u001b[1;32m    104\u001b[0m   x \u001b[38;5;241m=\u001b[39m F\u001b[38;5;241m.\u001b[39mrelu(x)\n",
      "File \u001b[0;32m/opt/homebrew/anaconda3/envs/pyt1-osx-64/lib/python3.10/site-packages/torch/nn/modules/module.py:1190\u001b[0m, in \u001b[0;36mModule._call_impl\u001b[0;34m(self, *input, **kwargs)\u001b[0m\n\u001b[1;32m   1186\u001b[0m \u001b[38;5;66;03m# If we don't have any hooks, we want to skip the rest of the logic in\u001b[39;00m\n\u001b[1;32m   1187\u001b[0m \u001b[38;5;66;03m# this function, and just call forward.\u001b[39;00m\n\u001b[1;32m   1188\u001b[0m \u001b[38;5;28;01mif\u001b[39;00m \u001b[38;5;129;01mnot\u001b[39;00m (\u001b[38;5;28mself\u001b[39m\u001b[38;5;241m.\u001b[39m_backward_hooks \u001b[38;5;129;01mor\u001b[39;00m \u001b[38;5;28mself\u001b[39m\u001b[38;5;241m.\u001b[39m_forward_hooks \u001b[38;5;129;01mor\u001b[39;00m \u001b[38;5;28mself\u001b[39m\u001b[38;5;241m.\u001b[39m_forward_pre_hooks \u001b[38;5;129;01mor\u001b[39;00m _global_backward_hooks\n\u001b[1;32m   1189\u001b[0m         \u001b[38;5;129;01mor\u001b[39;00m _global_forward_hooks \u001b[38;5;129;01mor\u001b[39;00m _global_forward_pre_hooks):\n\u001b[0;32m-> 1190\u001b[0m     \u001b[38;5;28;01mreturn\u001b[39;00m \u001b[43mforward_call\u001b[49m\u001b[43m(\u001b[49m\u001b[38;5;241;43m*\u001b[39;49m\u001b[38;5;28;43minput\u001b[39;49m\u001b[43m,\u001b[49m\u001b[43m \u001b[49m\u001b[38;5;241;43m*\u001b[39;49m\u001b[38;5;241;43m*\u001b[39;49m\u001b[43mkwargs\u001b[49m\u001b[43m)\u001b[49m\n\u001b[1;32m   1191\u001b[0m \u001b[38;5;66;03m# Do not call functions when jit is used\u001b[39;00m\n\u001b[1;32m   1192\u001b[0m full_backward_hooks, non_full_backward_hooks \u001b[38;5;241m=\u001b[39m [], []\n",
      "File \u001b[0;32m/opt/homebrew/anaconda3/envs/pyt1-osx-64/lib/python3.10/site-packages/torch_geometric/nn/conv/gcn_conv.py:210\u001b[0m, in \u001b[0;36mGCNConv.forward\u001b[0;34m(self, x, edge_index, edge_weight)\u001b[0m\n\u001b[1;32m    208\u001b[0m cache \u001b[38;5;241m=\u001b[39m \u001b[38;5;28mself\u001b[39m\u001b[38;5;241m.\u001b[39m_cached_edge_index\n\u001b[1;32m    209\u001b[0m \u001b[38;5;28;01mif\u001b[39;00m cache \u001b[38;5;129;01mis\u001b[39;00m \u001b[38;5;28;01mNone\u001b[39;00m:\n\u001b[0;32m--> 210\u001b[0m     edge_index, edge_weight \u001b[38;5;241m=\u001b[39m \u001b[43mgcn_norm\u001b[49m\u001b[43m(\u001b[49m\u001b[43m  \u001b[49m\u001b[38;5;66;43;03m# yapf: disable\u001b[39;49;00m\n\u001b[1;32m    211\u001b[0m \u001b[43m        \u001b[49m\u001b[43medge_index\u001b[49m\u001b[43m,\u001b[49m\u001b[43m \u001b[49m\u001b[43medge_weight\u001b[49m\u001b[43m,\u001b[49m\u001b[43m \u001b[49m\u001b[43mx\u001b[49m\u001b[38;5;241;43m.\u001b[39;49m\u001b[43msize\u001b[49m\u001b[43m(\u001b[49m\u001b[38;5;28;43mself\u001b[39;49m\u001b[38;5;241;43m.\u001b[39;49m\u001b[43mnode_dim\u001b[49m\u001b[43m)\u001b[49m\u001b[43m,\u001b[49m\n\u001b[1;32m    212\u001b[0m \u001b[43m        \u001b[49m\u001b[38;5;28;43mself\u001b[39;49m\u001b[38;5;241;43m.\u001b[39;49m\u001b[43mimproved\u001b[49m\u001b[43m,\u001b[49m\u001b[43m \u001b[49m\u001b[38;5;28;43mself\u001b[39;49m\u001b[38;5;241;43m.\u001b[39;49m\u001b[43madd_self_loops\u001b[49m\u001b[43m,\u001b[49m\u001b[43m \u001b[49m\u001b[38;5;28;43mself\u001b[39;49m\u001b[38;5;241;43m.\u001b[39;49m\u001b[43mflow\u001b[49m\u001b[43m,\u001b[49m\u001b[43m \u001b[49m\u001b[43mx\u001b[49m\u001b[38;5;241;43m.\u001b[39;49m\u001b[43mdtype\u001b[49m\u001b[43m)\u001b[49m\n\u001b[1;32m    213\u001b[0m     \u001b[38;5;28;01mif\u001b[39;00m \u001b[38;5;28mself\u001b[39m\u001b[38;5;241m.\u001b[39mcached:\n\u001b[1;32m    214\u001b[0m         \u001b[38;5;28mself\u001b[39m\u001b[38;5;241m.\u001b[39m_cached_edge_index \u001b[38;5;241m=\u001b[39m (edge_index, edge_weight)\n",
      "File \u001b[0;32m/opt/homebrew/anaconda3/envs/pyt1-osx-64/lib/python3.10/site-packages/torch_geometric/nn/conv/gcn_conv.py:91\u001b[0m, in \u001b[0;36mgcn_norm\u001b[0;34m(edge_index, edge_weight, num_nodes, improved, add_self_loops, flow, dtype)\u001b[0m\n\u001b[1;32m     88\u001b[0m num_nodes \u001b[38;5;241m=\u001b[39m maybe_num_nodes(edge_index, num_nodes)\n\u001b[1;32m     90\u001b[0m \u001b[38;5;28;01mif\u001b[39;00m add_self_loops:\n\u001b[0;32m---> 91\u001b[0m     edge_index, edge_weight \u001b[38;5;241m=\u001b[39m \u001b[43madd_remaining_self_loops\u001b[49m\u001b[43m(\u001b[49m\n\u001b[1;32m     92\u001b[0m \u001b[43m        \u001b[49m\u001b[43medge_index\u001b[49m\u001b[43m,\u001b[49m\u001b[43m \u001b[49m\u001b[43medge_weight\u001b[49m\u001b[43m,\u001b[49m\u001b[43m \u001b[49m\u001b[43mfill_value\u001b[49m\u001b[43m,\u001b[49m\u001b[43m \u001b[49m\u001b[43mnum_nodes\u001b[49m\u001b[43m)\u001b[49m\n\u001b[1;32m     94\u001b[0m \u001b[38;5;28;01mif\u001b[39;00m edge_weight \u001b[38;5;129;01mis\u001b[39;00m \u001b[38;5;28;01mNone\u001b[39;00m:\n\u001b[1;32m     95\u001b[0m     edge_weight \u001b[38;5;241m=\u001b[39m torch\u001b[38;5;241m.\u001b[39mones((edge_index\u001b[38;5;241m.\u001b[39msize(\u001b[38;5;241m1\u001b[39m), ), dtype\u001b[38;5;241m=\u001b[39mdtype,\n\u001b[1;32m     96\u001b[0m                              device\u001b[38;5;241m=\u001b[39medge_index\u001b[38;5;241m.\u001b[39mdevice)\n",
      "File \u001b[0;32m/opt/homebrew/anaconda3/envs/pyt1-osx-64/lib/python3.10/site-packages/torch_geometric/utils/loop.py:340\u001b[0m, in \u001b[0;36madd_remaining_self_loops\u001b[0;34m(edge_index, edge_attr, fill_value, num_nodes)\u001b[0m\n\u001b[1;32m    306\u001b[0m \u001b[38;5;250m\u001b[39m\u001b[38;5;124mr\u001b[39m\u001b[38;5;124;03m\"\"\"Adds remaining self-loop :math:`(i,i) \\in \\mathcal{E}` to every node\u001b[39;00m\n\u001b[1;32m    307\u001b[0m \u001b[38;5;124;03m:math:`i \\in \\mathcal{V}` in the graph given by :attr:`edge_index`.\u001b[39;00m\n\u001b[1;32m    308\u001b[0m \u001b[38;5;124;03mIn case the graph is weighted or has multi-dimensional edge features\u001b[39;00m\n\u001b[0;32m   (...)\u001b[0m\n\u001b[1;32m    337\u001b[0m \u001b[38;5;124;03m    tensor([0.5000, 0.5000, 1.0000, 1.0000]))\u001b[39;00m\n\u001b[1;32m    338\u001b[0m \u001b[38;5;124;03m\"\"\"\u001b[39;00m\n\u001b[1;32m    339\u001b[0m N \u001b[38;5;241m=\u001b[39m maybe_num_nodes(edge_index, num_nodes)\n\u001b[0;32m--> 340\u001b[0m mask \u001b[38;5;241m=\u001b[39m \u001b[43medge_index\u001b[49m\u001b[43m[\u001b[49m\u001b[38;5;241;43m0\u001b[39;49m\u001b[43m]\u001b[49m \u001b[38;5;241m!=\u001b[39m edge_index[\u001b[38;5;241m1\u001b[39m]\n\u001b[1;32m    342\u001b[0m loop_index \u001b[38;5;241m=\u001b[39m torch\u001b[38;5;241m.\u001b[39marange(\u001b[38;5;241m0\u001b[39m, N, dtype\u001b[38;5;241m=\u001b[39mtorch\u001b[38;5;241m.\u001b[39mlong, device\u001b[38;5;241m=\u001b[39medge_index\u001b[38;5;241m.\u001b[39mdevice)\n\u001b[1;32m    343\u001b[0m loop_index \u001b[38;5;241m=\u001b[39m loop_index\u001b[38;5;241m.\u001b[39munsqueeze(\u001b[38;5;241m0\u001b[39m)\u001b[38;5;241m.\u001b[39mrepeat(\u001b[38;5;241m2\u001b[39m, \u001b[38;5;241m1\u001b[39m)\n",
      "\u001b[0;31mIndexError\u001b[0m: index 0 is out of bounds for dimension 0 with size 0"
     ]
    }
   ],
   "source": [
    "solved_graphs = []\n",
    "for g, orig_g in tqdm(list(zip(graph_collections, graphs))[0:1]):\n",
    "    g = deepcopy(graph_collections[0])\n",
    "    g = deepcopy(g)\n",
    "    # g.update_node(orig_g[1][1][0]) # unf we have to do this for now\n",
    "    res_g = beam_inference_single(model, g)\n",
    "    solved_graphs.append(res_g)"
   ]
  },
  {
   "cell_type": "code",
   "execution_count": null,
   "id": "3bccea38-0278-49e3-ae82-86cf9f2ed649",
   "metadata": {},
   "outputs": [],
   "source": []
  },
  {
   "cell_type": "code",
   "execution_count": null,
   "id": "5aea0818-b273-49da-862f-4c1ef499b778",
   "metadata": {},
   "outputs": [],
   "source": []
  },
  {
   "cell_type": "code",
   "execution_count": null,
   "id": "43bf1c12-b014-415d-b2a7-bc0aeb3d430b",
   "metadata": {},
   "outputs": [],
   "source": []
  },
  {
   "cell_type": "code",
   "execution_count": 10,
   "id": "067a6eb7-3b72-4256-9bd4-116699abda60",
   "metadata": {},
   "outputs": [],
   "source": [
    "graphs = pd.read_pickle(graphs_path)"
   ]
  },
  {
   "cell_type": "code",
   "execution_count": 11,
   "id": "1883447d-32d5-4aa0-9b1e-281af2683e81",
   "metadata": {},
   "outputs": [],
   "source": [
    "graph_collections = [create_graph_no_sol(g) for g, _ in graphs]"
   ]
  },
  {
   "cell_type": "code",
   "execution_count": 12,
   "id": "1ded7f8a-46b7-4e8e-a19d-f4a6de79564a",
   "metadata": {},
   "outputs": [],
   "source": [
    "import torch\n",
    "import pandas as pd\n",
    "from copy import deepcopy\n",
    "from tqdm import tqdm\n",
    "\n",
    "from training_new import get_data_loaders, train\n",
    "from model import Model, DummyModel\n",
    "from inference import greedy_inference_single, beam_inference_single\n",
    "from util import create_graph_no_sol"
   ]
  },
  {
   "cell_type": "code",
   "execution_count": 13,
   "id": "3464c912-184a-429a-a891-4efd41606e83",
   "metadata": {},
   "outputs": [
    {
     "name": "stderr",
     "output_type": "stream",
     "text": [
      "  0%|                                                                                                                                                                     | 0/1 [00:00<?, ?it/s]"
     ]
    },
    {
     "name": "stdout",
     "output_type": "stream",
     "text": [
      "finished 0\n",
      "10\n",
      "finished 0\n",
      "10\n",
      "finished 0\n",
      "10\n",
      "finished 0\n",
      "10\n",
      "finished 0\n",
      "10\n",
      "finished 0\n",
      "10\n",
      "finished 0\n",
      "10\n",
      "finished 0\n",
      "10\n",
      "finished 0\n",
      "10\n",
      "finished 0\n",
      "10\n",
      "finished 0\n",
      "10\n",
      "finished 0\n",
      "10\n",
      "finished 0\n",
      "10\n",
      "finished 0\n",
      "10\n",
      "finished 0\n",
      "10\n",
      "finished 0\n",
      "10\n",
      "finished 0\n",
      "10\n",
      "finished 0\n",
      "10\n",
      "finished 0\n",
      "10\n",
      "finished 0\n",
      "10\n"
     ]
    },
    {
     "name": "stderr",
     "output_type": "stream",
     "text": [
      "100%|█████████████████████████████████████████████████████████████████████████████████████████████████████████████████████████████████████████████████████████████| 1/1 [00:03<00:00,  3.94s/it]"
     ]
    },
    {
     "name": "stdout",
     "output_type": "stream",
     "text": [
      "finished 0\n",
      "10\n",
      "finished 9\n",
      "10\n",
      "finished 1\n",
      "1\n"
     ]
    },
    {
     "name": "stderr",
     "output_type": "stream",
     "text": [
      "\n"
     ]
    }
   ],
   "source": [
    "solved_graphs = []\n",
    "for g, orig_g in tqdm(list(zip(graph_collections, graphs))[0:1]):\n",
    "    g = deepcopy(graph_collections[0])\n",
    "    g = deepcopy(g)\n",
    "    g.update_node(orig_g[1][1][0]) # unf we have to do this for now\n",
    "    res_g = beam_inference_single(model, g)\n",
    "    solved_graphs.append(res_g)"
   ]
  },
  {
   "cell_type": "code",
   "execution_count": 14,
   "id": "05c6c600-8d0b-4655-a41b-83c351d9e47e",
   "metadata": {},
   "outputs": [
    {
     "data": {
      "text/plain": [
       "6.273439062014093"
      ]
     },
     "execution_count": 14,
     "metadata": {},
     "output_type": "execute_result"
    }
   ],
   "source": [
    "solved_graphs[0].get_full_solution_cost()"
   ]
  },
  {
   "cell_type": "code",
   "execution_count": 15,
   "id": "50a7b554-bc0d-446d-ba92-886db4712252",
   "metadata": {},
   "outputs": [],
   "source": [
    "example_g = solved_graphs[0].get_all_graphs()[-1]"
   ]
  },
  {
   "cell_type": "code",
   "execution_count": 16,
   "id": "93639df2-c5da-45ea-a97a-dfb13ef4f1c5",
   "metadata": {},
   "outputs": [
    {
     "name": "stdout",
     "output_type": "stream",
     "text": [
      "saved\n"
     ]
    },
    {
     "data": {
      "image/png": "[encoded data removed]",
      "text/plain": [
       "<Figure size 640x480 with 1 Axes>"
      ]
     },
     "metadata": {},
     "output_type": "display_data"
    }
   ],
   "source": [
    "example_g.draw_graph()"
   ]
  },
  {
   "cell_type": "code",
   "execution_count": 17,
   "id": "34f876d0-65ba-403b-83bf-280cea219379",
   "metadata": {},
   "outputs": [
    {
     "ename": "NameError",
     "evalue": "name 'np' is not defined",
     "output_type": "error",
     "traceback": [
      "\u001b[0;31m---------------------------------------------------------------------------\u001b[0m",
      "\u001b[0;31mNameError\u001b[0m                                 Traceback (most recent call last)",
      "Cell \u001b[0;32mIn[17], line 1\u001b[0m\n\u001b[0;32m----> 1\u001b[0m \u001b[43mnp\u001b[49m\u001b[38;5;241m.\u001b[39mmean([sg\u001b[38;5;241m.\u001b[39mget_full_solution_cost() \u001b[38;5;28;01mfor\u001b[39;00m sg \u001b[38;5;129;01min\u001b[39;00m solved_graphs])\n",
      "\u001b[0;31mNameError\u001b[0m: name 'np' is not defined"
     ]
    }
   ],
   "source": [
    "np.mean([sg.get_full_solution_cost() for sg in solved_graphs])"
   ]
  },
  {
   "cell_type": "code",
   "execution_count": null,
   "id": "b68e6916-7b87-4b74-bb0f-386d26f9c68c",
   "metadata": {},
   "outputs": [],
   "source": []
  },
  {
   "cell_type": "code",
   "execution_count": null,
   "id": "5480b920-5f2c-4514-9dd8-560616816a9a",
   "metadata": {},
   "outputs": [],
   "source": []
  },
  {
   "cell_type": "code",
   "execution_count": null,
   "id": "37816fc5-f1ab-4288-808c-5f6a0db6afc8",
   "metadata": {},
   "outputs": [],
   "source": []
  },
  {
   "cell_type": "markdown",
   "id": "c1bb083f-3de2-4f9a-adb2-413e2cf8f568",
   "metadata": {},
   "source": [
    "## Solving graphs"
   ]
  },
  {
   "cell_type": "code",
   "execution_count": 3,
   "id": "e1ba43f6-33b8-425f-9d1f-a660e80b40f3",
   "metadata": {},
   "outputs": [],
   "source": [
    "import torch\n",
    "import pandas as pd\n",
    "from copy import deepcopy\n",
    "from tqdm import tqdm\n",
    "\n",
    "from training_new import get_data_loaders, train\n",
    "from model import Model, DummyModel\n",
    "from inference import greedy_inference_single\n",
    "from util import create_graph_no_sol"
   ]
  },
  {
   "cell_type": "code",
   "execution_count": 4,
   "id": "99f5efa0-59bd-4db8-a41c-57a737de882c",
   "metadata": {},
   "outputs": [],
   "source": [
    "graphs_path = \"./solver/sol_examples/vrp20/sols.pkl\""
   ]
  },
  {
   "cell_type": "code",
   "execution_count": 5,
   "id": "544ba3c4-85f9-424c-8455-b5e0cf5c6afa",
   "metadata": {},
   "outputs": [
    {
     "name": "stderr",
     "output_type": "stream",
     "text": [
      "Parsing Graphs: 100%|██████████████████████████████████████████████████████████████████████████████████████████████████████████████████████| 20/20 [00:00<00:00, 105.26it/s]\n"
     ]
    }
   ],
   "source": [
    "train_dl, valid_dl = get_data_loaders(graphs_path, batch_size=5, max_instances=20)"
   ]
  },
  {
   "cell_type": "code",
   "execution_count": 12,
   "id": "ae0c4148-1043-4201-9568-1845e9798ac5",
   "metadata": {},
   "outputs": [
    {
     "name": "stdout",
     "output_type": "stream",
     "text": [
      "0.003\n"
     ]
    },
    {
     "name": "stderr",
     "output_type": "stream",
     "text": [
      "Parsing Graphs: 100%|██████████████████████████████████████████████████████████████████████████████████████████████████████████████████| 2000/2000 [00:18<00:00, 109.75it/s]\n",
      "Batches: 100%|█████████████████████████████████████████████████████████████████████████████████████████████████████████████████████████| 2185/2185 [00:07<00:00, 294.25it/s]\n"
     ]
    },
    {
     "name": "stdout",
     "output_type": "stream",
     "text": [
      "Train 0 - loss:1.1918, acc:0.5872\n",
      "Valid 0 - loss:1.0585, acc:0.6409\n"
     ]
    },
    {
     "name": "stderr",
     "output_type": "stream",
     "text": [
      "Batches: 100%|█████████████████████████████████████████████████████████████████████████████████████████████████████████████████████████| 2185/2185 [00:07<00:00, 284.91it/s]\n"
     ]
    },
    {
     "name": "stdout",
     "output_type": "stream",
     "text": [
      "Train 1 - loss:1.0033, acc:0.6596\n",
      "Valid 1 - loss:1.0385, acc:0.6562\n"
     ]
    },
    {
     "name": "stderr",
     "output_type": "stream",
     "text": [
      "Batches: 100%|█████████████████████████████████████████████████████████████████████████████████████████████████████████████████████████| 2185/2185 [00:07<00:00, 305.36it/s]\n"
     ]
    },
    {
     "name": "stdout",
     "output_type": "stream",
     "text": [
      "Train 2 - loss:0.9835, acc:0.6676\n",
      "Valid 2 - loss:1.0111, acc:0.6747\n"
     ]
    },
    {
     "name": "stderr",
     "output_type": "stream",
     "text": [
      "Batches: 100%|█████████████████████████████████████████████████████████████████████████████████████████████████████████████████████████| 2185/2185 [00:06<00:00, 315.54it/s]\n"
     ]
    },
    {
     "name": "stdout",
     "output_type": "stream",
     "text": [
      "Train 3 - loss:0.9719, acc:0.6673\n",
      "Valid 3 - loss:0.9853, acc:0.6801\n"
     ]
    },
    {
     "name": "stderr",
     "output_type": "stream",
     "text": [
      "Batches: 100%|█████████████████████████████████████████████████████████████████████████████████████████████████████████████████████████| 2185/2185 [00:06<00:00, 316.94it/s]\n"
     ]
    },
    {
     "name": "stdout",
     "output_type": "stream",
     "text": [
      "Train 4 - loss:0.9607, acc:0.6708\n",
      "Valid 4 - loss:1.0037, acc:0.6746\n"
     ]
    }
   ],
   "source": [
    "model = Model(4, 20, 2, 0.0)\n",
    "train(model, \"./solver/sol_examples/vrp20/sols.pkl\", epochs=5, batch_size=16, learning_rate=3e-3, max_instances=2000)"
   ]
  },
  {
   "cell_type": "code",
   "execution_count": 11,
   "id": "9cfee2ae-9727-44dc-8f49-e59cee5c92c5",
   "metadata": {},
   "outputs": [],
   "source": [
    "graphs = pd.read_pickle(graphs_path)"
   ]
  },
  {
   "cell_type": "code",
   "execution_count": 12,
   "id": "34d1ff62-3a06-4023-be33-3bfb2335d73e",
   "metadata": {},
   "outputs": [],
   "source": [
    "graph_collections = [create_graph_no_sol(g) for g, _ in graphs]"
   ]
  },
  {
   "cell_type": "code",
   "execution_count": 16,
   "id": "314dd0ca-981c-4100-896b-795284352004",
   "metadata": {},
   "outputs": [
    {
     "name": "stderr",
     "output_type": "stream",
     "text": [
      "[autoreload of inference failed: Traceback (most recent call last):\n",
      "  File \"/opt/homebrew/anaconda3/envs/pyt1-osx-64/lib/python3.10/site-packages/IPython/extensions/autoreload.py\", line 276, in check\n",
      "    superreload(m, reload, self.old_objects)\n",
      "  File \"/opt/homebrew/anaconda3/envs/pyt1-osx-64/lib/python3.10/site-packages/IPython/extensions/autoreload.py\", line 475, in superreload\n",
      "    module = reload(module)\n",
      "  File \"/opt/homebrew/anaconda3/envs/pyt1-osx-64/lib/python3.10/importlib/__init__.py\", line 169, in reload\n",
      "    _bootstrap._exec(spec, module)\n",
      "  File \"<frozen importlib._bootstrap>\", line 619, in _exec\n",
      "  File \"<frozen importlib._bootstrap_external>\", line 879, in exec_module\n",
      "  File \"<frozen importlib._bootstrap_external>\", line 1017, in get_code\n",
      "  File \"<frozen importlib._bootstrap_external>\", line 947, in source_to_code\n",
      "  File \"<frozen importlib._bootstrap>\", line 241, in _call_with_frames_removed\n",
      "  File \"/Users/roberto/Desktop/stanford/cs224w/project/cs224w/inference.py\", line 54\n",
      "    def run_inference(graphs: List[(GraphCollection, List[int])])\n",
      "                                                                 ^\n",
      "SyntaxError: expected ':'\n",
      "]\n",
      "[autoreload of training_new failed: Traceback (most recent call last):\n",
      "  File \"/opt/homebrew/anaconda3/envs/pyt1-osx-64/lib/python3.10/site-packages/IPython/extensions/autoreload.py\", line 276, in check\n",
      "    superreload(m, reload, self.old_objects)\n",
      "  File \"/opt/homebrew/anaconda3/envs/pyt1-osx-64/lib/python3.10/site-packages/IPython/extensions/autoreload.py\", line 475, in superreload\n",
      "    module = reload(module)\n",
      "  File \"/opt/homebrew/anaconda3/envs/pyt1-osx-64/lib/python3.10/importlib/__init__.py\", line 169, in reload\n",
      "    _bootstrap._exec(spec, module)\n",
      "  File \"<frozen importlib._bootstrap>\", line 619, in _exec\n",
      "  File \"<frozen importlib._bootstrap_external>\", line 883, in exec_module\n",
      "  File \"<frozen importlib._bootstrap>\", line 241, in _call_with_frames_removed\n",
      "  File \"/Users/roberto/Desktop/stanford/cs224w/project/cs224w/training_new.py\", line 26, in <module>\n",
      "    ) -> (List[GraphCollection], List[(GraphCollection, List[int])]):\n",
      "  File \"/opt/homebrew/anaconda3/envs/pyt1-osx-64/lib/python3.10/typing.py\", line 312, in inner\n",
      "    return func(*args, **kwds)\n",
      "  File \"/opt/homebrew/anaconda3/envs/pyt1-osx-64/lib/python3.10/typing.py\", line 1144, in __getitem__\n",
      "    _check_generic(self, params, self._nparams)\n",
      "  File \"/opt/homebrew/anaconda3/envs/pyt1-osx-64/lib/python3.10/site-packages/typing_extensions.py\", line 164, in _check_generic\n",
      "    raise TypeError(f\"Too {'many' if alen > elen else 'few'} parameters for {cls};\"\n",
      "TypeError: Too many parameters for typing.List; actual 2, expected 1\n",
      "]\n",
      "100%|████████████████████████████████████████████████████████████████████████████████████████████████████████████████████████████████████████████████████████| 100/100 [00:03<00:00, 25.65it/s]\n"
     ]
    }
   ],
   "source": [
    "solved_graphs = []\n",
    "for g, orig_g in tqdm(list(zip(graph_collections, graphs))[:100]):\n",
    "    g = deepcopy(graph_collections[0])\n",
    "    g = deepcopy(g)\n",
    "    g.update_node(orig_g[1][1][0]) # unf we have to do this for now\n",
    "    res_g = greedy_inference_single(model, g)\n",
    "    solved_graphs.append(res_g)"
   ]
  },
  {
   "cell_type": "code",
   "execution_count": 17,
   "id": "85316ec2-8049-4982-ad24-c37992ad9150",
   "metadata": {},
   "outputs": [
    {
     "data": {
      "text/plain": [
       "7.199907914085822"
      ]
     },
     "execution_count": 17,
     "metadata": {},
     "output_type": "execute_result"
    }
   ],
   "source": [
    "solved_graphs[0].get_full_solution_cost()"
   ]
  },
  {
   "cell_type": "code",
   "execution_count": 39,
   "id": "d6882dec-0a54-47ce-9462-cafd208f2c42",
   "metadata": {},
   "outputs": [
    {
     "data": {
      "text/plain": [
       "8.23473345975078"
      ]
     },
     "execution_count": 39,
     "metadata": {},
     "output_type": "execute_result"
    }
   ],
   "source": [
    "np.mean([sg.get_full_solution_cost() for sg in solved_graphs])"
   ]
  },
  {
   "cell_type": "code",
   "execution_count": null,
   "id": "979c041c-6ad9-4f5f-b57d-5f714de436de",
   "metadata": {},
   "outputs": [],
   "source": []
  },
  {
   "cell_type": "code",
   "execution_count": null,
   "id": "fb2cc36a-f681-4264-9213-9796bd15dee3",
   "metadata": {},
   "outputs": [],
   "source": []
  }
 ],
 "metadata": {
  "kernelspec": {
   "display_name": "Python 3 (ipykernel)",
   "language": "python",
   "name": "python3"
  },
  "language_info": {
   "codemirror_mode": {
    "name": "ipython",
    "version": 3
   },
   "file_extension": ".py",
   "mimetype": "text/x-python",
   "name": "python",
   "nbconvert_exporter": "python",
   "pygments_lexer": "ipython3",
   "version": "3.10.13"
  }
 },
 "nbformat": 4,
 "nbformat_minor": 5
}
