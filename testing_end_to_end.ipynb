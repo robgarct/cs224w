{
 "cells": [
  {
   "cell_type": "code",
   "execution_count": 1,
   "id": "b9363953-a169-46e9-9a46-17f8107c21a7",
   "metadata": {},
   "outputs": [],
   "source": [
    "%load_ext autoreload\n",
    "%autoreload 2"
   ]
  },
  {
   "cell_type": "code",
   "execution_count": 2,
   "id": "303cf3de-32fe-4fd8-be08-f09ec6a84612",
   "metadata": {},
   "outputs": [
    {
     "name": "stdout",
     "output_type": "stream",
     "text": [
      "Intel MKL WARNING: Support of Intel(R) Streaming SIMD Extensions 4.2 (Intel(R) SSE4.2) enabled only processors has been deprecated. Intel oneAPI Math Kernel Library 2025.0 will require Intel(R) Advanced Vector Extensions (Intel(R) AVX) instructions.\n",
      "Intel MKL WARNING: Support of Intel(R) Streaming SIMD Extensions 4.2 (Intel(R) SSE4.2) enabled only processors has been deprecated. Intel oneAPI Math Kernel Library 2025.0 will require Intel(R) Advanced Vector Extensions (Intel(R) AVX) instructions.\n"
     ]
    },
    {
     "name": "stderr",
     "output_type": "stream",
     "text": [
      "/opt/homebrew/anaconda3/envs/pyt1-osx-64/lib/python3.10/site-packages/tqdm/auto.py:21: TqdmWarning: IProgress not found. Please update jupyter and ipywidgets. See https://ipywidgets.readthedocs.io/en/stable/user_install.html\n",
      "  from .autonotebook import tqdm as notebook_tqdm\n"
     ]
    }
   ],
   "source": [
    "import torch\n",
    "import pandas as pd\n",
    "from copy import deepcopy\n",
    "from tqdm import tqdm\n",
    "\n",
    "from training_new import get_data_loaders, train\n",
    "from model import Model, DummyModel\n",
    "from inference import greedy_inference_single, beam_inference_single\n",
    "from util import create_graph_no_sol"
   ]
  },
  {
   "cell_type": "code",
   "execution_count": 3,
   "id": "0e5cf00a-b974-4b10-942f-cb63de880a8f",
   "metadata": {},
   "outputs": [],
   "source": [
    "graphs_path = \"./solver/sol_examples/vrp20/sols.pkl\""
   ]
  },
  {
   "cell_type": "code",
   "execution_count": 4,
   "id": "4fd111a5-e74f-48f4-b9f7-85d91a34b061",
   "metadata": {},
   "outputs": [
    {
     "name": "stderr",
     "output_type": "stream",
     "text": [
      "Parsing Graphs: 100%|███████████████████████████████████████████████████████████████████████████████████████████████████████████████████████████████████| 20/20 [00:00<00:00, 102.30it/s]\n"
     ]
    }
   ],
   "source": [
    "train_dl, valid_dl, _ = get_data_loaders(graphs_path, batch_size=5, max_instances=20)"
   ]
  },
  {
   "cell_type": "code",
   "execution_count": 5,
   "id": "3a20df66-a5d1-4d10-a9ed-d3a7bce4eb5e",
   "metadata": {},
   "outputs": [
    {
     "name": "stderr",
     "output_type": "stream",
     "text": [
      "Parsing Graphs: 100%|███████████████████████████████████████████████████████████████████████████████████████████████████████████████████████████████| 3000/3000 [00:28<00:00, 106.98it/s]\n"
     ]
    },
    {
     "name": "stdout",
     "output_type": "stream",
     "text": [
      "Valid 0 - loss:1.8937, acc:0.2951, eval_avg_cost:13.1622\n"
     ]
    },
    {
     "name": "stderr",
     "output_type": "stream",
     "text": [
      "Batches: 100%|██████████████████████████████████████████████████████████████████████████████████████████████████████████████████████████████████████| 1714/1714 [00:09<00:00, 178.11it/s]\n"
     ]
    },
    {
     "name": "stdout",
     "output_type": "stream",
     "text": [
      "1.2775652408599854\n",
      "Train 1 - loss:1.2776, acc:0.5566\n",
      "Valid 1 - loss:1.1622, acc:0.5975, eval_avg_cost:7.9045\n"
     ]
    },
    {
     "name": "stderr",
     "output_type": "stream",
     "text": [
      "Batches: 100%|██████████████████████████████████████████████████████████████████████████████████████████████████████████████████████████████████████| 1714/1714 [00:07<00:00, 218.78it/s]\n"
     ]
    },
    {
     "name": "stdout",
     "output_type": "stream",
     "text": [
      "1.0772980451583862\n",
      "Train 2 - loss:1.0773, acc:0.6275\n",
      "Valid 2 - loss:1.0352, acc:0.6476, eval_avg_cost:7.5630\n"
     ]
    },
    {
     "name": "stderr",
     "output_type": "stream",
     "text": [
      "Batches: 100%|██████████████████████████████████████████████████████████████████████████████████████████████████████████████████████████████████████| 1714/1714 [00:07<00:00, 214.52it/s]\n"
     ]
    },
    {
     "name": "stdout",
     "output_type": "stream",
     "text": [
      "1.0086156129837036\n",
      "Train 3 - loss:1.0086, acc:0.6528\n",
      "Valid 3 - loss:0.9904, acc:0.6557, eval_avg_cost:7.5010\n"
     ]
    },
    {
     "name": "stderr",
     "output_type": "stream",
     "text": [
      "Batches: 100%|██████████████████████████████████████████████████████████████████████████████████████████████████████████████████████████████████████| 1714/1714 [00:08<00:00, 201.76it/s]\n"
     ]
    },
    {
     "name": "stdout",
     "output_type": "stream",
     "text": [
      "0.977177083492279\n",
      "Train 4 - loss:0.9772, acc:0.6644\n",
      "Valid 4 - loss:0.9619, acc:0.6654, eval_avg_cost:7.4466\n"
     ]
    },
    {
     "name": "stderr",
     "output_type": "stream",
     "text": [
      "Batches: 100%|██████████████████████████████████████████████████████████████████████████████████████████████████████████████████████████████████████| 1714/1714 [00:07<00:00, 232.07it/s]\n"
     ]
    },
    {
     "name": "stdout",
     "output_type": "stream",
     "text": [
      "0.9549722671508789\n",
      "Train 5 - loss:0.9550, acc:0.6703\n",
      "Valid 5 - loss:0.9474, acc:0.6691, eval_avg_cost:7.5775\n"
     ]
    },
    {
     "name": "stderr",
     "output_type": "stream",
     "text": [
      "Batches: 100%|██████████████████████████████████████████████████████████████████████████████████████████████████████████████████████████████████████| 1714/1714 [00:07<00:00, 236.41it/s]\n"
     ]
    },
    {
     "name": "stdout",
     "output_type": "stream",
     "text": [
      "0.9372795224189758\n",
      "Train 6 - loss:0.9373, acc:0.6770\n",
      "Valid 6 - loss:0.9306, acc:0.6734, eval_avg_cost:7.4832\n"
     ]
    },
    {
     "name": "stderr",
     "output_type": "stream",
     "text": [
      "Batches: 100%|██████████████████████████████████████████████████████████████████████████████████████████████████████████████████████████████████████| 1714/1714 [00:07<00:00, 220.25it/s]\n"
     ]
    },
    {
     "name": "stdout",
     "output_type": "stream",
     "text": [
      "0.9240511059761047\n",
      "Train 7 - loss:0.9241, acc:0.6806\n",
      "Valid 7 - loss:0.9152, acc:0.6800, eval_avg_cost:7.4546\n"
     ]
    },
    {
     "name": "stderr",
     "output_type": "stream",
     "text": [
      "Batches: 100%|██████████████████████████████████████████████████████████████████████████████████████████████████████████████████████████████████████| 1714/1714 [00:08<00:00, 209.33it/s]\n"
     ]
    },
    {
     "name": "stdout",
     "output_type": "stream",
     "text": [
      "0.9136597514152527\n",
      "Train 8 - loss:0.9137, acc:0.6835\n",
      "Valid 8 - loss:0.9042, acc:0.6826, eval_avg_cost:7.4292\n"
     ]
    },
    {
     "name": "stderr",
     "output_type": "stream",
     "text": [
      "Batches: 100%|██████████████████████████████████████████████████████████████████████████████████████████████████████████████████████████████████████| 1714/1714 [00:09<00:00, 188.20it/s]\n"
     ]
    },
    {
     "name": "stdout",
     "output_type": "stream",
     "text": [
      "0.9050817489624023\n",
      "Train 9 - loss:0.9051, acc:0.6863\n",
      "Valid 9 - loss:0.8985, acc:0.6829, eval_avg_cost:7.4340\n"
     ]
    },
    {
     "name": "stderr",
     "output_type": "stream",
     "text": [
      "Batches: 100%|██████████████████████████████████████████████████████████████████████████████████████████████████████████████████████████████████████| 1714/1714 [00:07<00:00, 234.41it/s]\n"
     ]
    },
    {
     "name": "stdout",
     "output_type": "stream",
     "text": [
      "0.8978080153465271\n",
      "Train 10 - loss:0.8978, acc:0.6891\n",
      "Valid 10 - loss:0.8933, acc:0.6848, eval_avg_cost:7.3848\n"
     ]
    },
    {
     "name": "stderr",
     "output_type": "stream",
     "text": [
      "Batches: 100%|██████████████████████████████████████████████████████████████████████████████████████████████████████████████████████████████████████| 1714/1714 [00:07<00:00, 236.42it/s]\n"
     ]
    },
    {
     "name": "stdout",
     "output_type": "stream",
     "text": [
      "0.8921335339546204\n",
      "Train 11 - loss:0.8921, acc:0.6911\n",
      "Valid 11 - loss:0.8895, acc:0.6876, eval_avg_cost:7.3754\n"
     ]
    },
    {
     "name": "stderr",
     "output_type": "stream",
     "text": [
      "Batches: 100%|██████████████████████████████████████████████████████████████████████████████████████████████████████████████████████████████████████| 1714/1714 [00:07<00:00, 235.08it/s]\n"
     ]
    },
    {
     "name": "stdout",
     "output_type": "stream",
     "text": [
      "0.8869757056236267\n",
      "Train 12 - loss:0.8870, acc:0.6941\n",
      "Valid 12 - loss:0.8862, acc:0.6886, eval_avg_cost:7.3790\n"
     ]
    }
   ],
   "source": [
    "model = Model(4, 32, 2, 0.0)\n",
    "stats_df = train(\n",
    "    model,\n",
    "    graphs_path,\n",
    "    epochs=12,\n",
    "    batch_size=32,\n",
    "    learning_rate=3e-4,\n",
    "    max_instances=3000,\n",
    "    max_inference_graphs=100\n",
    ")"
   ]
  },
  {
   "cell_type": "code",
   "execution_count": 6,
   "id": "cfab0675-a0fb-48b5-879c-2730c2038bf5",
   "metadata": {},
   "outputs": [],
   "source": [
    "pd.to_pickle(model, \"./models/vrp20_best.pkl\")"
   ]
  },
  {
   "cell_type": "code",
   "execution_count": 7,
   "id": "d506471a-a828-4a4d-8856-32595ddab854",
   "metadata": {},
   "outputs": [],
   "source": [
    "stats_df = stats_df.set_index([\"metric\", \"epoch\"]).unstack(\"metric\")[\"value\"]"
   ]
  },
  {
   "cell_type": "code",
   "execution_count": 8,
   "id": "bbaf9ae4-49aa-4e5e-954d-3b2def283b3e",
   "metadata": {},
   "outputs": [
    {
     "data": {
      "text/plain": [
       "<AxesSubplot:xlabel='epoch'>"
      ]
     },
     "execution_count": 8,
     "metadata": {},
     "output_type": "execute_result"
    },
    {
     "data": {
      "image/png": "[encoded data removed]",
      "text/plain": [
       "<Figure size 640x480 with 1 Axes>"
      ]
     },
     "metadata": {},
     "output_type": "display_data"
    }
   ],
   "source": [
    "stats_df[[\"valid_eval_cost\"]].iloc[:10].plot()"
   ]
  },
  {
   "cell_type": "code",
   "execution_count": 9,
   "id": "96618f30-09bc-4cf4-9652-49bdcc103b32",
   "metadata": {},
   "outputs": [
    {
     "data": {
      "text/plain": [
       "[]"
      ]
     },
     "execution_count": 9,
     "metadata": {},
     "output_type": "execute_result"
    },
    {
     "data": {
      "image/png": "[encoded data removed]",
      "text/plain": [
       "<Figure size 640x480 with 1 Axes>"
      ]
     },
     "metadata": {},
     "output_type": "display_data"
    }
   ],
   "source": [
    "stats_df[[\"train_acc\", \"valid_acc\"]].iloc[:10].plot().plot()"
   ]
  },
  {
   "cell_type": "code",
   "execution_count": 10,
   "id": "93702a42-f9c2-4ef8-bdc9-13e37b8266f6",
   "metadata": {},
   "outputs": [
    {
     "data": {
      "text/plain": [
       "[]"
      ]
     },
     "execution_count": 10,
     "metadata": {},
     "output_type": "execute_result"
    },
    {
     "data": {
      "image/png": "[encoded data removed]",
      "text/plain": [
       "<Figure size 640x480 with 1 Axes>"
      ]
     },
     "metadata": {},
     "output_type": "display_data"
    }
   ],
   "source": [
    "stats_df[[\"train_loss\", \"valid_loss\"]].iloc[:10].plot().plot()"
   ]
  },
  {
   "cell_type": "code",
   "execution_count": null,
   "id": "aae13651-71db-4f27-ba6f-e750205f7e17",
   "metadata": {},
   "outputs": [],
   "source": []
  },
  {
   "cell_type": "code",
   "execution_count": 12,
   "id": "21ab0dbd-088f-4738-b0d3-eef46bfb3907",
   "metadata": {},
   "outputs": [],
   "source": [
    "graphs = pd.read_pickle(graphs_path)"
   ]
  },
  {
   "cell_type": "code",
   "execution_count": 13,
   "id": "e8228cce-9719-44a9-b433-b9004903f303",
   "metadata": {},
   "outputs": [],
   "source": [
    "graph_collections = [create_graph_no_sol(g) for g, _ in graphs]"
   ]
  },
  {
   "cell_type": "code",
   "execution_count": 22,
   "id": "963cc88f-f97d-4ddb-8729-5048260a11fc",
   "metadata": {},
   "outputs": [
    {
     "name": "stderr",
     "output_type": "stream",
     "text": [
      "100%|██████████████████████████████████████████████████████████████████████████████████████████████████████████████████████████████████████████████████████| 2/2 [00:09<00:00,  4.83s/it]\n"
     ]
    }
   ],
   "source": [
    "solved_graphs = []\n",
    "for g, orig_g in tqdm(list(zip(graph_collections, graphs))[-1000:]):\n",
    "    # g = deepcopy(graph_collections[0])\n",
    "    g = deepcopy(g)\n",
    "    # g.update_node(orig_g[1][1][0]) # unf we have to do this for now\n",
    "    res_g = beam_inference_single(model, g, beam_width=10)\n",
    "    # import pdb; pdb.set_trace()\n",
    "    # res_g = greedy_inference_single(model, g)\n",
    "    solved_graphs.append(res_g)"
   ]
  },
  {
   "cell_type": "code",
   "execution_count": 23,
   "id": "5f5e4e7f-9d7b-4737-a6dc-fbfb77067234",
   "metadata": {},
   "outputs": [],
   "source": [
    "example_g = solved_graphs[1]"
   ]
  },
  {
   "cell_type": "code",
   "execution_count": 26,
   "id": "bffc1269-4270-424f-9641-11e1e7ec62e0",
   "metadata": {},
   "outputs": [
    {
     "name": "stdout",
     "output_type": "stream",
     "text": [
      "saved\n"
     ]
    },
    {
     "data": {
      "image/png": "[encoded data removed]",
      "text/plain": [
       "<Figure size 640x480 with 1 Axes>"
      ]
     },
     "metadata": {},
     "output_type": "display_data"
    }
   ],
   "source": [
    "example_g = solved_graphs[0].get_all_graphs()[-1]\n",
    "example_g.draw_graph(labels=True)"
   ]
  },
  {
   "cell_type": "code",
   "execution_count": 27,
   "id": "620ca8c2-91e1-4f9a-a5ce-623921e43e62",
   "metadata": {},
   "outputs": [],
   "source": [
    "import numpy as np"
   ]
  },
  {
   "cell_type": "code",
   "execution_count": 28,
   "id": "172624c2-5a05-476b-8c7e-fb4720e6593f",
   "metadata": {},
   "outputs": [
    {
     "data": {
      "text/plain": [
       "6.989335192608062"
      ]
     },
     "execution_count": 28,
     "metadata": {},
     "output_type": "execute_result"
    }
   ],
   "source": [
    "np.mean([sg.get_full_solution_cost() for sg in solved_graphs])"
   ]
  },
  {
   "cell_type": "code",
   "execution_count": null,
   "id": "304fbe14-47fe-4d6b-b57d-dc030c05c6d5",
   "metadata": {},
   "outputs": [],
   "source": []
  },
  {
   "cell_type": "code",
   "execution_count": null,
   "id": "97331640-08b3-4e46-a3d9-63678a50f1f9",
   "metadata": {},
   "outputs": [],
   "source": []
  },
  {
   "cell_type": "code",
   "execution_count": null,
   "id": "ac30cc22-60c4-434b-a780-a3d8e6371804",
   "metadata": {},
   "outputs": [],
   "source": []
  },
  {
   "cell_type": "code",
   "execution_count": 5,
   "id": "1ed5c57c-bbca-4361-8c5c-b1bac0ab296a",
   "metadata": {},
   "outputs": [],
   "source": [
    "stats_dfs = []"
   ]
  },
  {
   "cell_type": "code",
   "execution_count": 6,
   "id": "89517bb1-4851-4ef0-b1c0-6321deea3fc3",
   "metadata": {
    "collapsed": true,
    "jupyter": {
     "outputs_hidden": true
    }
   },
   "outputs": [
    {
     "name": "stderr",
     "output_type": "stream",
     "text": [
      "Parsing Graphs: 100%|███████████████████████████████████████████████████████████████████████████████████████████████████████████████████████████████| 2000/2000 [00:18<00:00, 108.75it/s]\n"
     ]
    },
    {
     "name": "stdout",
     "output_type": "stream",
     "text": [
      "Valid 0 - loss:1.8970, acc:0.2867, eval_avg_cost:11.8469\n"
     ]
    },
    {
     "name": "stderr",
     "output_type": "stream",
     "text": [
      "Batches: 100%|██████████████████████████████████████████████████████████████████████████████████████████████████████████████████████████████████████| 1143/1143 [00:04<00:00, 271.13it/s]\n"
     ]
    },
    {
     "name": "stdout",
     "output_type": "stream",
     "text": [
      "1.280937910079956\n",
      "Train 1 - loss:1.2809, acc:0.5518\n",
      "Valid 1 - loss:1.0430, acc:0.6565, eval_avg_cost:6.9651\n"
     ]
    },
    {
     "name": "stderr",
     "output_type": "stream",
     "text": [
      "Batches: 100%|██████████████████████████████████████████████████████████████████████████████████████████████████████████████████████████████████████| 1143/1143 [00:04<00:00, 279.66it/s]\n"
     ]
    },
    {
     "name": "stdout",
     "output_type": "stream",
     "text": [
      "0.9768005013465881\n",
      "Train 2 - loss:0.9768, acc:0.6676\n",
      "Valid 2 - loss:0.9594, acc:0.6765, eval_avg_cost:7.2637\n"
     ]
    },
    {
     "name": "stderr",
     "output_type": "stream",
     "text": [
      "Batches: 100%|██████████████████████████████████████████████████████████████████████████████████████████████████████████████████████████████████████| 1143/1143 [00:04<00:00, 274.59it/s]\n"
     ]
    },
    {
     "name": "stdout",
     "output_type": "stream",
     "text": [
      "0.9337201118469238\n",
      "Train 3 - loss:0.9337, acc:0.6808\n",
      "Valid 3 - loss:0.9379, acc:0.6863, eval_avg_cost:7.0824\n"
     ]
    },
    {
     "name": "stderr",
     "output_type": "stream",
     "text": [
      "Batches: 100%|██████████████████████████████████████████████████████████████████████████████████████████████████████████████████████████████████████| 1143/1143 [00:04<00:00, 266.18it/s]\n"
     ]
    },
    {
     "name": "stdout",
     "output_type": "stream",
     "text": [
      "0.9190441966056824\n",
      "Train 4 - loss:0.9190, acc:0.6865\n",
      "Valid 4 - loss:0.9217, acc:0.6884, eval_avg_cost:7.1967\n"
     ]
    },
    {
     "name": "stderr",
     "output_type": "stream",
     "text": [
      "Batches: 100%|██████████████████████████████████████████████████████████████████████████████████████████████████████████████████████████████████████| 1143/1143 [00:04<00:00, 266.27it/s]\n"
     ]
    },
    {
     "name": "stdout",
     "output_type": "stream",
     "text": [
      "0.9115014672279358\n",
      "Train 5 - loss:0.9115, acc:0.6899\n",
      "Valid 5 - loss:0.9109, acc:0.6943, eval_avg_cost:6.7871\n"
     ]
    },
    {
     "name": "stderr",
     "output_type": "stream",
     "text": [
      "Batches: 100%|██████████████████████████████████████████████████████████████████████████████████████████████████████████████████████████████████████| 1143/1143 [00:04<00:00, 274.61it/s]\n"
     ]
    },
    {
     "name": "stdout",
     "output_type": "stream",
     "text": [
      "0.9062368869781494\n",
      "Train 6 - loss:0.9062, acc:0.6912\n",
      "Valid 6 - loss:0.9107, acc:0.6954, eval_avg_cost:7.0051\n"
     ]
    },
    {
     "name": "stderr",
     "output_type": "stream",
     "text": [
      "Batches: 100%|██████████████████████████████████████████████████████████████████████████████████████████████████████████████████████████████████████| 1143/1143 [00:04<00:00, 280.36it/s]\n"
     ]
    },
    {
     "name": "stdout",
     "output_type": "stream",
     "text": [
      "0.901757001876831\n",
      "Train 7 - loss:0.9018, acc:0.6934\n",
      "Valid 7 - loss:0.9071, acc:0.6923, eval_avg_cost:6.9050\n"
     ]
    },
    {
     "name": "stderr",
     "output_type": "stream",
     "text": [
      "Batches: 100%|██████████████████████████████████████████████████████████████████████████████████████████████████████████████████████████████████████| 1143/1143 [00:04<00:00, 265.27it/s]\n"
     ]
    },
    {
     "name": "stdout",
     "output_type": "stream",
     "text": [
      "0.8975414633750916\n",
      "Train 8 - loss:0.8975, acc:0.6937\n",
      "Valid 8 - loss:0.9047, acc:0.6975, eval_avg_cost:6.9403\n",
      "Valid 0 - loss:1.8913, acc:0.2831, eval_avg_cost:11.5146\n"
     ]
    },
    {
     "name": "stderr",
     "output_type": "stream",
     "text": [
      "Batches: 100%|████████████████████████████████████████████████████████████████████████████████████████████████████████████████████████████████████████| 572/572 [00:03<00:00, 181.48it/s]\n"
     ]
    },
    {
     "name": "stdout",
     "output_type": "stream",
     "text": [
      "1.365513801574707\n",
      "Train 1 - loss:1.3655, acc:0.5185\n",
      "Valid 1 - loss:1.0895, acc:0.6295, eval_avg_cost:7.2363\n"
     ]
    },
    {
     "name": "stderr",
     "output_type": "stream",
     "text": [
      "Batches: 100%|████████████████████████████████████████████████████████████████████████████████████████████████████████████████████████████████████████| 572/572 [00:03<00:00, 189.70it/s]\n"
     ]
    },
    {
     "name": "stdout",
     "output_type": "stream",
     "text": [
      "1.032727599143982\n",
      "Train 2 - loss:1.0327, acc:0.6461\n",
      "Valid 2 - loss:1.0031, acc:0.6627, eval_avg_cost:6.9116\n"
     ]
    },
    {
     "name": "stderr",
     "output_type": "stream",
     "text": [
      "Batches: 100%|████████████████████████████████████████████████████████████████████████████████████████████████████████████████████████████████████████| 572/572 [00:03<00:00, 187.59it/s]\n"
     ]
    },
    {
     "name": "stdout",
     "output_type": "stream",
     "text": [
      "0.9587798118591309\n",
      "Train 3 - loss:0.9588, acc:0.6700\n",
      "Valid 3 - loss:0.9810, acc:0.6719, eval_avg_cost:6.9681\n"
     ]
    },
    {
     "name": "stderr",
     "output_type": "stream",
     "text": [
      "Batches: 100%|████████████████████████████████████████████████████████████████████████████████████████████████████████████████████████████████████████| 572/572 [00:02<00:00, 195.17it/s]\n"
     ]
    },
    {
     "name": "stdout",
     "output_type": "stream",
     "text": [
      "0.9343662261962891\n",
      "Train 4 - loss:0.9344, acc:0.6789\n",
      "Valid 4 - loss:0.9450, acc:0.6813, eval_avg_cost:6.6987\n"
     ]
    },
    {
     "name": "stderr",
     "output_type": "stream",
     "text": [
      "Batches: 100%|████████████████████████████████████████████████████████████████████████████████████████████████████████████████████████████████████████| 572/572 [00:03<00:00, 189.16it/s]\n"
     ]
    },
    {
     "name": "stdout",
     "output_type": "stream",
     "text": [
      "0.9215133786201477\n",
      "Train 5 - loss:0.9215, acc:0.6831\n",
      "Valid 5 - loss:0.9374, acc:0.6823, eval_avg_cost:6.6130\n"
     ]
    },
    {
     "name": "stderr",
     "output_type": "stream",
     "text": [
      "Batches: 100%|████████████████████████████████████████████████████████████████████████████████████████████████████████████████████████████████████████| 572/572 [00:02<00:00, 192.00it/s]\n"
     ]
    },
    {
     "name": "stdout",
     "output_type": "stream",
     "text": [
      "0.9101839065551758\n",
      "Train 6 - loss:0.9102, acc:0.6883\n",
      "Valid 6 - loss:0.9355, acc:0.6839, eval_avg_cost:7.0022\n"
     ]
    },
    {
     "name": "stderr",
     "output_type": "stream",
     "text": [
      "Batches: 100%|████████████████████████████████████████████████████████████████████████████████████████████████████████████████████████████████████████| 572/572 [00:03<00:00, 188.15it/s]\n"
     ]
    },
    {
     "name": "stdout",
     "output_type": "stream",
     "text": [
      "0.9028917551040649\n",
      "Train 7 - loss:0.9029, acc:0.6915\n",
      "Valid 7 - loss:0.9331, acc:0.6860, eval_avg_cost:6.7396\n"
     ]
    },
    {
     "name": "stderr",
     "output_type": "stream",
     "text": [
      "Batches: 100%|████████████████████████████████████████████████████████████████████████████████████████████████████████████████████████████████████████| 572/572 [00:03<00:00, 188.15it/s]\n"
     ]
    },
    {
     "name": "stdout",
     "output_type": "stream",
     "text": [
      "0.8983517289161682\n",
      "Train 8 - loss:0.8984, acc:0.6936\n",
      "Valid 8 - loss:0.9178, acc:0.6875, eval_avg_cost:6.8237\n",
      "Valid 0 - loss:1.8873, acc:0.2829, eval_avg_cost:11.8749\n"
     ]
    },
    {
     "name": "stderr",
     "output_type": "stream",
     "text": [
      "Batches: 100%|█████████████████████████████████████████████████████████████████████████████████████████████████████████████████████████████████████████| 286/286 [02:10<00:00,  2.19it/s]\n"
     ]
    },
    {
     "name": "stdout",
     "output_type": "stream",
     "text": [
      "1.4200509786605835\n",
      "Train 1 - loss:1.4201, acc:0.4943\n",
      "Valid 1 - loss:1.1312, acc:0.6047, eval_avg_cost:7.1086\n"
     ]
    },
    {
     "name": "stderr",
     "output_type": "stream",
     "text": [
      "Batches: 100%|█████████████████████████████████████████████████████████████████████████████████████████████████████████████████████████████████████████| 286/286 [00:02<00:00, 95.79it/s]\n"
     ]
    },
    {
     "name": "stdout",
     "output_type": "stream",
     "text": [
      "1.0468497276306152\n",
      "Train 2 - loss:1.0468, acc:0.6389\n",
      "Valid 2 - loss:1.0155, acc:0.6543, eval_avg_cost:7.3657\n"
     ]
    },
    {
     "name": "stderr",
     "output_type": "stream",
     "text": [
      "Batches: 100%|████████████████████████████████████████████████████████████████████████████████████████████████████████████████████████████████████████| 286/286 [00:02<00:00, 108.30it/s]\n"
     ]
    },
    {
     "name": "stdout",
     "output_type": "stream",
     "text": [
      "0.9890404939651489\n",
      "Train 3 - loss:0.9890, acc:0.6631\n",
      "Valid 3 - loss:0.9871, acc:0.6721, eval_avg_cost:6.7805\n"
     ]
    },
    {
     "name": "stderr",
     "output_type": "stream",
     "text": [
      "Batches: 100%|█████████████████████████████████████████████████████████████████████████████████████████████████████████████████████████████████████████| 286/286 [00:03<00:00, 80.62it/s]\n"
     ]
    },
    {
     "name": "stdout",
     "output_type": "stream",
     "text": [
      "0.9667932391166687\n",
      "Train 4 - loss:0.9668, acc:0.6725\n",
      "Valid 4 - loss:0.9796, acc:0.6735, eval_avg_cost:6.8406\n"
     ]
    },
    {
     "name": "stderr",
     "output_type": "stream",
     "text": [
      "Batches: 100%|████████████████████████████████████████████████████████████████████████████████████████████████████████████████████████████████████████| 286/286 [00:02<00:00, 103.24it/s]\n"
     ]
    },
    {
     "name": "stdout",
     "output_type": "stream",
     "text": [
      "0.9505173563957214\n",
      "Train 5 - loss:0.9505, acc:0.6780\n",
      "Valid 5 - loss:0.9644, acc:0.6779, eval_avg_cost:7.4231\n"
     ]
    },
    {
     "name": "stderr",
     "output_type": "stream",
     "text": [
      "Batches: 100%|████████████████████████████████████████████████████████████████████████████████████████████████████████████████████████████████████████| 286/286 [00:02<00:00, 107.81it/s]\n"
     ]
    },
    {
     "name": "stdout",
     "output_type": "stream",
     "text": [
      "0.9369128346443176\n",
      "Train 6 - loss:0.9369, acc:0.6817\n",
      "Valid 6 - loss:0.9581, acc:0.6777, eval_avg_cost:7.6504\n"
     ]
    },
    {
     "name": "stderr",
     "output_type": "stream",
     "text": [
      "Batches: 100%|████████████████████████████████████████████████████████████████████████████████████████████████████████████████████████████████████████| 286/286 [00:02<00:00, 101.32it/s]\n"
     ]
    },
    {
     "name": "stdout",
     "output_type": "stream",
     "text": [
      "0.924323320388794\n",
      "Train 7 - loss:0.9243, acc:0.6849\n",
      "Valid 7 - loss:0.9530, acc:0.6779, eval_avg_cost:6.9384\n"
     ]
    },
    {
     "name": "stderr",
     "output_type": "stream",
     "text": [
      "Batches: 100%|████████████████████████████████████████████████████████████████████████████████████████████████████████████████████████████████████████| 286/286 [00:02<00:00, 101.69it/s]\n"
     ]
    },
    {
     "name": "stdout",
     "output_type": "stream",
     "text": [
      "0.9158855676651001\n",
      "Train 8 - loss:0.9159, acc:0.6867\n",
      "Valid 8 - loss:0.9508, acc:0.6791, eval_avg_cost:6.9955\n"
     ]
    }
   ],
   "source": [
    "# model = Model(4, 16, 2, 0.0)\n",
    "stats_dfs = []\n",
    "batch_sizes = [32, 64, 128]\n",
    "for bs in batch_sizes:\n",
    "    model = Model(4, 16, 2, 0.0)\n",
    "    stats_df = train(model, graphs_path, epochs=8, batch_size=bs, learning_rate=3e-3, max_instances=2000, max_inference_graphs=5)\n",
    "    stats_dfs.append(stats_df)"
   ]
  },
  {
   "cell_type": "code",
   "execution_count": 10,
   "id": "1f8ef441-2066-4893-a3c2-240682d67a75",
   "metadata": {
    "collapsed": true,
    "jupyter": {
     "outputs_hidden": true
    }
   },
   "outputs": [
    {
     "name": "stdout",
     "output_type": "stream",
     "text": [
      "Valid 0 - loss:1.8868, acc:0.2849, eval_avg_cost:11.4903\n"
     ]
    },
    {
     "name": "stderr",
     "output_type": "stream",
     "text": [
      "Batches: 100%|██████████████████████████████████████████████████████████████████████████████████████████████████████████████████████████████████████| 1143/1143 [00:03<00:00, 310.76it/s]\n"
     ]
    },
    {
     "name": "stdout",
     "output_type": "stream",
     "text": [
      "1.4212994575500488\n",
      "Train 1 - loss:1.4213, acc:0.4981\n",
      "Valid 1 - loss:1.2948, acc:0.5578, eval_avg_cost:7.6577\n"
     ]
    },
    {
     "name": "stderr",
     "output_type": "stream",
     "text": [
      "Batches: 100%|██████████████████████████████████████████████████████████████████████████████████████████████████████████████████████████████████████| 1143/1143 [00:03<00:00, 313.74it/s]\n"
     ]
    },
    {
     "name": "stdout",
     "output_type": "stream",
     "text": [
      "1.2510415315628052\n",
      "Train 2 - loss:1.2510, acc:0.5598\n",
      "Valid 2 - loss:1.2580, acc:0.5709, eval_avg_cost:7.7218\n"
     ]
    },
    {
     "name": "stderr",
     "output_type": "stream",
     "text": [
      "Batches: 100%|██████████████████████████████████████████████████████████████████████████████████████████████████████████████████████████████████████| 1143/1143 [00:03<00:00, 316.08it/s]\n"
     ]
    },
    {
     "name": "stdout",
     "output_type": "stream",
     "text": [
      "1.2172789573669434\n",
      "Train 3 - loss:1.2173, acc:0.5726\n",
      "Valid 3 - loss:1.2190, acc:0.5794, eval_avg_cost:7.4866\n"
     ]
    },
    {
     "name": "stderr",
     "output_type": "stream",
     "text": [
      "Batches: 100%|██████████████████████████████████████████████████████████████████████████████████████████████████████████████████████████████████████| 1143/1143 [00:03<00:00, 309.94it/s]\n"
     ]
    },
    {
     "name": "stdout",
     "output_type": "stream",
     "text": [
      "1.059389352798462\n",
      "Train 4 - loss:1.0594, acc:0.6376\n",
      "Valid 4 - loss:0.9594, acc:0.6754, eval_avg_cost:6.9524\n"
     ]
    },
    {
     "name": "stderr",
     "output_type": "stream",
     "text": [
      "Batches: 100%|██████████████████████████████████████████████████████████████████████████████████████████████████████████████████████████████████████| 1143/1143 [00:03<00:00, 309.29it/s]\n"
     ]
    },
    {
     "name": "stdout",
     "output_type": "stream",
     "text": [
      "0.9341917037963867\n",
      "Train 5 - loss:0.9342, acc:0.6806\n",
      "Valid 5 - loss:0.9414, acc:0.6832, eval_avg_cost:6.9939\n"
     ]
    },
    {
     "name": "stderr",
     "output_type": "stream",
     "text": [
      "Batches: 100%|██████████████████████████████████████████████████████████████████████████████████████████████████████████████████████████████████████| 1143/1143 [00:03<00:00, 315.89it/s]\n"
     ]
    },
    {
     "name": "stdout",
     "output_type": "stream",
     "text": [
      "0.9163246154785156\n",
      "Train 6 - loss:0.9163, acc:0.6887\n",
      "Valid 6 - loss:0.9336, acc:0.6835, eval_avg_cost:6.6681\n"
     ]
    },
    {
     "name": "stderr",
     "output_type": "stream",
     "text": [
      "Batches: 100%|██████████████████████████████████████████████████████████████████████████████████████████████████████████████████████████████████████| 1143/1143 [00:03<00:00, 318.85it/s]\n"
     ]
    },
    {
     "name": "stdout",
     "output_type": "stream",
     "text": [
      "0.9048512578010559\n",
      "Train 7 - loss:0.9049, acc:0.6937\n",
      "Valid 7 - loss:0.9278, acc:0.6863, eval_avg_cost:6.8288\n"
     ]
    },
    {
     "name": "stderr",
     "output_type": "stream",
     "text": [
      "Batches: 100%|██████████████████████████████████████████████████████████████████████████████████████████████████████████████████████████████████████| 1143/1143 [00:03<00:00, 315.41it/s]\n"
     ]
    },
    {
     "name": "stdout",
     "output_type": "stream",
     "text": [
      "0.8989743590354919\n",
      "Train 8 - loss:0.8990, acc:0.6924\n",
      "Valid 8 - loss:0.9304, acc:0.6861, eval_avg_cost:6.8221\n",
      "Valid 0 - loss:1.8874, acc:0.2846, eval_avg_cost:11.3259\n"
     ]
    },
    {
     "name": "stderr",
     "output_type": "stream",
     "text": [
      "Batches: 100%|██████████████████████████████████████████████████████████████████████████████████████████████████████████████████████████████████████| 1143/1143 [00:04<00:00, 251.72it/s]\n"
     ]
    },
    {
     "name": "stdout",
     "output_type": "stream",
     "text": [
      "1.1510000228881836\n",
      "Train 1 - loss:1.1510, acc:0.5996\n",
      "Valid 1 - loss:0.9880, acc:0.6673, eval_avg_cost:7.1491\n"
     ]
    },
    {
     "name": "stderr",
     "output_type": "stream",
     "text": [
      "Batches: 100%|██████████████████████████████████████████████████████████████████████████████████████████████████████████████████████████████████████| 1143/1143 [00:04<00:00, 250.12it/s]\n"
     ]
    },
    {
     "name": "stdout",
     "output_type": "stream",
     "text": [
      "0.9652280211448669\n",
      "Train 2 - loss:0.9652, acc:0.6710\n",
      "Valid 2 - loss:0.9829, acc:0.6716, eval_avg_cost:6.9376\n"
     ]
    },
    {
     "name": "stderr",
     "output_type": "stream",
     "text": [
      "Batches: 100%|██████████████████████████████████████████████████████████████████████████████████████████████████████████████████████████████████████| 1143/1143 [00:04<00:00, 248.09it/s]\n"
     ]
    },
    {
     "name": "stdout",
     "output_type": "stream",
     "text": [
      "0.943528950214386\n",
      "Train 3 - loss:0.9435, acc:0.6766\n",
      "Valid 3 - loss:0.9733, acc:0.6786, eval_avg_cost:6.9519\n"
     ]
    },
    {
     "name": "stderr",
     "output_type": "stream",
     "text": [
      "Batches: 100%|██████████████████████████████████████████████████████████████████████████████████████████████████████████████████████████████████████| 1143/1143 [00:04<00:00, 240.92it/s]\n"
     ]
    },
    {
     "name": "stdout",
     "output_type": "stream",
     "text": [
      "0.9301496744155884\n",
      "Train 4 - loss:0.9301, acc:0.6847\n",
      "Valid 4 - loss:0.9424, acc:0.6885, eval_avg_cost:6.9293\n"
     ]
    },
    {
     "name": "stderr",
     "output_type": "stream",
     "text": [
      "Batches: 100%|██████████████████████████████████████████████████████████████████████████████████████████████████████████████████████████████████████| 1143/1143 [00:04<00:00, 241.40it/s]\n"
     ]
    },
    {
     "name": "stdout",
     "output_type": "stream",
     "text": [
      "0.9168451428413391\n",
      "Train 5 - loss:0.9168, acc:0.6883\n",
      "Valid 5 - loss:0.9399, acc:0.6894, eval_avg_cost:6.9056\n"
     ]
    },
    {
     "name": "stderr",
     "output_type": "stream",
     "text": [
      "Batches: 100%|██████████████████████████████████████████████████████████████████████████████████████████████████████████████████████████████████████| 1143/1143 [00:04<00:00, 248.70it/s]\n"
     ]
    },
    {
     "name": "stdout",
     "output_type": "stream",
     "text": [
      "0.9078100919723511\n",
      "Train 6 - loss:0.9078, acc:0.6919\n",
      "Valid 6 - loss:0.9260, acc:0.6933, eval_avg_cost:7.0704\n"
     ]
    },
    {
     "name": "stderr",
     "output_type": "stream",
     "text": [
      "Batches: 100%|██████████████████████████████████████████████████████████████████████████████████████████████████████████████████████████████████████| 1143/1143 [00:04<00:00, 250.57it/s]\n"
     ]
    },
    {
     "name": "stdout",
     "output_type": "stream",
     "text": [
      "0.8993529677391052\n",
      "Train 7 - loss:0.8994, acc:0.6941\n",
      "Valid 7 - loss:0.9179, acc:0.6967, eval_avg_cost:6.6834\n"
     ]
    },
    {
     "name": "stderr",
     "output_type": "stream",
     "text": [
      "Batches: 100%|██████████████████████████████████████████████████████████████████████████████████████████████████████████████████████████████████████| 1143/1143 [00:04<00:00, 253.68it/s]\n"
     ]
    },
    {
     "name": "stdout",
     "output_type": "stream",
     "text": [
      "0.8927040100097656\n",
      "Train 8 - loss:0.8927, acc:0.6970\n",
      "Valid 8 - loss:0.9084, acc:0.7009, eval_avg_cost:6.7571\n",
      "Valid 0 - loss:2.3986, acc:0.2795, eval_avg_cost:11.0871\n"
     ]
    },
    {
     "name": "stderr",
     "output_type": "stream",
     "text": [
      "Batches: 100%|██████████████████████████████████████████████████████████████████████████████████████████████████████████████████████████████████████| 1143/1143 [00:06<00:00, 180.08it/s]\n"
     ]
    },
    {
     "name": "stdout",
     "output_type": "stream",
     "text": [
      "1.1454896926879883\n",
      "Train 1 - loss:1.1455, acc:0.6020\n",
      "Valid 1 - loss:1.0011, acc:0.6605, eval_avg_cost:7.4833\n"
     ]
    },
    {
     "name": "stderr",
     "output_type": "stream",
     "text": [
      "Batches: 100%|██████████████████████████████████████████████████████████████████████████████████████████████████████████████████████████████████████| 1143/1143 [00:06<00:00, 182.03it/s]\n"
     ]
    },
    {
     "name": "stdout",
     "output_type": "stream",
     "text": [
      "0.970358669757843\n",
      "Train 2 - loss:0.9704, acc:0.6668\n",
      "Valid 2 - loss:1.0108, acc:0.6642, eval_avg_cost:6.9367\n"
     ]
    },
    {
     "name": "stderr",
     "output_type": "stream",
     "text": [
      "Batches: 100%|██████████████████████████████████████████████████████████████████████████████████████████████████████████████████████████████████████| 1143/1143 [00:06<00:00, 182.42it/s]\n"
     ]
    },
    {
     "name": "stdout",
     "output_type": "stream",
     "text": [
      "0.945924699306488\n",
      "Train 3 - loss:0.9459, acc:0.6768\n",
      "Valid 3 - loss:0.9863, acc:0.6714, eval_avg_cost:6.5866\n"
     ]
    },
    {
     "name": "stderr",
     "output_type": "stream",
     "text": [
      "Batches: 100%|██████████████████████████████████████████████████████████████████████████████████████████████████████████████████████████████████████| 1143/1143 [00:06<00:00, 183.48it/s]\n"
     ]
    },
    {
     "name": "stdout",
     "output_type": "stream",
     "text": [
      "0.929777204990387\n",
      "Train 4 - loss:0.9298, acc:0.6833\n",
      "Valid 4 - loss:0.9664, acc:0.6797, eval_avg_cost:6.9881\n"
     ]
    },
    {
     "name": "stderr",
     "output_type": "stream",
     "text": [
      "Batches: 100%|██████████████████████████████████████████████████████████████████████████████████████████████████████████████████████████████████████| 1143/1143 [00:06<00:00, 181.43it/s]\n"
     ]
    },
    {
     "name": "stdout",
     "output_type": "stream",
     "text": [
      "0.9185464382171631\n",
      "Train 5 - loss:0.9185, acc:0.6862\n",
      "Valid 5 - loss:0.9292, acc:0.6895, eval_avg_cost:6.6262\n"
     ]
    },
    {
     "name": "stderr",
     "output_type": "stream",
     "text": [
      "Batches: 100%|██████████████████████████████████████████████████████████████████████████████████████████████████████████████████████████████████████| 1143/1143 [00:06<00:00, 179.79it/s]\n"
     ]
    },
    {
     "name": "stdout",
     "output_type": "stream",
     "text": [
      "0.9104288220405579\n",
      "Train 6 - loss:0.9104, acc:0.6902\n",
      "Valid 6 - loss:0.9155, acc:0.6898, eval_avg_cost:7.0149\n"
     ]
    },
    {
     "name": "stderr",
     "output_type": "stream",
     "text": [
      "Batches: 100%|██████████████████████████████████████████████████████████████████████████████████████████████████████████████████████████████████████| 1143/1143 [00:06<00:00, 174.03it/s]\n"
     ]
    },
    {
     "name": "stdout",
     "output_type": "stream",
     "text": [
      "0.9022842049598694\n",
      "Train 7 - loss:0.9023, acc:0.6937\n",
      "Valid 7 - loss:0.9152, acc:0.6927, eval_avg_cost:6.9858\n"
     ]
    },
    {
     "name": "stderr",
     "output_type": "stream",
     "text": [
      "Batches: 100%|██████████████████████████████████████████████████████████████████████████████████████████████████████████████████████████████████████| 1143/1143 [00:06<00:00, 176.57it/s]\n"
     ]
    },
    {
     "name": "stdout",
     "output_type": "stream",
     "text": [
      "0.8956391215324402\n",
      "Train 8 - loss:0.8956, acc:0.6935\n",
      "Valid 8 - loss:0.9122, acc:0.6938, eval_avg_cost:6.8554\n",
      "Valid 0 - loss:1.9440, acc:0.2861, eval_avg_cost:10.8856\n"
     ]
    },
    {
     "name": "stderr",
     "output_type": "stream",
     "text": [
      "Batches: 100%|███████████████████████████████████████████████████████████████████████████████████████████████████████████████████████████████████████| 1143/1143 [00:12<00:00, 94.41it/s]\n"
     ]
    },
    {
     "name": "stdout",
     "output_type": "stream",
     "text": [
      "1.1823564767837524\n",
      "Train 1 - loss:1.1824, acc:0.5929\n",
      "Valid 1 - loss:1.0042, acc:0.6619, eval_avg_cost:7.3656\n"
     ]
    },
    {
     "name": "stderr",
     "output_type": "stream",
     "text": [
      "Batches: 100%|██████████████████████████████████████████████████████████████████████████████████████████████████████████████████████████████████████| 1143/1143 [00:11<00:00, 100.88it/s]\n"
     ]
    },
    {
     "name": "stdout",
     "output_type": "stream",
     "text": [
      "0.9796565175056458\n",
      "Train 2 - loss:0.9797, acc:0.6671\n",
      "Valid 2 - loss:1.0186, acc:0.6650, eval_avg_cost:7.3865\n"
     ]
    },
    {
     "name": "stderr",
     "output_type": "stream",
     "text": [
      "Batches: 100%|███████████████████████████████████████████████████████████████████████████████████████████████████████████████████████████████████████| 1143/1143 [00:11<00:00, 97.55it/s]\n"
     ]
    },
    {
     "name": "stdout",
     "output_type": "stream",
     "text": [
      "0.9503655433654785\n",
      "Train 3 - loss:0.9504, acc:0.6774\n",
      "Valid 3 - loss:0.9985, acc:0.6711, eval_avg_cost:7.1671\n"
     ]
    },
    {
     "name": "stderr",
     "output_type": "stream",
     "text": [
      "Batches: 100%|██████████████████████████████████████████████████████████████████████████████████████████████████████████████████████████████████████| 1143/1143 [00:11<00:00, 102.49it/s]\n"
     ]
    },
    {
     "name": "stdout",
     "output_type": "stream",
     "text": [
      "0.9332484006881714\n",
      "Train 4 - loss:0.9332, acc:0.6840\n",
      "Valid 4 - loss:0.9543, acc:0.6815, eval_avg_cost:7.0263\n"
     ]
    },
    {
     "name": "stderr",
     "output_type": "stream",
     "text": [
      "Batches: 100%|███████████████████████████████████████████████████████████████████████████████████████████████████████████████████████████████████████| 1143/1143 [00:12<00:00, 90.98it/s]\n"
     ]
    },
    {
     "name": "stdout",
     "output_type": "stream",
     "text": [
      "0.921149730682373\n",
      "Train 5 - loss:0.9211, acc:0.6888\n",
      "Valid 5 - loss:0.9817, acc:0.6753, eval_avg_cost:7.0307\n"
     ]
    },
    {
     "name": "stderr",
     "output_type": "stream",
     "text": [
      "Batches: 100%|██████████████████████████████████████████████████████████████████████████████████████████████████████████████████████████████████████| 1143/1143 [00:11<00:00, 100.97it/s]\n"
     ]
    },
    {
     "name": "stdout",
     "output_type": "stream",
     "text": [
      "0.915915846824646\n",
      "Train 6 - loss:0.9159, acc:0.6889\n",
      "Valid 6 - loss:0.9559, acc:0.6834, eval_avg_cost:6.8632\n"
     ]
    },
    {
     "name": "stderr",
     "output_type": "stream",
     "text": [
      "Batches: 100%|███████████████████████████████████████████████████████████████████████████████████████████████████████████████████████████████████████| 1143/1143 [00:11<00:00, 95.37it/s]\n"
     ]
    },
    {
     "name": "stdout",
     "output_type": "stream",
     "text": [
      "0.906629204750061\n",
      "Train 7 - loss:0.9066, acc:0.6907\n",
      "Valid 7 - loss:0.9397, acc:0.6870, eval_avg_cost:7.1210\n"
     ]
    },
    {
     "name": "stderr",
     "output_type": "stream",
     "text": [
      "Batches: 100%|███████████████████████████████████████████████████████████████████████████████████████████████████████████████████████████████████████| 1143/1143 [00:11<00:00, 96.84it/s]\n"
     ]
    },
    {
     "name": "stdout",
     "output_type": "stream",
     "text": [
      "0.9015395045280457\n",
      "Train 8 - loss:0.9015, acc:0.6922\n",
      "Valid 8 - loss:0.9341, acc:0.6906, eval_avg_cost:6.9990\n"
     ]
    }
   ],
   "source": [
    "# model = Model(4, 16, 2, 0.0)\n",
    "stats_dfs = []\n",
    "model_size = [16, 32, 64, 128]\n",
    "for ms in model_size:\n",
    "    model = Model(4, ms, 2, 0.0)\n",
    "    stats_df = train(model, graphs_path, epochs=8, batch_size=32, learning_rate=3e-3, max_instances=2000, max_inference_graphs=5)\n",
    "    stats_dfs.append(stats_df)"
   ]
  },
  {
   "cell_type": "code",
   "execution_count": null,
   "id": "8f19b48e-a282-46fa-bcdb-e27ffdeb28bf",
   "metadata": {},
   "outputs": [],
   "source": []
  },
  {
   "cell_type": "code",
   "execution_count": 11,
   "id": "bba9d0fd-f005-4fc0-92ac-bee013ec39dc",
   "metadata": {
    "collapsed": true,
    "jupyter": {
     "outputs_hidden": true
    }
   },
   "outputs": [
    {
     "name": "stdout",
     "output_type": "stream",
     "text": [
      "Valid 0 - loss:1.8940, acc:0.2876, eval_avg_cost:11.6954\n"
     ]
    },
    {
     "name": "stderr",
     "output_type": "stream",
     "text": [
      "Batches: 100%|██████████████████████████████████████████████████████████████████████████████████████████████████████████████████████████████████████| 1143/1143 [00:03<00:00, 301.01it/s]\n"
     ]
    },
    {
     "name": "stdout",
     "output_type": "stream",
     "text": [
      "1.1870944499969482\n",
      "Train 1 - loss:1.1871, acc:0.5902\n",
      "Valid 1 - loss:0.9858, acc:0.6698, eval_avg_cost:6.7903\n"
     ]
    },
    {
     "name": "stderr",
     "output_type": "stream",
     "text": [
      "Batches: 100%|██████████████████████████████████████████████████████████████████████████████████████████████████████████████████████████████████████| 1143/1143 [00:03<00:00, 304.13it/s]\n"
     ]
    },
    {
     "name": "stdout",
     "output_type": "stream",
     "text": [
      "0.9620951414108276\n",
      "Train 2 - loss:0.9621, acc:0.6706\n",
      "Valid 2 - loss:0.9656, acc:0.6784, eval_avg_cost:7.2098\n"
     ]
    },
    {
     "name": "stderr",
     "output_type": "stream",
     "text": [
      "Batches: 100%|██████████████████████████████████████████████████████████████████████████████████████████████████████████████████████████████████████| 1143/1143 [00:03<00:00, 298.06it/s]\n"
     ]
    },
    {
     "name": "stdout",
     "output_type": "stream",
     "text": [
      "0.9409458041191101\n",
      "Train 3 - loss:0.9409, acc:0.6801\n",
      "Valid 3 - loss:0.9697, acc:0.6810, eval_avg_cost:6.8630\n"
     ]
    },
    {
     "name": "stderr",
     "output_type": "stream",
     "text": [
      "Batches: 100%|██████████████████████████████████████████████████████████████████████████████████████████████████████████████████████████████████████| 1143/1143 [00:03<00:00, 303.69it/s]\n"
     ]
    },
    {
     "name": "stdout",
     "output_type": "stream",
     "text": [
      "0.9307743310928345\n",
      "Train 4 - loss:0.9308, acc:0.6837\n",
      "Valid 4 - loss:0.9443, acc:0.6866, eval_avg_cost:6.8584\n"
     ]
    },
    {
     "name": "stderr",
     "output_type": "stream",
     "text": [
      "Batches: 100%|██████████████████████████████████████████████████████████████████████████████████████████████████████████████████████████████████████| 1143/1143 [00:03<00:00, 309.24it/s]\n"
     ]
    },
    {
     "name": "stdout",
     "output_type": "stream",
     "text": [
      "0.9198874235153198\n",
      "Train 5 - loss:0.9199, acc:0.6891\n",
      "Valid 5 - loss:0.9490, acc:0.6882, eval_avg_cost:7.1298\n"
     ]
    },
    {
     "name": "stderr",
     "output_type": "stream",
     "text": [
      "Batches: 100%|██████████████████████████████████████████████████████████████████████████████████████████████████████████████████████████████████████| 1143/1143 [00:03<00:00, 311.82it/s]\n"
     ]
    },
    {
     "name": "stdout",
     "output_type": "stream",
     "text": [
      "0.9133394956588745\n",
      "Train 6 - loss:0.9133, acc:0.6895\n",
      "Valid 6 - loss:0.9351, acc:0.6888, eval_avg_cost:6.7641\n"
     ]
    },
    {
     "name": "stderr",
     "output_type": "stream",
     "text": [
      "Batches: 100%|██████████████████████████████████████████████████████████████████████████████████████████████████████████████████████████████████████| 1143/1143 [00:03<00:00, 302.83it/s]\n"
     ]
    },
    {
     "name": "stdout",
     "output_type": "stream",
     "text": [
      "0.9087454080581665\n",
      "Train 7 - loss:0.9087, acc:0.6912\n",
      "Valid 7 - loss:0.9279, acc:0.6895, eval_avg_cost:6.5877\n"
     ]
    },
    {
     "name": "stderr",
     "output_type": "stream",
     "text": [
      "Batches: 100%|██████████████████████████████████████████████████████████████████████████████████████████████████████████████████████████████████████| 1143/1143 [00:03<00:00, 319.45it/s]\n"
     ]
    },
    {
     "name": "stdout",
     "output_type": "stream",
     "text": [
      "0.9019145369529724\n",
      "Train 8 - loss:0.9019, acc:0.6940\n",
      "Valid 8 - loss:0.9261, acc:0.6941, eval_avg_cost:6.7679\n",
      "Valid 0 - loss:1.8930, acc:0.2853, eval_avg_cost:11.0825\n"
     ]
    },
    {
     "name": "stderr",
     "output_type": "stream",
     "text": [
      "Batches: 100%|██████████████████████████████████████████████████████████████████████████████████████████████████████████████████████████████████████| 1143/1143 [00:04<00:00, 258.64it/s]\n"
     ]
    },
    {
     "name": "stdout",
     "output_type": "stream",
     "text": [
      "1.2775561809539795\n",
      "Train 1 - loss:1.2776, acc:0.5519\n",
      "Valid 1 - loss:1.0230, acc:0.6546, eval_avg_cost:6.8436\n"
     ]
    },
    {
     "name": "stderr",
     "output_type": "stream",
     "text": [
      "Batches: 100%|██████████████████████████████████████████████████████████████████████████████████████████████████████████████████████████████████████| 1143/1143 [00:04<00:00, 253.90it/s]\n"
     ]
    },
    {
     "name": "stdout",
     "output_type": "stream",
     "text": [
      "0.9637724757194519\n",
      "Train 2 - loss:0.9638, acc:0.6686\n",
      "Valid 2 - loss:0.9513, acc:0.6816, eval_avg_cost:6.9762\n"
     ]
    },
    {
     "name": "stderr",
     "output_type": "stream",
     "text": [
      "Batches: 100%|██████████████████████████████████████████████████████████████████████████████████████████████████████████████████████████████████████| 1143/1143 [00:04<00:00, 252.58it/s]\n"
     ]
    },
    {
     "name": "stdout",
     "output_type": "stream",
     "text": [
      "0.9358534812927246\n",
      "Train 3 - loss:0.9359, acc:0.6807\n",
      "Valid 3 - loss:0.9497, acc:0.6860, eval_avg_cost:6.4973\n"
     ]
    },
    {
     "name": "stderr",
     "output_type": "stream",
     "text": [
      "Batches: 100%|██████████████████████████████████████████████████████████████████████████████████████████████████████████████████████████████████████| 1143/1143 [00:04<00:00, 263.58it/s]\n"
     ]
    },
    {
     "name": "stdout",
     "output_type": "stream",
     "text": [
      "0.9208846092224121\n",
      "Train 4 - loss:0.9209, acc:0.6861\n",
      "Valid 4 - loss:0.9487, acc:0.6851, eval_avg_cost:6.7005\n"
     ]
    },
    {
     "name": "stderr",
     "output_type": "stream",
     "text": [
      "Batches: 100%|██████████████████████████████████████████████████████████████████████████████████████████████████████████████████████████████████████| 1143/1143 [00:04<00:00, 267.03it/s]\n"
     ]
    },
    {
     "name": "stdout",
     "output_type": "stream",
     "text": [
      "0.9113801717758179\n",
      "Train 5 - loss:0.9114, acc:0.6900\n",
      "Valid 5 - loss:0.9439, acc:0.6895, eval_avg_cost:6.6044\n"
     ]
    },
    {
     "name": "stderr",
     "output_type": "stream",
     "text": [
      "Batches: 100%|██████████████████████████████████████████████████████████████████████████████████████████████████████████████████████████████████████| 1143/1143 [00:04<00:00, 259.42it/s]\n"
     ]
    },
    {
     "name": "stdout",
     "output_type": "stream",
     "text": [
      "0.903191328048706\n",
      "Train 6 - loss:0.9032, acc:0.6917\n",
      "Valid 6 - loss:0.9357, acc:0.6896, eval_avg_cost:7.0511\n"
     ]
    },
    {
     "name": "stderr",
     "output_type": "stream",
     "text": [
      "Batches: 100%|██████████████████████████████████████████████████████████████████████████████████████████████████████████████████████████████████████| 1143/1143 [00:04<00:00, 258.11it/s]\n"
     ]
    },
    {
     "name": "stdout",
     "output_type": "stream",
     "text": [
      "0.8990969657897949\n",
      "Train 7 - loss:0.8991, acc:0.6943\n",
      "Valid 7 - loss:0.9215, acc:0.6944, eval_avg_cost:6.7870\n"
     ]
    },
    {
     "name": "stderr",
     "output_type": "stream",
     "text": [
      "Batches: 100%|██████████████████████████████████████████████████████████████████████████████████████████████████████████████████████████████████████| 1143/1143 [00:04<00:00, 248.05it/s]\n"
     ]
    },
    {
     "name": "stdout",
     "output_type": "stream",
     "text": [
      "0.891549289226532\n",
      "Train 8 - loss:0.8915, acc:0.6953\n",
      "Valid 8 - loss:0.9230, acc:0.6956, eval_avg_cost:6.8106\n",
      "Valid 0 - loss:1.8891, acc:0.2861, eval_avg_cost:10.9676\n"
     ]
    },
    {
     "name": "stderr",
     "output_type": "stream",
     "text": [
      "Batches: 100%|██████████████████████████████████████████████████████████████████████████████████████████████████████████████████████████████████████| 1143/1143 [00:05<00:00, 208.55it/s]\n"
     ]
    },
    {
     "name": "stdout",
     "output_type": "stream",
     "text": [
      "1.1662874221801758\n",
      "Train 1 - loss:1.1663, acc:0.5925\n",
      "Valid 1 - loss:0.9903, acc:0.6709, eval_avg_cost:7.2427\n"
     ]
    },
    {
     "name": "stderr",
     "output_type": "stream",
     "text": [
      "Batches: 100%|██████████████████████████████████████████████████████████████████████████████████████████████████████████████████████████████████████| 1143/1143 [00:05<00:00, 213.24it/s]\n"
     ]
    },
    {
     "name": "stdout",
     "output_type": "stream",
     "text": [
      "0.9607914686203003\n",
      "Train 2 - loss:0.9608, acc:0.6726\n",
      "Valid 2 - loss:0.9585, acc:0.6825, eval_avg_cost:6.8780\n"
     ]
    },
    {
     "name": "stderr",
     "output_type": "stream",
     "text": [
      "Batches: 100%|██████████████████████████████████████████████████████████████████████████████████████████████████████████████████████████████████████| 1143/1143 [00:05<00:00, 202.55it/s]\n"
     ]
    },
    {
     "name": "stdout",
     "output_type": "stream",
     "text": [
      "0.9354356527328491\n",
      "Train 3 - loss:0.9354, acc:0.6808\n",
      "Valid 3 - loss:0.9519, acc:0.6852, eval_avg_cost:7.0482\n"
     ]
    },
    {
     "name": "stderr",
     "output_type": "stream",
     "text": [
      "Batches: 100%|██████████████████████████████████████████████████████████████████████████████████████████████████████████████████████████████████████| 1143/1143 [00:05<00:00, 205.45it/s]\n"
     ]
    },
    {
     "name": "stdout",
     "output_type": "stream",
     "text": [
      "0.9217938184738159\n",
      "Train 4 - loss:0.9218, acc:0.6873\n",
      "Valid 4 - loss:0.9429, acc:0.6899, eval_avg_cost:6.8479\n"
     ]
    },
    {
     "name": "stderr",
     "output_type": "stream",
     "text": [
      "Batches: 100%|██████████████████████████████████████████████████████████████████████████████████████████████████████████████████████████████████████| 1143/1143 [00:05<00:00, 204.33it/s]\n"
     ]
    },
    {
     "name": "stdout",
     "output_type": "stream",
     "text": [
      "0.9110931158065796\n",
      "Train 5 - loss:0.9111, acc:0.6898\n",
      "Valid 5 - loss:0.9404, acc:0.6930, eval_avg_cost:6.7304\n"
     ]
    },
    {
     "name": "stderr",
     "output_type": "stream",
     "text": [
      "Batches: 100%|██████████████████████████████████████████████████████████████████████████████████████████████████████████████████████████████████████| 1143/1143 [00:05<00:00, 210.54it/s]\n"
     ]
    },
    {
     "name": "stdout",
     "output_type": "stream",
     "text": [
      "0.9028344750404358\n",
      "Train 6 - loss:0.9028, acc:0.6915\n",
      "Valid 6 - loss:0.9277, acc:0.6978, eval_avg_cost:6.4874\n"
     ]
    },
    {
     "name": "stderr",
     "output_type": "stream",
     "text": [
      "Batches: 100%|██████████████████████████████████████████████████████████████████████████████████████████████████████████████████████████████████████| 1143/1143 [00:05<00:00, 214.01it/s]\n"
     ]
    },
    {
     "name": "stdout",
     "output_type": "stream",
     "text": [
      "0.8959934115409851\n",
      "Train 7 - loss:0.8960, acc:0.6943\n",
      "Valid 7 - loss:0.9057, acc:0.7025, eval_avg_cost:6.6936\n"
     ]
    },
    {
     "name": "stderr",
     "output_type": "stream",
     "text": [
      "Batches: 100%|██████████████████████████████████████████████████████████████████████████████████████████████████████████████████████████████████████| 1143/1143 [00:05<00:00, 204.99it/s]\n"
     ]
    },
    {
     "name": "stdout",
     "output_type": "stream",
     "text": [
      "0.8888952732086182\n",
      "Train 8 - loss:0.8889, acc:0.6973\n",
      "Valid 8 - loss:0.8947, acc:0.6997, eval_avg_cost:6.9578\n",
      "Valid 0 - loss:1.8953, acc:0.2876, eval_avg_cost:11.0221\n"
     ]
    },
    {
     "name": "stderr",
     "output_type": "stream",
     "text": [
      "Batches: 100%|██████████████████████████████████████████████████████████████████████████████████████████████████████████████████████████████████████| 1143/1143 [00:06<00:00, 179.65it/s]\n"
     ]
    },
    {
     "name": "stdout",
     "output_type": "stream",
     "text": [
      "1.2115610837936401\n",
      "Train 1 - loss:1.2116, acc:0.5770\n",
      "Valid 1 - loss:0.9904, acc:0.6737, eval_avg_cost:7.0990\n"
     ]
    },
    {
     "name": "stderr",
     "output_type": "stream",
     "text": [
      "Batches: 100%|██████████████████████████████████████████████████████████████████████████████████████████████████████████████████████████████████████| 1143/1143 [00:06<00:00, 181.25it/s]\n"
     ]
    },
    {
     "name": "stdout",
     "output_type": "stream",
     "text": [
      "0.9614027142524719\n",
      "Train 2 - loss:0.9614, acc:0.6734\n",
      "Valid 2 - loss:0.9658, acc:0.6774, eval_avg_cost:6.7300\n"
     ]
    },
    {
     "name": "stderr",
     "output_type": "stream",
     "text": [
      "Batches: 100%|██████████████████████████████████████████████████████████████████████████████████████████████████████████████████████████████████████| 1143/1143 [00:06<00:00, 186.24it/s]\n"
     ]
    },
    {
     "name": "stdout",
     "output_type": "stream",
     "text": [
      "0.9410810470581055\n",
      "Train 3 - loss:0.9411, acc:0.6813\n",
      "Valid 3 - loss:0.9422, acc:0.6875, eval_avg_cost:6.8659\n"
     ]
    },
    {
     "name": "stderr",
     "output_type": "stream",
     "text": [
      "Batches: 100%|██████████████████████████████████████████████████████████████████████████████████████████████████████████████████████████████████████| 1143/1143 [00:06<00:00, 180.67it/s]\n"
     ]
    },
    {
     "name": "stdout",
     "output_type": "stream",
     "text": [
      "0.926705539226532\n",
      "Train 4 - loss:0.9267, acc:0.6858\n",
      "Valid 4 - loss:0.9410, acc:0.6873, eval_avg_cost:6.7093\n"
     ]
    },
    {
     "name": "stderr",
     "output_type": "stream",
     "text": [
      "Batches: 100%|██████████████████████████████████████████████████████████████████████████████████████████████████████████████████████████████████████| 1143/1143 [00:06<00:00, 180.31it/s]\n"
     ]
    },
    {
     "name": "stdout",
     "output_type": "stream",
     "text": [
      "0.9165223836898804\n",
      "Train 5 - loss:0.9165, acc:0.6894\n",
      "Valid 5 - loss:0.9313, acc:0.6880, eval_avg_cost:6.7146\n"
     ]
    },
    {
     "name": "stderr",
     "output_type": "stream",
     "text": [
      "Batches: 100%|██████████████████████████████████████████████████████████████████████████████████████████████████████████████████████████████████████| 1143/1143 [00:06<00:00, 175.25it/s]\n"
     ]
    },
    {
     "name": "stdout",
     "output_type": "stream",
     "text": [
      "0.9057558178901672\n",
      "Train 6 - loss:0.9058, acc:0.6924\n",
      "Valid 6 - loss:0.9197, acc:0.6917, eval_avg_cost:6.8397\n"
     ]
    },
    {
     "name": "stderr",
     "output_type": "stream",
     "text": [
      "Batches: 100%|██████████████████████████████████████████████████████████████████████████████████████████████████████████████████████████████████████| 1143/1143 [00:06<00:00, 179.69it/s]\n"
     ]
    },
    {
     "name": "stdout",
     "output_type": "stream",
     "text": [
      "0.8995087742805481\n",
      "Train 7 - loss:0.8995, acc:0.6935\n",
      "Valid 7 - loss:0.9221, acc:0.6946, eval_avg_cost:6.6850\n"
     ]
    },
    {
     "name": "stderr",
     "output_type": "stream",
     "text": [
      "Batches: 100%|██████████████████████████████████████████████████████████████████████████████████████████████████████████████████████████████████████| 1143/1143 [00:06<00:00, 176.94it/s]\n"
     ]
    },
    {
     "name": "stdout",
     "output_type": "stream",
     "text": [
      "0.8933979868888855\n",
      "Train 8 - loss:0.8934, acc:0.6959\n",
      "Valid 8 - loss:0.9139, acc:0.6948, eval_avg_cost:6.9943\n"
     ]
    }
   ],
   "source": [
    "# model = Model(4, 16, 2, 0.0)\n",
    "stats_dfs = []\n",
    "model_depths = [1, 2, 3, 4]\n",
    "for md in model_depths:\n",
    "    model = Model(4, 32, md, 0.0)\n",
    "    stats_df = train(model, graphs_path, epochs=8, batch_size=32, learning_rate=3e-3, max_instances=2000, max_inference_graphs=5)\n",
    "    stats_dfs.append(stats_df)"
   ]
  },
  {
   "cell_type": "code",
   "execution_count": null,
   "id": "e17c2d82-5e64-4a94-bf44-fd8e3210c000",
   "metadata": {},
   "outputs": [],
   "source": []
  },
  {
   "cell_type": "code",
   "execution_count": null,
   "id": "cc77b724-c8d3-4d2b-afe7-571bdb811f33",
   "metadata": {},
   "outputs": [],
   "source": [
    "# model = Model(4, 16, 2, 0.0)\n",
    "stats_dfs = []\n",
    "model_depths = [1, 2, 3, 4]\n",
    "for md in model_depths:\n",
    "    model = Model(4, 32, md, 0.0)\n",
    "    stats_df = train(model, graphs_path, epochs=8, batch_size=32, learning_rate=3e-3, max_instances=2000, max_inference_graphs=5)\n",
    "    stats_dfs.append(stats_df)"
   ]
  },
  {
   "cell_type": "code",
   "execution_count": null,
   "id": "b51859d6-93ef-474b-bf46-e7c4bb5890c3",
   "metadata": {},
   "outputs": [],
   "source": []
  },
  {
   "cell_type": "code",
   "execution_count": null,
   "id": "718645e2-f60a-471c-8983-b865bf3609e4",
   "metadata": {},
   "outputs": [],
   "source": []
  },
  {
   "cell_type": "code",
   "execution_count": null,
   "id": "b88ea4eb-0f6b-4fc0-837c-30e76163233a",
   "metadata": {},
   "outputs": [],
   "source": []
  },
  {
   "cell_type": "code",
   "execution_count": 7,
   "id": "144bdddf-9582-4556-82fe-1df97d5801bb",
   "metadata": {},
   "outputs": [
    {
     "data": {
      "text/plain": [
       "'a'"
      ]
     },
     "execution_count": 7,
     "metadata": {},
     "output_type": "execute_result"
    }
   ],
   "source": [
    "'a'"
   ]
  },
  {
   "cell_type": "code",
   "execution_count": null,
   "id": "80e335ed-942e-46d1-8197-78722de66d29",
   "metadata": {},
   "outputs": [],
   "source": []
  },
  {
   "cell_type": "code",
   "execution_count": 8,
   "id": "78593fb3-c297-4a47-b8b7-bef3e6a3f869",
   "metadata": {},
   "outputs": [],
   "source": [
    "stats_df = stats_df.set_index([\"metric\", \"epoch\"]).unstack(\"metric\")[\"value\"]"
   ]
  },
  {
   "cell_type": "code",
   "execution_count": 9,
   "id": "0c240c31-3541-4efd-9f39-22cb3df1d9de",
   "metadata": {},
   "outputs": [
    {
     "data": {
      "text/plain": [
       "<AxesSubplot:xlabel='epoch'>"
      ]
     },
     "execution_count": 9,
     "metadata": {},
     "output_type": "execute_result"
    },
    {
     "data": {
      "image/png": "[encoded data removed]",
      "text/plain": [
       "<Figure size 640x480 with 1 Axes>"
      ]
     },
     "metadata": {},
     "output_type": "display_data"
    }
   ],
   "source": [
    "stats_df[[\"valid_eval_cost\"]].plot()"
   ]
  },
  {
   "cell_type": "code",
   "execution_count": 10,
   "id": "c490892d-a9e4-4d6f-a9a3-10925deacaa3",
   "metadata": {},
   "outputs": [
    {
     "data": {
      "text/plain": [
       "<AxesSubplot:xlabel='epoch'>"
      ]
     },
     "execution_count": 10,
     "metadata": {},
     "output_type": "execute_result"
    },
    {
     "data": {
      "image/png": "[encoded data removed]",
      "text/plain": [
       "<Figure size 640x480 with 1 Axes>"
      ]
     },
     "metadata": {},
     "output_type": "display_data"
    }
   ],
   "source": [
    "stats_df[[\"train_acc\", \"valid_acc\"]].plot()"
   ]
  },
  {
   "cell_type": "code",
   "execution_count": 11,
   "id": "d0d9c632-48ab-44c9-8cd9-140caab67b80",
   "metadata": {},
   "outputs": [
    {
     "data": {
      "text/plain": [
       "<AxesSubplot:xlabel='epoch'>"
      ]
     },
     "execution_count": 11,
     "metadata": {},
     "output_type": "execute_result"
    },
    {
     "data": {
      "image/png": "[encoded data removed]",
      "text/plain": [
       "<Figure size 640x480 with 1 Axes>"
      ]
     },
     "metadata": {},
     "output_type": "display_data"
    }
   ],
   "source": [
    "stats_df[[\"train_loss\", \"valid_loss\"]].plot()"
   ]
  },
  {
   "cell_type": "code",
   "execution_count": null,
   "id": "deb9069b-bcf1-4324-9ea6-620c8fd244c1",
   "metadata": {},
   "outputs": [],
   "source": []
  },
  {
   "cell_type": "code",
   "execution_count": null,
   "id": "43bf1c12-b014-415d-b2a7-bc0aeb3d430b",
   "metadata": {},
   "outputs": [],
   "source": []
  },
  {
   "cell_type": "code",
   "execution_count": 12,
   "id": "067a6eb7-3b72-4256-9bd4-116699abda60",
   "metadata": {},
   "outputs": [],
   "source": [
    "graphs = pd.read_pickle(graphs_path)"
   ]
  },
  {
   "cell_type": "code",
   "execution_count": 13,
   "id": "1883447d-32d5-4aa0-9b1e-281af2683e81",
   "metadata": {},
   "outputs": [],
   "source": [
    "graph_collections = [create_graph_no_sol(g) for g, _ in graphs]"
   ]
  },
  {
   "cell_type": "code",
   "execution_count": 83,
   "id": "3464c912-184a-429a-a891-4efd41606e83",
   "metadata": {},
   "outputs": [
    {
     "name": "stderr",
     "output_type": "stream",
     "text": [
      "100%|██████████████████████████████████████████████████████████████████████████████████████████████████████████████████████████████████████| 100/100 [07:16<00:00,  4.36s/it]\n"
     ]
    }
   ],
   "source": [
    "solved_graphs = []\n",
    "for g, orig_g in tqdm(list(zip(graph_collections, graphs))[-100:]):\n",
    "    # g = deepcopy(graph_collections[0])\n",
    "    g = deepcopy(g)\n",
    "    g.update_node(orig_g[1][1][0]) # unf we have to do this for now\n",
    "    res_g = beam_inference_single(model, g, beam_width=10)\n",
    "    # res_g = greedy_inference_single(model, g)\n",
    "    solved_graphs.append(res_g)"
   ]
  },
  {
   "cell_type": "code",
   "execution_count": 84,
   "id": "50a7b554-bc0d-446d-ba92-886db4712252",
   "metadata": {},
   "outputs": [
    {
     "name": "stdout",
     "output_type": "stream",
     "text": [
      "saved\n"
     ]
    },
    {
     "data": {
      "image/png": "[encoded data removed]",
      "text/plain": [
       "<Figure size 640x480 with 1 Axes>"
      ]
     },
     "metadata": {},
     "output_type": "display_data"
    }
   ],
   "source": [
    "example_g = solved_graphs[5].get_all_graphs()[-1]\n",
    "example_g.draw_graph()"
   ]
  },
  {
   "cell_type": "code",
   "execution_count": 85,
   "id": "2d5cad74-d51c-493e-a877-2dc935ef59e9",
   "metadata": {},
   "outputs": [],
   "source": [
    "import numpy as np"
   ]
  },
  {
   "cell_type": "code",
   "execution_count": 86,
   "id": "34f876d0-65ba-403b-83bf-280cea219379",
   "metadata": {},
   "outputs": [
    {
     "data": {
      "text/plain": [
       "7.176768991325713"
      ]
     },
     "execution_count": 86,
     "metadata": {},
     "output_type": "execute_result"
    }
   ],
   "source": [
    "np.mean([sg.get_full_solution_cost() for sg in solved_graphs])"
   ]
  },
  {
   "cell_type": "code",
   "execution_count": null,
   "id": "b68e6916-7b87-4b74-bb0f-386d26f9c68c",
   "metadata": {},
   "outputs": [],
   "source": []
  },
  {
   "cell_type": "code",
   "execution_count": null,
   "id": "5480b920-5f2c-4514-9dd8-560616816a9a",
   "metadata": {},
   "outputs": [],
   "source": []
  },
  {
   "cell_type": "code",
   "execution_count": null,
   "id": "37816fc5-f1ab-4288-808c-5f6a0db6afc8",
   "metadata": {},
   "outputs": [],
   "source": []
  },
  {
   "cell_type": "markdown",
   "id": "c1bb083f-3de2-4f9a-adb2-413e2cf8f568",
   "metadata": {},
   "source": [
    "## Solving graphs"
   ]
  },
  {
   "cell_type": "code",
   "execution_count": 3,
   "id": "e1ba43f6-33b8-425f-9d1f-a660e80b40f3",
   "metadata": {},
   "outputs": [],
   "source": [
    "import torch\n",
    "import pandas as pd\n",
    "from copy import deepcopy\n",
    "from tqdm import tqdm\n",
    "\n",
    "from training_new import get_data_loaders, train\n",
    "from model import Model, DummyModel\n",
    "from inference import greedy_inference_single\n",
    "from util import create_graph_no_sol"
   ]
  },
  {
   "cell_type": "code",
   "execution_count": 4,
   "id": "99f5efa0-59bd-4db8-a41c-57a737de882c",
   "metadata": {},
   "outputs": [],
   "source": [
    "graphs_path = \"./solver/sol_examples/vrp20/sols.pkl\""
   ]
  },
  {
   "cell_type": "code",
   "execution_count": 5,
   "id": "544ba3c4-85f9-424c-8455-b5e0cf5c6afa",
   "metadata": {},
   "outputs": [
    {
     "name": "stderr",
     "output_type": "stream",
     "text": [
      "Parsing Graphs: 100%|██████████████████████████████████████████████████████████████████████████████████████████████████████████████████████| 20/20 [00:00<00:00, 105.26it/s]\n"
     ]
    }
   ],
   "source": [
    "train_dl, valid_dl = get_data_loaders(graphs_path, batch_size=5, max_instances=20)"
   ]
  },
  {
   "cell_type": "code",
   "execution_count": 12,
   "id": "ae0c4148-1043-4201-9568-1845e9798ac5",
   "metadata": {},
   "outputs": [
    {
     "name": "stdout",
     "output_type": "stream",
     "text": [
      "0.003\n"
     ]
    },
    {
     "name": "stderr",
     "output_type": "stream",
     "text": [
      "Parsing Graphs: 100%|██████████████████████████████████████████████████████████████████████████████████████████████████████████████████| 2000/2000 [00:18<00:00, 109.75it/s]\n",
      "Batches: 100%|█████████████████████████████████████████████████████████████████████████████████████████████████████████████████████████| 2185/2185 [00:07<00:00, 294.25it/s]\n"
     ]
    },
    {
     "name": "stdout",
     "output_type": "stream",
     "text": [
      "Train 0 - loss:1.1918, acc:0.5872\n",
      "Valid 0 - loss:1.0585, acc:0.6409\n"
     ]
    },
    {
     "name": "stderr",
     "output_type": "stream",
     "text": [
      "Batches: 100%|█████████████████████████████████████████████████████████████████████████████████████████████████████████████████████████| 2185/2185 [00:07<00:00, 284.91it/s]\n"
     ]
    },
    {
     "name": "stdout",
     "output_type": "stream",
     "text": [
      "Train 1 - loss:1.0033, acc:0.6596\n",
      "Valid 1 - loss:1.0385, acc:0.6562\n"
     ]
    },
    {
     "name": "stderr",
     "output_type": "stream",
     "text": [
      "Batches: 100%|█████████████████████████████████████████████████████████████████████████████████████████████████████████████████████████| 2185/2185 [00:07<00:00, 305.36it/s]\n"
     ]
    },
    {
     "name": "stdout",
     "output_type": "stream",
     "text": [
      "Train 2 - loss:0.9835, acc:0.6676\n",
      "Valid 2 - loss:1.0111, acc:0.6747\n"
     ]
    },
    {
     "name": "stderr",
     "output_type": "stream",
     "text": [
      "Batches: 100%|█████████████████████████████████████████████████████████████████████████████████████████████████████████████████████████| 2185/2185 [00:06<00:00, 315.54it/s]\n"
     ]
    },
    {
     "name": "stdout",
     "output_type": "stream",
     "text": [
      "Train 3 - loss:0.9719, acc:0.6673\n",
      "Valid 3 - loss:0.9853, acc:0.6801\n"
     ]
    },
    {
     "name": "stderr",
     "output_type": "stream",
     "text": [
      "Batches: 100%|█████████████████████████████████████████████████████████████████████████████████████████████████████████████████████████| 2185/2185 [00:06<00:00, 316.94it/s]\n"
     ]
    },
    {
     "name": "stdout",
     "output_type": "stream",
     "text": [
      "Train 4 - loss:0.9607, acc:0.6708\n",
      "Valid 4 - loss:1.0037, acc:0.6746\n"
     ]
    }
   ],
   "source": [
    "model = Model(4, 20, 2, 0.0)\n",
    "train(model, \"./solver/sol_examples/vrp20/sols.pkl\", epochs=5, batch_size=16, learning_rate=3e-3, max_instances=2000)"
   ]
  },
  {
   "cell_type": "code",
   "execution_count": 11,
   "id": "9cfee2ae-9727-44dc-8f49-e59cee5c92c5",
   "metadata": {},
   "outputs": [],
   "source": [
    "graphs = pd.read_pickle(graphs_path)"
   ]
  },
  {
   "cell_type": "code",
   "execution_count": 12,
   "id": "34d1ff62-3a06-4023-be33-3bfb2335d73e",
   "metadata": {},
   "outputs": [],
   "source": [
    "graph_collections = [create_graph_no_sol(g) for g, _ in graphs]"
   ]
  },
  {
   "cell_type": "code",
   "execution_count": 16,
   "id": "314dd0ca-981c-4100-896b-795284352004",
   "metadata": {},
   "outputs": [
    {
     "name": "stderr",
     "output_type": "stream",
     "text": [
      "[autoreload of inference failed: Traceback (most recent call last):\n",
      "  File \"/opt/homebrew/anaconda3/envs/pyt1-osx-64/lib/python3.10/site-packages/IPython/extensions/autoreload.py\", line 276, in check\n",
      "    superreload(m, reload, self.old_objects)\n",
      "  File \"/opt/homebrew/anaconda3/envs/pyt1-osx-64/lib/python3.10/site-packages/IPython/extensions/autoreload.py\", line 475, in superreload\n",
      "    module = reload(module)\n",
      "  File \"/opt/homebrew/anaconda3/envs/pyt1-osx-64/lib/python3.10/importlib/__init__.py\", line 169, in reload\n",
      "    _bootstrap._exec(spec, module)\n",
      "  File \"<frozen importlib._bootstrap>\", line 619, in _exec\n",
      "  File \"<frozen importlib._bootstrap_external>\", line 879, in exec_module\n",
      "  File \"<frozen importlib._bootstrap_external>\", line 1017, in get_code\n",
      "  File \"<frozen importlib._bootstrap_external>\", line 947, in source_to_code\n",
      "  File \"<frozen importlib._bootstrap>\", line 241, in _call_with_frames_removed\n",
      "  File \"/Users/roberto/Desktop/stanford/cs224w/project/cs224w/inference.py\", line 54\n",
      "    def run_inference(graphs: List[(GraphCollection, List[int])])\n",
      "                                                                 ^\n",
      "SyntaxError: expected ':'\n",
      "]\n",
      "[autoreload of training_new failed: Traceback (most recent call last):\n",
      "  File \"/opt/homebrew/anaconda3/envs/pyt1-osx-64/lib/python3.10/site-packages/IPython/extensions/autoreload.py\", line 276, in check\n",
      "    superreload(m, reload, self.old_objects)\n",
      "  File \"/opt/homebrew/anaconda3/envs/pyt1-osx-64/lib/python3.10/site-packages/IPython/extensions/autoreload.py\", line 475, in superreload\n",
      "    module = reload(module)\n",
      "  File \"/opt/homebrew/anaconda3/envs/pyt1-osx-64/lib/python3.10/importlib/__init__.py\", line 169, in reload\n",
      "    _bootstrap._exec(spec, module)\n",
      "  File \"<frozen importlib._bootstrap>\", line 619, in _exec\n",
      "  File \"<frozen importlib._bootstrap_external>\", line 883, in exec_module\n",
      "  File \"<frozen importlib._bootstrap>\", line 241, in _call_with_frames_removed\n",
      "  File \"/Users/roberto/Desktop/stanford/cs224w/project/cs224w/training_new.py\", line 26, in <module>\n",
      "    ) -> (List[GraphCollection], List[(GraphCollection, List[int])]):\n",
      "  File \"/opt/homebrew/anaconda3/envs/pyt1-osx-64/lib/python3.10/typing.py\", line 312, in inner\n",
      "    return func(*args, **kwds)\n",
      "  File \"/opt/homebrew/anaconda3/envs/pyt1-osx-64/lib/python3.10/typing.py\", line 1144, in __getitem__\n",
      "    _check_generic(self, params, self._nparams)\n",
      "  File \"/opt/homebrew/anaconda3/envs/pyt1-osx-64/lib/python3.10/site-packages/typing_extensions.py\", line 164, in _check_generic\n",
      "    raise TypeError(f\"Too {'many' if alen > elen else 'few'} parameters for {cls};\"\n",
      "TypeError: Too many parameters for typing.List; actual 2, expected 1\n",
      "]\n",
      "100%|████████████████████████████████████████████████████████████████████████████████████████████████████████████████████████████████████████████████████████| 100/100 [00:03<00:00, 25.65it/s]\n"
     ]
    }
   ],
   "source": [
    "solved_graphs = []\n",
    "for g, orig_g in tqdm(list(zip(graph_collections, graphs))[:100]):\n",
    "    g = deepcopy(graph_collections[0])\n",
    "    g = deepcopy(g)\n",
    "    g.update_node(orig_g[1][1][0]) # unf we have to do this for now\n",
    "    res_g = greedy_inference_single(model, g)\n",
    "    solved_graphs.append(res_g)"
   ]
  },
  {
   "cell_type": "code",
   "execution_count": 17,
   "id": "85316ec2-8049-4982-ad24-c37992ad9150",
   "metadata": {},
   "outputs": [
    {
     "data": {
      "text/plain": [
       "7.199907914085822"
      ]
     },
     "execution_count": 17,
     "metadata": {},
     "output_type": "execute_result"
    }
   ],
   "source": [
    "solved_graphs[0].get_full_solution_cost()"
   ]
  },
  {
   "cell_type": "code",
   "execution_count": 39,
   "id": "d6882dec-0a54-47ce-9462-cafd208f2c42",
   "metadata": {},
   "outputs": [
    {
     "data": {
      "text/plain": [
       "8.23473345975078"
      ]
     },
     "execution_count": 39,
     "metadata": {},
     "output_type": "execute_result"
    }
   ],
   "source": [
    "np.mean([sg.get_full_solution_cost() for sg in solved_graphs])"
   ]
  },
  {
   "cell_type": "code",
   "execution_count": null,
   "id": "979c041c-6ad9-4f5f-b57d-5f714de436de",
   "metadata": {},
   "outputs": [],
   "source": []
  },
  {
   "cell_type": "code",
   "execution_count": null,
   "id": "fb2cc36a-f681-4264-9213-9796bd15dee3",
   "metadata": {},
   "outputs": [],
   "source": []
  }
 ],
 "metadata": {
  "kernelspec": {
   "display_name": "Python 3 (ipykernel)",
   "language": "python",
   "name": "python3"
  },
  "language_info": {
   "codemirror_mode": {
    "name": "ipython",
    "version": 3
   },
   "file_extension": ".py",
   "mimetype": "text/x-python",
   "name": "python",
   "nbconvert_exporter": "python",
   "pygments_lexer": "ipython3",
   "version": "3.10.13"
  }
 },
 "nbformat": 4,
 "nbformat_minor": 5
}
