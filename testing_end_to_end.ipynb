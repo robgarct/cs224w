{
 "cells": [
  {
   "cell_type": "code",
   "execution_count": 1,
   "id": "fbb63400-fdd9-44e3-866f-20c81acc65bc",
   "metadata": {},
   "outputs": [],
   "source": [
    "%load_ext autoreload\n",
    "%autoreload 2"
   ]
  },
  {
   "cell_type": "code",
   "execution_count": 3,
   "id": "e1ba43f6-33b8-425f-9d1f-a660e80b40f3",
   "metadata": {},
   "outputs": [],
   "source": [
    "import torch\n",
    "import pandas as pd\n",
    "from copy import deepcopy\n",
    "from tqdm import tqdm\n",
    "\n",
    "from training_new import get_data_loaders, train\n",
    "from model import Model, DummyModel\n",
    "from inference import greedy_inference_single\n",
    "from util import create_graph_no_sol"
   ]
  },
  {
   "cell_type": "code",
   "execution_count": 4,
   "id": "99f5efa0-59bd-4db8-a41c-57a737de882c",
   "metadata": {},
   "outputs": [],
   "source": [
    "graphs_path = \"./solver/sol_examples/vrp20/sols.pkl\""
   ]
  },
  {
   "cell_type": "code",
   "execution_count": 5,
   "id": "544ba3c4-85f9-424c-8455-b5e0cf5c6afa",
   "metadata": {},
   "outputs": [
    {
     "name": "stderr",
     "output_type": "stream",
     "text": [
      "Parsing Graphs: 100%|██████████████████████████████████████████████████████████████████████████████████████████████████████████████████████| 20/20 [00:00<00:00, 105.26it/s]\n"
     ]
    }
   ],
   "source": [
    "train_dl, valid_dl = get_data_loaders(graphs_path, batch_size=5, max_instances=20)"
   ]
  },
  {
   "cell_type": "code",
   "execution_count": 12,
   "id": "ae0c4148-1043-4201-9568-1845e9798ac5",
   "metadata": {},
   "outputs": [
    {
     "name": "stdout",
     "output_type": "stream",
     "text": [
      "0.003\n"
     ]
    },
    {
     "name": "stderr",
     "output_type": "stream",
     "text": [
      "Parsing Graphs: 100%|██████████████████████████████████████████████████████████████████████████████████████████████████████████████████| 2000/2000 [00:18<00:00, 109.75it/s]\n",
      "Batches: 100%|█████████████████████████████████████████████████████████████████████████████████████████████████████████████████████████| 2185/2185 [00:07<00:00, 294.25it/s]\n"
     ]
    },
    {
     "name": "stdout",
     "output_type": "stream",
     "text": [
      "Train 0 - loss:1.1918, acc:0.5872\n",
      "Valid 0 - loss:1.0585, acc:0.6409\n"
     ]
    },
    {
     "name": "stderr",
     "output_type": "stream",
     "text": [
      "Batches: 100%|█████████████████████████████████████████████████████████████████████████████████████████████████████████████████████████| 2185/2185 [00:07<00:00, 284.91it/s]\n"
     ]
    },
    {
     "name": "stdout",
     "output_type": "stream",
     "text": [
      "Train 1 - loss:1.0033, acc:0.6596\n",
      "Valid 1 - loss:1.0385, acc:0.6562\n"
     ]
    },
    {
     "name": "stderr",
     "output_type": "stream",
     "text": [
      "Batches: 100%|█████████████████████████████████████████████████████████████████████████████████████████████████████████████████████████| 2185/2185 [00:07<00:00, 305.36it/s]\n"
     ]
    },
    {
     "name": "stdout",
     "output_type": "stream",
     "text": [
      "Train 2 - loss:0.9835, acc:0.6676\n",
      "Valid 2 - loss:1.0111, acc:0.6747\n"
     ]
    },
    {
     "name": "stderr",
     "output_type": "stream",
     "text": [
      "Batches: 100%|█████████████████████████████████████████████████████████████████████████████████████████████████████████████████████████| 2185/2185 [00:06<00:00, 315.54it/s]\n"
     ]
    },
    {
     "name": "stdout",
     "output_type": "stream",
     "text": [
      "Train 3 - loss:0.9719, acc:0.6673\n",
      "Valid 3 - loss:0.9853, acc:0.6801\n"
     ]
    },
    {
     "name": "stderr",
     "output_type": "stream",
     "text": [
      "Batches: 100%|█████████████████████████████████████████████████████████████████████████████████████████████████████████████████████████| 2185/2185 [00:06<00:00, 316.94it/s]\n"
     ]
    },
    {
     "name": "stdout",
     "output_type": "stream",
     "text": [
      "Train 4 - loss:0.9607, acc:0.6708\n",
      "Valid 4 - loss:1.0037, acc:0.6746\n"
     ]
    }
   ],
   "source": [
    "model = Model(4, 20, 2, 0.0)\n",
    "train(model, \"./solver/sol_examples/vrp20/sols.pkl\", epochs=5, batch_size=16, learning_rate=3e-3, max_instances=2000)"
   ]
  },
  {
   "cell_type": "code",
   "execution_count": 21,
   "id": "9cfee2ae-9727-44dc-8f49-e59cee5c92c5",
   "metadata": {},
   "outputs": [],
   "source": [
    "graphs = pd.read_pickle(graphs_path)"
   ]
  },
  {
   "cell_type": "code",
   "execution_count": 22,
   "id": "34d1ff62-3a06-4023-be33-3bfb2335d73e",
   "metadata": {},
   "outputs": [],
   "source": [
    "graph_collections = [create_graph_no_sol(g) for g, _ in graphs]"
   ]
  },
  {
   "cell_type": "code",
   "execution_count": 37,
   "id": "314dd0ca-981c-4100-896b-795284352004",
   "metadata": {},
   "outputs": [
    {
     "name": "stderr",
     "output_type": "stream",
     "text": [
      "100%|█████████████████████████████████████████████████████████████████████████████████████████████████████████████████████████████████████| 100/100 [00:03<00:00, 27.41it/s]\n"
     ]
    }
   ],
   "source": [
    "solved_graphs = []\n",
    "for g, orig_g in tqdm(list(zip(graph_collections, graphs))[:100]):\n",
    "    g = deepcopy(graph_collections[0])\n",
    "    g = deepcopy(g)\n",
    "    g.update_node(orig_g[1][1][0]) # unf we have to do this for now\n",
    "    res_g = greedy_inference_single(model, g)\n",
    "    solved_graphs.append(res_g)"
   ]
  },
  {
   "cell_type": "code",
   "execution_count": 38,
   "id": "85316ec2-8049-4982-ad24-c37992ad9150",
   "metadata": {},
   "outputs": [
    {
     "data": {
      "text/plain": [
       "6.862126483690885"
      ]
     },
     "execution_count": 38,
     "metadata": {},
     "output_type": "execute_result"
    }
   ],
   "source": [
    "solved_graphs[0].get_full_solution_cost()"
   ]
  },
  {
   "cell_type": "code",
   "execution_count": 39,
   "id": "d6882dec-0a54-47ce-9462-cafd208f2c42",
   "metadata": {},
   "outputs": [
    {
     "data": {
      "text/plain": [
       "8.23473345975078"
      ]
     },
     "execution_count": 39,
     "metadata": {},
     "output_type": "execute_result"
    }
   ],
   "source": [
    "np.mean([sg.get_full_solution_cost() for sg in solved_graphs])"
   ]
  },
  {
   "cell_type": "code",
   "execution_count": null,
   "id": "979c041c-6ad9-4f5f-b57d-5f714de436de",
   "metadata": {},
   "outputs": [],
   "source": []
  },
  {
   "cell_type": "code",
   "execution_count": null,
   "id": "fb2cc36a-f681-4264-9213-9796bd15dee3",
   "metadata": {},
   "outputs": [],
   "source": []
  },
  {
   "cell_type": "code",
   "execution_count": null,
   "id": "0ae0e47f-6cd5-42b1-85a8-50798325a026",
   "metadata": {},
   "outputs": [],
   "source": []
  },
  {
   "cell_type": "code",
   "execution_count": 73,
   "id": "75c68961-21c9-4c4c-bfac-468425d48dbb",
   "metadata": {},
   "outputs": [],
   "source": [
    "from generator import *\n",
    "from model import Model\n",
    "from typing import List\n",
    "from torch_geometric.data.batch import Batch"
   ]
  },
  {
   "cell_type": "code",
   "execution_count": 78,
   "id": "cc751666-815b-4fdc-a2c9-04963a64de6b",
   "metadata": {},
   "outputs": [],
   "source": [
    "from copy import deepcopy"
   ]
  },
  {
   "cell_type": "code",
   "execution_count": 189,
   "id": "1f917c97-6371-44f7-9afd-f49c1a8ca216",
   "metadata": {},
   "outputs": [],
   "source": [
    "def greedy_inference_single(\n",
    "    model: Model,\n",
    "    graph: GraphCollection\n",
    ")-> SolutionInstance:\n",
    "    \"\"\"Runs inference on a single graph.\n",
    "    \"\"\"\n",
    "    # start from empty sol\n",
    "    # TODO(roberto): What should we do here? start from 0 or not\n",
    "    graph = deepcopy(graph)\n",
    "    sol = []\n",
    "    while not graph.is_complete():\n",
    "        curr_graph = graph.get_current_unsolved_graph()\n",
    "        curr_graph = curr_graph.export_pyg()\n",
    "        curr_batch = Batch.from_data_list([curr_graph])\n",
    "        next_probs = model.probs(curr_batch)\n",
    "        print(next_probs)\n",
    "        next_node = next_probs.squeeze().argmax().cpu().item()\n",
    "        print(next_node)\n",
    "        graph.update_node(next_node)\n",
    "        sol.append(next_node)\n",
    "        \n",
    "    return graph"
   ]
  },
  {
   "cell_type": "code",
   "execution_count": 197,
   "id": "464b738e-7abc-48e4-8809-dd10caff5b6a",
   "metadata": {},
   "outputs": [],
   "source": [
    "graphs = pd.read_pickle(graphs_path)"
   ]
  },
  {
   "cell_type": "code",
   "execution_count": 198,
   "id": "68e65dde-aae2-4346-989e-425f8033902c",
   "metadata": {},
   "outputs": [],
   "source": [
    "graph_collections = [create_graph_no_sol(g) for g, _ in graphs]"
   ]
  },
  {
   "cell_type": "code",
   "execution_count": 199,
   "id": "885079db-e900-426f-b67c-c1c4af882201",
   "metadata": {},
   "outputs": [],
   "source": [
    "from model import Model, DummyModel"
   ]
  },
  {
   "cell_type": "code",
   "execution_count": 200,
   "id": "6434340b-2612-40a0-89e0-42337e4d63ac",
   "metadata": {},
   "outputs": [],
   "source": [
    "model = Model(4, 20, 2, 0.0)"
   ]
  },
  {
   "cell_type": "code",
   "execution_count": 201,
   "id": "24b1fab3-6c8c-458e-a77a-bbd660f29e6d",
   "metadata": {},
   "outputs": [],
   "source": [
    "g = graph_collections[0]"
   ]
  },
  {
   "cell_type": "code",
   "execution_count": 202,
   "id": "c4ed9e54-f8f6-4df3-89d5-ad9862e63d1d",
   "metadata": {},
   "outputs": [],
   "source": [
    "g.update_node(graphs[0][1][1][0])"
   ]
  },
  {
   "cell_type": "code",
   "execution_count": 203,
   "id": "5dbd4dc7-df9d-4bcc-89f7-d395aa16daf6",
   "metadata": {
    "collapsed": true,
    "jupyter": {
     "outputs_hidden": true
    }
   },
   "outputs": [
    {
     "name": "stdout",
     "output_type": "stream",
     "text": [
      "tensor([[0.0671, 0.0433, 0.0450, 0.0422, 0.0462, 0.0538, 0.0445, 0.0682, 0.0480,\n",
      "         0.0481, 0.0000, 0.0495, 0.0570, 0.0491, 0.0539, 0.0425, 0.0439, 0.0458,\n",
      "         0.0445, 0.0457, 0.0616]], grad_fn=<SoftmaxBackward0>)\n",
      "7\n",
      "tensor([[0.0681, 0.0484, 0.0491, 0.0476, 0.0497, 0.0600, 0.0499, 0.0000, 0.0546,\n",
      "         0.0527, 0.0000, 0.0513, 0.0567, 0.0530, 0.0541, 0.0460, 0.0474, 0.0501,\n",
      "         0.0480, 0.0497, 0.0636]], grad_fn=<SoftmaxBackward0>)\n",
      "0\n",
      "tensor([[0.0000, 0.0503, 0.0519, 0.0493, 0.0534, 0.0636, 0.0525, 0.0000, 0.0571,\n",
      "         0.0561, 0.0000, 0.0565, 0.0643, 0.0567, 0.0600, 0.0491, 0.0511, 0.0531,\n",
      "         0.0515, 0.0526, 0.0707]], grad_fn=<SoftmaxBackward0>)\n",
      "20\n",
      "tensor([[0.0807, 0.0491, 0.0511, 0.0477, 0.0528, 0.0629, 0.0509, 0.0000, 0.0555,\n",
      "         0.0551, 0.0000, 0.0568, 0.0665, 0.0561, 0.0608, 0.0482, 0.0501, 0.0529,\n",
      "         0.0506, 0.0523, 0.0000]], grad_fn=<SoftmaxBackward0>)\n",
      "0\n",
      "tensor([[0.0000, 0.0542, 0.0560, 0.0531, 0.0576, 0.0684, 0.0566, 0.0000, 0.0615,\n",
      "         0.0604, 0.0000, 0.0607, 0.0690, 0.0610, 0.0640, 0.0529, 0.0551, 0.0574,\n",
      "         0.0554, 0.0568, 0.0000]], grad_fn=<SoftmaxBackward0>)\n",
      "12\n",
      "tensor([[0.0838, 0.0530, 0.0551, 0.0516, 0.0568, 0.0667, 0.0550, 0.0000, 0.0594,\n",
      "         0.0591, 0.0000, 0.0608, 0.0000, 0.0601, 0.0648, 0.0521, 0.0542, 0.0567,\n",
      "         0.0546, 0.0561, 0.0000]], grad_fn=<SoftmaxBackward0>)\n",
      "0\n",
      "tensor([[0.0000, 0.0583, 0.0602, 0.0571, 0.0619, 0.0734, 0.0609, 0.0000, 0.0660,\n",
      "         0.0648, 0.0000, 0.0649, 0.0000, 0.0655, 0.0683, 0.0568, 0.0593, 0.0619,\n",
      "         0.0596, 0.0610, 0.0000]], grad_fn=<SoftmaxBackward0>)\n",
      "5\n",
      "tensor([[0.0749, 0.0588, 0.0618, 0.0568, 0.0624, 0.0000, 0.0608, 0.0000, 0.0666,\n",
      "         0.0655, 0.0000, 0.0607, 0.0000, 0.0663, 0.0665, 0.0573, 0.0611, 0.0593,\n",
      "         0.0618, 0.0593, 0.0000]], grad_fn=<SoftmaxBackward0>)\n",
      "0\n",
      "tensor([[0.0000, 0.0627, 0.0646, 0.0607, 0.0671, 0.0000, 0.0655, 0.0000, 0.0735,\n",
      "         0.0710, 0.0000, 0.0698, 0.0000, 0.0713, 0.0744, 0.0607, 0.0642, 0.0656,\n",
      "         0.0644, 0.0645, 0.0000]], grad_fn=<SoftmaxBackward0>)\n",
      "14\n",
      "tensor([[0.0982, 0.0609, 0.0635, 0.0587, 0.0661, 0.0000, 0.0622, 0.0000, 0.0700,\n",
      "         0.0688, 0.0000, 0.0691, 0.0000, 0.0700, 0.0000, 0.0596, 0.0632, 0.0638,\n",
      "         0.0633, 0.0628, 0.0000]], grad_fn=<SoftmaxBackward0>)\n",
      "0\n",
      "tensor([[0.0000, 0.0678, 0.0700, 0.0658, 0.0725, 0.0000, 0.0707, 0.0000, 0.0794,\n",
      "         0.0766, 0.0000, 0.0748, 0.0000, 0.0770, 0.0000, 0.0657, 0.0695, 0.0709,\n",
      "         0.0697, 0.0694, 0.0000]], grad_fn=<SoftmaxBackward0>)\n",
      "8\n",
      "tensor([[0.0891, 0.0677, 0.0714, 0.0658, 0.0723, 0.0000, 0.0690, 0.0000, 0.0000,\n",
      "         0.0752, 0.0000, 0.0700, 0.0000, 0.0765, 0.0000, 0.0654, 0.0708, 0.0680,\n",
      "         0.0708, 0.0678, 0.0000]], grad_fn=<SoftmaxBackward0>)\n",
      "0\n",
      "tensor([[0.0000, 0.0736, 0.0758, 0.0708, 0.0800, 0.0000, 0.0769, 0.0000, 0.0000,\n",
      "         0.0849, 0.0000, 0.0804, 0.0000, 0.0854, 0.0000, 0.0707, 0.0763, 0.0754,\n",
      "         0.0760, 0.0736, 0.0000]], grad_fn=<SoftmaxBackward0>)\n",
      "13\n",
      "tensor([[0.0971, 0.0727, 0.0769, 0.0714, 0.0793, 0.0000, 0.0754, 0.0000, 0.0000,\n",
      "         0.0819, 0.0000, 0.0757, 0.0000, 0.0000, 0.0000, 0.0703, 0.0763, 0.0734,\n",
      "         0.0764, 0.0734, 0.0000]], grad_fn=<SoftmaxBackward0>)\n",
      "0\n",
      "tensor([[0.0000, 0.0801, 0.0828, 0.0766, 0.0890, 0.0000, 0.0854, 0.0000, 0.0000,\n",
      "         0.0947, 0.0000, 0.0871, 0.0000, 0.0000, 0.0000, 0.0767, 0.0835, 0.0811,\n",
      "         0.0831, 0.0798, 0.0000]], grad_fn=<SoftmaxBackward0>)\n",
      "9\n",
      "tensor([[0.1073, 0.0788, 0.0836, 0.0774, 0.0875, 0.0000, 0.0843, 0.0000, 0.0000,\n",
      "         0.0000, 0.0000, 0.0818, 0.0000, 0.0000, 0.0000, 0.0757, 0.0828, 0.0783,\n",
      "         0.0827, 0.0798, 0.0000]], grad_fn=<SoftmaxBackward0>)\n",
      "0\n",
      "tensor([[0.0000, 0.0881, 0.0917, 0.0834, 0.1004, 0.0000, 0.0972, 0.0000, 0.0000,\n",
      "         0.0000, 0.0000, 0.0954, 0.0000, 0.0000, 0.0000, 0.0843, 0.0930, 0.0870,\n",
      "         0.0922, 0.0872, 0.0000]], grad_fn=<SoftmaxBackward0>)\n",
      "4\n",
      "tensor([[0.1186, 0.0869, 0.0914, 0.0850, 0.0000, 0.0000, 0.0913, 0.0000, 0.0000,\n",
      "         0.0000, 0.0000, 0.0893, 0.0000, 0.0000, 0.0000, 0.0834, 0.0896, 0.0869,\n",
      "         0.0896, 0.0880, 0.0000]], grad_fn=<SoftmaxBackward0>)\n",
      "0\n",
      "tensor([[0.0000, 0.0983, 0.1026, 0.0919, 0.0000, 0.0000, 0.1096, 0.0000, 0.0000,\n",
      "         0.0000, 0.0000, 0.1046, 0.0000, 0.0000, 0.0000, 0.0934, 0.1036, 0.0966,\n",
      "         0.1024, 0.0970, 0.0000]], grad_fn=<SoftmaxBackward0>)\n",
      "6\n",
      "tensor([[0.1391, 0.0961, 0.1006, 0.0915, 0.0000, 0.0000, 0.0000, 0.0000, 0.0000,\n",
      "         0.0000, 0.0000, 0.0959, 0.0000, 0.0000, 0.0000, 0.0897, 0.0988, 0.0938,\n",
      "         0.0986, 0.0959, 0.0000]], grad_fn=<SoftmaxBackward0>)\n",
      "0\n",
      "tensor([[0.0000, 0.1115, 0.1159, 0.1026, 0.0000, 0.0000, 0.0000, 0.0000, 0.0000,\n",
      "         0.0000, 0.0000, 0.1145, 0.0000, 0.0000, 0.0000, 0.1043, 0.1177, 0.1076,\n",
      "         0.1172, 0.1089, 0.0000]], grad_fn=<SoftmaxBackward0>)\n",
      "16\n",
      "tensor([[0.1515, 0.1079, 0.1121, 0.1027, 0.0000, 0.0000, 0.0000, 0.0000, 0.0000,\n",
      "         0.0000, 0.0000, 0.1054, 0.0000, 0.0000, 0.0000, 0.1000, 0.0000, 0.1044,\n",
      "         0.1099, 0.1061, 0.0000]], grad_fn=<SoftmaxBackward0>)\n",
      "0\n",
      "tensor([[0.0000, 0.1279, 0.1323, 0.1158, 0.0000, 0.0000, 0.0000, 0.0000, 0.0000,\n",
      "         0.0000, 0.0000, 0.1260, 0.0000, 0.0000, 0.0000, 0.1171, 0.0000, 0.1225,\n",
      "         0.1342, 0.1242, 0.0000]], grad_fn=<SoftmaxBackward0>)\n",
      "18\n",
      "tensor([[0.1611, 0.1249, 0.1278, 0.1177, 0.0000, 0.0000, 0.0000, 0.0000, 0.0000,\n",
      "         0.0000, 0.0000, 0.1168, 0.0000, 0.0000, 0.0000, 0.1128, 0.0000, 0.1188,\n",
      "         0.0000, 0.1201, 0.0000]], grad_fn=<SoftmaxBackward0>)\n",
      "0\n",
      "tensor([[0.0000, 0.1510, 0.1540, 0.1328, 0.0000, 0.0000, 0.0000, 0.0000, 0.0000,\n",
      "         0.0000, 0.0000, 0.1417, 0.0000, 0.0000, 0.0000, 0.1341, 0.0000, 0.1426,\n",
      "         0.0000, 0.1439, 0.0000]], grad_fn=<SoftmaxBackward0>)\n",
      "2\n",
      "tensor([[0.1901, 0.1455, 0.0000, 0.1332, 0.0000, 0.0000, 0.0000, 0.0000, 0.0000,\n",
      "         0.0000, 0.0000, 0.1306, 0.0000, 0.0000, 0.0000, 0.1275, 0.0000, 0.1356,\n",
      "         0.0000, 0.1375, 0.0000]], grad_fn=<SoftmaxBackward0>)\n",
      "0\n",
      "tensor([[0.0000, 0.1832, 0.0000, 0.1554, 0.0000, 0.0000, 0.0000, 0.0000, 0.0000,\n",
      "         0.0000, 0.0000, 0.1648, 0.0000, 0.0000, 0.0000, 0.1576, 0.0000, 0.1687,\n",
      "         0.0000, 0.1703, 0.0000]], grad_fn=<SoftmaxBackward0>)\n",
      "1\n",
      "tensor([[0.2163, 0.0000, 0.0000, 0.1597, 0.0000, 0.0000, 0.0000, 0.0000, 0.0000,\n",
      "         0.0000, 0.0000, 0.1518, 0.0000, 0.0000, 0.0000, 0.1491, 0.0000, 0.1612,\n",
      "         0.0000, 0.1619, 0.0000]], grad_fn=<SoftmaxBackward0>)\n",
      "0\n",
      "tensor([[0.0000, 0.0000, 0.0000, 0.1903, 0.0000, 0.0000, 0.0000, 0.0000, 0.0000,\n",
      "         0.0000, 0.0000, 0.1983, 0.0000, 0.0000, 0.0000, 0.1914, 0.0000, 0.2098,\n",
      "         0.0000, 0.2103, 0.0000]], grad_fn=<SoftmaxBackward0>)\n",
      "19\n",
      "tensor([[0.3102, 0.0000, 0.0000, 0.1717, 0.0000, 0.0000, 0.0000, 0.0000, 0.0000,\n",
      "         0.0000, 0.0000, 0.1718, 0.0000, 0.0000, 0.0000, 0.1680, 0.0000, 0.1782,\n",
      "         0.0000, 0.0000, 0.0000]], grad_fn=<SoftmaxBackward0>)\n",
      "0\n",
      "tensor([[0.0000, 0.0000, 0.0000, 0.2439, 0.0000, 0.0000, 0.0000, 0.0000, 0.0000,\n",
      "         0.0000, 0.0000, 0.2472, 0.0000, 0.0000, 0.0000, 0.2408, 0.0000, 0.2681,\n",
      "         0.0000, 0.0000, 0.0000]], grad_fn=<SoftmaxBackward0>)\n",
      "17\n",
      "tensor([[0.3690, 0.0000, 0.0000, 0.2154, 0.0000, 0.0000, 0.0000, 0.0000, 0.0000,\n",
      "         0.0000, 0.0000, 0.2101, 0.0000, 0.0000, 0.0000, 0.2055, 0.0000, 0.0000,\n",
      "         0.0000, 0.0000, 0.0000]], grad_fn=<SoftmaxBackward0>)\n",
      "0\n",
      "tensor([[0.0000, 0.0000, 0.0000, 0.3376, 0.0000, 0.0000, 0.0000, 0.0000, 0.0000,\n",
      "         0.0000, 0.0000, 0.3350, 0.0000, 0.0000, 0.0000, 0.3274, 0.0000, 0.0000,\n",
      "         0.0000, 0.0000, 0.0000]], grad_fn=<SoftmaxBackward0>)\n",
      "3\n",
      "tensor([[0.4344, 0.0000, 0.0000, 0.0000, 0.0000, 0.0000, 0.0000, 0.0000, 0.0000,\n",
      "         0.0000, 0.0000, 0.2861, 0.0000, 0.0000, 0.0000, 0.2795, 0.0000, 0.0000,\n",
      "         0.0000, 0.0000, 0.0000]], grad_fn=<SoftmaxBackward0>)\n",
      "0\n",
      "tensor([[0.0000, 0.0000, 0.0000, 0.0000, 0.0000, 0.0000, 0.0000, 0.0000, 0.0000,\n",
      "         0.0000, 0.0000, 0.5133, 0.0000, 0.0000, 0.0000, 0.4867, 0.0000, 0.0000,\n",
      "         0.0000, 0.0000, 0.0000]], grad_fn=<SoftmaxBackward0>)\n",
      "11\n",
      "tensor([[0.6289, 0.0000, 0.0000, 0.0000, 0.0000, 0.0000, 0.0000, 0.0000, 0.0000,\n",
      "         0.0000, 0.0000, 0.0000, 0.0000, 0.0000, 0.0000, 0.3711, 0.0000, 0.0000,\n",
      "         0.0000, 0.0000, 0.0000]], grad_fn=<SoftmaxBackward0>)\n",
      "0\n",
      "tensor([[0., 0., 0., 0., 0., 0., 0., 0., 0., 0., 0., 0., 0., 0., 0., 1., 0., 0.,\n",
      "         0., 0., 0.]], grad_fn=<SoftmaxBackward0>)\n",
      "15\n"
     ]
    }
   ],
   "source": [
    "res = greedy_inference_single(model, g)"
   ]
  },
  {
   "cell_type": "code",
   "execution_count": 164,
   "id": "a32c8e94-2af1-4bbc-8b39-a177229f29cf",
   "metadata": {},
   "outputs": [
    {
     "name": "stdout",
     "output_type": "stream",
     "text": [
      "0, 0:  0.0\n",
      "0, 0:  0.0\n",
      "0, 10:  0.8097368074215897\n",
      "10, 0:  0.8097368074215897\n",
      "0, 14:  0.14358948746570221\n",
      "14, 0:  0.14358948746570221\n",
      "0, 12:  0.5285496926283793\n",
      "12, 0:  0.5285496926283793\n",
      "0, 5:  0.6359795993919065\n",
      "5, 8:  0.39457206108319837\n",
      "8, 13:  0.5498971197011205\n",
      "13, 4:  0.37368186435237444\n",
      "4, 0:  0.1634832648201612\n",
      "0, 20:  0.4770585938744954\n",
      "20, 0:  0.4770585938744954\n",
      "0, 9:  0.8008364190621853\n",
      "9, 0:  0.8008364190621853\n",
      "0, 2:  0.28491531139383897\n",
      "2, 0:  0.28491531139383897\n",
      "0, 6:  0.9580574443402365\n",
      "6, 0:  0.9580574443402365\n",
      "0, 16:  0.3973094313399893\n",
      "16, 0:  0.3973094313399893\n",
      "0, 15:  0.17586047218358375\n",
      "15, 0:  0.17586047218358375\n",
      "0, 7:  0.8613240146413769\n",
      "7, 0:  0.8613240146413769\n",
      "0, 1:  0.614393979032243\n",
      "1, 0:  0.614393979032243\n",
      "0, 17:  0.8522194446501334\n",
      "17, 0:  0.8522194446501334\n",
      "0, 19:  0.6337251932269227\n",
      "19, 0:  0.6337251932269227\n",
      "0, 11:  0.6010141060953877\n",
      "11, 0:  0.6010141060953877\n",
      "0, 18:  0.717048167540401\n",
      "18, 0:  0.717048167540401\n",
      "0, 3:  0.6469427054570099\n",
      "3, 0:  0.6469427054570099\n"
     ]
    },
    {
     "data": {
      "text/plain": [
       "21.122776450055714"
      ]
     },
     "execution_count": 164,
     "metadata": {},
     "output_type": "execute_result"
    }
   ],
   "source": [
    "res.get_full_solution_cost()"
   ]
  },
  {
   "cell_type": "code",
   "execution_count": 75,
   "id": "73ebdaaf-7e32-42cb-83e2-058b34dca8fa",
   "metadata": {},
   "outputs": [
    {
     "data": {
      "text/plain": [
       "{0, 1}"
      ]
     },
     "execution_count": 75,
     "metadata": {},
     "output_type": "execute_result"
    }
   ],
   "source": [
    "set([0, 1, 0])"
   ]
  },
  {
   "cell_type": "code",
   "execution_count": null,
   "id": "2ff596c1-a971-4077-afaf-58624e7284dd",
   "metadata": {},
   "outputs": [],
   "source": []
  },
  {
   "cell_type": "code",
   "execution_count": 9,
   "id": "44bf8500-3745-4c0f-8d30-c0edc1abe84f",
   "metadata": {},
   "outputs": [],
   "source": [
    "import pandas as pd"
   ]
  },
  {
   "cell_type": "code",
   "execution_count": 15,
   "id": "77085e04-2f77-4dc4-9247-6e74a3c275f4",
   "metadata": {},
   "outputs": [],
   "source": [
    "from util import *"
   ]
  },
  {
   "cell_type": "code",
   "execution_count": 57,
   "id": "34ac6135-67c6-4ad2-bd65-6b19998f3c00",
   "metadata": {},
   "outputs": [],
   "source": [
    "graphs = pd.read_pickle(graphs_path)"
   ]
  },
  {
   "cell_type": "code",
   "execution_count": 58,
   "id": "c7d1d840-e4e3-47d1-a074-3f9a17696cdc",
   "metadata": {},
   "outputs": [],
   "source": [
    "graph_collections = [create_graph_no_sol(g) for g, _ in graphs]"
   ]
  },
  {
   "cell_type": "code",
   "execution_count": 74,
   "id": "f7037bb5-74a7-4381-aa28-a42e8349d3b2",
   "metadata": {},
   "outputs": [
    {
     "data": {
      "text/plain": [
       "graph.GraphCollection"
      ]
     },
     "execution_count": 74,
     "metadata": {},
     "output_type": "execute_result"
    }
   ],
   "source": [
    "type(g)"
   ]
  },
  {
   "cell_type": "code",
   "execution_count": 59,
   "id": "b49280c5-0eff-483f-8587-fede02148a66",
   "metadata": {},
   "outputs": [],
   "source": [
    "g = graph_collections[0]"
   ]
  },
  {
   "cell_type": "code",
   "execution_count": 60,
   "id": "4e22751b-474f-4ddc-b137-49578f20f8c8",
   "metadata": {},
   "outputs": [
    {
     "data": {
      "text/plain": [
       "[0]"
      ]
     },
     "execution_count": 60,
     "metadata": {},
     "output_type": "execute_result"
    }
   ],
   "source": [
    "g.visited_nodes"
   ]
  },
  {
   "cell_type": "code",
   "execution_count": 61,
   "id": "ec5f3131-65af-4259-a6b8-401cfe07eaa5",
   "metadata": {},
   "outputs": [],
   "source": [
    "g.update_node(1)\n",
    "g.update_node(2)"
   ]
  },
  {
   "cell_type": "code",
   "execution_count": 68,
   "id": "749513b9-685d-415f-b411-0016ee6642f6",
   "metadata": {},
   "outputs": [],
   "source": [
    "g.update_node(3)"
   ]
  },
  {
   "cell_type": "code",
   "execution_count": 69,
   "id": "84a3ca2b-5750-4330-b3a7-a298f668d3f3",
   "metadata": {},
   "outputs": [
    {
     "data": {
      "text/plain": [
       "[0, 1, 2, 3]"
      ]
     },
     "execution_count": 69,
     "metadata": {},
     "output_type": "execute_result"
    }
   ],
   "source": [
    "g.visited_nodes"
   ]
  },
  {
   "cell_type": "code",
   "execution_count": 70,
   "id": "8c989ac0-651f-4f54-83e1-bbbc604ad244",
   "metadata": {},
   "outputs": [],
   "source": [
    "x = g.get_current_unsolved_graph()"
   ]
  },
  {
   "cell_type": "code",
   "execution_count": 71,
   "id": "82029c63-6361-419d-afa6-f70a28cd63f4",
   "metadata": {},
   "outputs": [
    {
     "data": {
      "text/plain": [
       "Data(\n",
       "  x=[21, 4],\n",
       "  edge_index=[2, 3],\n",
       "  edge_attr={},\n",
       "  prev_node=3,\n",
       "  vehicle_cap=17,\n",
       "  y=10000\n",
       ")"
      ]
     },
     "execution_count": 71,
     "metadata": {},
     "output_type": "execute_result"
    }
   ],
   "source": [
    "x.export_pyg()"
   ]
  },
  {
   "cell_type": "code",
   "execution_count": null,
   "id": "a6396814-759e-4fe5-85c2-4f13ea663ecf",
   "metadata": {},
   "outputs": [],
   "source": []
  },
  {
   "cell_type": "code",
   "execution_count": null,
   "id": "742b52da-467d-4bb9-be6e-eebf4403e699",
   "metadata": {},
   "outputs": [],
   "source": []
  },
  {
   "cell_type": "code",
   "execution_count": null,
   "id": "bef21280-588c-4173-92f6-4a9aeb76239d",
   "metadata": {},
   "outputs": [],
   "source": []
  },
  {
   "cell_type": "code",
   "execution_count": 48,
   "id": "5312a38c-0d41-43ec-be4f-a35f15147ce0",
   "metadata": {},
   "outputs": [],
   "source": [
    "x = g.get_all_graphs()[0]"
   ]
  },
  {
   "cell_type": "code",
   "execution_count": 49,
   "id": "67b30709-ec1e-4a85-8923-1ea53a14a2b1",
   "metadata": {},
   "outputs": [
    {
     "data": {
      "text/plain": [
       "Data(\n",
       "  x=[21, 4],\n",
       "  edge_index=[2, 1],\n",
       "  edge_attr={},\n",
       "  prev_node=1,\n",
       "  vehicle_cap=25,\n",
       "  y=2\n",
       ")"
      ]
     },
     "execution_count": 49,
     "metadata": {},
     "output_type": "execute_result"
    }
   ],
   "source": [
    "x.export_pyg()"
   ]
  },
  {
   "cell_type": "code",
   "execution_count": 50,
   "id": "d3025a24-1cee-4631-ad80-cd6325083e96",
   "metadata": {},
   "outputs": [
    {
     "data": {
      "text/plain": [
       "EdgeView([(0, 1)])"
      ]
     },
     "execution_count": 50,
     "metadata": {},
     "output_type": "execute_result"
    }
   ],
   "source": [
    "x.get_edges()"
   ]
  },
  {
   "cell_type": "code",
   "execution_count": 56,
   "id": "c25ad477-871d-470c-98a4-7add63ace4d4",
   "metadata": {},
   "outputs": [
    {
     "data": {
      "text/plain": [
       "Data(\n",
       "  x=[21, 4],\n",
       "  edge_index=[2, 2],\n",
       "  edge_attr={},\n",
       "  prev_node=1,\n",
       "  vehicle_cap=25,\n",
       "  y=2\n",
       ")"
      ]
     },
     "execution_count": 56,
     "metadata": {},
     "output_type": "execute_result"
    }
   ],
   "source": [
    "g.curr_graph.export_pyg()"
   ]
  },
  {
   "cell_type": "code",
   "execution_count": null,
   "id": "05f8435c-297a-47b2-9145-0618b2930187",
   "metadata": {},
   "outputs": [],
   "source": []
  },
  {
   "cell_type": "code",
   "execution_count": 27,
   "id": "e4294903-20cf-425d-a407-607b1a962612",
   "metadata": {},
   "outputs": [
    {
     "data": {
      "text/plain": [
       "NodeView((0, 1, 2, 3, 4, 5, 6, 7, 8, 9, 10, 11, 12, 13, 14, 15, 16, 17, 18, 19, 20))"
      ]
     },
     "execution_count": 27,
     "metadata": {},
     "output_type": "execute_result"
    }
   ],
   "source": [
    "g.curr_graph.get_nodes()"
   ]
  },
  {
   "cell_type": "code",
   "execution_count": 29,
   "id": "fd18f8e1-b077-4838-bbf0-de94c37ee9b3",
   "metadata": {},
   "outputs": [],
   "source": [
    "curr_graph = g.curr_graph"
   ]
  },
  {
   "cell_type": "code",
   "execution_count": 33,
   "id": "d86303f2-7b28-4817-b5f0-6e0d7006d365",
   "metadata": {},
   "outputs": [
    {
     "data": {
      "text/plain": [
       "[]"
      ]
     },
     "execution_count": 33,
     "metadata": {},
     "output_type": "execute_result"
    }
   ],
   "source": [
    "g.get_all_graphs()"
   ]
  },
  {
   "cell_type": "code",
   "execution_count": 32,
   "id": "a02486df-465a-4320-aba0-58d528e05f52",
   "metadata": {},
   "outputs": [
    {
     "data": {
      "text/plain": [
       "EdgeView([(0, 1)])"
      ]
     },
     "execution_count": 32,
     "metadata": {},
     "output_type": "execute_result"
    }
   ],
   "source": [
    "curr_graph.get_edges()"
   ]
  },
  {
   "cell_type": "code",
   "execution_count": 30,
   "id": "51679215-1511-477b-8167-e8ef5feb7241",
   "metadata": {},
   "outputs": [
    {
     "data": {
      "text/plain": [
       "Data(\n",
       "  x=[21, 4],\n",
       "  edge_index=[2, 1],\n",
       "  edge_attr={},\n",
       "  prev_node=0,\n",
       "  vehicle_cap=30,\n",
       "  y=1\n",
       ")"
      ]
     },
     "execution_count": 30,
     "metadata": {},
     "output_type": "execute_result"
    }
   ],
   "source": [
    "curr_graph.export_pyg()"
   ]
  },
  {
   "cell_type": "code",
   "execution_count": null,
   "id": "7dd75438-5b5e-4c6d-b8b4-78a56f4db239",
   "metadata": {},
   "outputs": [],
   "source": [
    "g."
   ]
  },
  {
   "cell_type": "code",
   "execution_count": null,
   "id": "99a6ab21-6a20-48d7-bfb1-82bbff4a2bf8",
   "metadata": {},
   "outputs": [],
   "source": []
  },
  {
   "cell_type": "code",
   "execution_count": null,
   "id": "a84affc6-97da-496f-84fe-b16a226d67d9",
   "metadata": {},
   "outputs": [],
   "source": []
  },
  {
   "cell_type": "code",
   "execution_count": null,
   "id": "0220722c-67e5-4617-a96b-152fae2e242c",
   "metadata": {},
   "outputs": [],
   "source": []
  },
  {
   "cell_type": "code",
   "execution_count": null,
   "id": "03ed2a39-6d9a-4796-b435-525337b8d61e",
   "metadata": {},
   "outputs": [],
   "source": []
  },
  {
   "cell_type": "code",
   "execution_count": 83,
   "id": "edd54d71-fd84-4bcf-9252-eb90b4a9c135",
   "metadata": {},
   "outputs": [],
   "source": [
    "from model import Model, DummyModel"
   ]
  },
  {
   "cell_type": "code",
   "execution_count": 88,
   "id": "fabcd4d9-d6d0-4e77-983b-a7cff70a553c",
   "metadata": {
    "collapsed": true,
    "jupyter": {
     "outputs_hidden": true
    }
   },
   "outputs": [
    {
     "name": "stdout",
     "output_type": "stream",
     "text": [
      "0.003\n"
     ]
    },
    {
     "name": "stderr",
     "output_type": "stream",
     "text": [
      "Parsing Graphs: 100%|████████████████████████████████████████████████████████████████████████████████████████████████████████████████| 2000/2000 [00:16<00:00, 122.12it/s]\n",
      "Batches: 100%|███████████████████████████████████████████████████████████████████████████████████████████████████████████████████████| 2185/2185 [00:08<00:00, 251.50it/s]\n"
     ]
    },
    {
     "name": "stdout",
     "output_type": "stream",
     "text": [
      "Train 0 - loss:1.6576, acc:0.4253\n",
      "Valid 0 - loss:1.3877, acc:0.5382\n"
     ]
    },
    {
     "name": "stderr",
     "output_type": "stream",
     "text": [
      "Batches: 100%|███████████████████████████████████████████████████████████████████████████████████████████████████████████████████████| 2185/2185 [00:08<00:00, 253.63it/s]\n"
     ]
    },
    {
     "name": "stdout",
     "output_type": "stream",
     "text": [
      "Train 1 - loss:1.3045, acc:0.5655\n",
      "Valid 1 - loss:1.2983, acc:0.5662\n"
     ]
    },
    {
     "name": "stderr",
     "output_type": "stream",
     "text": [
      "Batches: 100%|███████████████████████████████████████████████████████████████████████████████████████████████████████████████████████| 2185/2185 [00:08<00:00, 254.04it/s]\n"
     ]
    },
    {
     "name": "stdout",
     "output_type": "stream",
     "text": [
      "Train 2 - loss:1.2673, acc:0.5711\n",
      "Valid 2 - loss:1.2685, acc:0.5683\n"
     ]
    },
    {
     "name": "stderr",
     "output_type": "stream",
     "text": [
      "Batches: 100%|███████████████████████████████████████████████████████████████████████████████████████████████████████████████████████| 2185/2185 [00:08<00:00, 250.26it/s]\n"
     ]
    },
    {
     "name": "stdout",
     "output_type": "stream",
     "text": [
      "Train 3 - loss:1.2490, acc:0.5722\n",
      "Valid 3 - loss:1.2571, acc:0.5699\n"
     ]
    },
    {
     "name": "stderr",
     "output_type": "stream",
     "text": [
      "Batches: 100%|███████████████████████████████████████████████████████████████████████████████████████████████████████████████████████| 2185/2185 [00:08<00:00, 253.41it/s]\n"
     ]
    },
    {
     "name": "stdout",
     "output_type": "stream",
     "text": [
      "Train 4 - loss:1.2342, acc:0.5759\n",
      "Valid 4 - loss:1.2495, acc:0.5715\n"
     ]
    },
    {
     "name": "stderr",
     "output_type": "stream",
     "text": [
      "Batches: 100%|███████████████████████████████████████████████████████████████████████████████████████████████████████████████████████| 2185/2185 [00:08<00:00, 255.05it/s]\n"
     ]
    },
    {
     "name": "stdout",
     "output_type": "stream",
     "text": [
      "Train 5 - loss:1.2226, acc:0.5779\n",
      "Valid 5 - loss:1.2516, acc:0.5743\n"
     ]
    },
    {
     "name": "stderr",
     "output_type": "stream",
     "text": [
      "Batches: 100%|███████████████████████████████████████████████████████████████████████████████████████████████████████████████████████| 2185/2185 [00:08<00:00, 243.08it/s]\n"
     ]
    },
    {
     "name": "stdout",
     "output_type": "stream",
     "text": [
      "Train 6 - loss:1.2096, acc:0.5812\n",
      "Valid 6 - loss:1.2445, acc:0.5762\n"
     ]
    },
    {
     "name": "stderr",
     "output_type": "stream",
     "text": [
      "Batches: 100%|███████████████████████████████████████████████████████████████████████████████████████████████████████████████████████| 2185/2185 [00:08<00:00, 253.09it/s]\n"
     ]
    },
    {
     "name": "stdout",
     "output_type": "stream",
     "text": [
      "Train 7 - loss:1.2021, acc:0.5835\n",
      "Valid 7 - loss:1.2394, acc:0.5755\n"
     ]
    },
    {
     "name": "stderr",
     "output_type": "stream",
     "text": [
      "Batches: 100%|███████████████████████████████████████████████████████████████████████████████████████████████████████████████████████| 2185/2185 [00:08<00:00, 253.61it/s]\n"
     ]
    },
    {
     "name": "stdout",
     "output_type": "stream",
     "text": [
      "Train 8 - loss:1.1972, acc:0.5857\n",
      "Valid 8 - loss:1.2402, acc:0.5793\n"
     ]
    },
    {
     "name": "stderr",
     "output_type": "stream",
     "text": [
      "Batches: 100%|███████████████████████████████████████████████████████████████████████████████████████████████████████████████████████| 2185/2185 [00:08<00:00, 249.13it/s]\n"
     ]
    },
    {
     "name": "stdout",
     "output_type": "stream",
     "text": [
      "Train 9 - loss:1.1933, acc:0.5860\n",
      "Valid 9 - loss:1.2350, acc:0.5780\n"
     ]
    },
    {
     "name": "stderr",
     "output_type": "stream",
     "text": [
      "Batches: 100%|███████████████████████████████████████████████████████████████████████████████████████████████████████████████████████| 2185/2185 [00:08<00:00, 255.32it/s]\n"
     ]
    },
    {
     "name": "stdout",
     "output_type": "stream",
     "text": [
      "Train 10 - loss:1.1893, acc:0.5875\n",
      "Valid 10 - loss:1.2507, acc:0.5720\n"
     ]
    },
    {
     "name": "stderr",
     "output_type": "stream",
     "text": [
      "Batches: 100%|███████████████████████████████████████████████████████████████████████████████████████████████████████████████████████| 2185/2185 [00:08<00:00, 248.60it/s]\n"
     ]
    },
    {
     "name": "stdout",
     "output_type": "stream",
     "text": [
      "Train 11 - loss:1.1866, acc:0.5890\n",
      "Valid 11 - loss:1.2698, acc:0.5707\n"
     ]
    },
    {
     "name": "stderr",
     "output_type": "stream",
     "text": [
      "Batches: 100%|███████████████████████████████████████████████████████████████████████████████████████████████████████████████████████| 2185/2185 [00:08<00:00, 254.27it/s]\n"
     ]
    },
    {
     "name": "stdout",
     "output_type": "stream",
     "text": [
      "Train 12 - loss:1.1839, acc:0.5891\n",
      "Valid 12 - loss:1.2413, acc:0.5741\n"
     ]
    },
    {
     "name": "stderr",
     "output_type": "stream",
     "text": [
      "Batches: 100%|███████████████████████████████████████████████████████████████████████████████████████████████████████████████████████| 2185/2185 [00:08<00:00, 255.27it/s]\n"
     ]
    },
    {
     "name": "stdout",
     "output_type": "stream",
     "text": [
      "Train 13 - loss:1.1810, acc:0.5888\n",
      "Valid 13 - loss:1.2350, acc:0.5772\n"
     ]
    },
    {
     "name": "stderr",
     "output_type": "stream",
     "text": [
      "Batches: 100%|███████████████████████████████████████████████████████████████████████████████████████████████████████████████████████| 2185/2185 [00:08<00:00, 254.15it/s]\n"
     ]
    },
    {
     "name": "stdout",
     "output_type": "stream",
     "text": [
      "Train 14 - loss:1.1769, acc:0.5915\n",
      "Valid 14 - loss:1.2408, acc:0.5719\n"
     ]
    },
    {
     "name": "stderr",
     "output_type": "stream",
     "text": [
      "Batches: 100%|███████████████████████████████████████████████████████████████████████████████████████████████████████████████████████| 2185/2185 [00:08<00:00, 251.81it/s]\n"
     ]
    },
    {
     "name": "stdout",
     "output_type": "stream",
     "text": [
      "Train 15 - loss:1.1757, acc:0.5932\n",
      "Valid 15 - loss:1.2191, acc:0.5794\n"
     ]
    },
    {
     "name": "stderr",
     "output_type": "stream",
     "text": [
      "Batches: 100%|███████████████████████████████████████████████████████████████████████████████████████████████████████████████████████| 2185/2185 [00:08<00:00, 257.81it/s]\n"
     ]
    },
    {
     "name": "stdout",
     "output_type": "stream",
     "text": [
      "Train 16 - loss:1.1729, acc:0.5923\n",
      "Valid 16 - loss:1.2209, acc:0.5770\n"
     ]
    },
    {
     "name": "stderr",
     "output_type": "stream",
     "text": [
      "Batches: 100%|███████████████████████████████████████████████████████████████████████████████████████████████████████████████████████| 2185/2185 [00:08<00:00, 257.01it/s]\n"
     ]
    },
    {
     "name": "stdout",
     "output_type": "stream",
     "text": [
      "Train 17 - loss:1.1705, acc:0.5936\n",
      "Valid 17 - loss:1.2176, acc:0.5780\n"
     ]
    },
    {
     "name": "stderr",
     "output_type": "stream",
     "text": [
      "Batches: 100%|███████████████████████████████████████████████████████████████████████████████████████████████████████████████████████| 2185/2185 [00:08<00:00, 257.52it/s]\n"
     ]
    },
    {
     "name": "stdout",
     "output_type": "stream",
     "text": [
      "Train 18 - loss:1.1696, acc:0.5942\n",
      "Valid 18 - loss:1.2202, acc:0.5767\n"
     ]
    },
    {
     "name": "stderr",
     "output_type": "stream",
     "text": [
      "Batches: 100%|███████████████████████████████████████████████████████████████████████████████████████████████████████████████████████| 2185/2185 [00:08<00:00, 257.68it/s]\n"
     ]
    },
    {
     "name": "stdout",
     "output_type": "stream",
     "text": [
      "Train 19 - loss:1.1685, acc:0.5943\n",
      "Valid 19 - loss:1.2205, acc:0.5785\n"
     ]
    },
    {
     "name": "stderr",
     "output_type": "stream",
     "text": [
      "Batches: 100%|███████████████████████████████████████████████████████████████████████████████████████████████████████████████████████| 2185/2185 [00:08<00:00, 260.00it/s]\n"
     ]
    },
    {
     "name": "stdout",
     "output_type": "stream",
     "text": [
      "Train 20 - loss:1.1669, acc:0.5962\n",
      "Valid 20 - loss:1.2267, acc:0.5758\n"
     ]
    },
    {
     "name": "stderr",
     "output_type": "stream",
     "text": [
      "Batches: 100%|███████████████████████████████████████████████████████████████████████████████████████████████████████████████████████| 2185/2185 [00:08<00:00, 254.37it/s]\n"
     ]
    },
    {
     "name": "stdout",
     "output_type": "stream",
     "text": [
      "Train 21 - loss:1.1661, acc:0.5981\n",
      "Valid 21 - loss:1.2151, acc:0.5793\n"
     ]
    },
    {
     "name": "stderr",
     "output_type": "stream",
     "text": [
      "Batches: 100%|███████████████████████████████████████████████████████████████████████████████████████████████████████████████████████| 2185/2185 [00:08<00:00, 258.15it/s]\n"
     ]
    },
    {
     "name": "stdout",
     "output_type": "stream",
     "text": [
      "Train 22 - loss:1.1657, acc:0.5957\n",
      "Valid 22 - loss:1.2239, acc:0.5762\n"
     ]
    },
    {
     "name": "stderr",
     "output_type": "stream",
     "text": [
      "Batches: 100%|███████████████████████████████████████████████████████████████████████████████████████████████████████████████████████| 2185/2185 [00:08<00:00, 257.48it/s]\n"
     ]
    },
    {
     "name": "stdout",
     "output_type": "stream",
     "text": [
      "Train 23 - loss:1.1649, acc:0.5965\n",
      "Valid 23 - loss:1.2280, acc:0.5785\n"
     ]
    },
    {
     "name": "stderr",
     "output_type": "stream",
     "text": [
      "Batches: 100%|███████████████████████████████████████████████████████████████████████████████████████████████████████████████████████| 2185/2185 [00:08<00:00, 256.57it/s]\n"
     ]
    },
    {
     "name": "stdout",
     "output_type": "stream",
     "text": [
      "Train 24 - loss:1.1626, acc:0.5945\n",
      "Valid 24 - loss:1.2175, acc:0.5773\n"
     ]
    },
    {
     "name": "stderr",
     "output_type": "stream",
     "text": [
      "Batches: 100%|███████████████████████████████████████████████████████████████████████████████████████████████████████████████████████| 2185/2185 [00:08<00:00, 258.53it/s]\n"
     ]
    },
    {
     "name": "stdout",
     "output_type": "stream",
     "text": [
      "Train 25 - loss:1.1633, acc:0.5959\n",
      "Valid 25 - loss:1.2204, acc:0.5785\n"
     ]
    },
    {
     "name": "stderr",
     "output_type": "stream",
     "text": [
      "Batches: 100%|███████████████████████████████████████████████████████████████████████████████████████████████████████████████████████| 2185/2185 [00:08<00:00, 259.00it/s]\n"
     ]
    },
    {
     "name": "stdout",
     "output_type": "stream",
     "text": [
      "Train 26 - loss:1.1611, acc:0.5955\n",
      "Valid 26 - loss:1.2193, acc:0.5811\n"
     ]
    },
    {
     "name": "stderr",
     "output_type": "stream",
     "text": [
      "Batches: 100%|███████████████████████████████████████████████████████████████████████████████████████████████████████████████████████| 2185/2185 [00:08<00:00, 255.51it/s]\n"
     ]
    },
    {
     "name": "stdout",
     "output_type": "stream",
     "text": [
      "Train 27 - loss:1.1592, acc:0.5962\n",
      "Valid 27 - loss:1.2151, acc:0.5798\n"
     ]
    },
    {
     "name": "stderr",
     "output_type": "stream",
     "text": [
      "Batches: 100%|███████████████████████████████████████████████████████████████████████████████████████████████████████████████████████| 2185/2185 [00:08<00:00, 257.00it/s]\n"
     ]
    },
    {
     "name": "stdout",
     "output_type": "stream",
     "text": [
      "Train 28 - loss:1.1616, acc:0.5970\n",
      "Valid 28 - loss:1.2202, acc:0.5826\n"
     ]
    },
    {
     "name": "stderr",
     "output_type": "stream",
     "text": [
      "Batches: 100%|███████████████████████████████████████████████████████████████████████████████████████████████████████████████████████| 2185/2185 [00:08<00:00, 258.43it/s]\n"
     ]
    },
    {
     "name": "stdout",
     "output_type": "stream",
     "text": [
      "Train 29 - loss:1.1598, acc:0.5965\n",
      "Valid 29 - loss:1.2212, acc:0.5810\n"
     ]
    },
    {
     "name": "stderr",
     "output_type": "stream",
     "text": [
      "Batches: 100%|███████████████████████████████████████████████████████████████████████████████████████████████████████████████████████| 2185/2185 [00:08<00:00, 258.47it/s]\n"
     ]
    },
    {
     "name": "stdout",
     "output_type": "stream",
     "text": [
      "Train 30 - loss:1.1607, acc:0.5962\n",
      "Valid 30 - loss:1.2236, acc:0.5768\n"
     ]
    },
    {
     "name": "stderr",
     "output_type": "stream",
     "text": [
      "Batches: 100%|███████████████████████████████████████████████████████████████████████████████████████████████████████████████████████| 2185/2185 [00:08<00:00, 257.64it/s]\n"
     ]
    },
    {
     "name": "stdout",
     "output_type": "stream",
     "text": [
      "Train 31 - loss:1.1570, acc:0.5979\n",
      "Valid 31 - loss:1.2117, acc:0.5872\n"
     ]
    },
    {
     "name": "stderr",
     "output_type": "stream",
     "text": [
      "Batches: 100%|███████████████████████████████████████████████████████████████████████████████████████████████████████████████████████| 2185/2185 [00:08<00:00, 258.57it/s]\n"
     ]
    },
    {
     "name": "stdout",
     "output_type": "stream",
     "text": [
      "Train 32 - loss:1.1571, acc:0.5969\n",
      "Valid 32 - loss:1.2201, acc:0.5817\n"
     ]
    },
    {
     "name": "stderr",
     "output_type": "stream",
     "text": [
      "Batches: 100%|███████████████████████████████████████████████████████████████████████████████████████████████████████████████████████| 2185/2185 [00:08<00:00, 252.94it/s]\n"
     ]
    },
    {
     "name": "stdout",
     "output_type": "stream",
     "text": [
      "Train 33 - loss:1.1556, acc:0.5969\n",
      "Valid 33 - loss:1.2184, acc:0.5802\n"
     ]
    },
    {
     "name": "stderr",
     "output_type": "stream",
     "text": [
      "Batches: 100%|███████████████████████████████████████████████████████████████████████████████████████████████████████████████████████| 2185/2185 [00:08<00:00, 257.10it/s]\n"
     ]
    },
    {
     "name": "stdout",
     "output_type": "stream",
     "text": [
      "Train 34 - loss:1.1569, acc:0.5959\n",
      "Valid 34 - loss:1.2127, acc:0.5833\n"
     ]
    },
    {
     "name": "stderr",
     "output_type": "stream",
     "text": [
      "Batches: 100%|███████████████████████████████████████████████████████████████████████████████████████████████████████████████████████| 2185/2185 [00:08<00:00, 258.39it/s]\n"
     ]
    },
    {
     "name": "stdout",
     "output_type": "stream",
     "text": [
      "Train 35 - loss:1.1562, acc:0.5964\n",
      "Valid 35 - loss:1.2234, acc:0.5793\n"
     ]
    },
    {
     "name": "stderr",
     "output_type": "stream",
     "text": [
      "Batches: 100%|███████████████████████████████████████████████████████████████████████████████████████████████████████████████████████| 2185/2185 [00:08<00:00, 258.64it/s]\n"
     ]
    },
    {
     "name": "stdout",
     "output_type": "stream",
     "text": [
      "Train 36 - loss:1.1536, acc:0.5979\n",
      "Valid 36 - loss:1.2205, acc:0.5785\n"
     ]
    },
    {
     "name": "stderr",
     "output_type": "stream",
     "text": [
      "Batches: 100%|███████████████████████████████████████████████████████████████████████████████████████████████████████████████████████| 2185/2185 [00:08<00:00, 258.16it/s]\n"
     ]
    },
    {
     "name": "stdout",
     "output_type": "stream",
     "text": [
      "Train 37 - loss:1.1538, acc:0.5971\n",
      "Valid 37 - loss:1.2107, acc:0.5802\n"
     ]
    },
    {
     "name": "stderr",
     "output_type": "stream",
     "text": [
      "Batches: 100%|███████████████████████████████████████████████████████████████████████████████████████████████████████████████████████| 2185/2185 [00:08<00:00, 258.82it/s]\n"
     ]
    },
    {
     "name": "stdout",
     "output_type": "stream",
     "text": [
      "Train 38 - loss:1.1546, acc:0.5966\n",
      "Valid 38 - loss:1.2014, acc:0.5880\n"
     ]
    },
    {
     "name": "stderr",
     "output_type": "stream",
     "text": [
      "Batches: 100%|███████████████████████████████████████████████████████████████████████████████████████████████████████████████████████| 2185/2185 [00:08<00:00, 257.31it/s]\n"
     ]
    },
    {
     "name": "stdout",
     "output_type": "stream",
     "text": [
      "Train 39 - loss:1.1534, acc:0.5975\n",
      "Valid 39 - loss:1.2066, acc:0.5872\n"
     ]
    },
    {
     "name": "stderr",
     "output_type": "stream",
     "text": [
      "Batches: 100%|███████████████████████████████████████████████████████████████████████████████████████████████████████████████████████| 2185/2185 [00:08<00:00, 255.39it/s]\n"
     ]
    },
    {
     "name": "stdout",
     "output_type": "stream",
     "text": [
      "Train 40 - loss:1.1548, acc:0.5972\n",
      "Valid 40 - loss:1.2166, acc:0.5793\n"
     ]
    },
    {
     "name": "stderr",
     "output_type": "stream",
     "text": [
      "Batches: 100%|███████████████████████████████████████████████████████████████████████████████████████████████████████████████████████| 2185/2185 [00:08<00:00, 253.09it/s]\n"
     ]
    },
    {
     "name": "stdout",
     "output_type": "stream",
     "text": [
      "Train 41 - loss:1.1537, acc:0.5983\n",
      "Valid 41 - loss:1.2126, acc:0.5795\n"
     ]
    },
    {
     "name": "stderr",
     "output_type": "stream",
     "text": [
      "Batches: 100%|███████████████████████████████████████████████████████████████████████████████████████████████████████████████████████| 2185/2185 [00:08<00:00, 257.33it/s]\n"
     ]
    },
    {
     "name": "stdout",
     "output_type": "stream",
     "text": [
      "Train 42 - loss:1.1518, acc:0.5974\n",
      "Valid 42 - loss:1.2086, acc:0.5821\n"
     ]
    },
    {
     "name": "stderr",
     "output_type": "stream",
     "text": [
      "Batches: 100%|███████████████████████████████████████████████████████████████████████████████████████████████████████████████████████| 2185/2185 [00:08<00:00, 259.23it/s]\n"
     ]
    },
    {
     "name": "stdout",
     "output_type": "stream",
     "text": [
      "Train 43 - loss:1.1506, acc:0.5989\n",
      "Valid 43 - loss:1.2092, acc:0.5800\n"
     ]
    },
    {
     "name": "stderr",
     "output_type": "stream",
     "text": [
      "Batches: 100%|███████████████████████████████████████████████████████████████████████████████████████████████████████████████████████| 2185/2185 [00:08<00:00, 258.64it/s]\n"
     ]
    },
    {
     "name": "stdout",
     "output_type": "stream",
     "text": [
      "Train 44 - loss:1.1507, acc:0.5986\n",
      "Valid 44 - loss:1.2126, acc:0.5779\n"
     ]
    },
    {
     "name": "stderr",
     "output_type": "stream",
     "text": [
      "Batches: 100%|███████████████████████████████████████████████████████████████████████████████████████████████████████████████████████| 2185/2185 [00:08<00:00, 258.25it/s]\n"
     ]
    },
    {
     "name": "stdout",
     "output_type": "stream",
     "text": [
      "Train 45 - loss:1.1501, acc:0.5982\n",
      "Valid 45 - loss:1.2097, acc:0.5826\n"
     ]
    },
    {
     "name": "stderr",
     "output_type": "stream",
     "text": [
      "Batches: 100%|███████████████████████████████████████████████████████████████████████████████████████████████████████████████████████| 2185/2185 [00:08<00:00, 257.31it/s]\n"
     ]
    },
    {
     "name": "stdout",
     "output_type": "stream",
     "text": [
      "Train 46 - loss:1.1506, acc:0.6001\n",
      "Valid 46 - loss:1.2085, acc:0.5818\n"
     ]
    },
    {
     "name": "stderr",
     "output_type": "stream",
     "text": [
      "Batches: 100%|███████████████████████████████████████████████████████████████████████████████████████████████████████████████████████| 2185/2185 [00:08<00:00, 257.29it/s]\n"
     ]
    },
    {
     "name": "stdout",
     "output_type": "stream",
     "text": [
      "Train 47 - loss:1.1497, acc:0.5983\n",
      "Valid 47 - loss:1.2110, acc:0.5804\n"
     ]
    },
    {
     "name": "stderr",
     "output_type": "stream",
     "text": [
      "Batches: 100%|███████████████████████████████████████████████████████████████████████████████████████████████████████████████████████| 2185/2185 [00:08<00:00, 255.43it/s]\n"
     ]
    },
    {
     "name": "stdout",
     "output_type": "stream",
     "text": [
      "Train 48 - loss:1.1474, acc:0.6000\n",
      "Valid 48 - loss:1.2062, acc:0.5839\n"
     ]
    },
    {
     "name": "stderr",
     "output_type": "stream",
     "text": [
      "Batches: 100%|███████████████████████████████████████████████████████████████████████████████████████████████████████████████████████| 2185/2185 [00:08<00:00, 257.72it/s]\n"
     ]
    },
    {
     "name": "stdout",
     "output_type": "stream",
     "text": [
      "Train 49 - loss:1.1487, acc:0.5991\n",
      "Valid 49 - loss:1.2074, acc:0.5782\n"
     ]
    },
    {
     "name": "stderr",
     "output_type": "stream",
     "text": [
      "Batches: 100%|███████████████████████████████████████████████████████████████████████████████████████████████████████████████████████| 2185/2185 [00:08<00:00, 258.24it/s]\n"
     ]
    },
    {
     "name": "stdout",
     "output_type": "stream",
     "text": [
      "Train 50 - loss:1.1477, acc:0.5989\n",
      "Valid 50 - loss:1.2105, acc:0.5804\n"
     ]
    },
    {
     "name": "stderr",
     "output_type": "stream",
     "text": [
      "Batches: 100%|███████████████████████████████████████████████████████████████████████████████████████████████████████████████████████| 2185/2185 [00:08<00:00, 257.62it/s]\n"
     ]
    },
    {
     "name": "stdout",
     "output_type": "stream",
     "text": [
      "Train 51 - loss:1.1469, acc:0.5999\n",
      "Valid 51 - loss:1.2113, acc:0.5813\n"
     ]
    },
    {
     "name": "stderr",
     "output_type": "stream",
     "text": [
      "Batches: 100%|███████████████████████████████████████████████████████████████████████████████████████████████████████████████████████| 2185/2185 [00:08<00:00, 255.22it/s]\n"
     ]
    },
    {
     "name": "stdout",
     "output_type": "stream",
     "text": [
      "Train 52 - loss:1.1474, acc:0.5983\n",
      "Valid 52 - loss:1.2155, acc:0.5789\n"
     ]
    },
    {
     "name": "stderr",
     "output_type": "stream",
     "text": [
      "Batches: 100%|███████████████████████████████████████████████████████████████████████████████████████████████████████████████████████| 2185/2185 [00:08<00:00, 256.79it/s]\n"
     ]
    },
    {
     "name": "stdout",
     "output_type": "stream",
     "text": [
      "Train 53 - loss:1.1472, acc:0.5994\n",
      "Valid 53 - loss:1.2077, acc:0.5862\n"
     ]
    },
    {
     "name": "stderr",
     "output_type": "stream",
     "text": [
      "Batches: 100%|███████████████████████████████████████████████████████████████████████████████████████████████████████████████████████| 2185/2185 [00:08<00:00, 256.61it/s]\n"
     ]
    },
    {
     "name": "stdout",
     "output_type": "stream",
     "text": [
      "Train 54 - loss:1.1478, acc:0.5985\n",
      "Valid 54 - loss:1.2144, acc:0.5791\n"
     ]
    },
    {
     "name": "stderr",
     "output_type": "stream",
     "text": [
      "Batches: 100%|███████████████████████████████████████████████████████████████████████████████████████████████████████████████████████| 2185/2185 [00:08<00:00, 259.17it/s]\n"
     ]
    },
    {
     "name": "stdout",
     "output_type": "stream",
     "text": [
      "Train 55 - loss:1.1465, acc:0.6012\n",
      "Valid 55 - loss:1.2109, acc:0.5824\n"
     ]
    },
    {
     "name": "stderr",
     "output_type": "stream",
     "text": [
      "Batches: 100%|███████████████████████████████████████████████████████████████████████████████████████████████████████████████████████| 2185/2185 [00:08<00:00, 257.34it/s]\n"
     ]
    },
    {
     "name": "stdout",
     "output_type": "stream",
     "text": [
      "Train 56 - loss:1.1455, acc:0.6007\n",
      "Valid 56 - loss:1.2170, acc:0.5802\n"
     ]
    },
    {
     "name": "stderr",
     "output_type": "stream",
     "text": [
      "Batches: 100%|███████████████████████████████████████████████████████████████████████████████████████████████████████████████████████| 2185/2185 [00:08<00:00, 256.83it/s]\n"
     ]
    },
    {
     "name": "stdout",
     "output_type": "stream",
     "text": [
      "Train 57 - loss:1.1439, acc:0.6014\n",
      "Valid 57 - loss:1.2108, acc:0.5824\n"
     ]
    },
    {
     "name": "stderr",
     "output_type": "stream",
     "text": [
      "Batches: 100%|███████████████████████████████████████████████████████████████████████████████████████████████████████████████████████| 2185/2185 [00:08<00:00, 252.77it/s]\n"
     ]
    },
    {
     "name": "stdout",
     "output_type": "stream",
     "text": [
      "Train 58 - loss:1.1451, acc:0.6013\n",
      "Valid 58 - loss:1.2112, acc:0.5799\n"
     ]
    },
    {
     "name": "stderr",
     "output_type": "stream",
     "text": [
      "Batches: 100%|███████████████████████████████████████████████████████████████████████████████████████████████████████████████████████| 2185/2185 [00:08<00:00, 258.68it/s]\n"
     ]
    },
    {
     "name": "stdout",
     "output_type": "stream",
     "text": [
      "Train 59 - loss:1.1440, acc:0.6016\n",
      "Valid 59 - loss:1.2074, acc:0.5800\n"
     ]
    },
    {
     "name": "stderr",
     "output_type": "stream",
     "text": [
      "Batches: 100%|███████████████████████████████████████████████████████████████████████████████████████████████████████████████████████| 2185/2185 [00:08<00:00, 255.80it/s]\n"
     ]
    },
    {
     "name": "stdout",
     "output_type": "stream",
     "text": [
      "Train 60 - loss:1.1456, acc:0.6027\n",
      "Valid 60 - loss:1.2105, acc:0.5802\n"
     ]
    },
    {
     "name": "stderr",
     "output_type": "stream",
     "text": [
      "Batches: 100%|███████████████████████████████████████████████████████████████████████████████████████████████████████████████████████| 2185/2185 [00:09<00:00, 227.66it/s]\n"
     ]
    },
    {
     "name": "stdout",
     "output_type": "stream",
     "text": [
      "Train 61 - loss:1.1436, acc:0.6028\n",
      "Valid 61 - loss:1.2123, acc:0.5775\n"
     ]
    },
    {
     "name": "stderr",
     "output_type": "stream",
     "text": [
      "Batches: 100%|███████████████████████████████████████████████████████████████████████████████████████████████████████████████████████| 2185/2185 [00:08<00:00, 257.27it/s]\n"
     ]
    },
    {
     "name": "stdout",
     "output_type": "stream",
     "text": [
      "Train 62 - loss:1.1444, acc:0.6013\n",
      "Valid 62 - loss:1.2066, acc:0.5774\n"
     ]
    },
    {
     "name": "stderr",
     "output_type": "stream",
     "text": [
      "Batches: 100%|███████████████████████████████████████████████████████████████████████████████████████████████████████████████████████| 2185/2185 [00:08<00:00, 257.91it/s]\n"
     ]
    },
    {
     "name": "stdout",
     "output_type": "stream",
     "text": [
      "Train 63 - loss:1.1434, acc:0.6028\n",
      "Valid 63 - loss:1.2102, acc:0.5802\n"
     ]
    },
    {
     "name": "stderr",
     "output_type": "stream",
     "text": [
      "Batches: 100%|███████████████████████████████████████████████████████████████████████████████████████████████████████████████████████| 2185/2185 [00:08<00:00, 252.93it/s]\n"
     ]
    },
    {
     "name": "stdout",
     "output_type": "stream",
     "text": [
      "Train 64 - loss:1.1430, acc:0.6025\n",
      "Valid 64 - loss:1.2087, acc:0.5772\n"
     ]
    },
    {
     "name": "stderr",
     "output_type": "stream",
     "text": [
      "Batches: 100%|███████████████████████████████████████████████████████████████████████████████████████████████████████████████████████| 2185/2185 [00:08<00:00, 254.96it/s]\n"
     ]
    },
    {
     "name": "stdout",
     "output_type": "stream",
     "text": [
      "Train 65 - loss:1.1430, acc:0.6033\n",
      "Valid 65 - loss:1.2167, acc:0.5773\n"
     ]
    },
    {
     "name": "stderr",
     "output_type": "stream",
     "text": [
      "Batches: 100%|███████████████████████████████████████████████████████████████████████████████████████████████████████████████████████| 2185/2185 [00:08<00:00, 257.82it/s]\n"
     ]
    },
    {
     "name": "stdout",
     "output_type": "stream",
     "text": [
      "Train 66 - loss:1.1417, acc:0.6037\n",
      "Valid 66 - loss:1.2122, acc:0.5768\n"
     ]
    },
    {
     "name": "stderr",
     "output_type": "stream",
     "text": [
      "Batches: 100%|███████████████████████████████████████████████████████████████████████████████████████████████████████████████████████| 2185/2185 [00:08<00:00, 253.73it/s]\n"
     ]
    },
    {
     "name": "stdout",
     "output_type": "stream",
     "text": [
      "Train 67 - loss:1.1430, acc:0.6018\n",
      "Valid 67 - loss:1.2093, acc:0.5795\n"
     ]
    },
    {
     "name": "stderr",
     "output_type": "stream",
     "text": [
      "Batches: 100%|███████████████████████████████████████████████████████████████████████████████████████████████████████████████████████| 2185/2185 [00:08<00:00, 253.69it/s]\n"
     ]
    },
    {
     "name": "stdout",
     "output_type": "stream",
     "text": [
      "Train 68 - loss:1.1424, acc:0.6024\n",
      "Valid 68 - loss:1.2101, acc:0.5775\n"
     ]
    },
    {
     "name": "stderr",
     "output_type": "stream",
     "text": [
      "Batches: 100%|███████████████████████████████████████████████████████████████████████████████████████████████████████████████████████| 2185/2185 [00:09<00:00, 235.92it/s]\n"
     ]
    },
    {
     "name": "stdout",
     "output_type": "stream",
     "text": [
      "Train 69 - loss:1.1416, acc:0.6016\n"
     ]
    },
    {
     "ename": "KeyboardInterrupt",
     "evalue": "",
     "output_type": "error",
     "traceback": [
      "\u001b[0;31m---------------------------------------------------------------------------\u001b[0m",
      "\u001b[0;31mKeyboardInterrupt\u001b[0m                         Traceback (most recent call last)",
      "Cell \u001b[0;32mIn[88], line 2\u001b[0m\n\u001b[1;32m      1\u001b[0m model \u001b[38;5;241m=\u001b[39m Model(\u001b[38;5;241m3\u001b[39m, \u001b[38;5;241m20\u001b[39m, \u001b[38;5;241m2\u001b[39m, \u001b[38;5;241m0.0\u001b[39m)\n\u001b[0;32m----> 2\u001b[0m \u001b[43mtrain\u001b[49m\u001b[43m(\u001b[49m\u001b[43mmodel\u001b[49m\u001b[43m,\u001b[49m\u001b[43m \u001b[49m\u001b[38;5;124;43m\"\u001b[39;49m\u001b[38;5;124;43m./solver/sol_examples/vrp20/sols.pkl\u001b[39;49m\u001b[38;5;124;43m\"\u001b[39;49m\u001b[43m,\u001b[49m\u001b[43m \u001b[49m\u001b[43mepochs\u001b[49m\u001b[38;5;241;43m=\u001b[39;49m\u001b[38;5;241;43m200\u001b[39;49m\u001b[43m,\u001b[49m\u001b[43m \u001b[49m\u001b[43mbatch_size\u001b[49m\u001b[38;5;241;43m=\u001b[39;49m\u001b[38;5;241;43m16\u001b[39;49m\u001b[43m,\u001b[49m\u001b[43m \u001b[49m\u001b[43mlearning_rate\u001b[49m\u001b[38;5;241;43m=\u001b[39;49m\u001b[38;5;241;43m3e-3\u001b[39;49m\u001b[43m,\u001b[49m\u001b[43m \u001b[49m\u001b[43mmax_instances\u001b[49m\u001b[38;5;241;43m=\u001b[39;49m\u001b[38;5;241;43m2000\u001b[39;49m\u001b[43m)\u001b[49m\n",
      "File \u001b[0;32m~/Desktop/stanford/cs224w/project/cs224w/training_new.py:128\u001b[0m, in \u001b[0;36mtrain\u001b[0;34m(model, graphs_path, epochs, batch_size, learning_rate, eval_epochs, max_instances)\u001b[0m\n\u001b[1;32m    126\u001b[0m model\u001b[38;5;241m.\u001b[39meval()\n\u001b[1;32m    127\u001b[0m \u001b[38;5;28;01mwith\u001b[39;00m torch\u001b[38;5;241m.\u001b[39mno_grad():\n\u001b[0;32m--> 128\u001b[0m     valid_loss, valid_acc \u001b[38;5;241m=\u001b[39m \u001b[38;5;28;43meval\u001b[39;49m\u001b[43m(\u001b[49m\u001b[43mmodel\u001b[49m\u001b[43m,\u001b[49m\u001b[43m \u001b[49m\u001b[43mvalid_dl\u001b[49m\u001b[43m)\u001b[49m\n\u001b[1;32m    129\u001b[0m model\u001b[38;5;241m.\u001b[39mtrain()\n\u001b[1;32m    130\u001b[0m \u001b[38;5;28mprint\u001b[39m(\u001b[38;5;124mf\u001b[39m\u001b[38;5;124m\"\u001b[39m\u001b[38;5;124mValid \u001b[39m\u001b[38;5;132;01m{\u001b[39;00me\u001b[38;5;132;01m}\u001b[39;00m\u001b[38;5;124m - loss:\u001b[39m\u001b[38;5;132;01m{\u001b[39;00mvalid_loss\u001b[38;5;132;01m:\u001b[39;00m\u001b[38;5;124m.4f\u001b[39m\u001b[38;5;132;01m}\u001b[39;00m\u001b[38;5;124m, acc:\u001b[39m\u001b[38;5;132;01m{\u001b[39;00mvalid_acc\u001b[38;5;132;01m:\u001b[39;00m\u001b[38;5;124m.4f\u001b[39m\u001b[38;5;132;01m}\u001b[39;00m\u001b[38;5;124m\"\u001b[39m)\n",
      "File \u001b[0;32m~/Desktop/stanford/cs224w/project/cs224w/training_new.py:79\u001b[0m, in \u001b[0;36meval\u001b[0;34m(model, data_loder)\u001b[0m\n\u001b[1;32m     77\u001b[0m \u001b[38;5;28;01mfor\u001b[39;00m batched_graphs \u001b[38;5;129;01min\u001b[39;00m data_loder:\n\u001b[1;32m     78\u001b[0m     batched_graphs \u001b[38;5;241m=\u001b[39m batched_graphs\u001b[38;5;241m.\u001b[39mto(device\u001b[38;5;241m=\u001b[39mmodel\u001b[38;5;241m.\u001b[39mdevice)\n\u001b[0;32m---> 79\u001b[0m     logits \u001b[38;5;241m=\u001b[39m \u001b[43mmodel\u001b[49m\u001b[43m(\u001b[49m\u001b[43mbatched_graphs\u001b[49m\u001b[43m)\u001b[49m\n\u001b[1;32m     80\u001b[0m     nexts \u001b[38;5;241m=\u001b[39m batched_graphs\u001b[38;5;241m.\u001b[39my\n\u001b[1;32m     81\u001b[0m     loss \u001b[38;5;241m=\u001b[39m loss_fn(logits, nexts)\n",
      "File \u001b[0;32m/opt/homebrew/anaconda3/envs/pyt1-osx-64/lib/python3.10/site-packages/torch/nn/modules/module.py:1190\u001b[0m, in \u001b[0;36mModule._call_impl\u001b[0;34m(self, *input, **kwargs)\u001b[0m\n\u001b[1;32m   1186\u001b[0m \u001b[38;5;66;03m# If we don't have any hooks, we want to skip the rest of the logic in\u001b[39;00m\n\u001b[1;32m   1187\u001b[0m \u001b[38;5;66;03m# this function, and just call forward.\u001b[39;00m\n\u001b[1;32m   1188\u001b[0m \u001b[38;5;28;01mif\u001b[39;00m \u001b[38;5;129;01mnot\u001b[39;00m (\u001b[38;5;28mself\u001b[39m\u001b[38;5;241m.\u001b[39m_backward_hooks \u001b[38;5;129;01mor\u001b[39;00m \u001b[38;5;28mself\u001b[39m\u001b[38;5;241m.\u001b[39m_forward_hooks \u001b[38;5;129;01mor\u001b[39;00m \u001b[38;5;28mself\u001b[39m\u001b[38;5;241m.\u001b[39m_forward_pre_hooks \u001b[38;5;129;01mor\u001b[39;00m _global_backward_hooks\n\u001b[1;32m   1189\u001b[0m         \u001b[38;5;129;01mor\u001b[39;00m _global_forward_hooks \u001b[38;5;129;01mor\u001b[39;00m _global_forward_pre_hooks):\n\u001b[0;32m-> 1190\u001b[0m     \u001b[38;5;28;01mreturn\u001b[39;00m \u001b[43mforward_call\u001b[49m\u001b[43m(\u001b[49m\u001b[38;5;241;43m*\u001b[39;49m\u001b[38;5;28;43minput\u001b[39;49m\u001b[43m,\u001b[49m\u001b[43m \u001b[49m\u001b[38;5;241;43m*\u001b[39;49m\u001b[38;5;241;43m*\u001b[39;49m\u001b[43mkwargs\u001b[49m\u001b[43m)\u001b[49m\n\u001b[1;32m   1191\u001b[0m \u001b[38;5;66;03m# Do not call functions when jit is used\u001b[39;00m\n\u001b[1;32m   1192\u001b[0m full_backward_hooks, non_full_backward_hooks \u001b[38;5;241m=\u001b[39m [], []\n",
      "File \u001b[0;32m~/Desktop/stanford/cs224w/project/cs224w/model.py:97\u001b[0m, in \u001b[0;36mModel.forward\u001b[0;34m(self, batched_graphs)\u001b[0m\n\u001b[1;32m     87\u001b[0m \u001b[38;5;28;01mdef\u001b[39;00m \u001b[38;5;21mforward\u001b[39m(\u001b[38;5;28mself\u001b[39m, batched_graphs : Batch):\n\u001b[1;32m     88\u001b[0m     \u001b[38;5;66;03m# receives a batched data instance:\u001b[39;00m\n\u001b[1;32m     89\u001b[0m     \u001b[38;5;66;03m# https://pytorch-geometric.readthedocs.io/en/latest/generated/torch_geometric.data.Batch.html\u001b[39;00m\n\u001b[0;32m   (...)\u001b[0m\n\u001b[1;32m     93\u001b[0m     \u001b[38;5;66;03m# logits for nodes that are already visited should\u001b[39;00m\n\u001b[1;32m     94\u001b[0m     \u001b[38;5;66;03m# be masked out with a very small number\u001b[39;00m\n\u001b[1;32m     96\u001b[0m     x, edge_index, batch \u001b[38;5;241m=\u001b[39m batched_graphs\u001b[38;5;241m.\u001b[39mx, batched_graphs\u001b[38;5;241m.\u001b[39medge_index, batched_graphs\u001b[38;5;241m.\u001b[39mbatch\n\u001b[0;32m---> 97\u001b[0m     pre_x \u001b[38;5;241m=\u001b[39m x \u001b[38;5;241m=\u001b[39m \u001b[38;5;28;43mself\u001b[39;49m\u001b[38;5;241;43m.\u001b[39;49m\u001b[43mlin_pre\u001b[49m\u001b[43m(\u001b[49m\u001b[43mx\u001b[49m\u001b[43m)\u001b[49m\n\u001b[1;32m     99\u001b[0m     \u001b[38;5;28;01mfor\u001b[39;00m i \u001b[38;5;129;01min\u001b[39;00m \u001b[38;5;28mrange\u001b[39m(\u001b[38;5;28mself\u001b[39m\u001b[38;5;241m.\u001b[39mnum_layers\u001b[38;5;241m-\u001b[39m\u001b[38;5;241m1\u001b[39m):\n\u001b[1;32m    100\u001b[0m       \u001b[38;5;66;03m# TODO apply skip connections?\u001b[39;00m\n\u001b[1;32m    101\u001b[0m       x \u001b[38;5;241m=\u001b[39m \u001b[38;5;28mself\u001b[39m\u001b[38;5;241m.\u001b[39mconvs[i](x\u001b[38;5;241m=\u001b[39mx, edge_index\u001b[38;5;241m=\u001b[39medge_index)\n",
      "File \u001b[0;32m/opt/homebrew/anaconda3/envs/pyt1-osx-64/lib/python3.10/site-packages/torch/nn/modules/module.py:1190\u001b[0m, in \u001b[0;36mModule._call_impl\u001b[0;34m(self, *input, **kwargs)\u001b[0m\n\u001b[1;32m   1186\u001b[0m \u001b[38;5;66;03m# If we don't have any hooks, we want to skip the rest of the logic in\u001b[39;00m\n\u001b[1;32m   1187\u001b[0m \u001b[38;5;66;03m# this function, and just call forward.\u001b[39;00m\n\u001b[1;32m   1188\u001b[0m \u001b[38;5;28;01mif\u001b[39;00m \u001b[38;5;129;01mnot\u001b[39;00m (\u001b[38;5;28mself\u001b[39m\u001b[38;5;241m.\u001b[39m_backward_hooks \u001b[38;5;129;01mor\u001b[39;00m \u001b[38;5;28mself\u001b[39m\u001b[38;5;241m.\u001b[39m_forward_hooks \u001b[38;5;129;01mor\u001b[39;00m \u001b[38;5;28mself\u001b[39m\u001b[38;5;241m.\u001b[39m_forward_pre_hooks \u001b[38;5;129;01mor\u001b[39;00m _global_backward_hooks\n\u001b[1;32m   1189\u001b[0m         \u001b[38;5;129;01mor\u001b[39;00m _global_forward_hooks \u001b[38;5;129;01mor\u001b[39;00m _global_forward_pre_hooks):\n\u001b[0;32m-> 1190\u001b[0m     \u001b[38;5;28;01mreturn\u001b[39;00m \u001b[43mforward_call\u001b[49m\u001b[43m(\u001b[49m\u001b[38;5;241;43m*\u001b[39;49m\u001b[38;5;28;43minput\u001b[39;49m\u001b[43m,\u001b[49m\u001b[43m \u001b[49m\u001b[38;5;241;43m*\u001b[39;49m\u001b[38;5;241;43m*\u001b[39;49m\u001b[43mkwargs\u001b[49m\u001b[43m)\u001b[49m\n\u001b[1;32m   1191\u001b[0m \u001b[38;5;66;03m# Do not call functions when jit is used\u001b[39;00m\n\u001b[1;32m   1192\u001b[0m full_backward_hooks, non_full_backward_hooks \u001b[38;5;241m=\u001b[39m [], []\n",
      "File \u001b[0;32m/opt/homebrew/anaconda3/envs/pyt1-osx-64/lib/python3.10/site-packages/torch/nn/modules/container.py:204\u001b[0m, in \u001b[0;36mSequential.forward\u001b[0;34m(self, input)\u001b[0m\n\u001b[1;32m    202\u001b[0m \u001b[38;5;28;01mdef\u001b[39;00m \u001b[38;5;21mforward\u001b[39m(\u001b[38;5;28mself\u001b[39m, \u001b[38;5;28minput\u001b[39m):\n\u001b[1;32m    203\u001b[0m     \u001b[38;5;28;01mfor\u001b[39;00m module \u001b[38;5;129;01min\u001b[39;00m \u001b[38;5;28mself\u001b[39m:\n\u001b[0;32m--> 204\u001b[0m         \u001b[38;5;28minput\u001b[39m \u001b[38;5;241m=\u001b[39m \u001b[43mmodule\u001b[49m\u001b[43m(\u001b[49m\u001b[38;5;28;43minput\u001b[39;49m\u001b[43m)\u001b[49m\n\u001b[1;32m    205\u001b[0m     \u001b[38;5;28;01mreturn\u001b[39;00m \u001b[38;5;28minput\u001b[39m\n",
      "File \u001b[0;32m/opt/homebrew/anaconda3/envs/pyt1-osx-64/lib/python3.10/site-packages/torch/nn/modules/module.py:1190\u001b[0m, in \u001b[0;36mModule._call_impl\u001b[0;34m(self, *input, **kwargs)\u001b[0m\n\u001b[1;32m   1186\u001b[0m \u001b[38;5;66;03m# If we don't have any hooks, we want to skip the rest of the logic in\u001b[39;00m\n\u001b[1;32m   1187\u001b[0m \u001b[38;5;66;03m# this function, and just call forward.\u001b[39;00m\n\u001b[1;32m   1188\u001b[0m \u001b[38;5;28;01mif\u001b[39;00m \u001b[38;5;129;01mnot\u001b[39;00m (\u001b[38;5;28mself\u001b[39m\u001b[38;5;241m.\u001b[39m_backward_hooks \u001b[38;5;129;01mor\u001b[39;00m \u001b[38;5;28mself\u001b[39m\u001b[38;5;241m.\u001b[39m_forward_hooks \u001b[38;5;129;01mor\u001b[39;00m \u001b[38;5;28mself\u001b[39m\u001b[38;5;241m.\u001b[39m_forward_pre_hooks \u001b[38;5;129;01mor\u001b[39;00m _global_backward_hooks\n\u001b[1;32m   1189\u001b[0m         \u001b[38;5;129;01mor\u001b[39;00m _global_forward_hooks \u001b[38;5;129;01mor\u001b[39;00m _global_forward_pre_hooks):\n\u001b[0;32m-> 1190\u001b[0m     \u001b[38;5;28;01mreturn\u001b[39;00m \u001b[43mforward_call\u001b[49m\u001b[43m(\u001b[49m\u001b[38;5;241;43m*\u001b[39;49m\u001b[38;5;28;43minput\u001b[39;49m\u001b[43m,\u001b[49m\u001b[43m \u001b[49m\u001b[38;5;241;43m*\u001b[39;49m\u001b[38;5;241;43m*\u001b[39;49m\u001b[43mkwargs\u001b[49m\u001b[43m)\u001b[49m\n\u001b[1;32m   1191\u001b[0m \u001b[38;5;66;03m# Do not call functions when jit is used\u001b[39;00m\n\u001b[1;32m   1192\u001b[0m full_backward_hooks, non_full_backward_hooks \u001b[38;5;241m=\u001b[39m [], []\n",
      "File \u001b[0;32m/opt/homebrew/anaconda3/envs/pyt1-osx-64/lib/python3.10/site-packages/torch/nn/modules/linear.py:114\u001b[0m, in \u001b[0;36mLinear.forward\u001b[0;34m(self, input)\u001b[0m\n\u001b[1;32m    113\u001b[0m \u001b[38;5;28;01mdef\u001b[39;00m \u001b[38;5;21mforward\u001b[39m(\u001b[38;5;28mself\u001b[39m, \u001b[38;5;28minput\u001b[39m: Tensor) \u001b[38;5;241m-\u001b[39m\u001b[38;5;241m>\u001b[39m Tensor:\n\u001b[0;32m--> 114\u001b[0m     \u001b[38;5;28;01mreturn\u001b[39;00m \u001b[43mF\u001b[49m\u001b[38;5;241;43m.\u001b[39;49m\u001b[43mlinear\u001b[49m\u001b[43m(\u001b[49m\u001b[38;5;28;43minput\u001b[39;49m\u001b[43m,\u001b[49m\u001b[43m \u001b[49m\u001b[38;5;28;43mself\u001b[39;49m\u001b[38;5;241;43m.\u001b[39;49m\u001b[43mweight\u001b[49m\u001b[43m,\u001b[49m\u001b[43m \u001b[49m\u001b[38;5;28;43mself\u001b[39;49m\u001b[38;5;241;43m.\u001b[39;49m\u001b[43mbias\u001b[49m\u001b[43m)\u001b[49m\n",
      "\u001b[0;31mKeyboardInterrupt\u001b[0m: "
     ]
    }
   ],
   "source": [
    "model = Model(3, 20, 2, 0.0)\n",
    "train(model, \"./solver/sol_examples/vrp20/sols.pkl\", epochs=200, batch_size=16, learning_rate=3e-3, max_instances=2000)"
   ]
  },
  {
   "cell_type": "code",
   "execution_count": null,
   "id": "91a79d4a-2f8a-4e25-a60b-2ef6297cdb49",
   "metadata": {},
   "outputs": [],
   "source": []
  },
  {
   "cell_type": "code",
   "execution_count": 55,
   "id": "2eb0774e-f90e-4881-bbeb-8bd45fcb455f",
   "metadata": {
    "collapsed": true,
    "jupyter": {
     "outputs_hidden": true
    },
    "scrolled": true
   },
   "outputs": [
    {
     "name": "stdout",
     "output_type": "stream",
     "text": [
      "0.003\n"
     ]
    },
    {
     "name": "stderr",
     "output_type": "stream",
     "text": [
      "Parsing Graphs: 100%|██████████████████████████████████████████████████████████████████████████████████████████████████████████████████| 500/500 [00:04<00:00, 120.39it/s]\n",
      "Batches: 100%|█████████████████████████████████████████████████████████████████████████████████████████████████████████████████████████| 546/546 [00:01<00:00, 440.77it/s]\n"
     ]
    },
    {
     "name": "stdout",
     "output_type": "stream",
     "text": [
      "Train 0 - loss:1.7798, acc:0.4015\n",
      "Valid 0 - loss:1.5175, acc:0.4862\n"
     ]
    },
    {
     "name": "stderr",
     "output_type": "stream",
     "text": [
      "Batches: 100%|█████████████████████████████████████████████████████████████████████████████████████████████████████████████████████████| 546/546 [00:01<00:00, 452.86it/s]\n"
     ]
    },
    {
     "name": "stdout",
     "output_type": "stream",
     "text": [
      "Train 1 - loss:1.5231, acc:0.4885\n",
      "Valid 1 - loss:1.4872, acc:0.4979\n"
     ]
    },
    {
     "name": "stderr",
     "output_type": "stream",
     "text": [
      "Batches: 100%|█████████████████████████████████████████████████████████████████████████████████████████████████████████████████████████| 546/546 [00:01<00:00, 442.75it/s]\n"
     ]
    },
    {
     "name": "stdout",
     "output_type": "stream",
     "text": [
      "Train 2 - loss:1.4854, acc:0.4932\n",
      "Valid 2 - loss:1.4506, acc:0.5026\n"
     ]
    },
    {
     "name": "stderr",
     "output_type": "stream",
     "text": [
      "Batches: 100%|█████████████████████████████████████████████████████████████████████████████████████████████████████████████████████████| 546/546 [00:01<00:00, 450.51it/s]\n"
     ]
    },
    {
     "name": "stdout",
     "output_type": "stream",
     "text": [
      "Train 3 - loss:1.4602, acc:0.5011\n",
      "Valid 3 - loss:1.4490, acc:0.5102\n"
     ]
    },
    {
     "name": "stderr",
     "output_type": "stream",
     "text": [
      "Batches: 100%|█████████████████████████████████████████████████████████████████████████████████████████████████████████████████████████| 546/546 [00:01<00:00, 443.11it/s]\n"
     ]
    },
    {
     "name": "stdout",
     "output_type": "stream",
     "text": [
      "Train 4 - loss:1.4485, acc:0.5057\n",
      "Valid 4 - loss:1.4476, acc:0.5097\n"
     ]
    },
    {
     "name": "stderr",
     "output_type": "stream",
     "text": [
      "Batches: 100%|█████████████████████████████████████████████████████████████████████████████████████████████████████████████████████████| 546/546 [00:01<00:00, 440.85it/s]\n"
     ]
    },
    {
     "name": "stdout",
     "output_type": "stream",
     "text": [
      "Train 5 - loss:1.4397, acc:0.5101\n",
      "Valid 5 - loss:1.4384, acc:0.5106\n"
     ]
    },
    {
     "name": "stderr",
     "output_type": "stream",
     "text": [
      "Batches: 100%|█████████████████████████████████████████████████████████████████████████████████████████████████████████████████████████| 546/546 [00:01<00:00, 427.42it/s]\n"
     ]
    },
    {
     "name": "stdout",
     "output_type": "stream",
     "text": [
      "Train 6 - loss:1.4304, acc:0.5107\n",
      "Valid 6 - loss:1.4275, acc:0.5157\n"
     ]
    },
    {
     "name": "stderr",
     "output_type": "stream",
     "text": [
      "Batches: 100%|█████████████████████████████████████████████████████████████████████████████████████████████████████████████████████████| 546/546 [00:01<00:00, 453.90it/s]\n"
     ]
    },
    {
     "name": "stdout",
     "output_type": "stream",
     "text": [
      "Train 7 - loss:1.4193, acc:0.5113\n",
      "Valid 7 - loss:1.4101, acc:0.5140\n"
     ]
    },
    {
     "name": "stderr",
     "output_type": "stream",
     "text": [
      "Batches: 100%|█████████████████████████████████████████████████████████████████████████████████████████████████████████████████████████| 546/546 [00:01<00:00, 455.21it/s]\n"
     ]
    },
    {
     "name": "stdout",
     "output_type": "stream",
     "text": [
      "Train 8 - loss:1.4043, acc:0.5175\n",
      "Valid 8 - loss:1.3985, acc:0.5236\n"
     ]
    },
    {
     "name": "stderr",
     "output_type": "stream",
     "text": [
      "Batches: 100%|█████████████████████████████████████████████████████████████████████████████████████████████████████████████████████████| 546/546 [00:01<00:00, 450.18it/s]\n"
     ]
    },
    {
     "name": "stdout",
     "output_type": "stream",
     "text": [
      "Train 9 - loss:1.3934, acc:0.5237\n",
      "Valid 9 - loss:1.3887, acc:0.5386\n"
     ]
    },
    {
     "name": "stderr",
     "output_type": "stream",
     "text": [
      "Batches: 100%|█████████████████████████████████████████████████████████████████████████████████████████████████████████████████████████| 546/546 [00:01<00:00, 454.34it/s]\n"
     ]
    },
    {
     "name": "stdout",
     "output_type": "stream",
     "text": [
      "Train 10 - loss:1.3824, acc:0.5305\n",
      "Valid 10 - loss:1.3787, acc:0.5414\n"
     ]
    },
    {
     "name": "stderr",
     "output_type": "stream",
     "text": [
      "Batches: 100%|█████████████████████████████████████████████████████████████████████████████████████████████████████████████████████████| 546/546 [00:01<00:00, 455.24it/s]\n"
     ]
    },
    {
     "name": "stdout",
     "output_type": "stream",
     "text": [
      "Train 11 - loss:1.3760, acc:0.5345\n",
      "Valid 11 - loss:1.3699, acc:0.5482\n"
     ]
    },
    {
     "name": "stderr",
     "output_type": "stream",
     "text": [
      "Batches: 100%|█████████████████████████████████████████████████████████████████████████████████████████████████████████████████████████| 546/546 [00:01<00:00, 458.33it/s]\n"
     ]
    },
    {
     "name": "stdout",
     "output_type": "stream",
     "text": [
      "Train 12 - loss:1.3708, acc:0.5367\n",
      "Valid 12 - loss:1.3652, acc:0.5528\n"
     ]
    },
    {
     "name": "stderr",
     "output_type": "stream",
     "text": [
      "Batches: 100%|█████████████████████████████████████████████████████████████████████████████████████████████████████████████████████████| 546/546 [00:01<00:00, 455.02it/s]\n"
     ]
    },
    {
     "name": "stdout",
     "output_type": "stream",
     "text": [
      "Train 13 - loss:1.3660, acc:0.5407\n",
      "Valid 13 - loss:1.3615, acc:0.5560\n"
     ]
    },
    {
     "name": "stderr",
     "output_type": "stream",
     "text": [
      "Batches: 100%|█████████████████████████████████████████████████████████████████████████████████████████████████████████████████████████| 546/546 [00:01<00:00, 451.59it/s]\n"
     ]
    },
    {
     "name": "stdout",
     "output_type": "stream",
     "text": [
      "Train 14 - loss:1.3591, acc:0.5446\n",
      "Valid 14 - loss:1.3607, acc:0.5592\n"
     ]
    },
    {
     "name": "stderr",
     "output_type": "stream",
     "text": [
      "Batches: 100%|█████████████████████████████████████████████████████████████████████████████████████████████████████████████████████████| 546/546 [00:01<00:00, 458.16it/s]\n"
     ]
    },
    {
     "name": "stdout",
     "output_type": "stream",
     "text": [
      "Train 15 - loss:1.3530, acc:0.5467\n",
      "Valid 15 - loss:1.3568, acc:0.5564\n"
     ]
    },
    {
     "name": "stderr",
     "output_type": "stream",
     "text": [
      "Batches: 100%|█████████████████████████████████████████████████████████████████████████████████████████████████████████████████████████| 546/546 [00:01<00:00, 444.77it/s]\n"
     ]
    },
    {
     "name": "stdout",
     "output_type": "stream",
     "text": [
      "Train 16 - loss:1.3486, acc:0.5470\n",
      "Valid 16 - loss:1.3537, acc:0.5633\n"
     ]
    },
    {
     "name": "stderr",
     "output_type": "stream",
     "text": [
      "Batches: 100%|█████████████████████████████████████████████████████████████████████████████████████████████████████████████████████████| 546/546 [00:01<00:00, 449.69it/s]\n"
     ]
    },
    {
     "name": "stdout",
     "output_type": "stream",
     "text": [
      "Train 17 - loss:1.3454, acc:0.5463\n",
      "Valid 17 - loss:1.3460, acc:0.5637\n"
     ]
    },
    {
     "name": "stderr",
     "output_type": "stream",
     "text": [
      "Batches: 100%|█████████████████████████████████████████████████████████████████████████████████████████████████████████████████████████| 546/546 [00:01<00:00, 423.81it/s]\n"
     ]
    },
    {
     "name": "stdout",
     "output_type": "stream",
     "text": [
      "Train 18 - loss:1.3413, acc:0.5475\n",
      "Valid 18 - loss:1.3427, acc:0.5633\n"
     ]
    },
    {
     "name": "stderr",
     "output_type": "stream",
     "text": [
      "Batches: 100%|█████████████████████████████████████████████████████████████████████████████████████████████████████████████████████████| 546/546 [00:01<00:00, 443.12it/s]\n"
     ]
    },
    {
     "name": "stdout",
     "output_type": "stream",
     "text": [
      "Train 19 - loss:1.3389, acc:0.5471\n",
      "Valid 19 - loss:1.3402, acc:0.5633\n"
     ]
    },
    {
     "name": "stderr",
     "output_type": "stream",
     "text": [
      "Batches: 100%|█████████████████████████████████████████████████████████████████████████████████████████████████████████████████████████| 546/546 [00:01<00:00, 440.61it/s]\n"
     ]
    },
    {
     "name": "stdout",
     "output_type": "stream",
     "text": [
      "Train 20 - loss:1.3367, acc:0.5487\n",
      "Valid 20 - loss:1.3372, acc:0.5660\n"
     ]
    },
    {
     "name": "stderr",
     "output_type": "stream",
     "text": [
      "Batches: 100%|█████████████████████████████████████████████████████████████████████████████████████████████████████████████████████████| 546/546 [00:01<00:00, 455.73it/s]\n"
     ]
    },
    {
     "name": "stdout",
     "output_type": "stream",
     "text": [
      "Train 21 - loss:1.3350, acc:0.5486\n",
      "Valid 21 - loss:1.3351, acc:0.5628\n"
     ]
    },
    {
     "name": "stderr",
     "output_type": "stream",
     "text": [
      "Batches: 100%|█████████████████████████████████████████████████████████████████████████████████████████████████████████████████████████| 546/546 [00:01<00:00, 428.52it/s]\n"
     ]
    },
    {
     "name": "stdout",
     "output_type": "stream",
     "text": [
      "Train 22 - loss:1.3336, acc:0.5487\n",
      "Valid 22 - loss:1.3322, acc:0.5646\n"
     ]
    },
    {
     "name": "stderr",
     "output_type": "stream",
     "text": [
      "Batches: 100%|█████████████████████████████████████████████████████████████████████████████████████████████████████████████████████████| 546/546 [00:01<00:00, 426.58it/s]\n"
     ]
    },
    {
     "name": "stdout",
     "output_type": "stream",
     "text": [
      "Train 23 - loss:1.3327, acc:0.5515\n",
      "Valid 23 - loss:1.3299, acc:0.5646\n"
     ]
    },
    {
     "name": "stderr",
     "output_type": "stream",
     "text": [
      "Batches: 100%|█████████████████████████████████████████████████████████████████████████████████████████████████████████████████████████| 546/546 [00:01<00:00, 418.36it/s]\n"
     ]
    },
    {
     "name": "stdout",
     "output_type": "stream",
     "text": [
      "Train 24 - loss:1.3315, acc:0.5529\n",
      "Valid 24 - loss:1.3274, acc:0.5646\n"
     ]
    },
    {
     "name": "stderr",
     "output_type": "stream",
     "text": [
      "Batches: 100%|█████████████████████████████████████████████████████████████████████████████████████████████████████████████████████████| 546/546 [00:01<00:00, 396.66it/s]\n"
     ]
    },
    {
     "name": "stdout",
     "output_type": "stream",
     "text": [
      "Train 25 - loss:1.3302, acc:0.5542\n",
      "Valid 25 - loss:1.3264, acc:0.5655\n"
     ]
    },
    {
     "name": "stderr",
     "output_type": "stream",
     "text": [
      "Batches: 100%|█████████████████████████████████████████████████████████████████████████████████████████████████████████████████████████| 546/546 [00:01<00:00, 420.10it/s]\n"
     ]
    },
    {
     "name": "stdout",
     "output_type": "stream",
     "text": [
      "Train 26 - loss:1.3291, acc:0.5528\n",
      "Valid 26 - loss:1.3239, acc:0.5651\n"
     ]
    },
    {
     "name": "stderr",
     "output_type": "stream",
     "text": [
      "Batches: 100%|█████████████████████████████████████████████████████████████████████████████████████████████████████████████████████████| 546/546 [00:01<00:00, 440.75it/s]\n"
     ]
    },
    {
     "name": "stdout",
     "output_type": "stream",
     "text": [
      "Train 27 - loss:1.3282, acc:0.5536\n",
      "Valid 27 - loss:1.3217, acc:0.5614\n"
     ]
    },
    {
     "name": "stderr",
     "output_type": "stream",
     "text": [
      "Batches: 100%|█████████████████████████████████████████████████████████████████████████████████████████████████████████████████████████| 546/546 [00:01<00:00, 447.10it/s]\n"
     ]
    },
    {
     "name": "stdout",
     "output_type": "stream",
     "text": [
      "Train 28 - loss:1.3267, acc:0.5534\n",
      "Valid 28 - loss:1.3208, acc:0.5642\n"
     ]
    },
    {
     "name": "stderr",
     "output_type": "stream",
     "text": [
      "Batches: 100%|█████████████████████████████████████████████████████████████████████████████████████████████████████████████████████████| 546/546 [00:01<00:00, 439.84it/s]\n"
     ]
    },
    {
     "name": "stdout",
     "output_type": "stream",
     "text": [
      "Train 29 - loss:1.3257, acc:0.5531\n",
      "Valid 29 - loss:1.3189, acc:0.5660\n"
     ]
    },
    {
     "name": "stderr",
     "output_type": "stream",
     "text": [
      "Batches: 100%|█████████████████████████████████████████████████████████████████████████████████████████████████████████████████████████| 546/546 [00:01<00:00, 430.28it/s]\n"
     ]
    },
    {
     "name": "stdout",
     "output_type": "stream",
     "text": [
      "Train 30 - loss:1.3247, acc:0.5551\n",
      "Valid 30 - loss:1.3186, acc:0.5637\n"
     ]
    },
    {
     "name": "stderr",
     "output_type": "stream",
     "text": [
      "Batches: 100%|█████████████████████████████████████████████████████████████████████████████████████████████████████████████████████████| 546/546 [00:01<00:00, 426.17it/s]\n"
     ]
    },
    {
     "name": "stdout",
     "output_type": "stream",
     "text": [
      "Train 31 - loss:1.3240, acc:0.5549\n",
      "Valid 31 - loss:1.3168, acc:0.5614\n"
     ]
    },
    {
     "name": "stderr",
     "output_type": "stream",
     "text": [
      "Batches: 100%|█████████████████████████████████████████████████████████████████████████████████████████████████████████████████████████| 546/546 [00:01<00:00, 381.26it/s]\n"
     ]
    },
    {
     "name": "stdout",
     "output_type": "stream",
     "text": [
      "Train 32 - loss:1.3235, acc:0.5552\n",
      "Valid 32 - loss:1.3163, acc:0.5628\n"
     ]
    },
    {
     "name": "stderr",
     "output_type": "stream",
     "text": [
      "Batches: 100%|█████████████████████████████████████████████████████████████████████████████████████████████████████████████████████████| 546/546 [00:01<00:00, 436.56it/s]\n"
     ]
    },
    {
     "name": "stdout",
     "output_type": "stream",
     "text": [
      "Train 33 - loss:1.3228, acc:0.5562\n",
      "Valid 33 - loss:1.3160, acc:0.5619\n"
     ]
    },
    {
     "name": "stderr",
     "output_type": "stream",
     "text": [
      "Batches: 100%|█████████████████████████████████████████████████████████████████████████████████████████████████████████████████████████| 546/546 [00:01<00:00, 401.76it/s]\n"
     ]
    },
    {
     "name": "stdout",
     "output_type": "stream",
     "text": [
      "Train 34 - loss:1.3223, acc:0.5544\n",
      "Valid 34 - loss:1.3151, acc:0.5601\n"
     ]
    },
    {
     "name": "stderr",
     "output_type": "stream",
     "text": [
      "Batches: 100%|█████████████████████████████████████████████████████████████████████████████████████████████████████████████████████████| 546/546 [00:01<00:00, 394.33it/s]\n"
     ]
    },
    {
     "name": "stdout",
     "output_type": "stream",
     "text": [
      "Train 35 - loss:1.3218, acc:0.5558\n",
      "Valid 35 - loss:1.3154, acc:0.5564\n"
     ]
    },
    {
     "name": "stderr",
     "output_type": "stream",
     "text": [
      "Batches: 100%|█████████████████████████████████████████████████████████████████████████████████████████████████████████████████████████| 546/546 [00:01<00:00, 417.93it/s]\n"
     ]
    },
    {
     "name": "stdout",
     "output_type": "stream",
     "text": [
      "Train 36 - loss:1.3208, acc:0.5554\n",
      "Valid 36 - loss:1.3136, acc:0.5602\n"
     ]
    },
    {
     "name": "stderr",
     "output_type": "stream",
     "text": [
      "Batches: 100%|█████████████████████████████████████████████████████████████████████████████████████████████████████████████████████████| 546/546 [00:01<00:00, 454.23it/s]\n"
     ]
    },
    {
     "name": "stdout",
     "output_type": "stream",
     "text": [
      "Train 37 - loss:1.3212, acc:0.5574\n",
      "Valid 37 - loss:1.3136, acc:0.5578\n"
     ]
    },
    {
     "name": "stderr",
     "output_type": "stream",
     "text": [
      "Batches: 100%|█████████████████████████████████████████████████████████████████████████████████████████████████████████████████████████| 546/546 [00:01<00:00, 439.85it/s]\n"
     ]
    },
    {
     "name": "stdout",
     "output_type": "stream",
     "text": [
      "Train 38 - loss:1.3203, acc:0.5565\n",
      "Valid 38 - loss:1.3134, acc:0.5582\n"
     ]
    },
    {
     "name": "stderr",
     "output_type": "stream",
     "text": [
      "Batches: 100%|█████████████████████████████████████████████████████████████████████████████████████████████████████████████████████████| 546/546 [00:01<00:00, 410.86it/s]\n"
     ]
    },
    {
     "name": "stdout",
     "output_type": "stream",
     "text": [
      "Train 39 - loss:1.3201, acc:0.5565\n",
      "Valid 39 - loss:1.3137, acc:0.5605\n"
     ]
    },
    {
     "name": "stderr",
     "output_type": "stream",
     "text": [
      "Batches: 100%|█████████████████████████████████████████████████████████████████████████████████████████████████████████████████████████| 546/546 [00:01<00:00, 416.29it/s]\n"
     ]
    },
    {
     "name": "stdout",
     "output_type": "stream",
     "text": [
      "Train 40 - loss:1.3197, acc:0.5569\n",
      "Valid 40 - loss:1.3125, acc:0.5605\n"
     ]
    },
    {
     "name": "stderr",
     "output_type": "stream",
     "text": [
      "Batches: 100%|█████████████████████████████████████████████████████████████████████████████████████████████████████████████████████████| 546/546 [00:01<00:00, 418.20it/s]\n"
     ]
    },
    {
     "name": "stdout",
     "output_type": "stream",
     "text": [
      "Train 41 - loss:1.3194, acc:0.5581\n",
      "Valid 41 - loss:1.3138, acc:0.5623\n"
     ]
    },
    {
     "name": "stderr",
     "output_type": "stream",
     "text": [
      "Batches: 100%|█████████████████████████████████████████████████████████████████████████████████████████████████████████████████████████| 546/546 [00:01<00:00, 417.91it/s]\n"
     ]
    },
    {
     "name": "stdout",
     "output_type": "stream",
     "text": [
      "Train 42 - loss:1.3188, acc:0.5592\n",
      "Valid 42 - loss:1.3127, acc:0.5614\n"
     ]
    },
    {
     "name": "stderr",
     "output_type": "stream",
     "text": [
      "Batches: 100%|█████████████████████████████████████████████████████████████████████████████████████████████████████████████████████████| 546/546 [00:01<00:00, 450.77it/s]\n"
     ]
    },
    {
     "name": "stdout",
     "output_type": "stream",
     "text": [
      "Train 43 - loss:1.3185, acc:0.5585\n",
      "Valid 43 - loss:1.3124, acc:0.5596\n"
     ]
    },
    {
     "name": "stderr",
     "output_type": "stream",
     "text": [
      "Batches: 100%|█████████████████████████████████████████████████████████████████████████████████████████████████████████████████████████| 546/546 [00:01<00:00, 413.38it/s]\n"
     ]
    },
    {
     "name": "stdout",
     "output_type": "stream",
     "text": [
      "Train 44 - loss:1.3187, acc:0.5600\n",
      "Valid 44 - loss:1.3126, acc:0.5601\n"
     ]
    },
    {
     "name": "stderr",
     "output_type": "stream",
     "text": [
      "Batches: 100%|█████████████████████████████████████████████████████████████████████████████████████████████████████████████████████████| 546/546 [00:01<00:00, 423.43it/s]\n"
     ]
    },
    {
     "name": "stdout",
     "output_type": "stream",
     "text": [
      "Train 45 - loss:1.3183, acc:0.5593\n",
      "Valid 45 - loss:1.3125, acc:0.5582\n"
     ]
    },
    {
     "name": "stderr",
     "output_type": "stream",
     "text": [
      "Batches: 100%|█████████████████████████████████████████████████████████████████████████████████████████████████████████████████████████| 546/546 [00:01<00:00, 437.84it/s]\n"
     ]
    },
    {
     "name": "stdout",
     "output_type": "stream",
     "text": [
      "Train 46 - loss:1.3183, acc:0.5576\n",
      "Valid 46 - loss:1.3125, acc:0.5569\n"
     ]
    },
    {
     "name": "stderr",
     "output_type": "stream",
     "text": [
      "Batches: 100%|█████████████████████████████████████████████████████████████████████████████████████████████████████████████████████████| 546/546 [00:01<00:00, 411.71it/s]\n"
     ]
    },
    {
     "name": "stdout",
     "output_type": "stream",
     "text": [
      "Train 47 - loss:1.3179, acc:0.5585\n",
      "Valid 47 - loss:1.3131, acc:0.5584\n"
     ]
    },
    {
     "name": "stderr",
     "output_type": "stream",
     "text": [
      "Batches: 100%|█████████████████████████████████████████████████████████████████████████████████████████████████████████████████████████| 546/546 [00:01<00:00, 427.14it/s]\n"
     ]
    },
    {
     "name": "stdout",
     "output_type": "stream",
     "text": [
      "Train 48 - loss:1.3180, acc:0.5582\n",
      "Valid 48 - loss:1.3137, acc:0.5575\n"
     ]
    },
    {
     "name": "stderr",
     "output_type": "stream",
     "text": [
      "Batches: 100%|█████████████████████████████████████████████████████████████████████████████████████████████████████████████████████████| 546/546 [00:01<00:00, 419.37it/s]\n"
     ]
    },
    {
     "name": "stdout",
     "output_type": "stream",
     "text": [
      "Train 49 - loss:1.3175, acc:0.5576\n",
      "Valid 49 - loss:1.3148, acc:0.5573\n"
     ]
    },
    {
     "name": "stderr",
     "output_type": "stream",
     "text": [
      "Batches: 100%|█████████████████████████████████████████████████████████████████████████████████████████████████████████████████████████| 546/546 [00:01<00:00, 441.90it/s]\n"
     ]
    },
    {
     "name": "stdout",
     "output_type": "stream",
     "text": [
      "Train 50 - loss:1.3176, acc:0.5582\n",
      "Valid 50 - loss:1.3133, acc:0.5560\n"
     ]
    },
    {
     "name": "stderr",
     "output_type": "stream",
     "text": [
      "Batches: 100%|█████████████████████████████████████████████████████████████████████████████████████████████████████████████████████████| 546/546 [00:01<00:00, 438.05it/s]\n"
     ]
    },
    {
     "name": "stdout",
     "output_type": "stream",
     "text": [
      "Train 51 - loss:1.3170, acc:0.5570\n",
      "Valid 51 - loss:1.3151, acc:0.5587\n"
     ]
    },
    {
     "name": "stderr",
     "output_type": "stream",
     "text": [
      "Batches: 100%|█████████████████████████████████████████████████████████████████████████████████████████████████████████████████████████| 546/546 [00:01<00:00, 414.17it/s]\n"
     ]
    },
    {
     "name": "stdout",
     "output_type": "stream",
     "text": [
      "Train 52 - loss:1.3174, acc:0.5573\n",
      "Valid 52 - loss:1.3176, acc:0.5587\n"
     ]
    },
    {
     "name": "stderr",
     "output_type": "stream",
     "text": [
      "Batches: 100%|█████████████████████████████████████████████████████████████████████████████████████████████████████████████████████████| 546/546 [00:01<00:00, 405.90it/s]\n"
     ]
    },
    {
     "name": "stdout",
     "output_type": "stream",
     "text": [
      "Train 53 - loss:1.3168, acc:0.5577\n",
      "Valid 53 - loss:1.3150, acc:0.5587\n"
     ]
    },
    {
     "name": "stderr",
     "output_type": "stream",
     "text": [
      "Batches: 100%|█████████████████████████████████████████████████████████████████████████████████████████████████████████████████████████| 546/546 [00:01<00:00, 414.52it/s]\n"
     ]
    },
    {
     "name": "stdout",
     "output_type": "stream",
     "text": [
      "Train 54 - loss:1.3170, acc:0.5577\n",
      "Valid 54 - loss:1.3164, acc:0.5560\n"
     ]
    },
    {
     "name": "stderr",
     "output_type": "stream",
     "text": [
      "Batches: 100%|█████████████████████████████████████████████████████████████████████████████████████████████████████████████████████████| 546/546 [00:01<00:00, 411.06it/s]\n"
     ]
    },
    {
     "name": "stdout",
     "output_type": "stream",
     "text": [
      "Train 55 - loss:1.3169, acc:0.5575\n",
      "Valid 55 - loss:1.3176, acc:0.5596\n"
     ]
    },
    {
     "name": "stderr",
     "output_type": "stream",
     "text": [
      "Batches: 100%|█████████████████████████████████████████████████████████████████████████████████████████████████████████████████████████| 546/546 [00:01<00:00, 434.80it/s]\n"
     ]
    },
    {
     "name": "stdout",
     "output_type": "stream",
     "text": [
      "Train 56 - loss:1.3166, acc:0.5578\n",
      "Valid 56 - loss:1.3170, acc:0.5578\n"
     ]
    },
    {
     "name": "stderr",
     "output_type": "stream",
     "text": [
      "Batches: 100%|█████████████████████████████████████████████████████████████████████████████████████████████████████████████████████████| 546/546 [00:01<00:00, 412.75it/s]\n"
     ]
    },
    {
     "name": "stdout",
     "output_type": "stream",
     "text": [
      "Train 57 - loss:1.3164, acc:0.5581\n",
      "Valid 57 - loss:1.3163, acc:0.5592\n"
     ]
    },
    {
     "name": "stderr",
     "output_type": "stream",
     "text": [
      "Batches: 100%|█████████████████████████████████████████████████████████████████████████████████████████████████████████████████████████| 546/546 [00:01<00:00, 400.22it/s]\n"
     ]
    },
    {
     "name": "stdout",
     "output_type": "stream",
     "text": [
      "Train 58 - loss:1.3164, acc:0.5581\n",
      "Valid 58 - loss:1.3157, acc:0.5610\n"
     ]
    },
    {
     "name": "stderr",
     "output_type": "stream",
     "text": [
      "Batches: 100%|█████████████████████████████████████████████████████████████████████████████████████████████████████████████████████████| 546/546 [00:01<00:00, 418.54it/s]\n"
     ]
    },
    {
     "name": "stdout",
     "output_type": "stream",
     "text": [
      "Train 59 - loss:1.3162, acc:0.5568\n",
      "Valid 59 - loss:1.3172, acc:0.5582\n"
     ]
    },
    {
     "name": "stderr",
     "output_type": "stream",
     "text": [
      "Batches: 100%|█████████████████████████████████████████████████████████████████████████████████████████████████████████████████████████| 546/546 [00:01<00:00, 416.53it/s]\n"
     ]
    },
    {
     "name": "stdout",
     "output_type": "stream",
     "text": [
      "Train 60 - loss:1.3158, acc:0.5584\n",
      "Valid 60 - loss:1.3155, acc:0.5582\n"
     ]
    },
    {
     "name": "stderr",
     "output_type": "stream",
     "text": [
      "Batches: 100%|█████████████████████████████████████████████████████████████████████████████████████████████████████████████████████████| 546/546 [00:01<00:00, 410.11it/s]\n"
     ]
    },
    {
     "name": "stdout",
     "output_type": "stream",
     "text": [
      "Train 61 - loss:1.3151, acc:0.5582\n",
      "Valid 61 - loss:1.3155, acc:0.5610\n"
     ]
    },
    {
     "name": "stderr",
     "output_type": "stream",
     "text": [
      "Batches: 100%|█████████████████████████████████████████████████████████████████████████████████████████████████████████████████████████| 546/546 [00:01<00:00, 427.05it/s]\n"
     ]
    },
    {
     "name": "stdout",
     "output_type": "stream",
     "text": [
      "Train 62 - loss:1.3152, acc:0.5587\n",
      "Valid 62 - loss:1.3165, acc:0.5605\n"
     ]
    },
    {
     "name": "stderr",
     "output_type": "stream",
     "text": [
      "Batches: 100%|█████████████████████████████████████████████████████████████████████████████████████████████████████████████████████████| 546/546 [00:01<00:00, 398.35it/s]\n"
     ]
    },
    {
     "name": "stdout",
     "output_type": "stream",
     "text": [
      "Train 63 - loss:1.3150, acc:0.5574\n",
      "Valid 63 - loss:1.3170, acc:0.5610\n"
     ]
    },
    {
     "name": "stderr",
     "output_type": "stream",
     "text": [
      "Batches: 100%|█████████████████████████████████████████████████████████████████████████████████████████████████████████████████████████| 546/546 [00:01<00:00, 442.83it/s]\n"
     ]
    },
    {
     "name": "stdout",
     "output_type": "stream",
     "text": [
      "Train 64 - loss:1.3148, acc:0.5579\n",
      "Valid 64 - loss:1.3155, acc:0.5646\n"
     ]
    },
    {
     "name": "stderr",
     "output_type": "stream",
     "text": [
      "Batches: 100%|█████████████████████████████████████████████████████████████████████████████████████████████████████████████████████████| 546/546 [00:01<00:00, 416.03it/s]\n"
     ]
    },
    {
     "name": "stdout",
     "output_type": "stream",
     "text": [
      "Train 65 - loss:1.3146, acc:0.5568\n",
      "Valid 65 - loss:1.3164, acc:0.5592\n"
     ]
    },
    {
     "name": "stderr",
     "output_type": "stream",
     "text": [
      "Batches: 100%|█████████████████████████████████████████████████████████████████████████████████████████████████████████████████████████| 546/546 [00:01<00:00, 425.00it/s]\n"
     ]
    },
    {
     "name": "stdout",
     "output_type": "stream",
     "text": [
      "Train 66 - loss:1.3145, acc:0.5583\n",
      "Valid 66 - loss:1.3153, acc:0.5605\n"
     ]
    },
    {
     "name": "stderr",
     "output_type": "stream",
     "text": [
      "Batches: 100%|█████████████████████████████████████████████████████████████████████████████████████████████████████████████████████████| 546/546 [00:01<00:00, 437.66it/s]\n"
     ]
    },
    {
     "name": "stdout",
     "output_type": "stream",
     "text": [
      "Train 67 - loss:1.3143, acc:0.5578\n",
      "Valid 67 - loss:1.3160, acc:0.5596\n"
     ]
    },
    {
     "name": "stderr",
     "output_type": "stream",
     "text": [
      "Batches: 100%|█████████████████████████████████████████████████████████████████████████████████████████████████████████████████████████| 546/546 [00:01<00:00, 431.01it/s]\n"
     ]
    },
    {
     "name": "stdout",
     "output_type": "stream",
     "text": [
      "Train 68 - loss:1.3140, acc:0.5576\n",
      "Valid 68 - loss:1.3164, acc:0.5578\n"
     ]
    },
    {
     "name": "stderr",
     "output_type": "stream",
     "text": [
      "Batches: 100%|█████████████████████████████████████████████████████████████████████████████████████████████████████████████████████████| 546/546 [00:01<00:00, 432.84it/s]\n"
     ]
    },
    {
     "name": "stdout",
     "output_type": "stream",
     "text": [
      "Train 69 - loss:1.3139, acc:0.5590\n",
      "Valid 69 - loss:1.3184, acc:0.5610\n"
     ]
    },
    {
     "name": "stderr",
     "output_type": "stream",
     "text": [
      "Batches: 100%|█████████████████████████████████████████████████████████████████████████████████████████████████████████████████████████| 546/546 [00:01<00:00, 411.22it/s]\n"
     ]
    },
    {
     "name": "stdout",
     "output_type": "stream",
     "text": [
      "Train 70 - loss:1.3136, acc:0.5577\n",
      "Valid 70 - loss:1.3162, acc:0.5642\n"
     ]
    },
    {
     "name": "stderr",
     "output_type": "stream",
     "text": [
      "Batches: 100%|█████████████████████████████████████████████████████████████████████████████████████████████████████████████████████████| 546/546 [00:01<00:00, 414.35it/s]\n"
     ]
    },
    {
     "name": "stdout",
     "output_type": "stream",
     "text": [
      "Train 71 - loss:1.3135, acc:0.5579\n",
      "Valid 71 - loss:1.3168, acc:0.5619\n"
     ]
    },
    {
     "name": "stderr",
     "output_type": "stream",
     "text": [
      "Batches: 100%|█████████████████████████████████████████████████████████████████████████████████████████████████████████████████████████| 546/546 [00:01<00:00, 449.41it/s]\n"
     ]
    },
    {
     "name": "stdout",
     "output_type": "stream",
     "text": [
      "Train 72 - loss:1.3132, acc:0.5590\n",
      "Valid 72 - loss:1.3172, acc:0.5646\n"
     ]
    },
    {
     "name": "stderr",
     "output_type": "stream",
     "text": [
      "Batches: 100%|█████████████████████████████████████████████████████████████████████████████████████████████████████████████████████████| 546/546 [00:01<00:00, 453.20it/s]\n"
     ]
    },
    {
     "name": "stdout",
     "output_type": "stream",
     "text": [
      "Train 73 - loss:1.3128, acc:0.5587\n",
      "Valid 73 - loss:1.3176, acc:0.5633\n"
     ]
    },
    {
     "name": "stderr",
     "output_type": "stream",
     "text": [
      "Batches: 100%|█████████████████████████████████████████████████████████████████████████████████████████████████████████████████████████| 546/546 [00:01<00:00, 454.31it/s]\n"
     ]
    },
    {
     "name": "stdout",
     "output_type": "stream",
     "text": [
      "Train 74 - loss:1.3125, acc:0.5586\n",
      "Valid 74 - loss:1.3169, acc:0.5642\n"
     ]
    },
    {
     "name": "stderr",
     "output_type": "stream",
     "text": [
      "Batches: 100%|█████████████████████████████████████████████████████████████████████████████████████████████████████████████████████████| 546/546 [00:01<00:00, 460.87it/s]\n"
     ]
    },
    {
     "name": "stdout",
     "output_type": "stream",
     "text": [
      "Train 75 - loss:1.3124, acc:0.5584\n",
      "Valid 75 - loss:1.3173, acc:0.5637\n"
     ]
    },
    {
     "name": "stderr",
     "output_type": "stream",
     "text": [
      "Batches: 100%|█████████████████████████████████████████████████████████████████████████████████████████████████████████████████████████| 546/546 [00:01<00:00, 435.58it/s]\n"
     ]
    },
    {
     "name": "stdout",
     "output_type": "stream",
     "text": [
      "Train 76 - loss:1.3122, acc:0.5587\n",
      "Valid 76 - loss:1.3165, acc:0.5628\n"
     ]
    },
    {
     "name": "stderr",
     "output_type": "stream",
     "text": [
      "Batches: 100%|█████████████████████████████████████████████████████████████████████████████████████████████████████████████████████████| 546/546 [00:01<00:00, 439.77it/s]\n"
     ]
    },
    {
     "name": "stdout",
     "output_type": "stream",
     "text": [
      "Train 77 - loss:1.3117, acc:0.5597\n",
      "Valid 77 - loss:1.3166, acc:0.5637\n"
     ]
    },
    {
     "name": "stderr",
     "output_type": "stream",
     "text": [
      "Batches: 100%|█████████████████████████████████████████████████████████████████████████████████████████████████████████████████████████| 546/546 [00:01<00:00, 414.67it/s]\n"
     ]
    },
    {
     "name": "stdout",
     "output_type": "stream",
     "text": [
      "Train 78 - loss:1.3113, acc:0.5595\n",
      "Valid 78 - loss:1.3167, acc:0.5610\n"
     ]
    },
    {
     "name": "stderr",
     "output_type": "stream",
     "text": [
      "Batches: 100%|█████████████████████████████████████████████████████████████████████████████████████████████████████████████████████████| 546/546 [00:01<00:00, 397.54it/s]\n"
     ]
    },
    {
     "name": "stdout",
     "output_type": "stream",
     "text": [
      "Train 79 - loss:1.3108, acc:0.5576\n",
      "Valid 79 - loss:1.3143, acc:0.5642\n"
     ]
    },
    {
     "name": "stderr",
     "output_type": "stream",
     "text": [
      "Batches: 100%|█████████████████████████████████████████████████████████████████████████████████████████████████████████████████████████| 546/546 [00:01<00:00, 401.33it/s]\n"
     ]
    },
    {
     "name": "stdout",
     "output_type": "stream",
     "text": [
      "Train 80 - loss:1.3100, acc:0.5593\n",
      "Valid 80 - loss:1.3142, acc:0.5642\n"
     ]
    },
    {
     "name": "stderr",
     "output_type": "stream",
     "text": [
      "Batches: 100%|█████████████████████████████████████████████████████████████████████████████████████████████████████████████████████████| 546/546 [00:01<00:00, 449.21it/s]\n"
     ]
    },
    {
     "name": "stdout",
     "output_type": "stream",
     "text": [
      "Train 81 - loss:1.3094, acc:0.5598\n",
      "Valid 81 - loss:1.3149, acc:0.5633\n"
     ]
    },
    {
     "name": "stderr",
     "output_type": "stream",
     "text": [
      "Batches: 100%|█████████████████████████████████████████████████████████████████████████████████████████████████████████████████████████| 546/546 [00:01<00:00, 408.96it/s]\n"
     ]
    },
    {
     "name": "stdout",
     "output_type": "stream",
     "text": [
      "Train 82 - loss:1.3089, acc:0.5594\n",
      "Valid 82 - loss:1.3166, acc:0.5611\n"
     ]
    },
    {
     "name": "stderr",
     "output_type": "stream",
     "text": [
      "Batches: 100%|█████████████████████████████████████████████████████████████████████████████████████████████████████████████████████████| 546/546 [00:01<00:00, 441.21it/s]\n"
     ]
    },
    {
     "name": "stdout",
     "output_type": "stream",
     "text": [
      "Train 83 - loss:1.3080, acc:0.5598\n",
      "Valid 83 - loss:1.3158, acc:0.5625\n"
     ]
    },
    {
     "name": "stderr",
     "output_type": "stream",
     "text": [
      "Batches: 100%|█████████████████████████████████████████████████████████████████████████████████████████████████████████████████████████| 546/546 [00:01<00:00, 458.98it/s]\n"
     ]
    },
    {
     "name": "stdout",
     "output_type": "stream",
     "text": [
      "Train 84 - loss:1.3071, acc:0.5594\n",
      "Valid 84 - loss:1.3155, acc:0.5605\n"
     ]
    },
    {
     "name": "stderr",
     "output_type": "stream",
     "text": [
      "Batches: 100%|█████████████████████████████████████████████████████████████████████████████████████████████████████████████████████████| 546/546 [00:01<00:00, 451.73it/s]\n"
     ]
    },
    {
     "name": "stdout",
     "output_type": "stream",
     "text": [
      "Train 85 - loss:1.3061, acc:0.5593\n",
      "Valid 85 - loss:1.3143, acc:0.5634\n"
     ]
    },
    {
     "name": "stderr",
     "output_type": "stream",
     "text": [
      "Batches: 100%|█████████████████████████████████████████████████████████████████████████████████████████████████████████████████████████| 546/546 [00:01<00:00, 427.19it/s]\n"
     ]
    },
    {
     "name": "stdout",
     "output_type": "stream",
     "text": [
      "Train 86 - loss:1.3054, acc:0.5598\n",
      "Valid 86 - loss:1.3136, acc:0.5643\n"
     ]
    },
    {
     "name": "stderr",
     "output_type": "stream",
     "text": [
      "Batches: 100%|█████████████████████████████████████████████████████████████████████████████████████████████████████████████████████████| 546/546 [00:01<00:00, 428.28it/s]\n"
     ]
    },
    {
     "name": "stdout",
     "output_type": "stream",
     "text": [
      "Train 87 - loss:1.3046, acc:0.5590\n",
      "Valid 87 - loss:1.3132, acc:0.5628\n"
     ]
    },
    {
     "name": "stderr",
     "output_type": "stream",
     "text": [
      "Batches: 100%|█████████████████████████████████████████████████████████████████████████████████████████████████████████████████████████| 546/546 [00:01<00:00, 404.85it/s]\n"
     ]
    },
    {
     "name": "stdout",
     "output_type": "stream",
     "text": [
      "Train 88 - loss:1.3037, acc:0.5600\n",
      "Valid 88 - loss:1.3124, acc:0.5628\n"
     ]
    },
    {
     "name": "stderr",
     "output_type": "stream",
     "text": [
      "Batches: 100%|█████████████████████████████████████████████████████████████████████████████████████████████████████████████████████████| 546/546 [00:01<00:00, 428.01it/s]\n"
     ]
    },
    {
     "name": "stdout",
     "output_type": "stream",
     "text": [
      "Train 89 - loss:1.3031, acc:0.5591\n",
      "Valid 89 - loss:1.3129, acc:0.5642\n"
     ]
    },
    {
     "name": "stderr",
     "output_type": "stream",
     "text": [
      "Batches: 100%|█████████████████████████████████████████████████████████████████████████████████████████████████████████████████████████| 546/546 [00:01<00:00, 428.61it/s]\n"
     ]
    },
    {
     "name": "stdout",
     "output_type": "stream",
     "text": [
      "Train 90 - loss:1.3025, acc:0.5587\n",
      "Valid 90 - loss:1.3125, acc:0.5637\n"
     ]
    },
    {
     "name": "stderr",
     "output_type": "stream",
     "text": [
      "Batches: 100%|█████████████████████████████████████████████████████████████████████████████████████████████████████████████████████████| 546/546 [00:01<00:00, 437.84it/s]\n"
     ]
    },
    {
     "name": "stdout",
     "output_type": "stream",
     "text": [
      "Train 91 - loss:1.3019, acc:0.5595\n",
      "Valid 91 - loss:1.3117, acc:0.5614\n"
     ]
    },
    {
     "name": "stderr",
     "output_type": "stream",
     "text": [
      "Batches: 100%|█████████████████████████████████████████████████████████████████████████████████████████████████████████████████████████| 546/546 [00:01<00:00, 396.00it/s]\n"
     ]
    },
    {
     "name": "stdout",
     "output_type": "stream",
     "text": [
      "Train 92 - loss:1.3016, acc:0.5601\n",
      "Valid 92 - loss:1.3114, acc:0.5614\n"
     ]
    },
    {
     "name": "stderr",
     "output_type": "stream",
     "text": [
      "Batches: 100%|█████████████████████████████████████████████████████████████████████████████████████████████████████████████████████████| 546/546 [00:01<00:00, 413.73it/s]\n"
     ]
    },
    {
     "name": "stdout",
     "output_type": "stream",
     "text": [
      "Train 93 - loss:1.3013, acc:0.5590\n",
      "Valid 93 - loss:1.3086, acc:0.5605\n"
     ]
    },
    {
     "name": "stderr",
     "output_type": "stream",
     "text": [
      "Batches: 100%|█████████████████████████████████████████████████████████████████████████████████████████████████████████████████████████| 546/546 [00:01<00:00, 437.45it/s]\n"
     ]
    },
    {
     "name": "stdout",
     "output_type": "stream",
     "text": [
      "Train 94 - loss:1.3007, acc:0.5590\n",
      "Valid 94 - loss:1.3089, acc:0.5605\n"
     ]
    },
    {
     "name": "stderr",
     "output_type": "stream",
     "text": [
      "Batches: 100%|█████████████████████████████████████████████████████████████████████████████████████████████████████████████████████████| 546/546 [00:01<00:00, 418.83it/s]\n"
     ]
    },
    {
     "name": "stdout",
     "output_type": "stream",
     "text": [
      "Train 95 - loss:1.3003, acc:0.5597\n",
      "Valid 95 - loss:1.3088, acc:0.5614\n"
     ]
    },
    {
     "name": "stderr",
     "output_type": "stream",
     "text": [
      "Batches: 100%|█████████████████████████████████████████████████████████████████████████████████████████████████████████████████████████| 546/546 [00:01<00:00, 428.09it/s]\n"
     ]
    },
    {
     "name": "stdout",
     "output_type": "stream",
     "text": [
      "Train 96 - loss:1.2999, acc:0.5585\n",
      "Valid 96 - loss:1.3083, acc:0.5619\n"
     ]
    },
    {
     "name": "stderr",
     "output_type": "stream",
     "text": [
      "Batches: 100%|█████████████████████████████████████████████████████████████████████████████████████████████████████████████████████████| 546/546 [00:01<00:00, 430.30it/s]\n"
     ]
    },
    {
     "name": "stdout",
     "output_type": "stream",
     "text": [
      "Train 97 - loss:1.2995, acc:0.5586\n",
      "Valid 97 - loss:1.3077, acc:0.5633\n"
     ]
    },
    {
     "name": "stderr",
     "output_type": "stream",
     "text": [
      "Batches: 100%|█████████████████████████████████████████████████████████████████████████████████████████████████████████████████████████| 546/546 [00:01<00:00, 398.64it/s]\n"
     ]
    },
    {
     "name": "stdout",
     "output_type": "stream",
     "text": [
      "Train 98 - loss:1.2989, acc:0.5598\n",
      "Valid 98 - loss:1.3082, acc:0.5614\n"
     ]
    },
    {
     "name": "stderr",
     "output_type": "stream",
     "text": [
      "Batches: 100%|█████████████████████████████████████████████████████████████████████████████████████████████████████████████████████████| 546/546 [00:01<00:00, 443.44it/s]\n"
     ]
    },
    {
     "name": "stdout",
     "output_type": "stream",
     "text": [
      "Train 99 - loss:1.2988, acc:0.5593\n",
      "Valid 99 - loss:1.3090, acc:0.5592\n"
     ]
    },
    {
     "name": "stderr",
     "output_type": "stream",
     "text": [
      "Batches: 100%|█████████████████████████████████████████████████████████████████████████████████████████████████████████████████████████| 546/546 [00:01<00:00, 420.86it/s]\n"
     ]
    },
    {
     "name": "stdout",
     "output_type": "stream",
     "text": [
      "Train 100 - loss:1.2985, acc:0.5607\n",
      "Valid 100 - loss:1.3089, acc:0.5614\n"
     ]
    },
    {
     "name": "stderr",
     "output_type": "stream",
     "text": [
      "Batches: 100%|█████████████████████████████████████████████████████████████████████████████████████████████████████████████████████████| 546/546 [00:01<00:00, 418.14it/s]\n"
     ]
    },
    {
     "name": "stdout",
     "output_type": "stream",
     "text": [
      "Train 101 - loss:1.2982, acc:0.5613\n",
      "Valid 101 - loss:1.3080, acc:0.5596\n"
     ]
    },
    {
     "name": "stderr",
     "output_type": "stream",
     "text": [
      "Batches: 100%|█████████████████████████████████████████████████████████████████████████████████████████████████████████████████████████| 546/546 [00:01<00:00, 418.33it/s]\n"
     ]
    },
    {
     "name": "stdout",
     "output_type": "stream",
     "text": [
      "Train 102 - loss:1.2975, acc:0.5621\n",
      "Valid 102 - loss:1.3075, acc:0.5623\n"
     ]
    },
    {
     "name": "stderr",
     "output_type": "stream",
     "text": [
      "Batches: 100%|█████████████████████████████████████████████████████████████████████████████████████████████████████████████████████████| 546/546 [00:01<00:00, 423.88it/s]\n"
     ]
    },
    {
     "name": "stdout",
     "output_type": "stream",
     "text": [
      "Train 103 - loss:1.2969, acc:0.5617\n",
      "Valid 103 - loss:1.3086, acc:0.5596\n"
     ]
    },
    {
     "name": "stderr",
     "output_type": "stream",
     "text": [
      "Batches: 100%|█████████████████████████████████████████████████████████████████████████████████████████████████████████████████████████| 546/546 [00:01<00:00, 446.40it/s]\n"
     ]
    },
    {
     "name": "stdout",
     "output_type": "stream",
     "text": [
      "Train 104 - loss:1.2965, acc:0.5605\n",
      "Valid 104 - loss:1.3085, acc:0.5610\n"
     ]
    },
    {
     "name": "stderr",
     "output_type": "stream",
     "text": [
      "Batches: 100%|█████████████████████████████████████████████████████████████████████████████████████████████████████████████████████████| 546/546 [00:01<00:00, 429.17it/s]\n"
     ]
    },
    {
     "name": "stdout",
     "output_type": "stream",
     "text": [
      "Train 105 - loss:1.2965, acc:0.5613\n",
      "Valid 105 - loss:1.3090, acc:0.5601\n"
     ]
    },
    {
     "name": "stderr",
     "output_type": "stream",
     "text": [
      "Batches: 100%|█████████████████████████████████████████████████████████████████████████████████████████████████████████████████████████| 546/546 [00:01<00:00, 411.70it/s]\n"
     ]
    },
    {
     "name": "stdout",
     "output_type": "stream",
     "text": [
      "Train 106 - loss:1.2963, acc:0.5621\n",
      "Valid 106 - loss:1.3089, acc:0.5596\n"
     ]
    },
    {
     "name": "stderr",
     "output_type": "stream",
     "text": [
      "Batches: 100%|█████████████████████████████████████████████████████████████████████████████████████████████████████████████████████████| 546/546 [00:01<00:00, 409.50it/s]\n"
     ]
    },
    {
     "name": "stdout",
     "output_type": "stream",
     "text": [
      "Train 107 - loss:1.2957, acc:0.5616\n",
      "Valid 107 - loss:1.3083, acc:0.5592\n"
     ]
    },
    {
     "name": "stderr",
     "output_type": "stream",
     "text": [
      "Batches: 100%|█████████████████████████████████████████████████████████████████████████████████████████████████████████████████████████| 546/546 [00:01<00:00, 428.47it/s]\n"
     ]
    },
    {
     "name": "stdout",
     "output_type": "stream",
     "text": [
      "Train 108 - loss:1.2955, acc:0.5620\n",
      "Valid 108 - loss:1.3091, acc:0.5573\n"
     ]
    },
    {
     "name": "stderr",
     "output_type": "stream",
     "text": [
      "Batches: 100%|█████████████████████████████████████████████████████████████████████████████████████████████████████████████████████████| 546/546 [00:01<00:00, 426.85it/s]\n"
     ]
    },
    {
     "name": "stdout",
     "output_type": "stream",
     "text": [
      "Train 109 - loss:1.2954, acc:0.5606\n",
      "Valid 109 - loss:1.3091, acc:0.5573\n"
     ]
    },
    {
     "name": "stderr",
     "output_type": "stream",
     "text": [
      "Batches: 100%|█████████████████████████████████████████████████████████████████████████████████████████████████████████████████████████| 546/546 [00:01<00:00, 421.40it/s]\n"
     ]
    },
    {
     "name": "stdout",
     "output_type": "stream",
     "text": [
      "Train 110 - loss:1.2949, acc:0.5613\n",
      "Valid 110 - loss:1.3078, acc:0.5555\n"
     ]
    },
    {
     "name": "stderr",
     "output_type": "stream",
     "text": [
      "Batches: 100%|█████████████████████████████████████████████████████████████████████████████████████████████████████████████████████████| 546/546 [00:01<00:00, 404.65it/s]\n"
     ]
    },
    {
     "name": "stdout",
     "output_type": "stream",
     "text": [
      "Train 111 - loss:1.2947, acc:0.5617\n",
      "Valid 111 - loss:1.3061, acc:0.5564\n"
     ]
    },
    {
     "name": "stderr",
     "output_type": "stream",
     "text": [
      "Batches: 100%|█████████████████████████████████████████████████████████████████████████████████████████████████████████████████████████| 546/546 [00:01<00:00, 408.08it/s]\n"
     ]
    },
    {
     "name": "stdout",
     "output_type": "stream",
     "text": [
      "Train 112 - loss:1.2940, acc:0.5617\n",
      "Valid 112 - loss:1.3063, acc:0.5541\n"
     ]
    },
    {
     "name": "stderr",
     "output_type": "stream",
     "text": [
      "Batches: 100%|█████████████████████████████████████████████████████████████████████████████████████████████████████████████████████████| 546/546 [00:01<00:00, 418.93it/s]\n"
     ]
    },
    {
     "name": "stdout",
     "output_type": "stream",
     "text": [
      "Train 113 - loss:1.2939, acc:0.5614\n",
      "Valid 113 - loss:1.3062, acc:0.5564\n"
     ]
    },
    {
     "name": "stderr",
     "output_type": "stream",
     "text": [
      "Batches: 100%|█████████████████████████████████████████████████████████████████████████████████████████████████████████████████████████| 546/546 [00:01<00:00, 425.74it/s]\n"
     ]
    },
    {
     "name": "stdout",
     "output_type": "stream",
     "text": [
      "Train 114 - loss:1.2931, acc:0.5623\n",
      "Valid 114 - loss:1.3051, acc:0.5569\n"
     ]
    },
    {
     "name": "stderr",
     "output_type": "stream",
     "text": [
      "Batches: 100%|█████████████████████████████████████████████████████████████████████████████████████████████████████████████████████████| 546/546 [00:01<00:00, 422.87it/s]\n"
     ]
    },
    {
     "name": "stdout",
     "output_type": "stream",
     "text": [
      "Train 115 - loss:1.2925, acc:0.5634\n",
      "Valid 115 - loss:1.3043, acc:0.5569\n"
     ]
    },
    {
     "name": "stderr",
     "output_type": "stream",
     "text": [
      "Batches: 100%|█████████████████████████████████████████████████████████████████████████████████████████████████████████████████████████| 546/546 [00:01<00:00, 424.13it/s]\n"
     ]
    },
    {
     "name": "stdout",
     "output_type": "stream",
     "text": [
      "Train 116 - loss:1.2918, acc:0.5628\n",
      "Valid 116 - loss:1.3040, acc:0.5564\n"
     ]
    },
    {
     "name": "stderr",
     "output_type": "stream",
     "text": [
      "Batches: 100%|█████████████████████████████████████████████████████████████████████████████████████████████████████████████████████████| 546/546 [00:01<00:00, 439.32it/s]\n"
     ]
    },
    {
     "name": "stdout",
     "output_type": "stream",
     "text": [
      "Train 117 - loss:1.2912, acc:0.5641\n",
      "Valid 117 - loss:1.3038, acc:0.5550\n"
     ]
    },
    {
     "name": "stderr",
     "output_type": "stream",
     "text": [
      "Batches: 100%|█████████████████████████████████████████████████████████████████████████████████████████████████████████████████████████| 546/546 [00:01<00:00, 437.37it/s]\n"
     ]
    },
    {
     "name": "stdout",
     "output_type": "stream",
     "text": [
      "Train 118 - loss:1.2905, acc:0.5648\n",
      "Valid 118 - loss:1.3029, acc:0.5569\n"
     ]
    },
    {
     "name": "stderr",
     "output_type": "stream",
     "text": [
      "Batches: 100%|█████████████████████████████████████████████████████████████████████████████████████████████████████████████████████████| 546/546 [00:01<00:00, 430.47it/s]\n"
     ]
    },
    {
     "name": "stdout",
     "output_type": "stream",
     "text": [
      "Train 119 - loss:1.2901, acc:0.5654\n",
      "Valid 119 - loss:1.3025, acc:0.5550\n"
     ]
    },
    {
     "name": "stderr",
     "output_type": "stream",
     "text": [
      "Batches: 100%|█████████████████████████████████████████████████████████████████████████████████████████████████████████████████████████| 546/546 [00:01<00:00, 426.23it/s]\n"
     ]
    },
    {
     "name": "stdout",
     "output_type": "stream",
     "text": [
      "Train 120 - loss:1.2892, acc:0.5649\n",
      "Valid 120 - loss:1.3017, acc:0.5560\n"
     ]
    },
    {
     "name": "stderr",
     "output_type": "stream",
     "text": [
      "Batches: 100%|█████████████████████████████████████████████████████████████████████████████████████████████████████████████████████████| 546/546 [00:01<00:00, 381.92it/s]\n"
     ]
    },
    {
     "name": "stdout",
     "output_type": "stream",
     "text": [
      "Train 121 - loss:1.2887, acc:0.5662\n",
      "Valid 121 - loss:1.3006, acc:0.5564\n"
     ]
    },
    {
     "name": "stderr",
     "output_type": "stream",
     "text": [
      "Batches: 100%|█████████████████████████████████████████████████████████████████████████████████████████████████████████████████████████| 546/546 [00:01<00:00, 404.93it/s]\n"
     ]
    },
    {
     "name": "stdout",
     "output_type": "stream",
     "text": [
      "Train 122 - loss:1.2884, acc:0.5647\n",
      "Valid 122 - loss:1.3004, acc:0.5569\n"
     ]
    },
    {
     "name": "stderr",
     "output_type": "stream",
     "text": [
      "Batches: 100%|█████████████████████████████████████████████████████████████████████████████████████████████████████████████████████████| 546/546 [00:01<00:00, 403.21it/s]\n"
     ]
    },
    {
     "name": "stdout",
     "output_type": "stream",
     "text": [
      "Train 123 - loss:1.2877, acc:0.5658\n",
      "Valid 123 - loss:1.2999, acc:0.5550\n"
     ]
    },
    {
     "name": "stderr",
     "output_type": "stream",
     "text": [
      "Batches: 100%|█████████████████████████████████████████████████████████████████████████████████████████████████████████████████████████| 546/546 [00:01<00:00, 413.69it/s]\n"
     ]
    },
    {
     "name": "stdout",
     "output_type": "stream",
     "text": [
      "Train 124 - loss:1.2874, acc:0.5650\n",
      "Valid 124 - loss:1.3005, acc:0.5561\n"
     ]
    },
    {
     "name": "stderr",
     "output_type": "stream",
     "text": [
      "Batches: 100%|█████████████████████████████████████████████████████████████████████████████████████████████████████████████████████████| 546/546 [00:01<00:00, 418.20it/s]\n"
     ]
    },
    {
     "name": "stdout",
     "output_type": "stream",
     "text": [
      "Train 125 - loss:1.2870, acc:0.5656\n",
      "Valid 125 - loss:1.3001, acc:0.5547\n"
     ]
    },
    {
     "name": "stderr",
     "output_type": "stream",
     "text": [
      "Batches: 100%|█████████████████████████████████████████████████████████████████████████████████████████████████████████████████████████| 546/546 [00:01<00:00, 401.12it/s]\n"
     ]
    },
    {
     "name": "stdout",
     "output_type": "stream",
     "text": [
      "Train 126 - loss:1.2866, acc:0.5664\n",
      "Valid 126 - loss:1.2991, acc:0.5561\n"
     ]
    },
    {
     "name": "stderr",
     "output_type": "stream",
     "text": [
      "Batches: 100%|█████████████████████████████████████████████████████████████████████████████████████████████████████████████████████████| 546/546 [00:01<00:00, 414.44it/s]\n"
     ]
    },
    {
     "name": "stdout",
     "output_type": "stream",
     "text": [
      "Train 127 - loss:1.2862, acc:0.5668\n",
      "Valid 127 - loss:1.3000, acc:0.5561\n"
     ]
    },
    {
     "name": "stderr",
     "output_type": "stream",
     "text": [
      "Batches: 100%|█████████████████████████████████████████████████████████████████████████████████████████████████████████████████████████| 546/546 [00:01<00:00, 399.58it/s]\n"
     ]
    },
    {
     "name": "stdout",
     "output_type": "stream",
     "text": [
      "Train 128 - loss:1.2858, acc:0.5668\n",
      "Valid 128 - loss:1.2993, acc:0.5570\n"
     ]
    },
    {
     "name": "stderr",
     "output_type": "stream",
     "text": [
      "Batches: 100%|█████████████████████████████████████████████████████████████████████████████████████████████████████████████████████████| 546/546 [00:01<00:00, 408.93it/s]\n"
     ]
    },
    {
     "name": "stdout",
     "output_type": "stream",
     "text": [
      "Train 129 - loss:1.2856, acc:0.5664\n",
      "Valid 129 - loss:1.2972, acc:0.5589\n"
     ]
    },
    {
     "name": "stderr",
     "output_type": "stream",
     "text": [
      "Batches: 100%|█████████████████████████████████████████████████████████████████████████████████████████████████████████████████████████| 546/546 [00:01<00:00, 395.32it/s]\n"
     ]
    },
    {
     "name": "stdout",
     "output_type": "stream",
     "text": [
      "Train 130 - loss:1.2851, acc:0.5662\n",
      "Valid 130 - loss:1.2972, acc:0.5579\n"
     ]
    },
    {
     "name": "stderr",
     "output_type": "stream",
     "text": [
      "Batches: 100%|█████████████████████████████████████████████████████████████████████████████████████████████████████████████████████████| 546/546 [00:01<00:00, 434.82it/s]\n"
     ]
    },
    {
     "name": "stdout",
     "output_type": "stream",
     "text": [
      "Train 131 - loss:1.2847, acc:0.5666\n",
      "Valid 131 - loss:1.2980, acc:0.5607\n"
     ]
    },
    {
     "name": "stderr",
     "output_type": "stream",
     "text": [
      "Batches: 100%|█████████████████████████████████████████████████████████████████████████████████████████████████████████████████████████| 546/546 [00:01<00:00, 442.19it/s]\n"
     ]
    },
    {
     "name": "stdout",
     "output_type": "stream",
     "text": [
      "Train 132 - loss:1.2845, acc:0.5661\n",
      "Valid 132 - loss:1.2964, acc:0.5575\n"
     ]
    },
    {
     "name": "stderr",
     "output_type": "stream",
     "text": [
      "Batches: 100%|█████████████████████████████████████████████████████████████████████████████████████████████████████████████████████████| 546/546 [00:01<00:00, 443.90it/s]\n"
     ]
    },
    {
     "name": "stdout",
     "output_type": "stream",
     "text": [
      "Train 133 - loss:1.2840, acc:0.5661\n",
      "Valid 133 - loss:1.2967, acc:0.5616\n"
     ]
    },
    {
     "name": "stderr",
     "output_type": "stream",
     "text": [
      "Batches: 100%|█████████████████████████████████████████████████████████████████████████████████████████████████████████████████████████| 546/546 [00:01<00:00, 434.04it/s]\n"
     ]
    },
    {
     "name": "stdout",
     "output_type": "stream",
     "text": [
      "Train 134 - loss:1.2836, acc:0.5660\n",
      "Valid 134 - loss:1.2950, acc:0.5598\n"
     ]
    },
    {
     "name": "stderr",
     "output_type": "stream",
     "text": [
      "Batches: 100%|█████████████████████████████████████████████████████████████████████████████████████████████████████████████████████████| 546/546 [00:01<00:00, 442.81it/s]\n"
     ]
    },
    {
     "name": "stdout",
     "output_type": "stream",
     "text": [
      "Train 135 - loss:1.2837, acc:0.5663\n",
      "Valid 135 - loss:1.2960, acc:0.5616\n"
     ]
    },
    {
     "name": "stderr",
     "output_type": "stream",
     "text": [
      "Batches: 100%|█████████████████████████████████████████████████████████████████████████████████████████████████████████████████████████| 546/546 [00:01<00:00, 441.64it/s]\n"
     ]
    },
    {
     "name": "stdout",
     "output_type": "stream",
     "text": [
      "Train 136 - loss:1.2833, acc:0.5660\n",
      "Valid 136 - loss:1.2955, acc:0.5593\n"
     ]
    },
    {
     "name": "stderr",
     "output_type": "stream",
     "text": [
      "Batches: 100%|█████████████████████████████████████████████████████████████████████████████████████████████████████████████████████████| 546/546 [00:01<00:00, 433.05it/s]\n"
     ]
    },
    {
     "name": "stdout",
     "output_type": "stream",
     "text": [
      "Train 137 - loss:1.2829, acc:0.5654\n",
      "Valid 137 - loss:1.2955, acc:0.5616\n"
     ]
    },
    {
     "name": "stderr",
     "output_type": "stream",
     "text": [
      "Batches: 100%|█████████████████████████████████████████████████████████████████████████████████████████████████████████████████████████| 546/546 [00:01<00:00, 411.80it/s]\n"
     ]
    },
    {
     "name": "stdout",
     "output_type": "stream",
     "text": [
      "Train 138 - loss:1.2829, acc:0.5649\n",
      "Valid 138 - loss:1.2935, acc:0.5630\n"
     ]
    },
    {
     "name": "stderr",
     "output_type": "stream",
     "text": [
      "Batches: 100%|█████████████████████████████████████████████████████████████████████████████████████████████████████████████████████████| 546/546 [00:01<00:00, 448.34it/s]\n"
     ]
    },
    {
     "name": "stdout",
     "output_type": "stream",
     "text": [
      "Train 139 - loss:1.2826, acc:0.5682\n",
      "Valid 139 - loss:1.2936, acc:0.5630\n"
     ]
    },
    {
     "name": "stderr",
     "output_type": "stream",
     "text": [
      "Batches: 100%|█████████████████████████████████████████████████████████████████████████████████████████████████████████████████████████| 546/546 [00:01<00:00, 420.92it/s]\n"
     ]
    },
    {
     "name": "stdout",
     "output_type": "stream",
     "text": [
      "Train 140 - loss:1.2827, acc:0.5680\n",
      "Valid 140 - loss:1.2923, acc:0.5634\n"
     ]
    },
    {
     "name": "stderr",
     "output_type": "stream",
     "text": [
      "Batches: 100%|█████████████████████████████████████████████████████████████████████████████████████████████████████████████████████████| 546/546 [00:01<00:00, 445.83it/s]\n"
     ]
    },
    {
     "name": "stdout",
     "output_type": "stream",
     "text": [
      "Train 141 - loss:1.2824, acc:0.5692\n",
      "Valid 141 - loss:1.2922, acc:0.5630\n"
     ]
    },
    {
     "name": "stderr",
     "output_type": "stream",
     "text": [
      "Batches: 100%|█████████████████████████████████████████████████████████████████████████████████████████████████████████████████████████| 546/546 [00:01<00:00, 407.87it/s]\n"
     ]
    },
    {
     "name": "stdout",
     "output_type": "stream",
     "text": [
      "Train 142 - loss:1.2821, acc:0.5692\n",
      "Valid 142 - loss:1.2929, acc:0.5657\n"
     ]
    },
    {
     "name": "stderr",
     "output_type": "stream",
     "text": [
      "Batches: 100%|█████████████████████████████████████████████████████████████████████████████████████████████████████████████████████████| 546/546 [00:01<00:00, 439.64it/s]\n"
     ]
    },
    {
     "name": "stdout",
     "output_type": "stream",
     "text": [
      "Train 143 - loss:1.2820, acc:0.5688\n",
      "Valid 143 - loss:1.2928, acc:0.5634\n"
     ]
    },
    {
     "name": "stderr",
     "output_type": "stream",
     "text": [
      "Batches: 100%|█████████████████████████████████████████████████████████████████████████████████████████████████████████████████████████| 546/546 [00:01<00:00, 459.57it/s]\n"
     ]
    },
    {
     "name": "stdout",
     "output_type": "stream",
     "text": [
      "Train 144 - loss:1.2819, acc:0.5694\n",
      "Valid 144 - loss:1.2923, acc:0.5643\n"
     ]
    },
    {
     "name": "stderr",
     "output_type": "stream",
     "text": [
      "Batches: 100%|█████████████████████████████████████████████████████████████████████████████████████████████████████████████████████████| 546/546 [00:01<00:00, 463.39it/s]\n"
     ]
    },
    {
     "name": "stdout",
     "output_type": "stream",
     "text": [
      "Train 145 - loss:1.2818, acc:0.5693\n",
      "Valid 145 - loss:1.2929, acc:0.5611\n"
     ]
    },
    {
     "name": "stderr",
     "output_type": "stream",
     "text": [
      "Batches: 100%|█████████████████████████████████████████████████████████████████████████████████████████████████████████████████████████| 546/546 [00:01<00:00, 454.55it/s]\n"
     ]
    },
    {
     "name": "stdout",
     "output_type": "stream",
     "text": [
      "Train 146 - loss:1.2816, acc:0.5707\n",
      "Valid 146 - loss:1.2929, acc:0.5614\n"
     ]
    },
    {
     "name": "stderr",
     "output_type": "stream",
     "text": [
      "Batches: 100%|█████████████████████████████████████████████████████████████████████████████████████████████████████████████████████████| 546/546 [00:01<00:00, 409.47it/s]\n"
     ]
    },
    {
     "name": "stdout",
     "output_type": "stream",
     "text": [
      "Train 147 - loss:1.2815, acc:0.5695\n",
      "Valid 147 - loss:1.2917, acc:0.5643\n"
     ]
    },
    {
     "name": "stderr",
     "output_type": "stream",
     "text": [
      "Batches: 100%|█████████████████████████████████████████████████████████████████████████████████████████████████████████████████████████| 546/546 [00:01<00:00, 439.07it/s]\n"
     ]
    },
    {
     "name": "stdout",
     "output_type": "stream",
     "text": [
      "Train 148 - loss:1.2813, acc:0.5697\n",
      "Valid 148 - loss:1.2920, acc:0.5628\n"
     ]
    },
    {
     "name": "stderr",
     "output_type": "stream",
     "text": [
      "Batches: 100%|█████████████████████████████████████████████████████████████████████████████████████████████████████████████████████████| 546/546 [00:01<00:00, 462.59it/s]\n"
     ]
    },
    {
     "name": "stdout",
     "output_type": "stream",
     "text": [
      "Train 149 - loss:1.2810, acc:0.5703\n",
      "Valid 149 - loss:1.2921, acc:0.5633\n"
     ]
    },
    {
     "name": "stderr",
     "output_type": "stream",
     "text": [
      "Batches: 100%|█████████████████████████████████████████████████████████████████████████████████████████████████████████████████████████| 546/546 [00:01<00:00, 404.59it/s]\n"
     ]
    },
    {
     "name": "stdout",
     "output_type": "stream",
     "text": [
      "Train 150 - loss:1.2810, acc:0.5711\n",
      "Valid 150 - loss:1.2921, acc:0.5607\n"
     ]
    },
    {
     "name": "stderr",
     "output_type": "stream",
     "text": [
      "Batches: 100%|█████████████████████████████████████████████████████████████████████████████████████████████████████████████████████████| 546/546 [00:01<00:00, 402.45it/s]\n"
     ]
    },
    {
     "name": "stdout",
     "output_type": "stream",
     "text": [
      "Train 151 - loss:1.2806, acc:0.5702\n",
      "Valid 151 - loss:1.2914, acc:0.5630\n"
     ]
    },
    {
     "name": "stderr",
     "output_type": "stream",
     "text": [
      "Batches: 100%|█████████████████████████████████████████████████████████████████████████████████████████████████████████████████████████| 546/546 [00:01<00:00, 422.24it/s]\n"
     ]
    },
    {
     "name": "stdout",
     "output_type": "stream",
     "text": [
      "Train 152 - loss:1.2807, acc:0.5712\n",
      "Valid 152 - loss:1.2912, acc:0.5637\n"
     ]
    },
    {
     "name": "stderr",
     "output_type": "stream",
     "text": [
      "Batches: 100%|█████████████████████████████████████████████████████████████████████████████████████████████████████████████████████████| 546/546 [00:01<00:00, 425.68it/s]\n"
     ]
    },
    {
     "name": "stdout",
     "output_type": "stream",
     "text": [
      "Train 153 - loss:1.2805, acc:0.5696\n",
      "Valid 153 - loss:1.2923, acc:0.5646\n"
     ]
    },
    {
     "name": "stderr",
     "output_type": "stream",
     "text": [
      "Batches: 100%|█████████████████████████████████████████████████████████████████████████████████████████████████████████████████████████| 546/546 [00:01<00:00, 437.39it/s]\n"
     ]
    },
    {
     "name": "stdout",
     "output_type": "stream",
     "text": [
      "Train 154 - loss:1.2806, acc:0.5704\n",
      "Valid 154 - loss:1.2907, acc:0.5637\n"
     ]
    },
    {
     "name": "stderr",
     "output_type": "stream",
     "text": [
      "Batches: 100%|█████████████████████████████████████████████████████████████████████████████████████████████████████████████████████████| 546/546 [00:01<00:00, 462.31it/s]\n"
     ]
    },
    {
     "name": "stdout",
     "output_type": "stream",
     "text": [
      "Train 155 - loss:1.2804, acc:0.5702\n",
      "Valid 155 - loss:1.2909, acc:0.5651\n"
     ]
    },
    {
     "name": "stderr",
     "output_type": "stream",
     "text": [
      "Batches: 100%|█████████████████████████████████████████████████████████████████████████████████████████████████████████████████████████| 546/546 [00:01<00:00, 458.46it/s]\n"
     ]
    },
    {
     "name": "stdout",
     "output_type": "stream",
     "text": [
      "Train 156 - loss:1.2802, acc:0.5701\n",
      "Valid 156 - loss:1.2912, acc:0.5637\n"
     ]
    },
    {
     "name": "stderr",
     "output_type": "stream",
     "text": [
      "Batches: 100%|█████████████████████████████████████████████████████████████████████████████████████████████████████████████████████████| 546/546 [00:01<00:00, 422.89it/s]\n"
     ]
    },
    {
     "name": "stdout",
     "output_type": "stream",
     "text": [
      "Train 157 - loss:1.2803, acc:0.5702\n",
      "Valid 157 - loss:1.2909, acc:0.5655\n"
     ]
    },
    {
     "name": "stderr",
     "output_type": "stream",
     "text": [
      "Batches: 100%|█████████████████████████████████████████████████████████████████████████████████████████████████████████████████████████| 546/546 [00:01<00:00, 410.78it/s]\n"
     ]
    },
    {
     "name": "stdout",
     "output_type": "stream",
     "text": [
      "Train 158 - loss:1.2803, acc:0.5704\n",
      "Valid 158 - loss:1.2911, acc:0.5646\n"
     ]
    },
    {
     "name": "stderr",
     "output_type": "stream",
     "text": [
      "Batches: 100%|█████████████████████████████████████████████████████████████████████████████████████████████████████████████████████████| 546/546 [00:01<00:00, 430.95it/s]\n"
     ]
    },
    {
     "name": "stdout",
     "output_type": "stream",
     "text": [
      "Train 159 - loss:1.2800, acc:0.5716\n",
      "Valid 159 - loss:1.2914, acc:0.5642\n"
     ]
    },
    {
     "name": "stderr",
     "output_type": "stream",
     "text": [
      "Batches: 100%|█████████████████████████████████████████████████████████████████████████████████████████████████████████████████████████| 546/546 [00:01<00:00, 401.70it/s]\n"
     ]
    },
    {
     "name": "stdout",
     "output_type": "stream",
     "text": [
      "Train 160 - loss:1.2802, acc:0.5709\n",
      "Valid 160 - loss:1.2915, acc:0.5651\n"
     ]
    },
    {
     "name": "stderr",
     "output_type": "stream",
     "text": [
      "Batches: 100%|█████████████████████████████████████████████████████████████████████████████████████████████████████████████████████████| 546/546 [00:01<00:00, 421.42it/s]\n"
     ]
    },
    {
     "name": "stdout",
     "output_type": "stream",
     "text": [
      "Train 161 - loss:1.2798, acc:0.5708\n",
      "Valid 161 - loss:1.2911, acc:0.5642\n"
     ]
    },
    {
     "name": "stderr",
     "output_type": "stream",
     "text": [
      "Batches: 100%|█████████████████████████████████████████████████████████████████████████████████████████████████████████████████████████| 546/546 [00:01<00:00, 406.02it/s]\n"
     ]
    },
    {
     "name": "stdout",
     "output_type": "stream",
     "text": [
      "Train 162 - loss:1.2799, acc:0.5709\n",
      "Valid 162 - loss:1.2907, acc:0.5651\n"
     ]
    },
    {
     "name": "stderr",
     "output_type": "stream",
     "text": [
      "Batches: 100%|█████████████████████████████████████████████████████████████████████████████████████████████████████████████████████████| 546/546 [00:01<00:00, 419.54it/s]\n"
     ]
    },
    {
     "name": "stdout",
     "output_type": "stream",
     "text": [
      "Train 163 - loss:1.2797, acc:0.5701\n",
      "Valid 163 - loss:1.2902, acc:0.5665\n"
     ]
    },
    {
     "name": "stderr",
     "output_type": "stream",
     "text": [
      "Batches: 100%|█████████████████████████████████████████████████████████████████████████████████████████████████████████████████████████| 546/546 [00:01<00:00, 392.71it/s]\n"
     ]
    },
    {
     "name": "stdout",
     "output_type": "stream",
     "text": [
      "Train 164 - loss:1.2792, acc:0.5702\n",
      "Valid 164 - loss:1.2907, acc:0.5642\n"
     ]
    },
    {
     "name": "stderr",
     "output_type": "stream",
     "text": [
      "Batches: 100%|█████████████████████████████████████████████████████████████████████████████████████████████████████████████████████████| 546/546 [00:01<00:00, 410.05it/s]\n"
     ]
    },
    {
     "name": "stdout",
     "output_type": "stream",
     "text": [
      "Train 165 - loss:1.2796, acc:0.5697\n",
      "Valid 165 - loss:1.2916, acc:0.5628\n"
     ]
    },
    {
     "name": "stderr",
     "output_type": "stream",
     "text": [
      "Batches: 100%|█████████████████████████████████████████████████████████████████████████████████████████████████████████████████████████| 546/546 [00:01<00:00, 423.08it/s]\n"
     ]
    },
    {
     "name": "stdout",
     "output_type": "stream",
     "text": [
      "Train 166 - loss:1.2793, acc:0.5696\n",
      "Valid 166 - loss:1.2914, acc:0.5628\n"
     ]
    },
    {
     "name": "stderr",
     "output_type": "stream",
     "text": [
      "Batches: 100%|█████████████████████████████████████████████████████████████████████████████████████████████████████████████████████████| 546/546 [00:01<00:00, 401.10it/s]\n"
     ]
    },
    {
     "name": "stdout",
     "output_type": "stream",
     "text": [
      "Train 167 - loss:1.2794, acc:0.5693\n",
      "Valid 167 - loss:1.2910, acc:0.5651\n"
     ]
    },
    {
     "name": "stderr",
     "output_type": "stream",
     "text": [
      "Batches: 100%|█████████████████████████████████████████████████████████████████████████████████████████████████████████████████████████| 546/546 [00:01<00:00, 407.66it/s]\n"
     ]
    },
    {
     "name": "stdout",
     "output_type": "stream",
     "text": [
      "Train 168 - loss:1.2793, acc:0.5688\n",
      "Valid 168 - loss:1.2905, acc:0.5651\n"
     ]
    },
    {
     "name": "stderr",
     "output_type": "stream",
     "text": [
      "Batches: 100%|█████████████████████████████████████████████████████████████████████████████████████████████████████████████████████████| 546/546 [00:01<00:00, 415.12it/s]\n"
     ]
    },
    {
     "name": "stdout",
     "output_type": "stream",
     "text": [
      "Train 169 - loss:1.2793, acc:0.5682\n",
      "Valid 169 - loss:1.2909, acc:0.5669\n"
     ]
    },
    {
     "name": "stderr",
     "output_type": "stream",
     "text": [
      "Batches: 100%|█████████████████████████████████████████████████████████████████████████████████████████████████████████████████████████| 546/546 [00:01<00:00, 391.25it/s]\n"
     ]
    },
    {
     "name": "stdout",
     "output_type": "stream",
     "text": [
      "Train 170 - loss:1.2791, acc:0.5685\n",
      "Valid 170 - loss:1.2911, acc:0.5660\n"
     ]
    },
    {
     "name": "stderr",
     "output_type": "stream",
     "text": [
      "Batches: 100%|█████████████████████████████████████████████████████████████████████████████████████████████████████████████████████████| 546/546 [00:01<00:00, 428.93it/s]\n"
     ]
    },
    {
     "name": "stdout",
     "output_type": "stream",
     "text": [
      "Train 171 - loss:1.2789, acc:0.5677\n",
      "Valid 171 - loss:1.2907, acc:0.5660\n"
     ]
    },
    {
     "name": "stderr",
     "output_type": "stream",
     "text": [
      "Batches: 100%|█████████████████████████████████████████████████████████████████████████████████████████████████████████████████████████| 546/546 [00:01<00:00, 431.93it/s]\n"
     ]
    },
    {
     "name": "stdout",
     "output_type": "stream",
     "text": [
      "Train 172 - loss:1.2790, acc:0.5688\n",
      "Valid 172 - loss:1.2900, acc:0.5660\n"
     ]
    },
    {
     "name": "stderr",
     "output_type": "stream",
     "text": [
      "Batches: 100%|█████████████████████████████████████████████████████████████████████████████████████████████████████████████████████████| 546/546 [00:01<00:00, 460.22it/s]\n"
     ]
    },
    {
     "name": "stdout",
     "output_type": "stream",
     "text": [
      "Train 173 - loss:1.2790, acc:0.5697\n",
      "Valid 173 - loss:1.2898, acc:0.5660\n"
     ]
    },
    {
     "name": "stderr",
     "output_type": "stream",
     "text": [
      "Batches: 100%|█████████████████████████████████████████████████████████████████████████████████████████████████████████████████████████| 546/546 [00:01<00:00, 419.05it/s]\n"
     ]
    },
    {
     "name": "stdout",
     "output_type": "stream",
     "text": [
      "Train 174 - loss:1.2792, acc:0.5686\n",
      "Valid 174 - loss:1.2903, acc:0.5655\n"
     ]
    },
    {
     "name": "stderr",
     "output_type": "stream",
     "text": [
      "Batches: 100%|█████████████████████████████████████████████████████████████████████████████████████████████████████████████████████████| 546/546 [00:01<00:00, 407.62it/s]\n"
     ]
    },
    {
     "name": "stdout",
     "output_type": "stream",
     "text": [
      "Train 175 - loss:1.2789, acc:0.5692\n",
      "Valid 175 - loss:1.2891, acc:0.5660\n"
     ]
    },
    {
     "name": "stderr",
     "output_type": "stream",
     "text": [
      "Batches: 100%|█████████████████████████████████████████████████████████████████████████████████████████████████████████████████████████| 546/546 [00:01<00:00, 427.16it/s]\n"
     ]
    },
    {
     "name": "stdout",
     "output_type": "stream",
     "text": [
      "Train 176 - loss:1.2788, acc:0.5685\n",
      "Valid 176 - loss:1.2894, acc:0.5642\n"
     ]
    },
    {
     "name": "stderr",
     "output_type": "stream",
     "text": [
      "Batches: 100%|█████████████████████████████████████████████████████████████████████████████████████████████████████████████████████████| 546/546 [00:01<00:00, 429.45it/s]\n"
     ]
    },
    {
     "name": "stdout",
     "output_type": "stream",
     "text": [
      "Train 177 - loss:1.2789, acc:0.5692\n",
      "Valid 177 - loss:1.2907, acc:0.5646\n"
     ]
    },
    {
     "name": "stderr",
     "output_type": "stream",
     "text": [
      "Batches: 100%|█████████████████████████████████████████████████████████████████████████████████████████████████████████████████████████| 546/546 [00:01<00:00, 407.88it/s]\n"
     ]
    },
    {
     "name": "stdout",
     "output_type": "stream",
     "text": [
      "Train 178 - loss:1.2788, acc:0.5693\n",
      "Valid 178 - loss:1.2893, acc:0.5642\n"
     ]
    },
    {
     "name": "stderr",
     "output_type": "stream",
     "text": [
      "Batches: 100%|█████████████████████████████████████████████████████████████████████████████████████████████████████████████████████████| 546/546 [00:01<00:00, 428.43it/s]\n"
     ]
    },
    {
     "name": "stdout",
     "output_type": "stream",
     "text": [
      "Train 179 - loss:1.2783, acc:0.5688\n",
      "Valid 179 - loss:1.2902, acc:0.5628\n"
     ]
    },
    {
     "name": "stderr",
     "output_type": "stream",
     "text": [
      "Batches: 100%|█████████████████████████████████████████████████████████████████████████████████████████████████████████████████████████| 546/546 [00:01<00:00, 396.37it/s]\n"
     ]
    },
    {
     "name": "stdout",
     "output_type": "stream",
     "text": [
      "Train 180 - loss:1.2784, acc:0.5687\n",
      "Valid 180 - loss:1.2904, acc:0.5637\n"
     ]
    },
    {
     "name": "stderr",
     "output_type": "stream",
     "text": [
      "Batches: 100%|█████████████████████████████████████████████████████████████████████████████████████████████████████████████████████████| 546/546 [00:01<00:00, 427.71it/s]\n"
     ]
    },
    {
     "name": "stdout",
     "output_type": "stream",
     "text": [
      "Train 181 - loss:1.2784, acc:0.5682\n",
      "Valid 181 - loss:1.2906, acc:0.5637\n"
     ]
    },
    {
     "name": "stderr",
     "output_type": "stream",
     "text": [
      "Batches: 100%|█████████████████████████████████████████████████████████████████████████████████████████████████████████████████████████| 546/546 [00:01<00:00, 416.18it/s]\n"
     ]
    },
    {
     "name": "stdout",
     "output_type": "stream",
     "text": [
      "Train 182 - loss:1.2787, acc:0.5674\n",
      "Valid 182 - loss:1.2900, acc:0.5646\n"
     ]
    },
    {
     "name": "stderr",
     "output_type": "stream",
     "text": [
      "Batches: 100%|█████████████████████████████████████████████████████████████████████████████████████████████████████████████████████████| 546/546 [00:01<00:00, 450.15it/s]\n"
     ]
    },
    {
     "name": "stdout",
     "output_type": "stream",
     "text": [
      "Train 183 - loss:1.2783, acc:0.5687\n",
      "Valid 183 - loss:1.2902, acc:0.5646\n"
     ]
    },
    {
     "name": "stderr",
     "output_type": "stream",
     "text": [
      "Batches: 100%|█████████████████████████████████████████████████████████████████████████████████████████████████████████████████████████| 546/546 [00:01<00:00, 409.85it/s]\n"
     ]
    },
    {
     "name": "stdout",
     "output_type": "stream",
     "text": [
      "Train 184 - loss:1.2781, acc:0.5681\n",
      "Valid 184 - loss:1.2906, acc:0.5633\n"
     ]
    },
    {
     "name": "stderr",
     "output_type": "stream",
     "text": [
      "Batches: 100%|█████████████████████████████████████████████████████████████████████████████████████████████████████████████████████████| 546/546 [00:01<00:00, 432.21it/s]\n"
     ]
    },
    {
     "name": "stdout",
     "output_type": "stream",
     "text": [
      "Train 185 - loss:1.2783, acc:0.5680\n",
      "Valid 185 - loss:1.2895, acc:0.5651\n"
     ]
    },
    {
     "name": "stderr",
     "output_type": "stream",
     "text": [
      "Batches: 100%|█████████████████████████████████████████████████████████████████████████████████████████████████████████████████████████| 546/546 [00:01<00:00, 401.74it/s]\n"
     ]
    },
    {
     "name": "stdout",
     "output_type": "stream",
     "text": [
      "Train 186 - loss:1.2780, acc:0.5685\n",
      "Valid 186 - loss:1.2908, acc:0.5633\n"
     ]
    },
    {
     "name": "stderr",
     "output_type": "stream",
     "text": [
      "Batches: 100%|█████████████████████████████████████████████████████████████████████████████████████████████████████████████████████████| 546/546 [00:01<00:00, 436.03it/s]\n"
     ]
    },
    {
     "name": "stdout",
     "output_type": "stream",
     "text": [
      "Train 187 - loss:1.2778, acc:0.5679\n",
      "Valid 187 - loss:1.2907, acc:0.5646\n"
     ]
    },
    {
     "name": "stderr",
     "output_type": "stream",
     "text": [
      "Batches: 100%|█████████████████████████████████████████████████████████████████████████████████████████████████████████████████████████| 546/546 [00:01<00:00, 387.23it/s]\n"
     ]
    },
    {
     "name": "stdout",
     "output_type": "stream",
     "text": [
      "Train 188 - loss:1.2780, acc:0.5682\n",
      "Valid 188 - loss:1.2900, acc:0.5623\n"
     ]
    },
    {
     "name": "stderr",
     "output_type": "stream",
     "text": [
      "Batches: 100%|█████████████████████████████████████████████████████████████████████████████████████████████████████████████████████████| 546/546 [00:01<00:00, 401.99it/s]\n"
     ]
    },
    {
     "name": "stdout",
     "output_type": "stream",
     "text": [
      "Train 189 - loss:1.2780, acc:0.5692\n",
      "Valid 189 - loss:1.2907, acc:0.5646\n"
     ]
    },
    {
     "name": "stderr",
     "output_type": "stream",
     "text": [
      "Batches: 100%|█████████████████████████████████████████████████████████████████████████████████████████████████████████████████████████| 546/546 [00:01<00:00, 423.12it/s]\n"
     ]
    },
    {
     "name": "stdout",
     "output_type": "stream",
     "text": [
      "Train 190 - loss:1.2778, acc:0.5681\n",
      "Valid 190 - loss:1.2900, acc:0.5628\n"
     ]
    },
    {
     "name": "stderr",
     "output_type": "stream",
     "text": [
      "Batches: 100%|█████████████████████████████████████████████████████████████████████████████████████████████████████████████████████████| 546/546 [00:01<00:00, 402.55it/s]\n"
     ]
    },
    {
     "name": "stdout",
     "output_type": "stream",
     "text": [
      "Train 191 - loss:1.2780, acc:0.5689\n",
      "Valid 191 - loss:1.2897, acc:0.5655\n"
     ]
    },
    {
     "name": "stderr",
     "output_type": "stream",
     "text": [
      "Batches: 100%|█████████████████████████████████████████████████████████████████████████████████████████████████████████████████████████| 546/546 [00:01<00:00, 355.25it/s]\n"
     ]
    },
    {
     "name": "stdout",
     "output_type": "stream",
     "text": [
      "Train 192 - loss:1.2779, acc:0.5687\n",
      "Valid 192 - loss:1.2905, acc:0.5646\n"
     ]
    },
    {
     "name": "stderr",
     "output_type": "stream",
     "text": [
      "Batches: 100%|█████████████████████████████████████████████████████████████████████████████████████████████████████████████████████████| 546/546 [00:01<00:00, 390.78it/s]\n"
     ]
    },
    {
     "name": "stdout",
     "output_type": "stream",
     "text": [
      "Train 193 - loss:1.2779, acc:0.5679\n",
      "Valid 193 - loss:1.2899, acc:0.5637\n"
     ]
    },
    {
     "name": "stderr",
     "output_type": "stream",
     "text": [
      "Batches: 100%|█████████████████████████████████████████████████████████████████████████████████████████████████████████████████████████| 546/546 [00:01<00:00, 410.69it/s]\n"
     ]
    },
    {
     "name": "stdout",
     "output_type": "stream",
     "text": [
      "Train 194 - loss:1.2778, acc:0.5687\n",
      "Valid 194 - loss:1.2890, acc:0.5651\n"
     ]
    },
    {
     "name": "stderr",
     "output_type": "stream",
     "text": [
      "Batches: 100%|█████████████████████████████████████████████████████████████████████████████████████████████████████████████████████████| 546/546 [00:01<00:00, 431.84it/s]\n"
     ]
    },
    {
     "name": "stdout",
     "output_type": "stream",
     "text": [
      "Train 195 - loss:1.2777, acc:0.5685\n",
      "Valid 195 - loss:1.2889, acc:0.5642\n"
     ]
    },
    {
     "name": "stderr",
     "output_type": "stream",
     "text": [
      "Batches: 100%|█████████████████████████████████████████████████████████████████████████████████████████████████████████████████████████| 546/546 [00:01<00:00, 429.99it/s]\n"
     ]
    },
    {
     "name": "stdout",
     "output_type": "stream",
     "text": [
      "Train 196 - loss:1.2778, acc:0.5677\n",
      "Valid 196 - loss:1.2891, acc:0.5651\n"
     ]
    },
    {
     "name": "stderr",
     "output_type": "stream",
     "text": [
      "Batches: 100%|█████████████████████████████████████████████████████████████████████████████████████████████████████████████████████████| 546/546 [00:01<00:00, 435.20it/s]\n"
     ]
    },
    {
     "name": "stdout",
     "output_type": "stream",
     "text": [
      "Train 197 - loss:1.2775, acc:0.5685\n",
      "Valid 197 - loss:1.2892, acc:0.5646\n"
     ]
    },
    {
     "name": "stderr",
     "output_type": "stream",
     "text": [
      "Batches:  54%|█████████████████████████████████████████████████████████████████▏                                                       | 294/546 [00:00<00:00, 404.69it/s]\n"
     ]
    },
    {
     "ename": "KeyboardInterrupt",
     "evalue": "",
     "output_type": "error",
     "traceback": [
      "\u001b[0;31m---------------------------------------------------------------------------\u001b[0m",
      "\u001b[0;31mKeyboardInterrupt\u001b[0m                         Traceback (most recent call last)",
      "Cell \u001b[0;32mIn[55], line 2\u001b[0m\n\u001b[1;32m      1\u001b[0m dm \u001b[38;5;241m=\u001b[39m DummyModel()\n\u001b[0;32m----> 2\u001b[0m \u001b[43mtrain\u001b[49m\u001b[43m(\u001b[49m\u001b[43mdm\u001b[49m\u001b[43m,\u001b[49m\u001b[43m \u001b[49m\u001b[38;5;124;43m\"\u001b[39;49m\u001b[38;5;124;43m./solver/sol_examples/vrp20/sols.pkl\u001b[39;49m\u001b[38;5;124;43m\"\u001b[39;49m\u001b[43m,\u001b[49m\u001b[43m \u001b[49m\u001b[43mepochs\u001b[49m\u001b[38;5;241;43m=\u001b[39;49m\u001b[38;5;241;43m200\u001b[39;49m\u001b[43m,\u001b[49m\u001b[43m \u001b[49m\u001b[43mbatch_size\u001b[49m\u001b[38;5;241;43m=\u001b[39;49m\u001b[38;5;241;43m16\u001b[39;49m\u001b[43m,\u001b[49m\u001b[43m \u001b[49m\u001b[43mlearning_rate\u001b[49m\u001b[38;5;241;43m=\u001b[39;49m\u001b[38;5;241;43m3e-3\u001b[39;49m\u001b[43m,\u001b[49m\u001b[43m \u001b[49m\u001b[43mmax_instances\u001b[49m\u001b[38;5;241;43m=\u001b[39;49m\u001b[38;5;241;43m500\u001b[39;49m\u001b[43m)\u001b[49m\n",
      "File \u001b[0;32m~/Desktop/stanford/cs224w/project/cs224w/training_new.py:106\u001b[0m, in \u001b[0;36mtrain\u001b[0;34m(model, graphs_path, epochs, batch_size, learning_rate, eval_epochs, max_instances)\u001b[0m\n\u001b[1;32m    104\u001b[0m nexts \u001b[38;5;241m=\u001b[39m batched_graphs\u001b[38;5;241m.\u001b[39my\n\u001b[1;32m    105\u001b[0m \u001b[38;5;66;03m# this should return very small numbers for irrelevant classes\u001b[39;00m\n\u001b[0;32m--> 106\u001b[0m logits \u001b[38;5;241m=\u001b[39m \u001b[43mmodel\u001b[49m\u001b[43m(\u001b[49m\u001b[43mbatched_graphs\u001b[49m\u001b[43m)\u001b[49m  \u001b[38;5;66;03m# (batch_size, classes)\u001b[39;00m\n\u001b[1;32m    108\u001b[0m loss \u001b[38;5;241m=\u001b[39m loss_fn(logits, nexts)\n\u001b[1;32m    110\u001b[0m \u001b[38;5;28;01mwith\u001b[39;00m torch\u001b[38;5;241m.\u001b[39mno_grad():\n",
      "File \u001b[0;32m/opt/homebrew/anaconda3/envs/pyt1-osx-64/lib/python3.10/site-packages/torch/nn/modules/module.py:1190\u001b[0m, in \u001b[0;36mModule._call_impl\u001b[0;34m(self, *input, **kwargs)\u001b[0m\n\u001b[1;32m   1186\u001b[0m \u001b[38;5;66;03m# If we don't have any hooks, we want to skip the rest of the logic in\u001b[39;00m\n\u001b[1;32m   1187\u001b[0m \u001b[38;5;66;03m# this function, and just call forward.\u001b[39;00m\n\u001b[1;32m   1188\u001b[0m \u001b[38;5;28;01mif\u001b[39;00m \u001b[38;5;129;01mnot\u001b[39;00m (\u001b[38;5;28mself\u001b[39m\u001b[38;5;241m.\u001b[39m_backward_hooks \u001b[38;5;129;01mor\u001b[39;00m \u001b[38;5;28mself\u001b[39m\u001b[38;5;241m.\u001b[39m_forward_hooks \u001b[38;5;129;01mor\u001b[39;00m \u001b[38;5;28mself\u001b[39m\u001b[38;5;241m.\u001b[39m_forward_pre_hooks \u001b[38;5;129;01mor\u001b[39;00m _global_backward_hooks\n\u001b[1;32m   1189\u001b[0m         \u001b[38;5;129;01mor\u001b[39;00m _global_forward_hooks \u001b[38;5;129;01mor\u001b[39;00m _global_forward_pre_hooks):\n\u001b[0;32m-> 1190\u001b[0m     \u001b[38;5;28;01mreturn\u001b[39;00m \u001b[43mforward_call\u001b[49m\u001b[43m(\u001b[49m\u001b[38;5;241;43m*\u001b[39;49m\u001b[38;5;28;43minput\u001b[39;49m\u001b[43m,\u001b[49m\u001b[43m \u001b[49m\u001b[38;5;241;43m*\u001b[39;49m\u001b[38;5;241;43m*\u001b[39;49m\u001b[43mkwargs\u001b[49m\u001b[43m)\u001b[49m\n\u001b[1;32m   1191\u001b[0m \u001b[38;5;66;03m# Do not call functions when jit is used\u001b[39;00m\n\u001b[1;32m   1192\u001b[0m full_backward_hooks, non_full_backward_hooks \u001b[38;5;241m=\u001b[39m [], []\n",
      "File \u001b[0;32m~/Desktop/stanford/cs224w/project/cs224w/model.py:175\u001b[0m, in \u001b[0;36mforward\u001b[0;34m(self, batch)\u001b[0m\n\u001b[1;32m    171\u001b[0m     mask \u001b[38;5;241m=\u001b[39m \u001b[38;5;28mself\u001b[39m\u001b[38;5;241m.\u001b[39mget_mask(batch)\n\u001b[1;32m    172\u001b[0m     \u001b[38;5;28;01mreturn\u001b[39;00m logits\u001b[38;5;241m.\u001b[39msqueeze(\u001b[38;5;241m-\u001b[39m\u001b[38;5;241m1\u001b[39m)\u001b[38;5;241m.\u001b[39mmasked_fill(mask, \u001b[38;5;241m-\u001b[39m\u001b[38;5;241m1e10\u001b[39m)\n\u001b[1;32m    174\u001b[0m \u001b[38;5;129m@property\u001b[39m\n\u001b[0;32m--> 175\u001b[0m \u001b[38;5;28;01mdef\u001b[39;00m \u001b[38;5;21mdevice\u001b[39m(\u001b[38;5;28mself\u001b[39m):\n\u001b[1;32m    176\u001b[0m     \u001b[38;5;28;01mreturn\u001b[39;00m \u001b[38;5;28mnext\u001b[39m(\u001b[38;5;28mself\u001b[39m\u001b[38;5;241m.\u001b[39mparameters())\u001b[38;5;241m.\u001b[39mdevice\n\u001b[1;32m    178\u001b[0m \u001b[38;5;28;01mdef\u001b[39;00m \u001b[38;5;21mprobs\u001b[39m(\u001b[38;5;28mself\u001b[39m, batch):\n",
      "File \u001b[0;32m~/Desktop/stanford/cs224w/project/cs224w/model.py:160\u001b[0m, in \u001b[0;36mget_mask\u001b[0;34m(self, batch)\u001b[0m\n\u001b[1;32m    158\u001b[0m     rs[i][torch\u001b[38;5;241m.\u001b[39mtensor(unique)] \u001b[38;5;241m=\u001b[39m \u001b[38;5;28;01mTrue\u001b[39;00m\n\u001b[1;32m    159\u001b[0m rs[:, \u001b[38;5;241m0\u001b[39m] \u001b[38;5;241m=\u001b[39m \u001b[38;5;28;01mFalse\u001b[39;00m\n\u001b[0;32m--> 160\u001b[0m \u001b[38;5;28;01mreturn\u001b[39;00m rs\n",
      "File \u001b[0;32m/opt/homebrew/anaconda3/envs/pyt1-osx-64/lib/python3.10/site-packages/torch_geometric/data/batch.py:154\u001b[0m, in \u001b[0;36mBatch.__getitem__\u001b[0;34m(self, idx)\u001b[0m\n\u001b[1;32m    150\u001b[0m \u001b[38;5;28;01mdef\u001b[39;00m \u001b[38;5;21m__getitem__\u001b[39m(\u001b[38;5;28mself\u001b[39m, idx: Union[\u001b[38;5;28mint\u001b[39m, np\u001b[38;5;241m.\u001b[39minteger, \u001b[38;5;28mstr\u001b[39m, IndexType]) \u001b[38;5;241m-\u001b[39m\u001b[38;5;241m>\u001b[39m Any:\n\u001b[1;32m    151\u001b[0m     \u001b[38;5;28;01mif\u001b[39;00m (\u001b[38;5;28misinstance\u001b[39m(idx, (\u001b[38;5;28mint\u001b[39m, np\u001b[38;5;241m.\u001b[39minteger))\n\u001b[1;32m    152\u001b[0m             \u001b[38;5;129;01mor\u001b[39;00m (\u001b[38;5;28misinstance\u001b[39m(idx, Tensor) \u001b[38;5;129;01mand\u001b[39;00m idx\u001b[38;5;241m.\u001b[39mdim() \u001b[38;5;241m==\u001b[39m \u001b[38;5;241m0\u001b[39m)\n\u001b[1;32m    153\u001b[0m             \u001b[38;5;129;01mor\u001b[39;00m (\u001b[38;5;28misinstance\u001b[39m(idx, np\u001b[38;5;241m.\u001b[39mndarray) \u001b[38;5;129;01mand\u001b[39;00m np\u001b[38;5;241m.\u001b[39misscalar(idx))):\n\u001b[0;32m--> 154\u001b[0m         \u001b[38;5;28;01mreturn\u001b[39;00m \u001b[38;5;28;43mself\u001b[39;49m\u001b[38;5;241;43m.\u001b[39;49m\u001b[43mget_example\u001b[49m\u001b[43m(\u001b[49m\u001b[43midx\u001b[49m\u001b[43m)\u001b[49m\n\u001b[1;32m    155\u001b[0m     \u001b[38;5;28;01melif\u001b[39;00m \u001b[38;5;28misinstance\u001b[39m(idx, \u001b[38;5;28mstr\u001b[39m) \u001b[38;5;129;01mor\u001b[39;00m (\u001b[38;5;28misinstance\u001b[39m(idx, \u001b[38;5;28mtuple\u001b[39m)\n\u001b[1;32m    156\u001b[0m                                   \u001b[38;5;129;01mand\u001b[39;00m \u001b[38;5;28misinstance\u001b[39m(idx[\u001b[38;5;241m0\u001b[39m], \u001b[38;5;28mstr\u001b[39m)):\n\u001b[1;32m    157\u001b[0m         \u001b[38;5;66;03m# Accessing attributes or node/edge types:\u001b[39;00m\n\u001b[1;32m    158\u001b[0m         \u001b[38;5;28;01mreturn\u001b[39;00m \u001b[38;5;28msuper\u001b[39m()\u001b[38;5;241m.\u001b[39m\u001b[38;5;21m__getitem__\u001b[39m(idx)\n",
      "File \u001b[0;32m/opt/homebrew/anaconda3/envs/pyt1-osx-64/lib/python3.10/site-packages/torch_geometric/data/batch.py:103\u001b[0m, in \u001b[0;36mBatch.get_example\u001b[0;34m(self, idx)\u001b[0m\n\u001b[1;32m     98\u001b[0m \u001b[38;5;28;01mif\u001b[39;00m \u001b[38;5;129;01mnot\u001b[39;00m \u001b[38;5;28mhasattr\u001b[39m(\u001b[38;5;28mself\u001b[39m, \u001b[38;5;124m'\u001b[39m\u001b[38;5;124m_slice_dict\u001b[39m\u001b[38;5;124m'\u001b[39m):\n\u001b[1;32m     99\u001b[0m     \u001b[38;5;28;01mraise\u001b[39;00m \u001b[38;5;167;01mRuntimeError\u001b[39;00m(\n\u001b[1;32m    100\u001b[0m         (\u001b[38;5;124m\"\u001b[39m\u001b[38;5;124mCannot reconstruct \u001b[39m\u001b[38;5;124m'\u001b[39m\u001b[38;5;124mData\u001b[39m\u001b[38;5;124m'\u001b[39m\u001b[38;5;124m object from \u001b[39m\u001b[38;5;124m'\u001b[39m\u001b[38;5;124mBatch\u001b[39m\u001b[38;5;124m'\u001b[39m\u001b[38;5;124m because \u001b[39m\u001b[38;5;124m\"\u001b[39m\n\u001b[1;32m    101\u001b[0m          \u001b[38;5;124m\"\u001b[39m\u001b[38;5;124m'\u001b[39m\u001b[38;5;124mBatch\u001b[39m\u001b[38;5;124m'\u001b[39m\u001b[38;5;124m was not created via \u001b[39m\u001b[38;5;124m'\u001b[39m\u001b[38;5;124mBatch.from_data_list()\u001b[39m\u001b[38;5;124m'\u001b[39m\u001b[38;5;124m\"\u001b[39m))\n\u001b[0;32m--> 103\u001b[0m data \u001b[38;5;241m=\u001b[39m \u001b[43mseparate\u001b[49m\u001b[43m(\u001b[49m\n\u001b[1;32m    104\u001b[0m \u001b[43m    \u001b[49m\u001b[38;5;28;43mcls\u001b[39;49m\u001b[38;5;241;43m=\u001b[39;49m\u001b[38;5;28;43mself\u001b[39;49m\u001b[38;5;241;43m.\u001b[39;49m\u001b[38;5;18;43m__class__\u001b[39;49m\u001b[38;5;241;43m.\u001b[39;49m\u001b[38;5;18;43m__bases__\u001b[39;49m\u001b[43m[\u001b[49m\u001b[38;5;241;43m-\u001b[39;49m\u001b[38;5;241;43m1\u001b[39;49m\u001b[43m]\u001b[49m\u001b[43m,\u001b[49m\n\u001b[1;32m    105\u001b[0m \u001b[43m    \u001b[49m\u001b[43mbatch\u001b[49m\u001b[38;5;241;43m=\u001b[39;49m\u001b[38;5;28;43mself\u001b[39;49m\u001b[43m,\u001b[49m\n\u001b[1;32m    106\u001b[0m \u001b[43m    \u001b[49m\u001b[43midx\u001b[49m\u001b[38;5;241;43m=\u001b[39;49m\u001b[43midx\u001b[49m\u001b[43m,\u001b[49m\n\u001b[1;32m    107\u001b[0m \u001b[43m    \u001b[49m\u001b[43mslice_dict\u001b[49m\u001b[38;5;241;43m=\u001b[39;49m\u001b[38;5;28;43mself\u001b[39;49m\u001b[38;5;241;43m.\u001b[39;49m\u001b[43m_slice_dict\u001b[49m\u001b[43m,\u001b[49m\n\u001b[1;32m    108\u001b[0m \u001b[43m    \u001b[49m\u001b[43minc_dict\u001b[49m\u001b[38;5;241;43m=\u001b[39;49m\u001b[38;5;28;43mself\u001b[39;49m\u001b[38;5;241;43m.\u001b[39;49m\u001b[43m_inc_dict\u001b[49m\u001b[43m,\u001b[49m\n\u001b[1;32m    109\u001b[0m \u001b[43m    \u001b[49m\u001b[43mdecrement\u001b[49m\u001b[38;5;241;43m=\u001b[39;49m\u001b[38;5;28;43;01mTrue\u001b[39;49;00m\u001b[43m,\u001b[49m\n\u001b[1;32m    110\u001b[0m \u001b[43m\u001b[49m\u001b[43m)\u001b[49m\n\u001b[1;32m    112\u001b[0m \u001b[38;5;28;01mreturn\u001b[39;00m data\n",
      "File \u001b[0;32m/opt/homebrew/anaconda3/envs/pyt1-osx-64/lib/python3.10/site-packages/torch_geometric/data/separate.py:37\u001b[0m, in \u001b[0;36mseparate\u001b[0;34m(cls, batch, idx, slice_dict, inc_dict, decrement)\u001b[0m\n\u001b[1;32m     35\u001b[0m         slices \u001b[38;5;241m=\u001b[39m slice_dict[attr]\n\u001b[1;32m     36\u001b[0m         incs \u001b[38;5;241m=\u001b[39m inc_dict[attr] \u001b[38;5;28;01mif\u001b[39;00m decrement \u001b[38;5;28;01melse\u001b[39;00m \u001b[38;5;28;01mNone\u001b[39;00m\n\u001b[0;32m---> 37\u001b[0m     \u001b[43mdata_store\u001b[49m\u001b[43m[\u001b[49m\u001b[43mattr\u001b[49m\u001b[43m]\u001b[49m \u001b[38;5;241m=\u001b[39m _separate(attr, batch_store[attr], idx, slices,\n\u001b[1;32m     38\u001b[0m                                  incs, batch, batch_store, decrement)\n\u001b[1;32m     40\u001b[0m \u001b[38;5;66;03m# The `num_nodes` attribute needs special treatment, as we cannot infer\u001b[39;00m\n\u001b[1;32m     41\u001b[0m \u001b[38;5;66;03m# the real number of nodes from the total number of nodes alone:\u001b[39;00m\n\u001b[1;32m     42\u001b[0m \u001b[38;5;28;01mif\u001b[39;00m \u001b[38;5;28mhasattr\u001b[39m(batch_store, \u001b[38;5;124m'\u001b[39m\u001b[38;5;124m_num_nodes\u001b[39m\u001b[38;5;124m'\u001b[39m):\n",
      "File \u001b[0;32m/opt/homebrew/anaconda3/envs/pyt1-osx-64/lib/python3.10/site-packages/torch_geometric/data/storage.py:107\u001b[0m, in \u001b[0;36mBaseStorage.__setitem__\u001b[0;34m(self, key, value)\u001b[0m\n\u001b[1;32m    106\u001b[0m \u001b[38;5;28;01mdef\u001b[39;00m \u001b[38;5;21m__setitem__\u001b[39m(\u001b[38;5;28mself\u001b[39m, key: \u001b[38;5;28mstr\u001b[39m, value: Any):\n\u001b[0;32m--> 107\u001b[0m     \u001b[38;5;28;43mself\u001b[39;49m\u001b[38;5;241;43m.\u001b[39;49m\u001b[43m_pop_cache\u001b[49m\u001b[43m(\u001b[49m\u001b[43mkey\u001b[49m\u001b[43m)\u001b[49m\n\u001b[1;32m    108\u001b[0m     \u001b[38;5;28;01mif\u001b[39;00m value \u001b[38;5;129;01mis\u001b[39;00m \u001b[38;5;28;01mNone\u001b[39;00m \u001b[38;5;129;01mand\u001b[39;00m key \u001b[38;5;129;01min\u001b[39;00m \u001b[38;5;28mself\u001b[39m\u001b[38;5;241m.\u001b[39m_mapping:\n\u001b[1;32m    109\u001b[0m         \u001b[38;5;28;01mdel\u001b[39;00m \u001b[38;5;28mself\u001b[39m\u001b[38;5;241m.\u001b[39m_mapping[key]\n",
      "File \u001b[0;32m/opt/homebrew/anaconda3/envs/pyt1-osx-64/lib/python3.10/site-packages/torch_geometric/data/storage.py:68\u001b[0m, in \u001b[0;36mBaseStorage._pop_cache\u001b[0;34m(self, key)\u001b[0m\n\u001b[1;32m     67\u001b[0m \u001b[38;5;28;01mdef\u001b[39;00m \u001b[38;5;21m_pop_cache\u001b[39m(\u001b[38;5;28mself\u001b[39m, key: \u001b[38;5;28mstr\u001b[39m):\n\u001b[0;32m---> 68\u001b[0m     \u001b[38;5;28;01mfor\u001b[39;00m cache \u001b[38;5;129;01min\u001b[39;00m \u001b[38;5;28;43mgetattr\u001b[39;49m\u001b[43m(\u001b[49m\u001b[38;5;28;43mself\u001b[39;49m\u001b[43m,\u001b[49m\u001b[43m \u001b[49m\u001b[38;5;124;43m'\u001b[39;49m\u001b[38;5;124;43m_cached_attr\u001b[39;49m\u001b[38;5;124;43m'\u001b[39;49m\u001b[43m,\u001b[49m\u001b[43m \u001b[49m\u001b[43m{\u001b[49m\u001b[43m}\u001b[49m\u001b[43m)\u001b[49m\u001b[38;5;241m.\u001b[39mvalues():\n\u001b[1;32m     69\u001b[0m         cache\u001b[38;5;241m.\u001b[39mdiscard(key)\n",
      "File \u001b[0;32m/opt/homebrew/anaconda3/envs/pyt1-osx-64/lib/python3.10/site-packages/torch_geometric/data/storage.py:74\u001b[0m, in \u001b[0;36mBaseStorage.__getattr__\u001b[0;34m(self, key)\u001b[0m\n\u001b[1;32m     71\u001b[0m \u001b[38;5;28;01mdef\u001b[39;00m \u001b[38;5;21m__len__\u001b[39m(\u001b[38;5;28mself\u001b[39m) \u001b[38;5;241m-\u001b[39m\u001b[38;5;241m>\u001b[39m \u001b[38;5;28mint\u001b[39m:\n\u001b[1;32m     72\u001b[0m     \u001b[38;5;28;01mreturn\u001b[39;00m \u001b[38;5;28mlen\u001b[39m(\u001b[38;5;28mself\u001b[39m\u001b[38;5;241m.\u001b[39m_mapping)\n\u001b[0;32m---> 74\u001b[0m \u001b[38;5;28;01mdef\u001b[39;00m \u001b[38;5;21m__getattr__\u001b[39m(\u001b[38;5;28mself\u001b[39m, key: \u001b[38;5;28mstr\u001b[39m) \u001b[38;5;241m-\u001b[39m\u001b[38;5;241m>\u001b[39m Any:\n\u001b[1;32m     75\u001b[0m     \u001b[38;5;28;01mif\u001b[39;00m key \u001b[38;5;241m==\u001b[39m \u001b[38;5;124m'\u001b[39m\u001b[38;5;124m_mapping\u001b[39m\u001b[38;5;124m'\u001b[39m:\n\u001b[1;32m     76\u001b[0m         \u001b[38;5;28mself\u001b[39m\u001b[38;5;241m.\u001b[39m_mapping \u001b[38;5;241m=\u001b[39m {}\n",
      "\u001b[0;31mKeyboardInterrupt\u001b[0m: "
     ]
    }
   ],
   "source": [
    "dm = DummyModel()\n",
    "train(dm, \"./solver/sol_examples/vrp20/sols.pkl\", epochs=200, batch_size=16, learning_rate=3e-3, max_instances=500)"
   ]
  },
  {
   "cell_type": "code",
   "execution_count": null,
   "id": "7448f143-57a5-4fca-9d9a-86fd50294038",
   "metadata": {},
   "outputs": [],
   "source": []
  }
 ],
 "metadata": {
  "kernelspec": {
   "display_name": "Python 3 (ipykernel)",
   "language": "python",
   "name": "python3"
  },
  "language_info": {
   "codemirror_mode": {
    "name": "ipython",
    "version": 3
   },
   "file_extension": ".py",
   "mimetype": "text/x-python",
   "name": "python",
   "nbconvert_exporter": "python",
   "pygments_lexer": "ipython3",
   "version": "3.10.13"
  }
 },
 "nbformat": 4,
 "nbformat_minor": 5
}
