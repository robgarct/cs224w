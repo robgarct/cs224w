{
 "cells": [
  {
   "cell_type": "code",
   "execution_count": 1,
   "id": "fbb63400-fdd9-44e3-866f-20c81acc65bc",
   "metadata": {},
   "outputs": [],
   "source": [
    "%load_ext autoreload\n",
    "%autoreload 2"
   ]
  },
  {
   "cell_type": "code",
   "execution_count": 2,
   "id": "e1ba43f6-33b8-425f-9d1f-a660e80b40f3",
   "metadata": {},
   "outputs": [],
   "source": [
    "import torch\n",
    "import pandas as pd\n",
    "import numpy as np \n",
    "from copy import deepcopy\n",
    "from tqdm import tqdm\n",
    "\n",
    "from training_new import get_data_loaders, train\n",
    "from model import Model, DummyModel\n",
    "from inference import greedy_inference_single\n",
    "from util import create_graph_no_sol"
   ]
  },
  {
   "cell_type": "code",
   "execution_count": 3,
   "id": "99f5efa0-59bd-4db8-a41c-57a737de882c",
   "metadata": {},
   "outputs": [],
   "source": [
    "graphs_path = \"./solver/sol_examples/vrp20/sols.pkl\""
   ]
  },
  {
   "cell_type": "code",
   "execution_count": 5,
   "id": "544ba3c4-85f9-424c-8455-b5e0cf5c6afa",
   "metadata": {},
   "outputs": [
    {
     "name": "stderr",
     "output_type": "stream",
     "text": [
      "Parsing Graphs: 100%|████████████████████████████████████████████████████████████████████████████| 20/20 [00:00<00:00, 78.54it/s]\n"
     ]
    }
   ],
   "source": [
    "train_dl, valid_dl, valid_unsolved = get_data_loaders(graphs_path, batch_size=5, max_instances=20)"
   ]
  },
  {
   "cell_type": "code",
   "execution_count": 6,
   "id": "ae0c4148-1043-4201-9568-1845e9798ac5",
   "metadata": {},
   "outputs": [
    {
     "name": "stderr",
     "output_type": "stream",
     "text": [
      "Parsing Graphs: 100%|████████████████████████████████████████████████████████████████████████| 2000/2000 [00:24<00:00, 82.47it/s]\n",
      "Batches: 100%|██████████████████████████████████████████████████████████████████████████████| 2285/2285 [00:08<00:00, 255.97it/s]\n"
     ]
    },
    {
     "name": "stdout",
     "output_type": "stream",
     "text": [
      "Train 0 - loss:1.3373, acc:0.5317\n",
      "Valid 0 - loss:1.1073, acc:0.6299, eval_avg_cost:7.8644\n"
     ]
    },
    {
     "name": "stderr",
     "output_type": "stream",
     "text": [
      "Batches: 100%|██████████████████████████████████████████████████████████████████████████████| 2285/2285 [00:08<00:00, 263.94it/s]\n"
     ]
    },
    {
     "name": "stdout",
     "output_type": "stream",
     "text": [
      "Train 1 - loss:0.9772, acc:0.6688\n",
      "Valid 1 - loss:0.9695, acc:0.6822, eval_avg_cost:7.4627\n"
     ]
    },
    {
     "name": "stderr",
     "output_type": "stream",
     "text": [
      "Batches: 100%|██████████████████████████████████████████████████████████████████████████████| 2285/2285 [00:08<00:00, 262.01it/s]\n"
     ]
    },
    {
     "name": "stdout",
     "output_type": "stream",
     "text": [
      "Train 2 - loss:0.9346, acc:0.6832\n",
      "Valid 2 - loss:0.9635, acc:0.6842, eval_avg_cost:7.4131\n"
     ]
    },
    {
     "name": "stderr",
     "output_type": "stream",
     "text": [
      "Batches: 100%|██████████████████████████████████████████████████████████████████████████████| 2285/2285 [00:08<00:00, 263.70it/s]\n"
     ]
    },
    {
     "name": "stdout",
     "output_type": "stream",
     "text": [
      "Train 3 - loss:0.9199, acc:0.6856\n",
      "Valid 3 - loss:0.9435, acc:0.6865, eval_avg_cost:7.4754\n"
     ]
    },
    {
     "name": "stderr",
     "output_type": "stream",
     "text": [
      "Batches: 100%|██████████████████████████████████████████████████████████████████████████████| 2285/2285 [00:08<00:00, 262.39it/s]\n"
     ]
    },
    {
     "name": "stdout",
     "output_type": "stream",
     "text": [
      "Train 4 - loss:0.9101, acc:0.6879\n",
      "Valid 4 - loss:0.9612, acc:0.6789, eval_avg_cost:7.5217\n"
     ]
    },
    {
     "name": "stderr",
     "output_type": "stream",
     "text": [
      "Batches: 100%|██████████████████████████████████████████████████████████████████████████████| 2285/2285 [00:08<00:00, 260.39it/s]\n"
     ]
    },
    {
     "name": "stdout",
     "output_type": "stream",
     "text": [
      "Train 5 - loss:0.9028, acc:0.6898\n",
      "Valid 5 - loss:0.9539, acc:0.6835, eval_avg_cost:7.4798\n"
     ]
    },
    {
     "name": "stderr",
     "output_type": "stream",
     "text": [
      "Batches: 100%|██████████████████████████████████████████████████████████████████████████████| 2285/2285 [00:09<00:00, 248.11it/s]\n"
     ]
    },
    {
     "name": "stdout",
     "output_type": "stream",
     "text": [
      "Train 6 - loss:0.8962, acc:0.6920\n",
      "Valid 6 - loss:0.9450, acc:0.6883, eval_avg_cost:7.4781\n"
     ]
    },
    {
     "name": "stderr",
     "output_type": "stream",
     "text": [
      "Batches: 100%|██████████████████████████████████████████████████████████████████████████████| 2285/2285 [00:09<00:00, 245.70it/s]\n"
     ]
    },
    {
     "name": "stdout",
     "output_type": "stream",
     "text": [
      "Train 7 - loss:0.8909, acc:0.6940\n",
      "Valid 7 - loss:0.9341, acc:0.6890, eval_avg_cost:7.3547\n"
     ]
    },
    {
     "name": "stderr",
     "output_type": "stream",
     "text": [
      "Batches: 100%|██████████████████████████████████████████████████████████████████████████████| 2285/2285 [00:08<00:00, 265.84it/s]\n"
     ]
    },
    {
     "name": "stdout",
     "output_type": "stream",
     "text": [
      "Train 8 - loss:0.8848, acc:0.6944\n",
      "Valid 8 - loss:0.9404, acc:0.6936, eval_avg_cost:7.4059\n"
     ]
    },
    {
     "name": "stderr",
     "output_type": "stream",
     "text": [
      "Batches: 100%|██████████████████████████████████████████████████████████████████████████████| 2285/2285 [00:08<00:00, 262.08it/s]\n"
     ]
    },
    {
     "name": "stdout",
     "output_type": "stream",
     "text": [
      "Train 9 - loss:0.8804, acc:0.6956\n",
      "Valid 9 - loss:0.9305, acc:0.6989, eval_avg_cost:7.4692\n"
     ]
    },
    {
     "name": "stderr",
     "output_type": "stream",
     "text": [
      "Batches: 100%|██████████████████████████████████████████████████████████████████████████████| 2285/2285 [00:08<00:00, 261.10it/s]\n"
     ]
    },
    {
     "name": "stdout",
     "output_type": "stream",
     "text": [
      "Train 10 - loss:0.8785, acc:0.6984\n",
      "Valid 10 - loss:0.9465, acc:0.6914, eval_avg_cost:7.5064\n"
     ]
    },
    {
     "name": "stderr",
     "output_type": "stream",
     "text": [
      "Batches: 100%|██████████████████████████████████████████████████████████████████████████████| 2285/2285 [00:08<00:00, 259.52it/s]\n"
     ]
    },
    {
     "name": "stdout",
     "output_type": "stream",
     "text": [
      "Train 11 - loss:0.8767, acc:0.6992\n",
      "Valid 11 - loss:0.9390, acc:0.6907, eval_avg_cost:7.4481\n"
     ]
    },
    {
     "name": "stderr",
     "output_type": "stream",
     "text": [
      "Batches: 100%|██████████████████████████████████████████████████████████████████████████████| 2285/2285 [00:08<00:00, 259.75it/s]\n"
     ]
    },
    {
     "name": "stdout",
     "output_type": "stream",
     "text": [
      "Train 12 - loss:0.8750, acc:0.6986\n",
      "Valid 12 - loss:0.9281, acc:0.6938, eval_avg_cost:7.4038\n"
     ]
    },
    {
     "name": "stderr",
     "output_type": "stream",
     "text": [
      "Batches: 100%|██████████████████████████████████████████████████████████████████████████████| 2285/2285 [00:08<00:00, 261.01it/s]\n"
     ]
    },
    {
     "name": "stdout",
     "output_type": "stream",
     "text": [
      "Train 13 - loss:0.8713, acc:0.6996\n",
      "Valid 13 - loss:0.9376, acc:0.6959, eval_avg_cost:7.4386\n"
     ]
    },
    {
     "name": "stderr",
     "output_type": "stream",
     "text": [
      "Batches: 100%|██████████████████████████████████████████████████████████████████████████████| 2285/2285 [00:09<00:00, 252.41it/s]\n"
     ]
    },
    {
     "name": "stdout",
     "output_type": "stream",
     "text": [
      "Train 14 - loss:0.8713, acc:0.7010\n",
      "Valid 14 - loss:0.9456, acc:0.6917, eval_avg_cost:7.4013\n"
     ]
    },
    {
     "name": "stderr",
     "output_type": "stream",
     "text": [
      "Batches: 100%|██████████████████████████████████████████████████████████████████████████████| 2285/2285 [00:09<00:00, 251.23it/s]\n"
     ]
    },
    {
     "name": "stdout",
     "output_type": "stream",
     "text": [
      "Train 15 - loss:0.8679, acc:0.7032\n",
      "Valid 15 - loss:0.9326, acc:0.6927, eval_avg_cost:7.4411\n"
     ]
    },
    {
     "name": "stderr",
     "output_type": "stream",
     "text": [
      "Batches: 100%|██████████████████████████████████████████████████████████████████████████████| 2285/2285 [00:08<00:00, 260.40it/s]\n"
     ]
    },
    {
     "name": "stdout",
     "output_type": "stream",
     "text": [
      "Train 16 - loss:0.8652, acc:0.7004\n",
      "Valid 16 - loss:0.9405, acc:0.6913, eval_avg_cost:7.3943\n"
     ]
    },
    {
     "name": "stderr",
     "output_type": "stream",
     "text": [
      "Batches: 100%|██████████████████████████████████████████████████████████████████████████████| 2285/2285 [00:08<00:00, 260.90it/s]\n"
     ]
    },
    {
     "name": "stdout",
     "output_type": "stream",
     "text": [
      "Train 17 - loss:0.8634, acc:0.7040\n",
      "Valid 17 - loss:0.9329, acc:0.6909, eval_avg_cost:7.4278\n"
     ]
    },
    {
     "name": "stderr",
     "output_type": "stream",
     "text": [
      "Batches: 100%|██████████████████████████████████████████████████████████████████████████████| 2285/2285 [00:08<00:00, 261.07it/s]\n"
     ]
    },
    {
     "name": "stdout",
     "output_type": "stream",
     "text": [
      "Train 18 - loss:0.8630, acc:0.7027\n",
      "Valid 18 - loss:0.9326, acc:0.6902, eval_avg_cost:7.4434\n"
     ]
    },
    {
     "name": "stderr",
     "output_type": "stream",
     "text": [
      "Batches: 100%|██████████████████████████████████████████████████████████████████████████████| 2285/2285 [00:08<00:00, 258.68it/s]\n"
     ]
    },
    {
     "name": "stdout",
     "output_type": "stream",
     "text": [
      "Train 19 - loss:0.8624, acc:0.7031\n",
      "Valid 19 - loss:0.9267, acc:0.6944, eval_avg_cost:7.4689\n"
     ]
    },
    {
     "data": {
      "text/html": [
       "<div>\n",
       "<style scoped>\n",
       "    .dataframe tbody tr th:only-of-type {\n",
       "        vertical-align: middle;\n",
       "    }\n",
       "\n",
       "    .dataframe tbody tr th {\n",
       "        vertical-align: top;\n",
       "    }\n",
       "\n",
       "    .dataframe thead th {\n",
       "        text-align: right;\n",
       "    }\n",
       "</style>\n",
       "<table border=\"1\" class=\"dataframe\">\n",
       "  <thead>\n",
       "    <tr style=\"text-align: right;\">\n",
       "      <th></th>\n",
       "      <th>metric</th>\n",
       "      <th>epoch</th>\n",
       "      <th>value</th>\n",
       "    </tr>\n",
       "  </thead>\n",
       "  <tbody>\n",
       "    <tr>\n",
       "      <th>0</th>\n",
       "      <td>train_loss</td>\n",
       "      <td>0</td>\n",
       "      <td>1.337342</td>\n",
       "    </tr>\n",
       "    <tr>\n",
       "      <th>1</th>\n",
       "      <td>train_loss</td>\n",
       "      <td>1</td>\n",
       "      <td>0.977170</td>\n",
       "    </tr>\n",
       "    <tr>\n",
       "      <th>2</th>\n",
       "      <td>train_loss</td>\n",
       "      <td>2</td>\n",
       "      <td>0.934574</td>\n",
       "    </tr>\n",
       "    <tr>\n",
       "      <th>3</th>\n",
       "      <td>train_loss</td>\n",
       "      <td>3</td>\n",
       "      <td>0.919920</td>\n",
       "    </tr>\n",
       "    <tr>\n",
       "      <th>4</th>\n",
       "      <td>train_loss</td>\n",
       "      <td>4</td>\n",
       "      <td>0.910137</td>\n",
       "    </tr>\n",
       "    <tr>\n",
       "      <th>...</th>\n",
       "      <td>...</td>\n",
       "      <td>...</td>\n",
       "      <td>...</td>\n",
       "    </tr>\n",
       "    <tr>\n",
       "      <th>95</th>\n",
       "      <td>valid_eval_cost</td>\n",
       "      <td>15</td>\n",
       "      <td>7.441116</td>\n",
       "    </tr>\n",
       "    <tr>\n",
       "      <th>96</th>\n",
       "      <td>valid_eval_cost</td>\n",
       "      <td>16</td>\n",
       "      <td>7.394251</td>\n",
       "    </tr>\n",
       "    <tr>\n",
       "      <th>97</th>\n",
       "      <td>valid_eval_cost</td>\n",
       "      <td>17</td>\n",
       "      <td>7.427818</td>\n",
       "    </tr>\n",
       "    <tr>\n",
       "      <th>98</th>\n",
       "      <td>valid_eval_cost</td>\n",
       "      <td>18</td>\n",
       "      <td>7.443435</td>\n",
       "    </tr>\n",
       "    <tr>\n",
       "      <th>99</th>\n",
       "      <td>valid_eval_cost</td>\n",
       "      <td>19</td>\n",
       "      <td>7.468901</td>\n",
       "    </tr>\n",
       "  </tbody>\n",
       "</table>\n",
       "<p>100 rows × 3 columns</p>\n",
       "</div>"
      ],
      "text/plain": [
       "             metric  epoch     value\n",
       "0        train_loss      0  1.337342\n",
       "1        train_loss      1  0.977170\n",
       "2        train_loss      2  0.934574\n",
       "3        train_loss      3  0.919920\n",
       "4        train_loss      4  0.910137\n",
       "..              ...    ...       ...\n",
       "95  valid_eval_cost     15  7.441116\n",
       "96  valid_eval_cost     16  7.394251\n",
       "97  valid_eval_cost     17  7.427818\n",
       "98  valid_eval_cost     18  7.443435\n",
       "99  valid_eval_cost     19  7.468901\n",
       "\n",
       "[100 rows x 3 columns]"
      ]
     },
     "execution_count": 6,
     "metadata": {},
     "output_type": "execute_result"
    }
   ],
   "source": [
    "model = Model(4, 20, 2, 0.0)\n",
    "train(model, \"./solver/sol_examples/vrp20/sols.pkl\", epochs=20, batch_size=16, learning_rate=0.003, max_instances=2000)"
   ]
  },
  {
   "cell_type": "code",
   "execution_count": 7,
   "id": "9cfee2ae-9727-44dc-8f49-e59cee5c92c5",
   "metadata": {},
   "outputs": [],
   "source": [
    "graphs = pd.read_pickle(graphs_path)"
   ]
  },
  {
   "cell_type": "code",
   "execution_count": 8,
   "id": "34d1ff62-3a06-4023-be33-3bfb2335d73e",
   "metadata": {},
   "outputs": [],
   "source": [
    "graph_collections = [create_graph_no_sol(g) for g, _ in graphs]"
   ]
  },
  {
   "cell_type": "code",
   "execution_count": 9,
   "id": "314dd0ca-981c-4100-896b-795284352004",
   "metadata": {},
   "outputs": [
    {
     "name": "stderr",
     "output_type": "stream",
     "text": [
      "100%|██████████████████████████████████████████████████████████████████████████████████████████| 100/100 [00:05<00:00, 19.74it/s]\n"
     ]
    }
   ],
   "source": [
    "solved_graphs = []\n",
    "for g, orig_g in tqdm(list(zip(graph_collections, graphs))[:100]):\n",
    "    g = deepcopy(graph_collections[0])\n",
    "    #print(g)\n",
    "    g = deepcopy(g)\n",
    "    g.update_node(orig_g[1][1][0]) # unf we have to do this for now\n",
    "    res_g = greedy_inference_single(model, g)\n",
    "    solved_graphs.append(res_g)\n"
   ]
  },
  {
   "cell_type": "code",
   "execution_count": 10,
   "id": "85316ec2-8049-4982-ad24-c37992ad9150",
   "metadata": {},
   "outputs": [
    {
     "data": {
      "text/plain": [
       "7.6722206048194295"
      ]
     },
     "execution_count": 10,
     "metadata": {},
     "output_type": "execute_result"
    }
   ],
   "source": [
    "solved_graphs[0].get_full_solution_cost()"
   ]
  },
  {
   "cell_type": "code",
   "execution_count": 11,
   "id": "d6882dec-0a54-47ce-9462-cafd208f2c42",
   "metadata": {},
   "outputs": [
    {
     "data": {
      "text/plain": [
       "7.420243558388848"
      ]
     },
     "execution_count": 11,
     "metadata": {},
     "output_type": "execute_result"
    }
   ],
   "source": [
    "np.mean([sg.get_full_solution_cost() for sg in solved_graphs])"
   ]
  },
  {
   "cell_type": "code",
   "execution_count": 13,
   "id": "979c041c-6ad9-4f5f-b57d-5f714de436de",
   "metadata": {},
   "outputs": [
    {
     "name": "stdout",
     "output_type": "stream",
     "text": [
      "saved\n"
     ]
    },
    {
     "data": {
      "image/png": "[encoded data removed]",
      "text/plain": [
       "<Figure size 640x480 with 1 Axes>"
      ]
     },
     "metadata": {},
     "output_type": "display_data"
    }
   ],
   "source": [
    "### GNN solution\n",
    "gnn_solution0 = solved_graphs[0]\n",
    "final_graph = gnn_solution0.get_all_graphs()[-1]\n",
    "final_graph.draw_graph(name=\"gnn_solution0\")"
   ]
  },
  {
   "cell_type": "code",
   "execution_count": 14,
   "id": "fb2cc36a-f681-4264-9213-9796bd15dee3",
   "metadata": {},
   "outputs": [
    {
     "ename": "NameError",
     "evalue": "name 'get_solution_instances' is not defined",
     "output_type": "error",
     "traceback": [
      "\u001b[0;31m---------------------------------------------------------------------------\u001b[0m",
      "\u001b[0;31mNameError\u001b[0m                                 Traceback (most recent call last)",
      "Cell \u001b[0;32mIn[14], line 2\u001b[0m\n\u001b[1;32m      1\u001b[0m \u001b[38;5;66;03m## the true solution \u001b[39;00m\n\u001b[0;32m----> 2\u001b[0m all_true_solutions \u001b[38;5;241m=\u001b[39m \u001b[43mget_solution_instances\u001b[49m(graphs_path, max_instances\u001b[38;5;241m=\u001b[39m\u001b[38;5;241m100\u001b[39m)[\u001b[38;5;241m0\u001b[39m]\n\u001b[1;32m      3\u001b[0m true_solution0 \u001b[38;5;241m=\u001b[39m all_true_solutions[\u001b[38;5;241m0\u001b[39m]\n\u001b[1;32m      4\u001b[0m last_graph \u001b[38;5;241m=\u001b[39m true_solution0\u001b[38;5;241m.\u001b[39mget_all_graphs()[\u001b[38;5;241m-\u001b[39m\u001b[38;5;241m1\u001b[39m]\n",
      "\u001b[0;31mNameError\u001b[0m: name 'get_solution_instances' is not defined"
     ]
    }
   ],
   "source": [
    "## the true solution \n",
    "all_true_solutions = get_solution_instances(graphs_path, max_instances=100)[0]\n",
    "true_solution0 = all_true_solutions[0]\n",
    "last_graph = true_solution0.get_all_graphs()[-1]\n",
    "last_graph.draw_graph(name=\"true_solution0\")"
   ]
  },
  {
   "cell_type": "code",
   "execution_count": null,
   "id": "0ae0e47f-6cd5-42b1-85a8-50798325a026",
   "metadata": {},
   "outputs": [],
   "source": []
  },
  {
   "cell_type": "code",
   "execution_count": 11,
   "id": "75c68961-21c9-4c4c-bfac-468425d48dbb",
   "metadata": {},
   "outputs": [],
   "source": [
    "from generator import *\n",
    "from model import Model\n",
    "from typing import List\n",
    "from torch_geometric.data.batch import Batch\n",
    "from graph import GraphCollection"
   ]
  },
  {
   "cell_type": "code",
   "execution_count": 12,
   "id": "cc751666-815b-4fdc-a2c9-04963a64de6b",
   "metadata": {},
   "outputs": [],
   "source": [
    "from copy import deepcopy"
   ]
  },
  {
   "cell_type": "code",
   "execution_count": 13,
   "id": "1f917c97-6371-44f7-9afd-f49c1a8ca216",
   "metadata": {},
   "outputs": [],
   "source": [
    "def greedy_inference_single(\n",
    "    model: Model,\n",
    "    graph: GraphCollection\n",
    ")-> SolutionInstance:\n",
    "    \"\"\"Runs inference on a single graph.\n",
    "    \"\"\"\n",
    "    # start from empty sol\n",
    "    # TODO(roberto): What should we do here? start from 0 or not\n",
    "    graph = deepcopy(graph)\n",
    "    sol = []\n",
    "    while not graph.is_complete():\n",
    "        curr_graph = graph.get_current_unsolved_graph()\n",
    "        curr_graph = curr_graph.export_pyg()\n",
    "        curr_batch = Batch.from_data_list([curr_graph])\n",
    "        next_probs = model.probs(curr_batch)\n",
    "        print(next_probs)\n",
    "        next_node = next_probs.squeeze().argmax().cpu().item()\n",
    "        print(next_node)\n",
    "        graph.update_node(next_node)\n",
    "        sol.append(next_node)\n",
    "        \n",
    "    return graph"
   ]
  },
  {
   "cell_type": "code",
   "execution_count": 14,
   "id": "464b738e-7abc-48e4-8809-dd10caff5b6a",
   "metadata": {},
   "outputs": [],
   "source": [
    "graphs = pd.read_pickle(graphs_path)"
   ]
  },
  {
   "cell_type": "code",
   "execution_count": 15,
   "id": "68e65dde-aae2-4346-989e-425f8033902c",
   "metadata": {},
   "outputs": [],
   "source": [
    "graph_collections = [create_graph_no_sol(g) for g, _ in graphs]"
   ]
  },
  {
   "cell_type": "code",
   "execution_count": 16,
   "id": "885079db-e900-426f-b67c-c1c4af882201",
   "metadata": {},
   "outputs": [],
   "source": [
    "from model import Model, DummyModel"
   ]
  },
  {
   "cell_type": "code",
   "execution_count": 17,
   "id": "6434340b-2612-40a0-89e0-42337e4d63ac",
   "metadata": {},
   "outputs": [],
   "source": [
    "model = Model(4, 20, 2, 0.0)"
   ]
  },
  {
   "cell_type": "code",
   "execution_count": 18,
   "id": "24b1fab3-6c8c-458e-a77a-bbd660f29e6d",
   "metadata": {},
   "outputs": [],
   "source": [
    "g = graph_collections[0]"
   ]
  },
  {
   "cell_type": "code",
   "execution_count": 19,
   "id": "c4ed9e54-f8f6-4df3-89d5-ad9862e63d1d",
   "metadata": {},
   "outputs": [],
   "source": [
    "g.update_node(graphs[0][1][1][0])"
   ]
  },
  {
   "cell_type": "code",
   "execution_count": 20,
   "id": "5dbd4dc7-df9d-4bcc-89f7-d395aa16daf6",
   "metadata": {},
   "outputs": [
    {
     "name": "stdout",
     "output_type": "stream",
     "text": [
      "tensor([[0.0611, 0.0445, 0.0552, 0.0419, 0.0570, 0.0617, 0.0464, 0.0468, 0.0562,\n",
      "         0.0490, 0.0000, 0.0435, 0.0478, 0.0526, 0.0530, 0.0642, 0.0442, 0.0416,\n",
      "         0.0411, 0.0438, 0.0482]], grad_fn=<SoftmaxBackward0>)\n",
      "15\n",
      "tensor([[0.0514, 0.0501, 0.0597, 0.0477, 0.0617, 0.0629, 0.0512, 0.0492, 0.0582,\n",
      "         0.0521, 0.0000, 0.0480, 0.0512, 0.0588, 0.0553, 0.0000, 0.0506, 0.0460,\n",
      "         0.0467, 0.0482, 0.0512]], grad_fn=<SoftmaxBackward0>)\n",
      "5\n",
      "tensor([[0.0406, 0.0445, 0.0743, 0.0428, 0.0912, 0.0000, 0.0559, 0.0453, 0.0871,\n",
      "         0.0620, 0.0000, 0.0450, 0.0493, 0.0856, 0.0584, 0.0000, 0.0481, 0.0392,\n",
      "         0.0402, 0.0413, 0.0493]], grad_fn=<SoftmaxBackward0>)\n",
      "4\n",
      "tensor([[0.0466, 0.0529, 0.0827, 0.0492, 0.0000, 0.0000, 0.0595, 0.0512, 0.0837,\n",
      "         0.0638, 0.0000, 0.0513, 0.0554, 0.0895, 0.0636, 0.0000, 0.0557, 0.0455,\n",
      "         0.0470, 0.0473, 0.0550]], grad_fn=<SoftmaxBackward0>)\n",
      "13\n",
      "tensor([[0.1359, 0.0000, 0.0000, 0.0000, 0.0000, 0.0000, 0.0000, 0.1578, 0.0000,\n",
      "         0.0000, 0.0000, 0.1589, 0.1735, 0.0000, 0.2018, 0.0000, 0.0000, 0.0000,\n",
      "         0.0000, 0.0000, 0.1722]], grad_fn=<SoftmaxBackward0>)\n",
      "14\n",
      "tensor([[0.2322, 0.0000, 0.0000, 0.0000, 0.0000, 0.0000, 0.0000, 0.2424, 0.0000,\n",
      "         0.0000, 0.0000, 0.0000, 0.2628, 0.0000, 0.0000, 0.0000, 0.0000, 0.0000,\n",
      "         0.0000, 0.0000, 0.2626]], grad_fn=<SoftmaxBackward0>)\n",
      "12\n",
      "tensor([[1., 0., 0., 0., 0., 0., 0., 0., 0., 0., 0., 0., 0., 0., 0., 0., 0., 0.,\n",
      "         0., 0., 0.]], grad_fn=<SoftmaxBackward0>)\n",
      "0\n",
      "tensor([[0.0000, 0.0683, 0.0916, 0.0723, 0.0000, 0.0000, 0.0750, 0.0807, 0.0933,\n",
      "         0.0787, 0.0000, 0.0769, 0.0000, 0.0000, 0.0000, 0.0000, 0.0691, 0.0693,\n",
      "         0.0633, 0.0727, 0.0890]], grad_fn=<SoftmaxBackward0>)\n",
      "8\n",
      "tensor([[0.0917, 0.0675, 0.1027, 0.0696, 0.0000, 0.0000, 0.0781, 0.0784, 0.0000,\n",
      "         0.0870, 0.0000, 0.0737, 0.0000, 0.0000, 0.0000, 0.0000, 0.0683, 0.0657,\n",
      "         0.0622, 0.0696, 0.0856]], grad_fn=<SoftmaxBackward0>)\n",
      "2\n",
      "tensor([[0.0831, 0.0766, 0.0000, 0.0790, 0.0000, 0.0000, 0.0939, 0.0855, 0.0000,\n",
      "         0.1015, 0.0000, 0.0832, 0.0000, 0.0000, 0.0000, 0.0000, 0.0819, 0.0739,\n",
      "         0.0717, 0.0772, 0.0925]], grad_fn=<SoftmaxBackward0>)\n",
      "9\n",
      "tensor([[0.0959, 0.0822, 0.0000, 0.0868, 0.0000, 0.0000, 0.1066, 0.0970, 0.0000,\n",
      "         0.0000, 0.0000, 0.0933, 0.0000, 0.0000, 0.0000, 0.0000, 0.0886, 0.0812,\n",
      "         0.0777, 0.0844, 0.1063]], grad_fn=<SoftmaxBackward0>)\n",
      "6\n",
      "tensor([[0.1424, 0.0000, 0.0000, 0.1391, 0.0000, 0.0000, 0.0000, 0.1473, 0.0000,\n",
      "         0.0000, 0.0000, 0.1446, 0.0000, 0.0000, 0.0000, 0.0000, 0.0000, 0.1323,\n",
      "         0.0000, 0.1376, 0.1566]], grad_fn=<SoftmaxBackward0>)\n",
      "20\n",
      "tensor([[0.1742, 0.0000, 0.0000, 0.1650, 0.0000, 0.0000, 0.0000, 0.1685, 0.0000,\n",
      "         0.0000, 0.0000, 0.1675, 0.0000, 0.0000, 0.0000, 0.0000, 0.0000, 0.1601,\n",
      "         0.0000, 0.1647, 0.0000]], grad_fn=<SoftmaxBackward0>)\n",
      "0\n",
      "tensor([[0.0000, 0.1125, 0.0000, 0.1296, 0.0000, 0.0000, 0.0000, 0.1481, 0.0000,\n",
      "         0.0000, 0.0000, 0.1405, 0.0000, 0.0000, 0.0000, 0.0000, 0.1132, 0.1230,\n",
      "         0.1050, 0.1281, 0.0000]], grad_fn=<SoftmaxBackward0>)\n",
      "7\n",
      "tensor([[0.1753, 0.1073, 0.0000, 0.1256, 0.0000, 0.0000, 0.0000, 0.0000, 0.0000,\n",
      "         0.0000, 0.0000, 0.1374, 0.0000, 0.0000, 0.0000, 0.0000, 0.1073, 0.1205,\n",
      "         0.1015, 0.1250, 0.0000]], grad_fn=<SoftmaxBackward0>)\n",
      "0\n",
      "tensor([[0.0000, 0.1299, 0.0000, 0.1531, 0.0000, 0.0000, 0.0000, 0.0000, 0.0000,\n",
      "         0.0000, 0.0000, 0.1673, 0.0000, 0.0000, 0.0000, 0.0000, 0.1306, 0.1463,\n",
      "         0.1224, 0.1503, 0.0000]], grad_fn=<SoftmaxBackward0>)\n",
      "11\n",
      "tensor([[0.1983, 0.1233, 0.0000, 0.1493, 0.0000, 0.0000, 0.0000, 0.0000, 0.0000,\n",
      "         0.0000, 0.0000, 0.0000, 0.0000, 0.0000, 0.0000, 0.0000, 0.1236, 0.1429,\n",
      "         0.1170, 0.1457, 0.0000]], grad_fn=<SoftmaxBackward0>)\n",
      "0\n",
      "tensor([[0.0000, 0.1544, 0.0000, 0.1851, 0.0000, 0.0000, 0.0000, 0.0000, 0.0000,\n",
      "         0.0000, 0.0000, 0.0000, 0.0000, 0.0000, 0.0000, 0.0000, 0.1553, 0.1778,\n",
      "         0.1467, 0.1806, 0.0000]], grad_fn=<SoftmaxBackward0>)\n",
      "3\n",
      "tensor([[0.2259, 0.1462, 0.0000, 0.0000, 0.0000, 0.0000, 0.0000, 0.0000, 0.0000,\n",
      "         0.0000, 0.0000, 0.0000, 0.0000, 0.0000, 0.0000, 0.0000, 0.1457, 0.1713,\n",
      "         0.1385, 0.1724, 0.0000]], grad_fn=<SoftmaxBackward0>)\n",
      "0\n",
      "tensor([[0.0000, 0.1894, 0.0000, 0.0000, 0.0000, 0.0000, 0.0000, 0.0000, 0.0000,\n",
      "         0.0000, 0.0000, 0.0000, 0.0000, 0.0000, 0.0000, 0.0000, 0.1893, 0.2195,\n",
      "         0.1803, 0.2215, 0.0000]], grad_fn=<SoftmaxBackward0>)\n",
      "19\n",
      "tensor([[0.2683, 0.1783, 0.0000, 0.0000, 0.0000, 0.0000, 0.0000, 0.0000, 0.0000,\n",
      "         0.0000, 0.0000, 0.0000, 0.0000, 0.0000, 0.0000, 0.0000, 0.1765, 0.2078,\n",
      "         0.1691, 0.0000, 0.0000]], grad_fn=<SoftmaxBackward0>)\n",
      "0\n",
      "tensor([[0.0000, 0.2435, 0.0000, 0.0000, 0.0000, 0.0000, 0.0000, 0.0000, 0.0000,\n",
      "         0.0000, 0.0000, 0.0000, 0.0000, 0.0000, 0.0000, 0.0000, 0.2425, 0.2817,\n",
      "         0.2324, 0.0000, 0.0000]], grad_fn=<SoftmaxBackward0>)\n",
      "17\n",
      "tensor([[0.3334, 0.2275, 0.0000, 0.0000, 0.0000, 0.0000, 0.0000, 0.0000, 0.0000,\n",
      "         0.0000, 0.0000, 0.0000, 0.0000, 0.0000, 0.0000, 0.0000, 0.2229, 0.0000,\n",
      "         0.2162, 0.0000, 0.0000]], grad_fn=<SoftmaxBackward0>)\n",
      "0\n",
      "tensor([[0.0000, 0.3402, 0.0000, 0.0000, 0.0000, 0.0000, 0.0000, 0.0000, 0.0000,\n",
      "         0.0000, 0.0000, 0.0000, 0.0000, 0.0000, 0.0000, 0.0000, 0.3356, 0.0000,\n",
      "         0.3242, 0.0000, 0.0000]], grad_fn=<SoftmaxBackward0>)\n",
      "1\n",
      "tensor([[0.4102, 0.0000, 0.0000, 0.0000, 0.0000, 0.0000, 0.0000, 0.0000, 0.0000,\n",
      "         0.0000, 0.0000, 0.0000, 0.0000, 0.0000, 0.0000, 0.0000, 0.2999, 0.0000,\n",
      "         0.2898, 0.0000, 0.0000]], grad_fn=<SoftmaxBackward0>)\n",
      "0\n",
      "tensor([[0.0000, 0.0000, 0.0000, 0.0000, 0.0000, 0.0000, 0.0000, 0.0000, 0.0000,\n",
      "         0.0000, 0.0000, 0.0000, 0.0000, 0.0000, 0.0000, 0.0000, 0.5081, 0.0000,\n",
      "         0.4919, 0.0000, 0.0000]], grad_fn=<SoftmaxBackward0>)\n",
      "16\n",
      "tensor([[0.5761, 0.0000, 0.0000, 0.0000, 0.0000, 0.0000, 0.0000, 0.0000, 0.0000,\n",
      "         0.0000, 0.0000, 0.0000, 0.0000, 0.0000, 0.0000, 0.0000, 0.0000, 0.0000,\n",
      "         0.4239, 0.0000, 0.0000]], grad_fn=<SoftmaxBackward0>)\n",
      "0\n",
      "tensor([[0., 0., 0., 0., 0., 0., 0., 0., 0., 0., 0., 0., 0., 0., 0., 0., 0., 0.,\n",
      "         1., 0., 0.]], grad_fn=<SoftmaxBackward0>)\n",
      "18\n"
     ]
    }
   ],
   "source": [
    "res = greedy_inference_single(model, g)"
   ]
  },
  {
   "cell_type": "code",
   "execution_count": 21,
   "id": "a32c8e94-2af1-4bbc-8b39-a177229f29cf",
   "metadata": {},
   "outputs": [
    {
     "data": {
      "text/plain": [
       "19.197875533235816"
      ]
     },
     "execution_count": 21,
     "metadata": {},
     "output_type": "execute_result"
    }
   ],
   "source": [
    "res.get_full_solution_cost()"
   ]
  },
  {
   "cell_type": "code",
   "execution_count": 22,
   "id": "73ebdaaf-7e32-42cb-83e2-058b34dca8fa",
   "metadata": {},
   "outputs": [
    {
     "data": {
      "text/plain": [
       "{0, 1}"
      ]
     },
     "execution_count": 22,
     "metadata": {},
     "output_type": "execute_result"
    }
   ],
   "source": [
    "set([0, 1, 0])"
   ]
  },
  {
   "cell_type": "code",
   "execution_count": null,
   "id": "2ff596c1-a971-4077-afaf-58624e7284dd",
   "metadata": {},
   "outputs": [],
   "source": []
  },
  {
   "cell_type": "code",
   "execution_count": 23,
   "id": "44bf8500-3745-4c0f-8d30-c0edc1abe84f",
   "metadata": {},
   "outputs": [],
   "source": [
    "import pandas as pd"
   ]
  },
  {
   "cell_type": "code",
   "execution_count": 24,
   "id": "77085e04-2f77-4dc4-9247-6e74a3c275f4",
   "metadata": {},
   "outputs": [],
   "source": [
    "from util import *"
   ]
  },
  {
   "cell_type": "code",
   "execution_count": 25,
   "id": "34ac6135-67c6-4ad2-bd65-6b19998f3c00",
   "metadata": {},
   "outputs": [],
   "source": [
    "graphs = pd.read_pickle(graphs_path)"
   ]
  },
  {
   "cell_type": "code",
   "execution_count": 26,
   "id": "c7d1d840-e4e3-47d1-a074-3f9a17696cdc",
   "metadata": {},
   "outputs": [],
   "source": [
    "graph_collections = [create_graph_no_sol(g) for g, _ in graphs]"
   ]
  },
  {
   "cell_type": "code",
   "execution_count": 27,
   "id": "f7037bb5-74a7-4381-aa28-a42e8349d3b2",
   "metadata": {},
   "outputs": [
    {
     "data": {
      "text/plain": [
       "graph.GraphCollection"
      ]
     },
     "execution_count": 27,
     "metadata": {},
     "output_type": "execute_result"
    }
   ],
   "source": [
    "type(g)"
   ]
  },
  {
   "cell_type": "code",
   "execution_count": 28,
   "id": "b49280c5-0eff-483f-8587-fede02148a66",
   "metadata": {},
   "outputs": [],
   "source": [
    "g = graph_collections[0]"
   ]
  },
  {
   "cell_type": "code",
   "execution_count": 29,
   "id": "4e22751b-474f-4ddc-b137-49578f20f8c8",
   "metadata": {},
   "outputs": [
    {
     "data": {
      "text/plain": [
       "[0]"
      ]
     },
     "execution_count": 29,
     "metadata": {},
     "output_type": "execute_result"
    }
   ],
   "source": [
    "g.visited_nodes"
   ]
  },
  {
   "cell_type": "code",
   "execution_count": 30,
   "id": "ec5f3131-65af-4259-a6b8-401cfe07eaa5",
   "metadata": {},
   "outputs": [],
   "source": [
    "g.update_node(1)\n",
    "g.update_node(2)"
   ]
  },
  {
   "cell_type": "code",
   "execution_count": 31,
   "id": "749513b9-685d-415f-b411-0016ee6642f6",
   "metadata": {},
   "outputs": [],
   "source": [
    "g.update_node(3)"
   ]
  },
  {
   "cell_type": "code",
   "execution_count": 32,
   "id": "84a3ca2b-5750-4330-b3a7-a298f668d3f3",
   "metadata": {},
   "outputs": [
    {
     "data": {
      "text/plain": [
       "[0, 1, 2, 3]"
      ]
     },
     "execution_count": 32,
     "metadata": {},
     "output_type": "execute_result"
    }
   ],
   "source": [
    "g.visited_nodes"
   ]
  },
  {
   "cell_type": "code",
   "execution_count": 33,
   "id": "8c989ac0-651f-4f54-83e1-bbbc604ad244",
   "metadata": {},
   "outputs": [],
   "source": [
    "x = g.get_current_unsolved_graph()"
   ]
  },
  {
   "cell_type": "code",
   "execution_count": 34,
   "id": "82029c63-6361-419d-afa6-f70a28cd63f4",
   "metadata": {},
   "outputs": [
    {
     "data": {
      "text/plain": [
       "Data(\n",
       "  x=[21, 4],\n",
       "  edge_index=[2, 3],\n",
       "  edge_attr={},\n",
       "  prev_node=3,\n",
       "  vehicle_cap=17,\n",
       "  y=10000\n",
       ")"
      ]
     },
     "execution_count": 34,
     "metadata": {},
     "output_type": "execute_result"
    }
   ],
   "source": [
    "x.export_pyg()"
   ]
  },
  {
   "cell_type": "code",
   "execution_count": null,
   "id": "a6396814-759e-4fe5-85c2-4f13ea663ecf",
   "metadata": {},
   "outputs": [],
   "source": []
  },
  {
   "cell_type": "code",
   "execution_count": null,
   "id": "742b52da-467d-4bb9-be6e-eebf4403e699",
   "metadata": {},
   "outputs": [],
   "source": []
  },
  {
   "cell_type": "code",
   "execution_count": null,
   "id": "bef21280-588c-4173-92f6-4a9aeb76239d",
   "metadata": {},
   "outputs": [],
   "source": []
  },
  {
   "cell_type": "code",
   "execution_count": 35,
   "id": "5312a38c-0d41-43ec-be4f-a35f15147ce0",
   "metadata": {},
   "outputs": [],
   "source": [
    "x = g.get_all_graphs()[0]"
   ]
  },
  {
   "cell_type": "code",
   "execution_count": 36,
   "id": "67b30709-ec1e-4a85-8923-1ea53a14a2b1",
   "metadata": {},
   "outputs": [
    {
     "data": {
      "text/plain": [
       "Data(\n",
       "  x=[21, 4],\n",
       "  edge_index=[2, 1],\n",
       "  edge_attr={},\n",
       "  prev_node=1,\n",
       "  vehicle_cap=25,\n",
       "  y=2\n",
       ")"
      ]
     },
     "execution_count": 36,
     "metadata": {},
     "output_type": "execute_result"
    }
   ],
   "source": [
    "x.export_pyg()"
   ]
  },
  {
   "cell_type": "code",
   "execution_count": 37,
   "id": "d3025a24-1cee-4631-ad80-cd6325083e96",
   "metadata": {},
   "outputs": [
    {
     "data": {
      "text/plain": [
       "EdgeView([(0, 1)])"
      ]
     },
     "execution_count": 37,
     "metadata": {},
     "output_type": "execute_result"
    }
   ],
   "source": [
    "x.get_edges()"
   ]
  },
  {
   "cell_type": "code",
   "execution_count": 38,
   "id": "c25ad477-871d-470c-98a4-7add63ace4d4",
   "metadata": {},
   "outputs": [
    {
     "data": {
      "text/plain": [
       "Data(\n",
       "  x=[21, 4],\n",
       "  edge_index=[2, 3],\n",
       "  edge_attr={},\n",
       "  prev_node=2,\n",
       "  vehicle_cap=20,\n",
       "  y=3\n",
       ")"
      ]
     },
     "execution_count": 38,
     "metadata": {},
     "output_type": "execute_result"
    }
   ],
   "source": [
    "g.curr_graph.export_pyg()"
   ]
  },
  {
   "cell_type": "code",
   "execution_count": null,
   "id": "05f8435c-297a-47b2-9145-0618b2930187",
   "metadata": {},
   "outputs": [],
   "source": []
  },
  {
   "cell_type": "code",
   "execution_count": 39,
   "id": "e4294903-20cf-425d-a407-607b1a962612",
   "metadata": {},
   "outputs": [
    {
     "data": {
      "text/plain": [
       "NodeView((0, 1, 2, 3, 4, 5, 6, 7, 8, 9, 10, 11, 12, 13, 14, 15, 16, 17, 18, 19, 20))"
      ]
     },
     "execution_count": 39,
     "metadata": {},
     "output_type": "execute_result"
    }
   ],
   "source": [
    "g.curr_graph.get_nodes()"
   ]
  },
  {
   "cell_type": "code",
   "execution_count": 40,
   "id": "fd18f8e1-b077-4838-bbf0-de94c37ee9b3",
   "metadata": {},
   "outputs": [],
   "source": [
    "curr_graph = g.curr_graph"
   ]
  },
  {
   "cell_type": "code",
   "execution_count": 41,
   "id": "d86303f2-7b28-4817-b5f0-6e0d7006d365",
   "metadata": {},
   "outputs": [
    {
     "data": {
      "text/plain": [
       "[<graph.BaseGraph at 0x7f81679317c0>, <graph.BaseGraph at 0x7f8167931070>]"
      ]
     },
     "execution_count": 41,
     "metadata": {},
     "output_type": "execute_result"
    }
   ],
   "source": [
    "g.get_all_graphs()"
   ]
  },
  {
   "cell_type": "code",
   "execution_count": 42,
   "id": "a02486df-465a-4320-aba0-58d528e05f52",
   "metadata": {},
   "outputs": [
    {
     "data": {
      "text/plain": [
       "EdgeView([(0, 1), (1, 2), (2, 3)])"
      ]
     },
     "execution_count": 42,
     "metadata": {},
     "output_type": "execute_result"
    }
   ],
   "source": [
    "curr_graph.get_edges()"
   ]
  },
  {
   "cell_type": "code",
   "execution_count": 43,
   "id": "51679215-1511-477b-8167-e8ef5feb7241",
   "metadata": {},
   "outputs": [
    {
     "data": {
      "text/plain": [
       "Data(\n",
       "  x=[21, 4],\n",
       "  edge_index=[2, 3],\n",
       "  edge_attr={},\n",
       "  prev_node=2,\n",
       "  vehicle_cap=20,\n",
       "  y=3\n",
       ")"
      ]
     },
     "execution_count": 43,
     "metadata": {},
     "output_type": "execute_result"
    }
   ],
   "source": [
    "curr_graph.export_pyg()"
   ]
  },
  {
   "cell_type": "code",
   "execution_count": 44,
   "id": "7dd75438-5b5e-4c6d-b8b4-78a56f4db239",
   "metadata": {},
   "outputs": [
    {
     "ename": "SyntaxError",
     "evalue": "invalid syntax (3041307108.py, line 1)",
     "output_type": "error",
     "traceback": [
      "\u001b[0;36m  Cell \u001b[0;32mIn[44], line 1\u001b[0;36m\u001b[0m\n\u001b[0;31m    g.\u001b[0m\n\u001b[0m      ^\u001b[0m\n\u001b[0;31mSyntaxError\u001b[0m\u001b[0;31m:\u001b[0m invalid syntax\n"
     ]
    }
   ],
   "source": [
    "g."
   ]
  },
  {
   "cell_type": "code",
   "execution_count": null,
   "id": "99a6ab21-6a20-48d7-bfb1-82bbff4a2bf8",
   "metadata": {},
   "outputs": [],
   "source": []
  },
  {
   "cell_type": "code",
   "execution_count": null,
   "id": "a84affc6-97da-496f-84fe-b16a226d67d9",
   "metadata": {},
   "outputs": [],
   "source": []
  },
  {
   "cell_type": "code",
   "execution_count": null,
   "id": "0220722c-67e5-4617-a96b-152fae2e242c",
   "metadata": {},
   "outputs": [],
   "source": []
  },
  {
   "cell_type": "code",
   "execution_count": null,
   "id": "03ed2a39-6d9a-4796-b435-525337b8d61e",
   "metadata": {},
   "outputs": [],
   "source": []
  },
  {
   "cell_type": "code",
   "execution_count": null,
   "id": "edd54d71-fd84-4bcf-9252-eb90b4a9c135",
   "metadata": {},
   "outputs": [],
   "source": [
    "from model import Model, DummyModel"
   ]
  },
  {
   "cell_type": "code",
   "execution_count": null,
   "id": "fabcd4d9-d6d0-4e77-983b-a7cff70a553c",
   "metadata": {},
   "outputs": [],
   "source": [
    "model = Model(3, 20, 2, 0.0)\n",
    "train(model, \"./solver/sol_examples/vrp20/sols.pkl\", epochs=200, batch_size=16, learning_rate=3e-3, max_instances=2000)"
   ]
  },
  {
   "cell_type": "code",
   "execution_count": null,
   "id": "91a79d4a-2f8a-4e25-a60b-2ef6297cdb49",
   "metadata": {},
   "outputs": [],
   "source": []
  },
  {
   "cell_type": "code",
   "execution_count": null,
   "id": "2eb0774e-f90e-4881-bbeb-8bd45fcb455f",
   "metadata": {
    "scrolled": true
   },
   "outputs": [],
   "source": [
    "dm = DummyModel()\n",
    "train(dm, \"./solver/sol_examples/vrp20/sols.pkl\", epochs=200, batch_size=16, learning_rate=3e-3, max_instances=500)"
   ]
  },
  {
   "cell_type": "code",
   "execution_count": null,
   "id": "7448f143-57a5-4fca-9d9a-86fd50294038",
   "metadata": {},
   "outputs": [],
   "source": []
  }
 ],
 "metadata": {
  "kernelspec": {
   "display_name": "Python 3 (ipykernel)",
   "language": "python",
   "name": "python3"
  },
  "language_info": {
   "codemirror_mode": {
    "name": "ipython",
    "version": 3
   },
   "file_extension": ".py",
   "mimetype": "text/x-python",
   "name": "python",
   "nbconvert_exporter": "python",
   "pygments_lexer": "ipython3",
   "version": "3.8.0"
  }
 },
 "nbformat": 4,
 "nbformat_minor": 5
}
